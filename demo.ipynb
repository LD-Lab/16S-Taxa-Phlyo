{
 "cells": [
  {
   "cell_type": "markdown",
   "metadata": {},
   "source": [
    "# Domo"
   ]
  },
  {
   "cell_type": "code",
   "execution_count": null,
   "metadata": {},
   "outputs": [],
   "source": [
    "conda create -n 16s pandas biopython fastp blast"
   ]
  },
  {
   "cell_type": "code",
   "execution_count": null,
   "metadata": {},
   "outputs": [],
   "source": [
    "conda install pandas biopython fastp blast "
   ]
  },
  {
   "cell_type": "code",
   "execution_count": 1,
   "metadata": {},
   "outputs": [
    {
     "name": "stdout",
     "output_type": "stream",
     "text": [
      "\u001b[0m\u001b[01;32mDA_164__1492R__F06_2009041343G.ab1\u001b[0m  \u001b[01;32mDA_251__1492R__G06_2009041345G.ab1\u001b[0m\n",
      "\u001b[01;32mDA_164__1492R__F06_2009041343G.seq\u001b[0m  \u001b[01;32mDA_251__1492R__G06_2009041345G.seq\u001b[0m\n",
      "\u001b[01;32mDA_164__27F__F03_2009041343G.ab1\u001b[0m    \u001b[01;32mDA_251__27F__G03_2009041345G.ab1\u001b[0m\n",
      "\u001b[01;32mDA_164__27F__F03_2009041343G.seq\u001b[0m    \u001b[01;32mDA_251__27F__G03_2009041345G.seq\u001b[0m\n",
      "\u001b[01;32mDA_24__1492R__E06_2009041339G.ab1\u001b[0m   \u001b[01;32mDA_252__1492R__H06_2009041346G.ab1\u001b[0m\n",
      "\u001b[01;32mDA_24__1492R__E06_2009041339G.seq\u001b[0m   \u001b[01;32mDA_252__1492R__H06_2009041346G.seq\u001b[0m\n",
      "\u001b[01;32mDA_24__27F__E03_2009041339G.ab1\u001b[0m     \u001b[01;32mDA_252__27F__H03_2009041346G.ab1\u001b[0m\n",
      "\u001b[01;32mDA_24__27F__E03_2009041339G.seq\u001b[0m     \u001b[01;32mDA_252__27F__H03_2009041346G.seq\u001b[0m\n"
     ]
    }
   ],
   "source": [
    "ls ./test_data"
   ]
  },
  {
   "cell_type": "code",
   "execution_count": 3,
   "metadata": {},
   "outputs": [
    {
     "name": "stdout",
     "output_type": "stream",
     "text": [
      "16\n"
     ]
    }
   ],
   "source": [
    "ls ./test_data | wc -l"
   ]
  },
  {
   "cell_type": "code",
   "execution_count": null,
   "metadata": {},
   "outputs": [],
   "source": [
    "python ./scripts/16S-Taxa-Phylo-Pipeline.py -i ./test_data -o ./test_out"
   ]
  },
  {
   "cell_type": "code",
   "execution_count": 6,
   "metadata": {},
   "outputs": [
    {
     "name": "stdout",
     "output_type": "stream",
     "text": [
      "total 8.0K\n",
      "drwxrwxrwx 1 root root 4.0K Jan 13 10:00 \u001b[0m\u001b[34;42mblast\u001b[0m\n",
      "drwxrwxrwx 1 root root 4.0K Jan 13 10:00 \u001b[34;42mfasta\u001b[0m\n",
      "drwxrwxrwx 1 root root 4.0K Jan 13 10:00 \u001b[34;42mfastp\u001b[0m\n",
      "drwxrwxrwx 1 root root 4.0K Jan 13 10:00 \u001b[34;42mfastq\u001b[0m\n",
      "-rwxrwxrwx 1 root root  543 Jan 13 10:01 \u001b[01;32mfinalOut.csv\u001b[0m\n",
      "drwxrwxrwx 1 root root 4.0K Jan 13 10:00 \u001b[34;42mmerge\u001b[0m\n",
      "-rwxrwxrwx 1 root root 5.5K Jan 13 10:00 \u001b[01;32mpairsMerge.fasta\u001b[0m\n",
      "-rwxrwxrwx 1 root root  543 Jan 13 10:01 \u001b[01;32mpairsOut.csv\u001b[0m\n",
      "-rwxrwxrwx 1 root root  603 Jan 13 10:00 \u001b[01;32mpairsTable.csv\u001b[0m\n",
      "drwxrwxrwx 1 root root 4.0K Jan 13 10:00 \u001b[34;42msingle\u001b[0m\n",
      "drwxrwxrwx 1 root root 4.0K Jan 13 10:00 \u001b[34;42mtrim\u001b[0m\n",
      "drwxrwxrwx 1 root root 4.0K Jan 13 10:00 \u001b[34;42munmerge\u001b[0m\n"
     ]
    }
   ],
   "source": [
    "ls ./test_out -lh"
   ]
  },
  {
   "cell_type": "code",
   "execution_count": null,
   "metadata": {},
   "outputs": [],
   "source": [
    "python ./scripts/16S-Taxa-Phylo-Pipeline.py -i ./data/16S-Taxa-20210106 -o ./result/16S-Taxa-20210106"
   ]
  },
  {
   "cell_type": "code",
   "execution_count": null,
   "metadata": {},
   "outputs": [],
   "source": []
  }
 ],
 "metadata": {
  "kernelspec": {
   "display_name": "Bash",
   "language": "bash",
   "name": "bash"
  },
  "language_info": {
   "codemirror_mode": "shell",
   "file_extension": ".sh",
   "mimetype": "text/x-sh",
   "name": "bash"
  }
 },
 "nbformat": 4,
 "nbformat_minor": 4
}
