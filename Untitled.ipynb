{
 "cells": [
  {
   "cell_type": "code",
   "execution_count": null,
   "metadata": {},
   "outputs": [],
   "source": []
  },
  {
   "cell_type": "code",
   "execution_count": null,
   "metadata": {},
   "outputs": [],
   "source": []
  },
  {
   "cell_type": "code",
   "execution_count": null,
   "metadata": {},
   "outputs": [],
   "source": [
    "bowtie2-build example/reference/lambda_virus.fa example/index/lambda_virus"
   ]
  },
  {
   "cell_type": "code",
   "execution_count": null,
   "metadata": {},
   "outputs": [],
   "source": [
    "bowtie2-build /mnt/d/Lab/16S-Taxa-Phlyo/database/SILVA_138.1_SSURef_NR99_tax_silva.fasta /mnt/d/Lab/16S-Taxa-Phlyo/database/SILVA_138.1_SSURef_NR99"
   ]
  },
  {
   "cell_type": "code",
   "execution_count": null,
   "metadata": {},
   "outputs": [],
   "source": []
  },
  {
   "cell_type": "code",
   "execution_count": null,
   "metadata": {},
   "outputs": [],
   "source": [
    "bowtie2 -x ecoli -1 SAMPLE_r1.fastq -2 SAMPLE_r2.fastq -U SAMPLE_single_reads.fastq --no-unal -p 6 -S merged.sam"
   ]
  },
  {
   "cell_type": "markdown",
   "metadata": {},
   "source": [
    "bowtie2 -x /mnt/d/Lab/16S-Taxa-Phlyo/database/SILVA_138.1_SSURef_NR99 -U /mnt/d/Lab/16S-Taxa-Phlyo/result/M15/merged.fasta --no-unal -p 6 -S merged.sam"
   ]
  },
  {
   "cell_type": "code",
   "execution_count": null,
   "metadata": {},
   "outputs": [],
   "source": [
    "/mnt/d/Lab/16S-Taxa-Phlyo/database/SILVA_138.1_SSURef_NR99"
   ]
  },
  {
   "cell_type": "code",
   "execution_count": null,
   "metadata": {},
   "outputs": [],
   "source": [
    "/mnt/d/Lab/16S-Taxa-Phlyo/result/M15/merged.fasta"
   ]
  },
  {
   "cell_type": "code",
   "execution_count": null,
   "metadata": {},
   "outputs": [],
   "source": [
    "perl: warning: Setting locale failed.\n",
    "perl: warning: Please check that your locale settings:\n",
    "        LANGUAGE = \"en.UTF-8\",\n",
    "        LC_ALL = (unset),\n",
    "        LANG = \"en.UTF-8\"\n",
    "    are supported and installed on your system.\n",
    "perl: warning: Falling back to the standard locale (\"C\")."
   ]
  }
 ],
 "metadata": {
  "kernelspec": {
   "display_name": "Python 3",
   "language": "python",
   "name": "python3"
  },
  "language_info": {
   "codemirror_mode": {
    "name": "ipython",
    "version": 3
   },
   "file_extension": ".py",
   "mimetype": "text/x-python",
   "name": "python",
   "nbconvert_exporter": "python",
   "pygments_lexer": "ipython3",
   "version": "3.8.6"
  }
 },
 "nbformat": 4,
 "nbformat_minor": 4
}
