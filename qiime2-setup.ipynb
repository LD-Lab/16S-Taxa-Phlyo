{
 "cells": [
  {
   "cell_type": "markdown",
   "metadata": {},
   "source": [
    "## Qiime2"
   ]
  },
  {
   "cell_type": "markdown",
   "metadata": {},
   "source": [
    "https://docs.qiime2.org/2020.11/install/native/#miniconda"
   ]
  },
  {
   "cell_type": "markdown",
   "metadata": {},
   "source": [
    "### These instructions are identical to the Linux (64-bit) instructions\n",
    "`wget https://data.qiime2.org/distro/core/qiime2-2020.11-py36-linux-conda.yml`\n",
    "\n",
    "`conda env create -n qiime2-2020.11 --file qiime2-2020.11-py36-linux-conda.yml`"
   ]
  },
  {
   "cell_type": "markdown",
   "metadata": {},
   "source": [
    "### Database"
   ]
  },
  {
   "cell_type": "markdown",
   "metadata": {},
   "source": [
    "https://docs.qiime2.org/2020.11/data-resources/"
   ]
  },
  {
   "cell_type": "code",
   "execution_count": null,
   "metadata": {},
   "outputs": [],
   "source": []
  },
  {
   "cell_type": "markdown",
   "metadata": {},
   "source": [
    "#### classify-consensus-blast: BLAST+ consensus taxonomy classifier"
   ]
  },
  {
   "cell_type": "markdown",
   "metadata": {},
   "source": [
    "  Assign taxonomy to query sequences using BLAST+. Performs BLAST+ local\n",
    "  alignment between query and reference_reads, then assigns consensus\n",
    "  taxonomy to each query sequence from among maxaccepts hits, min_consensus\n",
    "  of which share that taxonomic assignment. Note that maxaccepts selects the\n",
    "  first N hits with > perc_identity similarity to query, not the top N\n",
    "  matches. For top N hits, use classify-consensus-vsearch."
   ]
  },
  {
   "cell_type": "code",
   "execution_count": null,
   "metadata": {},
   "outputs": [],
   "source": []
  },
  {
   "cell_type": "markdown",
   "metadata": {},
   "source": [
    "#### classify-consensus-vsearch: VSEARCH-based consensus taxonomy classifier¶"
   ]
  },
  {
   "cell_type": "markdown",
   "metadata": {},
   "source": [
    "  Assign taxonomy to query sequences using VSEARCH. Performs VSEARCH global\n",
    "  alignment between query and reference_reads, then assigns consensus\n",
    "  taxonomy to each query sequence from among maxaccepts top hits,\n",
    "  min_consensus of which share that taxonomic assignment. Unlike classify-\n",
    "  consensus-blast, this method searches the entire reference database before\n",
    "  choosing the top N hits, not the first N hits."
   ]
  },
  {
   "cell_type": "markdown",
   "metadata": {},
   "source": [
    "#### classify-sklearn: Pre-fitted sklearn-based taxonomy classifier"
   ]
  },
  {
   "cell_type": "markdown",
   "metadata": {},
   "source": [
    "Classify reads by taxon using a fitted classifier."
   ]
  },
  {
   "cell_type": "markdown",
   "metadata": {},
   "source": [
    "#### fit-classifier-naive-bayes: Train the naive_bayes classifier"
   ]
  },
  {
   "cell_type": "markdown",
   "metadata": {},
   "source": [
    " Create a scikit-learn naive_bayes classifier for reads"
   ]
  },
  {
   "cell_type": "markdown",
   "metadata": {},
   "source": [
    "#### classify-hybrid-vsearch-sklearn: ALPHA Hybrid classifier: VSEARCH exact match + sklearn classifier"
   ]
  },
  {
   "cell_type": "markdown",
   "metadata": {},
   "source": [
    "https://docs.qiime2.org/2020.11/plugins/available/feature-classifier/classify-hybrid-vsearch-sklearn/"
   ]
  },
  {
   "cell_type": "code",
   "execution_count": null,
   "metadata": {},
   "outputs": [],
   "source": []
  }
 ],
 "metadata": {
  "kernelspec": {
   "display_name": "Python 3",
   "language": "python",
   "name": "python3"
  },
  "language_info": {
   "codemirror_mode": {
    "name": "ipython",
    "version": 3
   },
   "file_extension": ".py",
   "mimetype": "text/x-python",
   "name": "python",
   "nbconvert_exporter": "python",
   "pygments_lexer": "ipython3",
   "version": "3.8.6"
  }
 },
 "nbformat": 4,
 "nbformat_minor": 4
}
