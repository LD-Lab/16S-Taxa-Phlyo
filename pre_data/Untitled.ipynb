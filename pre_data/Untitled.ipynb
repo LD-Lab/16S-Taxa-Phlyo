{
 "cells": [
  {
   "cell_type": "markdown",
   "metadata": {},
   "source": [
    "# Pre Proccessing"
   ]
  },
  {
   "cell_type": "code",
   "execution_count": 3,
   "metadata": {
    "execution": {
     "iopub.execute_input": "2021-01-10T03:31:02.216802Z",
     "iopub.status.busy": "2021-01-10T03:31:02.216571Z",
     "iopub.status.idle": "2021-01-10T03:31:02.816006Z",
     "shell.execute_reply": "2021-01-10T03:31:02.815299Z",
     "shell.execute_reply.started": "2021-01-10T03:31:02.216781Z"
    }
   },
   "outputs": [],
   "source": [
    "import os\n",
    "import re\n",
    "import pandas as pd"
   ]
  },
  {
   "cell_type": "code",
   "execution_count": 4,
   "metadata": {
    "execution": {
     "iopub.execute_input": "2021-01-10T03:31:02.817034Z",
     "iopub.status.busy": "2021-01-10T03:31:02.816858Z",
     "iopub.status.idle": "2021-01-10T03:31:02.944173Z",
     "shell.execute_reply": "2021-01-10T03:31:02.943375Z",
     "shell.execute_reply.started": "2021-01-10T03:31:02.817013Z"
    }
   },
   "outputs": [],
   "source": [
    "import os\n",
    "import argparse\n",
    "import subprocess\n",
    "from Bio import SeqIO"
   ]
  },
  {
   "cell_type": "code",
   "execution_count": 5,
   "metadata": {
    "execution": {
     "iopub.execute_input": "2021-01-10T03:31:03.840522Z",
     "iopub.status.busy": "2021-01-10T03:31:03.840248Z",
     "iopub.status.idle": "2021-01-10T03:31:03.848294Z",
     "shell.execute_reply": "2021-01-10T03:31:03.847213Z",
     "shell.execute_reply.started": "2021-01-10T03:31:03.840496Z"
    }
   },
   "outputs": [],
   "source": [
    "from itertools import repeat\n",
    "from multiprocessing import Pool, freeze_support"
   ]
  },
  {
   "cell_type": "code",
   "execution_count": 6,
   "metadata": {
    "execution": {
     "iopub.execute_input": "2021-01-10T03:31:04.519227Z",
     "iopub.status.busy": "2021-01-10T03:31:04.519003Z",
     "iopub.status.idle": "2021-01-10T03:31:04.522919Z",
     "shell.execute_reply": "2021-01-10T03:31:04.521859Z",
     "shell.execute_reply.started": "2021-01-10T03:31:04.519205Z"
    }
   },
   "outputs": [],
   "source": [
    "InDir = \"/mnt/d/Lab/16S-Taxa-Phlyo/test_data\""
   ]
  },
  {
   "cell_type": "code",
   "execution_count": 26,
   "metadata": {
    "execution": {
     "iopub.execute_input": "2021-01-08T09:29:25.378725Z",
     "iopub.status.busy": "2021-01-08T09:29:25.378420Z",
     "iopub.status.idle": "2021-01-08T09:29:25.384331Z",
     "shell.execute_reply": "2021-01-08T09:29:25.382563Z",
     "shell.execute_reply.started": "2021-01-08T09:29:25.378694Z"
    }
   },
   "outputs": [],
   "source": [
    "file = \"DA_164__1492R__F06_2009041343G.ab1\""
   ]
  },
  {
   "cell_type": "code",
   "execution_count": 27,
   "metadata": {
    "execution": {
     "iopub.execute_input": "2021-01-08T09:29:25.655392Z",
     "iopub.status.busy": "2021-01-08T09:29:25.655107Z",
     "iopub.status.idle": "2021-01-08T09:29:25.660012Z",
     "shell.execute_reply": "2021-01-08T09:29:25.658758Z",
     "shell.execute_reply.started": "2021-01-08T09:29:25.655365Z"
    }
   },
   "outputs": [],
   "source": [
    "filestr = re.sub(\"[-()[\\]]\", \"_\", file)"
   ]
  },
  {
   "cell_type": "code",
   "execution_count": 28,
   "metadata": {
    "execution": {
     "iopub.execute_input": "2021-01-08T09:29:26.118895Z",
     "iopub.status.busy": "2021-01-08T09:29:26.118455Z",
     "iopub.status.idle": "2021-01-08T09:29:26.128120Z",
     "shell.execute_reply": "2021-01-08T09:29:26.126094Z",
     "shell.execute_reply.started": "2021-01-08T09:29:26.118853Z"
    }
   },
   "outputs": [
    {
     "data": {
      "text/plain": [
       "'DA_164__1492R__F06_2009041343G.ab1'"
      ]
     },
     "execution_count": 28,
     "metadata": {},
     "output_type": "execute_result"
    }
   ],
   "source": [
    "filestr"
   ]
  },
  {
   "cell_type": "code",
   "execution_count": 29,
   "metadata": {
    "execution": {
     "iopub.execute_input": "2021-01-08T09:29:27.776824Z",
     "iopub.status.busy": "2021-01-08T09:29:27.776556Z",
     "iopub.status.idle": "2021-01-08T09:29:27.781589Z",
     "shell.execute_reply": "2021-01-08T09:29:27.780492Z",
     "shell.execute_reply.started": "2021-01-08T09:29:27.776798Z"
    }
   },
   "outputs": [],
   "source": [
    "filestr = re.sub(\"\\.\", \"__\", filestr)"
   ]
  },
  {
   "cell_type": "code",
   "execution_count": 30,
   "metadata": {
    "execution": {
     "iopub.execute_input": "2021-01-08T09:29:28.818852Z",
     "iopub.status.busy": "2021-01-08T09:29:28.818525Z",
     "iopub.status.idle": "2021-01-08T09:29:28.827067Z",
     "shell.execute_reply": "2021-01-08T09:29:28.825498Z",
     "shell.execute_reply.started": "2021-01-08T09:29:28.818815Z"
    }
   },
   "outputs": [
    {
     "data": {
      "text/plain": [
       "'DA_164__1492R__F06_2009041343G__ab1'"
      ]
     },
     "execution_count": 30,
     "metadata": {},
     "output_type": "execute_result"
    }
   ],
   "source": [
    "filestr"
   ]
  },
  {
   "cell_type": "code",
   "execution_count": 7,
   "metadata": {
    "execution": {
     "iopub.execute_input": "2021-01-10T03:31:06.564121Z",
     "iopub.status.busy": "2021-01-10T03:31:06.563798Z",
     "iopub.status.idle": "2021-01-10T03:31:06.573218Z",
     "shell.execute_reply": "2021-01-10T03:31:06.571191Z",
     "shell.execute_reply.started": "2021-01-10T03:31:06.564087Z"
    }
   },
   "outputs": [],
   "source": [
    "def manifest(InDir):\n",
    "    R1List = []\n",
    "    R2List = []\n",
    "    IdList = []\n",
    "    df = pd.DataFrame()\n",
    "    # Find all forward sequence files and reverse sequence files\n",
    "    for subdir, dirs, files in os.walk(InDir):\n",
    "        for file in files:\n",
    "            filePath = os.path.join(subdir, file)\n",
    "            if file.endswith(\".ab1\") and os.path.getsize(filePath) > 0:\n",
    "                SampleInfo = file.split(\"__\")\n",
    "                if SampleInfo[1].endswith(\"F\"):\n",
    "                    R1List.append(filePath)\n",
    "                    IdList.append(SampleInfo[0])\n",
    "                elif SampleInfo[1].endswith(\"R\"):\n",
    "                    R2List.append(filePath)\n",
    "    df[\"SampleID\"] = IdList\n",
    "    df[\"R1\"] = R1List\n",
    "    df[\"R2\"] = R2List\n",
    "    return df"
   ]
  },
  {
   "cell_type": "code",
   "execution_count": 8,
   "metadata": {
    "execution": {
     "iopub.execute_input": "2021-01-10T03:31:06.897980Z",
     "iopub.status.busy": "2021-01-10T03:31:06.897747Z",
     "iopub.status.idle": "2021-01-10T03:31:06.925038Z",
     "shell.execute_reply": "2021-01-10T03:31:06.924047Z",
     "shell.execute_reply.started": "2021-01-10T03:31:06.897956Z"
    }
   },
   "outputs": [],
   "source": [
    "df = manifest(InDir)"
   ]
  },
  {
   "cell_type": "code",
   "execution_count": 9,
   "metadata": {
    "execution": {
     "iopub.execute_input": "2021-01-10T03:31:08.839256Z",
     "iopub.status.busy": "2021-01-10T03:31:08.838796Z",
     "iopub.status.idle": "2021-01-10T03:31:08.875183Z",
     "shell.execute_reply": "2021-01-10T03:31:08.873984Z",
     "shell.execute_reply.started": "2021-01-10T03:31:08.839212Z"
    }
   },
   "outputs": [
    {
     "data": {
      "text/html": [
       "<div>\n",
       "<style scoped>\n",
       "    .dataframe tbody tr th:only-of-type {\n",
       "        vertical-align: middle;\n",
       "    }\n",
       "\n",
       "    .dataframe tbody tr th {\n",
       "        vertical-align: top;\n",
       "    }\n",
       "\n",
       "    .dataframe thead th {\n",
       "        text-align: right;\n",
       "    }\n",
       "</style>\n",
       "<table border=\"1\" class=\"dataframe\">\n",
       "  <thead>\n",
       "    <tr style=\"text-align: right;\">\n",
       "      <th></th>\n",
       "      <th>SampleID</th>\n",
       "      <th>R1</th>\n",
       "      <th>R2</th>\n",
       "    </tr>\n",
       "  </thead>\n",
       "  <tbody>\n",
       "    <tr>\n",
       "      <th>0</th>\n",
       "      <td>DA_164</td>\n",
       "      <td>/mnt/d/Lab/16S-Taxa-Phlyo/test_data/DA_164__27...</td>\n",
       "      <td>/mnt/d/Lab/16S-Taxa-Phlyo/test_data/DA_164__14...</td>\n",
       "    </tr>\n",
       "    <tr>\n",
       "      <th>1</th>\n",
       "      <td>DA_24</td>\n",
       "      <td>/mnt/d/Lab/16S-Taxa-Phlyo/test_data/DA_24__27F...</td>\n",
       "      <td>/mnt/d/Lab/16S-Taxa-Phlyo/test_data/DA_24__149...</td>\n",
       "    </tr>\n",
       "    <tr>\n",
       "      <th>2</th>\n",
       "      <td>DA_251</td>\n",
       "      <td>/mnt/d/Lab/16S-Taxa-Phlyo/test_data/DA_251__27...</td>\n",
       "      <td>/mnt/d/Lab/16S-Taxa-Phlyo/test_data/DA_251__14...</td>\n",
       "    </tr>\n",
       "    <tr>\n",
       "      <th>3</th>\n",
       "      <td>DA_252</td>\n",
       "      <td>/mnt/d/Lab/16S-Taxa-Phlyo/test_data/DA_252__27...</td>\n",
       "      <td>/mnt/d/Lab/16S-Taxa-Phlyo/test_data/DA_252__14...</td>\n",
       "    </tr>\n",
       "  </tbody>\n",
       "</table>\n",
       "</div>"
      ],
      "text/plain": [
       "  SampleID                                                 R1  \\\n",
       "0   DA_164  /mnt/d/Lab/16S-Taxa-Phlyo/test_data/DA_164__27...   \n",
       "1    DA_24  /mnt/d/Lab/16S-Taxa-Phlyo/test_data/DA_24__27F...   \n",
       "2   DA_251  /mnt/d/Lab/16S-Taxa-Phlyo/test_data/DA_251__27...   \n",
       "3   DA_252  /mnt/d/Lab/16S-Taxa-Phlyo/test_data/DA_252__27...   \n",
       "\n",
       "                                                  R2  \n",
       "0  /mnt/d/Lab/16S-Taxa-Phlyo/test_data/DA_164__14...  \n",
       "1  /mnt/d/Lab/16S-Taxa-Phlyo/test_data/DA_24__149...  \n",
       "2  /mnt/d/Lab/16S-Taxa-Phlyo/test_data/DA_251__14...  \n",
       "3  /mnt/d/Lab/16S-Taxa-Phlyo/test_data/DA_252__14...  "
      ]
     },
     "execution_count": 9,
     "metadata": {},
     "output_type": "execute_result"
    }
   ],
   "source": [
    "df"
   ]
  },
  {
   "cell_type": "code",
   "execution_count": null,
   "metadata": {},
   "outputs": [],
   "source": []
  },
  {
   "cell_type": "code",
   "execution_count": 59,
   "metadata": {
    "execution": {
     "iopub.execute_input": "2021-01-08T10:40:15.505708Z",
     "iopub.status.busy": "2021-01-08T10:40:15.505427Z",
     "iopub.status.idle": "2021-01-08T10:40:15.511173Z",
     "shell.execute_reply": "2021-01-08T10:40:15.509702Z",
     "shell.execute_reply.started": "2021-01-08T10:40:15.505682Z"
    }
   },
   "outputs": [],
   "source": [
    "import collections"
   ]
  },
  {
   "cell_type": "code",
   "execution_count": 74,
   "metadata": {
    "execution": {
     "iopub.execute_input": "2021-01-08T11:14:05.806642Z",
     "iopub.status.busy": "2021-01-08T11:14:05.806237Z",
     "iopub.status.idle": "2021-01-08T11:14:05.812522Z",
     "shell.execute_reply": "2021-01-08T11:14:05.810936Z",
     "shell.execute_reply.started": "2021-01-08T11:14:05.806603Z"
    }
   },
   "outputs": [],
   "source": [
    "SampleList = collections.defaultdict(list)"
   ]
  },
  {
   "cell_type": "code",
   "execution_count": 75,
   "metadata": {
    "execution": {
     "iopub.execute_input": "2021-01-08T11:14:06.246618Z",
     "iopub.status.busy": "2021-01-08T11:14:06.246267Z",
     "iopub.status.idle": "2021-01-08T11:14:06.254074Z",
     "shell.execute_reply": "2021-01-08T11:14:06.252711Z",
     "shell.execute_reply.started": "2021-01-08T11:14:06.246586Z"
    }
   },
   "outputs": [
    {
     "data": {
      "text/plain": [
       "defaultdict(list, {})"
      ]
     },
     "execution_count": 75,
     "metadata": {},
     "output_type": "execute_result"
    }
   ],
   "source": [
    "SampleList"
   ]
  },
  {
   "cell_type": "code",
   "execution_count": 76,
   "metadata": {
    "execution": {
     "iopub.execute_input": "2021-01-08T11:14:06.798582Z",
     "iopub.status.busy": "2021-01-08T11:14:06.798075Z",
     "iopub.status.idle": "2021-01-08T11:14:06.813935Z",
     "shell.execute_reply": "2021-01-08T11:14:06.812823Z",
     "shell.execute_reply.started": "2021-01-08T11:14:06.798536Z"
    }
   },
   "outputs": [],
   "source": [
    "for subdir, dirs, files in os.walk(InDir):\n",
    "    for file in files:\n",
    "        filePath = os.path.join(subdir, file)\n",
    "        if file.endswith(\".ab1\") and os.path.getsize(filePath) > 0:\n",
    "            info = file.split(\"__\")\n",
    "            if info[1].endswith(\"F\"):\n",
    "                SampleList[info[0]].append(filePath)\n",
    "            elif info[1].endswith(\"R\"):\n",
    "                SampleList[info[0]].append(filePath)"
   ]
  },
  {
   "cell_type": "code",
   "execution_count": 77,
   "metadata": {
    "execution": {
     "iopub.execute_input": "2021-01-08T11:14:07.243321Z",
     "iopub.status.busy": "2021-01-08T11:14:07.242966Z",
     "iopub.status.idle": "2021-01-08T11:14:07.251168Z",
     "shell.execute_reply": "2021-01-08T11:14:07.249502Z",
     "shell.execute_reply.started": "2021-01-08T11:14:07.243273Z"
    }
   },
   "outputs": [
    {
     "data": {
      "text/plain": [
       "defaultdict(list,\n",
       "            {'DA_164': ['/mnt/d/Lab/16S-Taxa-Phlyo/test_data/DA_164__1492R__F06_2009041343G.ab1',\n",
       "              '/mnt/d/Lab/16S-Taxa-Phlyo/test_data/DA_164__27F__F03_2009041343G.ab1'],\n",
       "             'DA_24': ['/mnt/d/Lab/16S-Taxa-Phlyo/test_data/DA_24__1492R__E06_2009041339G.ab1',\n",
       "              '/mnt/d/Lab/16S-Taxa-Phlyo/test_data/DA_24__27F__E03_2009041339G.ab1'],\n",
       "             'DA_251': ['/mnt/d/Lab/16S-Taxa-Phlyo/test_data/DA_251__1492R__G06_2009041345G.ab1',\n",
       "              '/mnt/d/Lab/16S-Taxa-Phlyo/test_data/DA_251__27F__G03_2009041345G.ab1'],\n",
       "             'DA_252': ['/mnt/d/Lab/16S-Taxa-Phlyo/test_data/DA_252__1492R__H06_2009041346G.ab1',\n",
       "              '/mnt/d/Lab/16S-Taxa-Phlyo/test_data/DA_252__27F__H03_2009041346G.ab1']})"
      ]
     },
     "execution_count": 77,
     "metadata": {},
     "output_type": "execute_result"
    }
   ],
   "source": [
    "SampleList"
   ]
  },
  {
   "cell_type": "code",
   "execution_count": null,
   "metadata": {},
   "outputs": [],
   "source": []
  },
  {
   "cell_type": "markdown",
   "metadata": {},
   "source": [
    "## ABI to fastq"
   ]
  },
  {
   "cell_type": "code",
   "execution_count": 11,
   "metadata": {
    "execution": {
     "iopub.execute_input": "2021-01-08T07:41:55.879458Z",
     "iopub.status.busy": "2021-01-08T07:41:55.879209Z",
     "iopub.status.idle": "2021-01-08T07:41:55.883275Z",
     "shell.execute_reply": "2021-01-08T07:41:55.882256Z",
     "shell.execute_reply.started": "2021-01-08T07:41:55.879436Z"
    }
   },
   "outputs": [],
   "source": [
    "ab1 = \"/mnt/d/Lab/16S-Taxa-Phlyo/test_data/DA_164__1492R__F06_2009041343G.ab1\""
   ]
  },
  {
   "cell_type": "code",
   "execution_count": 9,
   "metadata": {
    "execution": {
     "iopub.execute_input": "2021-01-08T07:41:29.800501Z",
     "iopub.status.busy": "2021-01-08T07:41:29.800240Z",
     "iopub.status.idle": "2021-01-08T07:41:29.804835Z",
     "shell.execute_reply": "2021-01-08T07:41:29.803858Z",
     "shell.execute_reply.started": "2021-01-08T07:41:29.800474Z"
    }
   },
   "outputs": [],
   "source": [
    "ab1 = \"/mnt/d/Lab/16S-Taxa-Phlyo/test_data/DA_164__27F__F03_2009041343G.ab1\""
   ]
  },
  {
   "cell_type": "code",
   "execution_count": 12,
   "metadata": {
    "execution": {
     "iopub.execute_input": "2021-01-08T07:42:01.146207Z",
     "iopub.status.busy": "2021-01-08T07:42:01.145897Z",
     "iopub.status.idle": "2021-01-08T07:42:01.188642Z",
     "shell.execute_reply": "2021-01-08T07:42:01.187710Z",
     "shell.execute_reply.started": "2021-01-08T07:42:01.146169Z"
    }
   },
   "outputs": [],
   "source": [
    "from Bio import SeqIO\n",
    "record = SeqIO.parse(ab1, \"abi\")\n",
    "count = SeqIO.write(record, \"/mnt/d/Lab/16S-Taxa-Phlyo/test_out/DA_164_R2.fastq\", \"fastq\")"
   ]
  },
  {
   "cell_type": "code",
   "execution_count": 17,
   "metadata": {
    "execution": {
     "iopub.execute_input": "2021-01-08T09:09:02.968300Z",
     "iopub.status.busy": "2021-01-08T09:09:02.961458Z",
     "iopub.status.idle": "2021-01-08T09:09:03.100898Z",
     "shell.execute_reply": "2021-01-08T09:09:03.099024Z",
     "shell.execute_reply.started": "2021-01-08T09:09:02.967929Z"
    }
   },
   "outputs": [
    {
     "data": {
      "text/plain": [
       "1"
      ]
     },
     "execution_count": 17,
     "metadata": {},
     "output_type": "execute_result"
    }
   ],
   "source": [
    "from Bio import SeqIO\n",
    "SeqIO.convert(ab1, \"abi\", \"/mnt/d/Lab/16S-Taxa-Phlyo/test_out/DA_164_R2_convert.fastq\", \"fastq\")"
   ]
  },
  {
   "cell_type": "code",
   "execution_count": 17,
   "metadata": {
    "execution": {
     "iopub.execute_input": "2021-01-10T03:38:34.280724Z",
     "iopub.status.busy": "2021-01-10T03:38:34.280417Z",
     "iopub.status.idle": "2021-01-10T03:38:34.285058Z",
     "shell.execute_reply": "2021-01-10T03:38:34.284151Z",
     "shell.execute_reply.started": "2021-01-10T03:38:34.280697Z"
    }
   },
   "outputs": [],
   "source": [
    "def ABI2Fastq(abi, fastq):\n",
    "    SeqIO.convert(abi, \"abi\", fastq, \"fastq\")"
   ]
  },
  {
   "cell_type": "code",
   "execution_count": 18,
   "metadata": {
    "execution": {
     "iopub.execute_input": "2021-01-10T03:38:36.218066Z",
     "iopub.status.busy": "2021-01-10T03:38:36.217781Z",
     "iopub.status.idle": "2021-01-10T03:38:36.223476Z",
     "shell.execute_reply": "2021-01-10T03:38:36.222460Z",
     "shell.execute_reply.started": "2021-01-10T03:38:36.218036Z"
    }
   },
   "outputs": [],
   "source": [
    "def ABI2FastqParallel(abiList, fastqList):\n",
    "    pool = Pool(processes = 4)\n",
    "    pool.starmap(ABI2Fastq, zip(abiList, fastqList))\n",
    "    pool.close()\n",
    "    pool.join()\n",
    "    pool.terminate()"
   ]
  },
  {
   "cell_type": "code",
   "execution_count": 19,
   "metadata": {
    "execution": {
     "iopub.execute_input": "2021-01-10T03:38:36.702759Z",
     "iopub.status.busy": "2021-01-10T03:38:36.702508Z",
     "iopub.status.idle": "2021-01-10T03:38:36.706797Z",
     "shell.execute_reply": "2021-01-10T03:38:36.705810Z",
     "shell.execute_reply.started": "2021-01-10T03:38:36.702734Z"
    }
   },
   "outputs": [],
   "source": [
    "OutDir = \"/mnt/d/Lab/16S-Taxa-Phlyo/test_out/fastq\""
   ]
  },
  {
   "cell_type": "code",
   "execution_count": 20,
   "metadata": {
    "execution": {
     "iopub.execute_input": "2021-01-10T03:38:38.166638Z",
     "iopub.status.busy": "2021-01-10T03:38:38.166393Z",
     "iopub.status.idle": "2021-01-10T03:38:38.172648Z",
     "shell.execute_reply": "2021-01-10T03:38:38.171539Z",
     "shell.execute_reply.started": "2021-01-10T03:38:38.166614Z"
    }
   },
   "outputs": [
    {
     "data": {
      "text/plain": [
       "['/mnt/d/Lab/16S-Taxa-Phlyo/test_data/DA_164__27F__F03_2009041343G.ab1',\n",
       " '/mnt/d/Lab/16S-Taxa-Phlyo/test_data/DA_24__27F__E03_2009041339G.ab1',\n",
       " '/mnt/d/Lab/16S-Taxa-Phlyo/test_data/DA_251__27F__G03_2009041345G.ab1',\n",
       " '/mnt/d/Lab/16S-Taxa-Phlyo/test_data/DA_252__27F__H03_2009041346G.ab1']"
      ]
     },
     "execution_count": 20,
     "metadata": {},
     "output_type": "execute_result"
    }
   ],
   "source": [
    "list(df[\"R1\"])"
   ]
  },
  {
   "cell_type": "code",
   "execution_count": 21,
   "metadata": {
    "execution": {
     "iopub.execute_input": "2021-01-10T03:38:38.377705Z",
     "iopub.status.busy": "2021-01-10T03:38:38.377335Z",
     "iopub.status.idle": "2021-01-10T03:38:38.388550Z",
     "shell.execute_reply": "2021-01-10T03:38:38.387202Z",
     "shell.execute_reply.started": "2021-01-10T03:38:38.377666Z"
    }
   },
   "outputs": [
    {
     "name": "stderr",
     "output_type": "stream",
     "text": [
      "<ipython-input-21-bc2e443c12df>:1: FutureWarning: The default value of regex will change from True to False in a future version.\n",
      "  list(df[\"R1\"].str.replace(\".ab1\", \".fastq\"))\n"
     ]
    },
    {
     "data": {
      "text/plain": [
       "['/mnt/d/Lab/16S-Taxa-Phlyo/test_data/DA_164__27F__F03_2009041343G.fastq',\n",
       " '/mnt/d/Lab/16S-Taxa-Phlyo/test_data/DA_24__27F__E03_2009041339G.fastq',\n",
       " '/mnt/d/Lab/16S-Taxa-Phlyo/test_data/DA_251__27F__G03_2009041345G.fastq',\n",
       " '/mnt/d/Lab/16S-Taxa-Phlyo/test_data/DA_252__27F__H03_2009041346G.fastq']"
      ]
     },
     "execution_count": 21,
     "metadata": {},
     "output_type": "execute_result"
    }
   ],
   "source": [
    "list(df[\"R1\"].str.replace(\".ab1\", \".fastq\"))"
   ]
  },
  {
   "cell_type": "code",
   "execution_count": 22,
   "metadata": {
    "execution": {
     "iopub.execute_input": "2021-01-10T03:38:39.113552Z",
     "iopub.status.busy": "2021-01-10T03:38:39.113183Z",
     "iopub.status.idle": "2021-01-10T03:38:39.357569Z",
     "shell.execute_reply": "2021-01-10T03:38:39.355262Z",
     "shell.execute_reply.started": "2021-01-10T03:38:39.113512Z"
    }
   },
   "outputs": [
    {
     "name": "stderr",
     "output_type": "stream",
     "text": [
      "<ipython-input-22-90c72fb9313b>:1: FutureWarning: The default value of regex will change from True to False in a future version.\n",
      "  ABI2FastqParallel(df[\"R1\"], df[\"R1\"].str.replace(\".ab1\", \".fastq\"))\n"
     ]
    }
   ],
   "source": [
    "ABI2FastqParallel(df[\"R1\"], df[\"R1\"].str.replace(\".ab1\", \".fastq\"))"
   ]
  },
  {
   "cell_type": "code",
   "execution_count": 23,
   "metadata": {
    "execution": {
     "iopub.execute_input": "2021-01-10T03:38:40.358703Z",
     "iopub.status.busy": "2021-01-10T03:38:40.358274Z",
     "iopub.status.idle": "2021-01-10T03:38:40.539344Z",
     "shell.execute_reply": "2021-01-10T03:38:40.538239Z",
     "shell.execute_reply.started": "2021-01-10T03:38:40.358659Z"
    }
   },
   "outputs": [
    {
     "name": "stderr",
     "output_type": "stream",
     "text": [
      "<ipython-input-23-5851f60940b7>:1: FutureWarning: The default value of regex will change from True to False in a future version.\n",
      "  ABI2FastqParallel(df[\"R2\"], df[\"R2\"].str.replace(\".ab1\", \".fastq\"))\n"
     ]
    }
   ],
   "source": [
    "ABI2FastqParallel(df[\"R2\"], df[\"R2\"].str.replace(\".ab1\", \".fastq\"))"
   ]
  },
  {
   "cell_type": "markdown",
   "metadata": {},
   "source": [
    "### fastqc"
   ]
  },
  {
   "cell_type": "code",
   "execution_count": null,
   "metadata": {},
   "outputs": [],
   "source": [
    "!fastqc DA_164.fastq"
   ]
  },
  {
   "cell_type": "markdown",
   "metadata": {},
   "source": [
    "## Trimming"
   ]
  },
  {
   "cell_type": "markdown",
   "metadata": {},
   "source": [
    "### fastp"
   ]
  },
  {
   "cell_type": "markdown",
   "metadata": {},
   "source": [
    "https://github.com/OpenGene/fastp"
   ]
  },
  {
   "cell_type": "code",
   "execution_count": 15,
   "metadata": {
    "execution": {
     "iopub.execute_input": "2021-01-08T07:44:08.896612Z",
     "iopub.status.busy": "2021-01-08T07:44:08.896358Z",
     "iopub.status.idle": "2021-01-08T07:44:09.017298Z",
     "shell.execute_reply": "2021-01-08T07:44:09.013443Z",
     "shell.execute_reply.started": "2021-01-08T07:44:08.896588Z"
    }
   },
   "outputs": [
    {
     "name": "stdout",
     "output_type": "stream",
     "text": [
      "/mnt/d/Lab/16S-Taxa-Phlyo/pre_data\n"
     ]
    }
   ],
   "source": [
    "!pwd"
   ]
  },
  {
   "cell_type": "code",
   "execution_count": 16,
   "metadata": {
    "execution": {
     "iopub.execute_input": "2021-01-08T07:44:10.314561Z",
     "iopub.status.busy": "2021-01-08T07:44:10.314313Z",
     "iopub.status.idle": "2021-01-08T07:44:10.434071Z",
     "shell.execute_reply": "2021-01-08T07:44:10.433033Z",
     "shell.execute_reply.started": "2021-01-08T07:44:10.314533Z"
    }
   },
   "outputs": [],
   "source": [
    "!cd ../test_out"
   ]
  },
  {
   "cell_type": "code",
   "execution_count": null,
   "metadata": {
    "execution": {
     "iopub.execute_input": "2021-01-08T07:37:21.784092Z",
     "iopub.status.busy": "2021-01-08T07:37:21.783633Z",
     "iopub.status.idle": "2021-01-08T07:37:21.906892Z",
     "shell.execute_reply": "2021-01-08T07:37:21.905561Z",
     "shell.execute_reply.started": "2021-01-08T07:37:21.784063Z"
    }
   },
   "outputs": [],
   "source": [
    "!fastp -i DA_164.fastq -o DA_164_p.fastq"
   ]
  },
  {
   "cell_type": "code",
   "execution_count": null,
   "metadata": {},
   "outputs": [],
   "source": [
    "!fastqc DA_164.fastq"
   ]
  },
  {
   "cell_type": "code",
   "execution_count": null,
   "metadata": {},
   "outputs": [],
   "source": [
    "fastp -i DA_164_R1.fastq -I DA_164_R2.fastq -o trim/DA_164_trim_R1.fastq -O trim/DA_164_trim_R2.fastq"
   ]
  },
  {
   "cell_type": "markdown",
   "metadata": {},
   "source": [
    "#### trim"
   ]
  },
  {
   "cell_type": "code",
   "execution_count": null,
   "metadata": {},
   "outputs": [],
   "source": [
    "fastp -i DA_164_R1.fastq -I DA_164_R2.fastq -o trim/DA_164_trim_R1.fastq -O trim/DA_164_trim_R2.fastq --cut_front --cut_tail --cut_window_size 10 --cut_mean_quality 30"
   ]
  },
  {
   "cell_type": "code",
   "execution_count": null,
   "metadata": {},
   "outputs": [],
   "source": [
    "fastp -i DA_164_R1.fastq -I DA_164_R2.fastq -o trim/DA_164_trim_R1.fastq -O trim/DA_164_trim_R2.fastq --cut_front --cut_tail --cut_front_window_size 10 --cut_front_mean_quality 36"
   ]
  },
  {
   "cell_type": "code",
   "execution_count": null,
   "metadata": {},
   "outputs": [],
   "source": [
    "fastp -i DA_164_R1.fastq -I DA_164_R2.fastq -o trim/DA_164_trim_R1.fastq -O trim/DA_164_trim_R2.fastq --trim_front1 30 --trim_tail1 100 --max_len1 750 --trim_front2 30 --trim_tail2 100 --max_len2 750"
   ]
  },
  {
   "cell_type": "markdown",
   "metadata": {},
   "source": [
    "```shell\n",
    "fastp -i DA_164_R1.fastq -I DA_164_R2.fastq -o trim/DA_164_trim_R1.fastq -O trim/DA_164_trim_R2.fastq \\\n",
    "--trim_front1 30 --max_len1 750 --trim_front2 30 --max_len2 750 \\\n",
    "--cut_front --cut_tail --cut_window_size 20 --cut_mean_quality 30 \\\n",
    "--merge --merged_out trim/DA_164_merge.fastq\\\n",
    "--correction --overlap_len_require 30 --html DA_164.html --report_title DA_164-fastq-merge\n",
    "```"
   ]
  },
  {
   "cell_type": "code",
   "execution_count": 24,
   "metadata": {
    "execution": {
     "iopub.execute_input": "2021-01-10T03:41:35.292702Z",
     "iopub.status.busy": "2021-01-10T03:41:35.292352Z",
     "iopub.status.idle": "2021-01-10T03:41:35.302004Z",
     "shell.execute_reply": "2021-01-10T03:41:35.300388Z",
     "shell.execute_reply.started": "2021-01-10T03:41:35.292663Z"
    }
   },
   "outputs": [],
   "source": [
    "def RunFastp(R1, R2, prefix, OutDir):\n",
    "    trimDir = os.path.join(OutDir, \"trim\")\n",
    "    mergeDir = os.path.join(OutDir, \"merge\")\n",
    "    fastpDir = os.path.join(OutDir, \"fastp\")\n",
    "    if os.path.exists(OutDir) == 0:\n",
    "        os.makedirs(OutDir, 0o777, True)\n",
    "    if os.path.exists(trimDir) == 0:\n",
    "        os.makedirs(trimDir, 0o777, True)\n",
    "    if os.path.exists(mergeDir) == 0:\n",
    "        os.makedirs(mergeDir, 0o777, True)\n",
    "    if os.path.exists(fastpDir) == 0:\n",
    "        os.makedirs(fastpDir, 0o777, True)\n",
    "    cmd = \"fastp -i \" + R1 + \" -I \" + R2 + \" -o \" + os.path.join(trimDir, prefix + \"_trim_R1.fastq\") + \" -O \" + os.path.join(trimDir, prefix + \"_trim_R2.fastq\") + \\\n",
    "    \" --trim_front1 30 --max_len1 750 --trim_front2 30 --max_len2 750 --cut_front --cut_tail --cut_window_size 20 --cut_mean_quality 30\" + \\\n",
    "    \" --merge --merged_out \" + os.path.join(mergeDir, prefix + \".fastq\") + \" --correction --overlap_len_require 20 --html \" + os.path.join(fastpDir, prefix + \".html\") + \\\n",
    "    \" --report_title \" + prefix + \"-fastq-merge-report\"\n",
    "    #print(cmd)\n",
    "    subprocess.call(cmd, shell=True)"
   ]
  },
  {
   "cell_type": "code",
   "execution_count": 25,
   "metadata": {
    "execution": {
     "iopub.execute_input": "2021-01-10T03:41:35.843310Z",
     "iopub.status.busy": "2021-01-10T03:41:35.843046Z",
     "iopub.status.idle": "2021-01-10T03:41:35.849202Z",
     "shell.execute_reply": "2021-01-10T03:41:35.847782Z",
     "shell.execute_reply.started": "2021-01-10T03:41:35.843284Z"
    }
   },
   "outputs": [],
   "source": [
    "def RunFastpParallel(R1List, R2List, prefixList, OutDir):\n",
    "    pool = Pool(processes = 4)\n",
    "    pool.starmap(RunFastp, zip(R1List, R2List, prefixList, repeat(OutDir)))\n",
    "    pool.close()\n",
    "    pool.join()\n",
    "    pool.terminate()"
   ]
  },
  {
   "cell_type": "code",
   "execution_count": 26,
   "metadata": {
    "execution": {
     "iopub.execute_input": "2021-01-10T03:41:37.093357Z",
     "iopub.status.busy": "2021-01-10T03:41:37.093084Z",
     "iopub.status.idle": "2021-01-10T03:41:37.100966Z",
     "shell.execute_reply": "2021-01-10T03:41:37.099214Z",
     "shell.execute_reply.started": "2021-01-10T03:41:37.093329Z"
    }
   },
   "outputs": [
    {
     "name": "stderr",
     "output_type": "stream",
     "text": [
      "<ipython-input-26-c3ce5bf156a2>:1: FutureWarning: The default value of regex will change from True to False in a future version.\n",
      "  R1List = df[\"R1\"].str.replace(\".ab1\", \".fastq\")\n"
     ]
    }
   ],
   "source": [
    "R1List = df[\"R1\"].str.replace(\".ab1\", \".fastq\")"
   ]
  },
  {
   "cell_type": "code",
   "execution_count": 27,
   "metadata": {
    "execution": {
     "iopub.execute_input": "2021-01-10T03:41:38.253893Z",
     "iopub.status.busy": "2021-01-10T03:41:38.253498Z",
     "iopub.status.idle": "2021-01-10T03:41:38.261106Z",
     "shell.execute_reply": "2021-01-10T03:41:38.259554Z",
     "shell.execute_reply.started": "2021-01-10T03:41:38.253855Z"
    }
   },
   "outputs": [
    {
     "name": "stderr",
     "output_type": "stream",
     "text": [
      "<ipython-input-27-38ecb3b25c17>:1: FutureWarning: The default value of regex will change from True to False in a future version.\n",
      "  R2List = df[\"R2\"].str.replace(\".ab1\", \".fastq\")\n"
     ]
    }
   ],
   "source": [
    "R2List = df[\"R2\"].str.replace(\".ab1\", \".fastq\")"
   ]
  },
  {
   "cell_type": "code",
   "execution_count": 28,
   "metadata": {
    "execution": {
     "iopub.execute_input": "2021-01-10T03:41:39.473893Z",
     "iopub.status.busy": "2021-01-10T03:41:39.473669Z",
     "iopub.status.idle": "2021-01-10T03:41:39.478011Z",
     "shell.execute_reply": "2021-01-10T03:41:39.477003Z",
     "shell.execute_reply.started": "2021-01-10T03:41:39.473870Z"
    }
   },
   "outputs": [],
   "source": [
    "prefixList = df[\"SampleID\"]"
   ]
  },
  {
   "cell_type": "code",
   "execution_count": 29,
   "metadata": {
    "execution": {
     "iopub.execute_input": "2021-01-10T03:41:40.466992Z",
     "iopub.status.busy": "2021-01-10T03:41:40.466559Z",
     "iopub.status.idle": "2021-01-10T03:41:40.473727Z",
     "shell.execute_reply": "2021-01-10T03:41:40.471477Z",
     "shell.execute_reply.started": "2021-01-10T03:41:40.466944Z"
    }
   },
   "outputs": [],
   "source": [
    "OutDir = \"/mnt/d/Lab/16S-Taxa-Phlyo/test_out\""
   ]
  },
  {
   "cell_type": "code",
   "execution_count": 30,
   "metadata": {
    "execution": {
     "iopub.execute_input": "2021-01-10T03:41:42.123162Z",
     "iopub.status.busy": "2021-01-10T03:41:42.122886Z",
     "iopub.status.idle": "2021-01-10T03:41:43.391457Z",
     "shell.execute_reply": "2021-01-10T03:41:43.390207Z",
     "shell.execute_reply.started": "2021-01-10T03:41:42.123134Z"
    }
   },
   "outputs": [],
   "source": [
    "RunFastpParallel(R1List, R2List, prefixList, OutDir)"
   ]
  },
  {
   "cell_type": "code",
   "execution_count": 117,
   "metadata": {
    "execution": {
     "iopub.execute_input": "2021-01-08T11:55:40.529245Z",
     "iopub.status.busy": "2021-01-08T11:55:40.528972Z",
     "iopub.status.idle": "2021-01-08T11:55:40.535587Z",
     "shell.execute_reply": "2021-01-08T11:55:40.534457Z",
     "shell.execute_reply.started": "2021-01-08T11:55:40.529219Z"
    }
   },
   "outputs": [
    {
     "name": "stderr",
     "output_type": "stream",
     "text": [
      "<ipython-input-117-38d7a1cd8c22>:1: FutureWarning: The default value of regex will change from True to False in a future version.\n",
      "  R1 = df[\"R1\"].str.replace(\".ab1\", \".fastq\")[0]\n"
     ]
    }
   ],
   "source": [
    "R1 = df[\"R1\"].str.replace(\".ab1\", \".fastq\")[0]"
   ]
  },
  {
   "cell_type": "code",
   "execution_count": 119,
   "metadata": {
    "execution": {
     "iopub.execute_input": "2021-01-08T11:55:55.092661Z",
     "iopub.status.busy": "2021-01-08T11:55:55.092417Z",
     "iopub.status.idle": "2021-01-08T11:55:55.098072Z",
     "shell.execute_reply": "2021-01-08T11:55:55.097015Z",
     "shell.execute_reply.started": "2021-01-08T11:55:55.092636Z"
    }
   },
   "outputs": [
    {
     "name": "stderr",
     "output_type": "stream",
     "text": [
      "<ipython-input-119-c62cf4f7ba8b>:1: FutureWarning: The default value of regex will change from True to False in a future version.\n",
      "  R2 = df[\"R2\"].str.replace(\".ab1\", \".fastq\")[0]\n"
     ]
    }
   ],
   "source": [
    "R2 = df[\"R2\"].str.replace(\".ab1\", \".fastq\")[0]"
   ]
  },
  {
   "cell_type": "code",
   "execution_count": 118,
   "metadata": {
    "execution": {
     "iopub.execute_input": "2021-01-08T11:55:43.921790Z",
     "iopub.status.busy": "2021-01-08T11:55:43.921496Z",
     "iopub.status.idle": "2021-01-08T11:55:43.927896Z",
     "shell.execute_reply": "2021-01-08T11:55:43.926834Z",
     "shell.execute_reply.started": "2021-01-08T11:55:43.921760Z"
    }
   },
   "outputs": [
    {
     "data": {
      "text/plain": [
       "'/mnt/d/Lab/16S-Taxa-Phlyo/test_data/DA_164__27F__F03_2009041343G.fastq'"
      ]
     },
     "execution_count": 118,
     "metadata": {},
     "output_type": "execute_result"
    }
   ],
   "source": [
    "R1"
   ]
  },
  {
   "cell_type": "code",
   "execution_count": 120,
   "metadata": {
    "execution": {
     "iopub.execute_input": "2021-01-08T11:56:14.116590Z",
     "iopub.status.busy": "2021-01-08T11:56:14.116272Z",
     "iopub.status.idle": "2021-01-08T11:56:14.120833Z",
     "shell.execute_reply": "2021-01-08T11:56:14.119794Z",
     "shell.execute_reply.started": "2021-01-08T11:56:14.116559Z"
    }
   },
   "outputs": [],
   "source": [
    "prefix = \"DA_164\""
   ]
  },
  {
   "cell_type": "code",
   "execution_count": 128,
   "metadata": {
    "execution": {
     "iopub.execute_input": "2021-01-08T11:59:27.873402Z",
     "iopub.status.busy": "2021-01-08T11:59:27.873170Z",
     "iopub.status.idle": "2021-01-08T11:59:28.352340Z",
     "shell.execute_reply": "2021-01-08T11:59:28.351243Z",
     "shell.execute_reply.started": "2021-01-08T11:59:27.873378Z"
    }
   },
   "outputs": [
    {
     "name": "stdout",
     "output_type": "stream",
     "text": [
      "fastp -i /mnt/d/Lab/16S-Taxa-Phlyo/test_data/DA_164__27F__F03_2009041343G.fastq -I /mnt/d/Lab/16S-Taxa-Phlyo/test_data/DA_164__1492R__F06_2009041343G.fastq -o /mnt/d/Lab/16S-Taxa-Phlyo/test_out/trim/DA_164_R1.fastq -O /mnt/d/Lab/16S-Taxa-Phlyo/test_out/trim/DA_164_R2.fastq --trim_front1 30 --max_len1 750 --trim_front2 30 --max_len2 750 --cut_front --cut_tail --cut_window_size 20 --cut_mean_quality 30 --merge --merged_out /mnt/d/Lab/16S-Taxa-Phlyo/test_out/merge/DA_164.fastq --correction --overlap_len_require 30 --html /mnt/d/Lab/16S-Taxa-Phlyo/test_out/fastp/DA_164.html --report_title DA_164-fastq-merge-report\n"
     ]
    }
   ],
   "source": [
    "RunFastp(R1, R2, prefix, OutDir)"
   ]
  },
  {
   "cell_type": "markdown",
   "metadata": {},
   "source": [
    "```shell\n",
    "fastp -i DA_164_R1.fastq -I DA_164_R2.fastq -o trim/DA_164_trim_R1.fastq -O trim/DA_164_trim_R2.fastq \\\n",
    "--trim_front1 30 --max_len1 750 --trim_front2 30 --max_len2 750 \\\n",
    "--cut_front --cut_tail --cut_window_size 20 --cut_mean_quality 30 \\\n",
    "--merge --merged_out trim/DA_164_merge.fastq\\\n",
    "--correction --overlap_len_require 30 --html DA_164.html --report_title DA_164-fastq-merge\n",
    "```"
   ]
  },
  {
   "cell_type": "markdown",
   "metadata": {},
   "source": [
    "```shell\n",
    "fastp -i /mnt/d/Lab/16S-Taxa-Phlyo/test_data/DA_164__27F__F03_2009041343G.fastq -I /mnt/d/Lab/16S-Taxa-Phlyo/test_data/DA_164__1492R__F06_2009041343G.fastq -o /mnt/d/Lab/16S-Taxa-Phlyo/test_out/trim/DA_164_R1.fastq -O /mnt/d/Lab/16S-Taxa-Phlyo/test_out/trim/DA_164_R2.fastq --trim_front1 30 --max_len1 750 --trim_front2 30 --max_len2 750 --cut_front --cut_tail --cut_window_size 20 --cut_mean_quality 30 --merge --merged_out /mnt/d/Lab/16S-Taxa-Phlyo/test_out/merge/DA_164.fastq --correction --overlap_len_require 30 --html /mnt/d/Lab/16S-Taxa-Phlyo/test_out/fastp/DA_164.html --report_title DA_164-fastq-merge-report\n",
    "```"
   ]
  },
  {
   "cell_type": "markdown",
   "metadata": {},
   "source": [
    "路径没问题，那就是fastq转换有问题了？"
   ]
  },
  {
   "cell_type": "markdown",
   "metadata": {},
   "source": [
    "```shell\n",
    "fastp -i DA_164_R1.fastq -I DA_164_R2.fastq -o /mnt/d/Lab/16S-Taxa-Phlyo/test_out/trim/DA_164_R1.fastq -O /mnt/d/Lab/16S-Taxa-Phlyo/test_out/trim/DA_164_R2.fastq --trim_front1 30 --max_len1 750 --trim_front2 30 --max_len2 750 --cut_front --cut_tail --cut_window_size 20 --cut_mean_quality 30 --merge --merged_out /mnt/d/Lab/16S-Taxa-Phlyo/test_out/merge/DA_164.fastq --correction --overlap_len_require 30 --html /mnt/d/Lab/16S-Taxa-Phlyo/test_out/fastp/DA_164.html --report_title DA_164-fastq-merge-report\n",
    "```"
   ]
  },
  {
   "cell_type": "code",
   "execution_count": null,
   "metadata": {},
   "outputs": [],
   "source": []
  },
  {
   "cell_type": "code",
   "execution_count": null,
   "metadata": {},
   "outputs": [],
   "source": [
    "--unpaired1\n",
    "--unpaired2"
   ]
  },
  {
   "cell_type": "code",
   "execution_count": null,
   "metadata": {},
   "outputs": [],
   "source": [
    "fastp -i DA_164_R1.fastq -I DA_164_R2.fastq -o trim/DA_164_trim_R1.fastq -O trim/DA_164_trim_R2.fastq --cut_front --cut_tail --cut_window_size 20 --cut_mean_quality 30"
   ]
  },
  {
   "cell_type": "code",
   "execution_count": null,
   "metadata": {},
   "outputs": [],
   "source": [
    "fastp -i DA_164_R1.fastq -I DA_164_R2.fastq -o trim/DA_164_trim_R1.fastq -O trim/DA_164_trim_R2.fastq --qualified_quality_phred 30"
   ]
  },
  {
   "cell_type": "code",
   "execution_count": null,
   "metadata": {},
   "outputs": [],
   "source": [
    "#ERROR: the mean quality requirement for cutting by quality (--cut_mean_quality) should be 1 ~ 30, suggest 15 ~ 20."
   ]
  },
  {
   "cell_type": "markdown",
   "metadata": {},
   "source": [
    "前面的质量还不是很好"
   ]
  },
  {
   "cell_type": "code",
   "execution_count": null,
   "metadata": {},
   "outputs": [],
   "source": [
    "fastp -i DA_164_R1.fastq -I DA_164_R2.fastq -o trim/DA_164_trim_R1.fastq -O trim/DA_164_trim_R2.fastq"
   ]
  },
  {
   "cell_type": "code",
   "execution_count": null,
   "metadata": {},
   "outputs": [],
   "source": [
    "output:--html --report_title string"
   ]
  },
  {
   "cell_type": "markdown",
   "metadata": {},
   "source": [
    "#### base correction for PE data"
   ]
  },
  {
   "cell_type": "code",
   "execution_count": null,
   "metadata": {},
   "outputs": [],
   "source": [
    "--correction"
   ]
  },
  {
   "cell_type": "markdown",
   "metadata": {},
   "source": [
    "#### merge paired-end reads"
   ]
  },
  {
   "cell_type": "code",
   "execution_count": null,
   "metadata": {},
   "outputs": [],
   "source": [
    "If you want to trim the reads to maximum length, you can specify -b, --max_len1 for read1, and -B, --max_len2 for read2."
   ]
  },
  {
   "cell_type": "markdown",
   "metadata": {},
   "source": [
    "```shell\n",
    "-O, --out2                           read2 output file name (string [=])\n",
    "      --unpaired1                      for PE input, if read1 passed QC but read2 not, it will be written to unpaired1. Default is to discard it. (string [=])\n",
    "      --unpaired2                      for PE input, if read2 passed QC but read1 not, it will be written to unpaired2. If --unpaired2 is same as --unpaired1 (default mode), both unpaired reads will be written to this same file. (string [=])\n",
    "      --failed_out                     specify the file to store reads that cannot pass the filters. (string [=])\n",
    "      --overlapped_out                 for each read pair, output the overlapped region if it has no any mismatched base. (string [=])\n",
    "-m, --merge                          for paired-end input, merge each pair of reads into a single read if they are overlapped. The merged reads will be written to the file given by --merged_out, the unmerged reads will be written to the files specified by --out1 and --out2. The merging mode is disabled by default.\n",
    "      --merged_out                     in the merging mode, specify the file name to store merged output, or specify --stdout to stream the merged output (string [=])\n",
    "      --include_unmerged               in the merging mode, write the unmerged or unpaired reads to the file specified by --merge. Disabled by default.\n",
    "```"
   ]
  },
  {
   "cell_type": "code",
   "execution_count": null,
   "metadata": {},
   "outputs": [],
   "source": []
  }
 ],
 "metadata": {
  "kernelspec": {
   "display_name": "Python 3",
   "language": "python",
   "name": "python3"
  },
  "language_info": {
   "codemirror_mode": {
    "name": "ipython",
    "version": 3
   },
   "file_extension": ".py",
   "mimetype": "text/x-python",
   "name": "python",
   "nbconvert_exporter": "python",
   "pygments_lexer": "ipython3",
   "version": "3.8.6"
  }
 },
 "nbformat": 4,
 "nbformat_minor": 4
}
