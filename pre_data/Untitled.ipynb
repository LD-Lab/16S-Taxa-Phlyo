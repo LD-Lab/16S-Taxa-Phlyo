{
 "cells": [
  {
   "cell_type": "code",
   "execution_count": null,
   "metadata": {},
   "outputs": [],
   "source": []
  },
  {
   "cell_type": "code",
   "execution_count": 48,
   "metadata": {
    "execution": {
     "iopub.execute_input": "2021-01-08T10:31:27.846505Z",
     "iopub.status.busy": "2021-01-08T10:31:27.846270Z",
     "iopub.status.idle": "2021-01-08T10:31:28.295655Z",
     "shell.execute_reply": "2021-01-08T10:31:28.294715Z",
     "shell.execute_reply.started": "2021-01-08T10:31:27.846481Z"
    }
   },
   "outputs": [],
   "source": [
    "import os\n",
    "import re\n",
    "import pandas as pd"
   ]
  },
  {
   "cell_type": "code",
   "execution_count": 90,
   "metadata": {
    "execution": {
     "iopub.execute_input": "2021-01-08T11:27:40.348426Z",
     "iopub.status.busy": "2021-01-08T11:27:40.348112Z",
     "iopub.status.idle": "2021-01-08T11:27:40.355692Z",
     "shell.execute_reply": "2021-01-08T11:27:40.354407Z",
     "shell.execute_reply.started": "2021-01-08T11:27:40.348398Z"
    }
   },
   "outputs": [],
   "source": [
    "import os\n",
    "import argparse\n",
    "import subprocess\n",
    "from Bio import SeqIO"
   ]
  },
  {
   "cell_type": "code",
   "execution_count": 91,
   "metadata": {
    "execution": {
     "iopub.execute_input": "2021-01-08T11:27:41.829245Z",
     "iopub.status.busy": "2021-01-08T11:27:41.828970Z",
     "iopub.status.idle": "2021-01-08T11:27:41.845521Z",
     "shell.execute_reply": "2021-01-08T11:27:41.844509Z",
     "shell.execute_reply.started": "2021-01-08T11:27:41.829218Z"
    }
   },
   "outputs": [],
   "source": [
    "from itertools import repeat\n",
    "from multiprocessing import Pool, freeze_support"
   ]
  },
  {
   "cell_type": "code",
   "execution_count": 19,
   "metadata": {
    "execution": {
     "iopub.execute_input": "2021-01-08T09:22:16.124461Z",
     "iopub.status.busy": "2021-01-08T09:22:16.124240Z",
     "iopub.status.idle": "2021-01-08T09:22:16.134103Z",
     "shell.execute_reply": "2021-01-08T09:22:16.132845Z",
     "shell.execute_reply.started": "2021-01-08T09:22:16.124439Z"
    }
   },
   "outputs": [],
   "source": [
    "InDir = \"/mnt/d/Lab/16S-Taxa-Phlyo/test_data\""
   ]
  },
  {
   "cell_type": "code",
   "execution_count": 26,
   "metadata": {
    "execution": {
     "iopub.execute_input": "2021-01-08T09:29:25.378725Z",
     "iopub.status.busy": "2021-01-08T09:29:25.378420Z",
     "iopub.status.idle": "2021-01-08T09:29:25.384331Z",
     "shell.execute_reply": "2021-01-08T09:29:25.382563Z",
     "shell.execute_reply.started": "2021-01-08T09:29:25.378694Z"
    }
   },
   "outputs": [],
   "source": [
    "file = \"DA_164__1492R__F06_2009041343G.ab1\""
   ]
  },
  {
   "cell_type": "code",
   "execution_count": 27,
   "metadata": {
    "execution": {
     "iopub.execute_input": "2021-01-08T09:29:25.655392Z",
     "iopub.status.busy": "2021-01-08T09:29:25.655107Z",
     "iopub.status.idle": "2021-01-08T09:29:25.660012Z",
     "shell.execute_reply": "2021-01-08T09:29:25.658758Z",
     "shell.execute_reply.started": "2021-01-08T09:29:25.655365Z"
    }
   },
   "outputs": [],
   "source": [
    "filestr = re.sub(\"[-()[\\]]\", \"_\", file)"
   ]
  },
  {
   "cell_type": "code",
   "execution_count": 28,
   "metadata": {
    "execution": {
     "iopub.execute_input": "2021-01-08T09:29:26.118895Z",
     "iopub.status.busy": "2021-01-08T09:29:26.118455Z",
     "iopub.status.idle": "2021-01-08T09:29:26.128120Z",
     "shell.execute_reply": "2021-01-08T09:29:26.126094Z",
     "shell.execute_reply.started": "2021-01-08T09:29:26.118853Z"
    }
   },
   "outputs": [
    {
     "data": {
      "text/plain": [
       "'DA_164__1492R__F06_2009041343G.ab1'"
      ]
     },
     "execution_count": 28,
     "metadata": {},
     "output_type": "execute_result"
    }
   ],
   "source": [
    "filestr"
   ]
  },
  {
   "cell_type": "code",
   "execution_count": 29,
   "metadata": {
    "execution": {
     "iopub.execute_input": "2021-01-08T09:29:27.776824Z",
     "iopub.status.busy": "2021-01-08T09:29:27.776556Z",
     "iopub.status.idle": "2021-01-08T09:29:27.781589Z",
     "shell.execute_reply": "2021-01-08T09:29:27.780492Z",
     "shell.execute_reply.started": "2021-01-08T09:29:27.776798Z"
    }
   },
   "outputs": [],
   "source": [
    "filestr = re.sub(\"\\.\", \"__\", filestr)"
   ]
  },
  {
   "cell_type": "code",
   "execution_count": 30,
   "metadata": {
    "execution": {
     "iopub.execute_input": "2021-01-08T09:29:28.818852Z",
     "iopub.status.busy": "2021-01-08T09:29:28.818525Z",
     "iopub.status.idle": "2021-01-08T09:29:28.827067Z",
     "shell.execute_reply": "2021-01-08T09:29:28.825498Z",
     "shell.execute_reply.started": "2021-01-08T09:29:28.818815Z"
    }
   },
   "outputs": [
    {
     "data": {
      "text/plain": [
       "'DA_164__1492R__F06_2009041343G__ab1'"
      ]
     },
     "execution_count": 30,
     "metadata": {},
     "output_type": "execute_result"
    }
   ],
   "source": [
    "filestr"
   ]
  },
  {
   "cell_type": "code",
   "execution_count": 78,
   "metadata": {
    "execution": {
     "iopub.execute_input": "2021-01-08T11:21:20.901768Z",
     "iopub.status.busy": "2021-01-08T11:21:20.901535Z",
     "iopub.status.idle": "2021-01-08T11:21:20.907675Z",
     "shell.execute_reply": "2021-01-08T11:21:20.906820Z",
     "shell.execute_reply.started": "2021-01-08T11:21:20.901747Z"
    }
   },
   "outputs": [],
   "source": [
    "def manifest(InDir):\n",
    "    R1List = []\n",
    "    R2List = []\n",
    "    IdList = []\n",
    "    df = pd.DataFrame()\n",
    "    # Find all forward sequence files and reverse sequence files\n",
    "    for subdir, dirs, files in os.walk(InDir):\n",
    "        for file in files:\n",
    "            filePath = os.path.join(subdir, file)\n",
    "            if file.endswith(\".ab1\") and os.path.getsize(filePath) > 0:\n",
    "                SampleInfo = file.split(\"__\")\n",
    "                if SampleInfo[1].endswith(\"F\"):\n",
    "                    R1List.append(filePath)\n",
    "                    IdList.append(SampleInfo[0])\n",
    "                elif SampleInfo[1].endswith(\"R\"):\n",
    "                    R2List.append(filePath)\n",
    "    df[\"SampleID\"] = IdList\n",
    "    df[\"R1\"] = R1List\n",
    "    df[\"R2\"] = R2List\n",
    "    return df"
   ]
  },
  {
   "cell_type": "code",
   "execution_count": 79,
   "metadata": {
    "execution": {
     "iopub.execute_input": "2021-01-08T11:21:21.425525Z",
     "iopub.status.busy": "2021-01-08T11:21:21.425247Z",
     "iopub.status.idle": "2021-01-08T11:21:21.445953Z",
     "shell.execute_reply": "2021-01-08T11:21:21.445160Z",
     "shell.execute_reply.started": "2021-01-08T11:21:21.425500Z"
    }
   },
   "outputs": [],
   "source": [
    "df = manifest(InDir)"
   ]
  },
  {
   "cell_type": "code",
   "execution_count": 80,
   "metadata": {
    "execution": {
     "iopub.execute_input": "2021-01-08T11:21:22.728298Z",
     "iopub.status.busy": "2021-01-08T11:21:22.727930Z",
     "iopub.status.idle": "2021-01-08T11:21:22.742175Z",
     "shell.execute_reply": "2021-01-08T11:21:22.740930Z",
     "shell.execute_reply.started": "2021-01-08T11:21:22.728253Z"
    }
   },
   "outputs": [
    {
     "data": {
      "text/html": [
       "<div>\n",
       "<style scoped>\n",
       "    .dataframe tbody tr th:only-of-type {\n",
       "        vertical-align: middle;\n",
       "    }\n",
       "\n",
       "    .dataframe tbody tr th {\n",
       "        vertical-align: top;\n",
       "    }\n",
       "\n",
       "    .dataframe thead th {\n",
       "        text-align: right;\n",
       "    }\n",
       "</style>\n",
       "<table border=\"1\" class=\"dataframe\">\n",
       "  <thead>\n",
       "    <tr style=\"text-align: right;\">\n",
       "      <th></th>\n",
       "      <th>SampleID</th>\n",
       "      <th>R1</th>\n",
       "      <th>R2</th>\n",
       "    </tr>\n",
       "  </thead>\n",
       "  <tbody>\n",
       "    <tr>\n",
       "      <th>0</th>\n",
       "      <td>DA_164</td>\n",
       "      <td>/mnt/d/Lab/16S-Taxa-Phlyo/test_data/DA_164__27...</td>\n",
       "      <td>/mnt/d/Lab/16S-Taxa-Phlyo/test_data/DA_164__14...</td>\n",
       "    </tr>\n",
       "    <tr>\n",
       "      <th>1</th>\n",
       "      <td>DA_24</td>\n",
       "      <td>/mnt/d/Lab/16S-Taxa-Phlyo/test_data/DA_24__27F...</td>\n",
       "      <td>/mnt/d/Lab/16S-Taxa-Phlyo/test_data/DA_24__149...</td>\n",
       "    </tr>\n",
       "    <tr>\n",
       "      <th>2</th>\n",
       "      <td>DA_251</td>\n",
       "      <td>/mnt/d/Lab/16S-Taxa-Phlyo/test_data/DA_251__27...</td>\n",
       "      <td>/mnt/d/Lab/16S-Taxa-Phlyo/test_data/DA_251__14...</td>\n",
       "    </tr>\n",
       "    <tr>\n",
       "      <th>3</th>\n",
       "      <td>DA_252</td>\n",
       "      <td>/mnt/d/Lab/16S-Taxa-Phlyo/test_data/DA_252__27...</td>\n",
       "      <td>/mnt/d/Lab/16S-Taxa-Phlyo/test_data/DA_252__14...</td>\n",
       "    </tr>\n",
       "  </tbody>\n",
       "</table>\n",
       "</div>"
      ],
      "text/plain": [
       "  SampleID                                                 R1  \\\n",
       "0   DA_164  /mnt/d/Lab/16S-Taxa-Phlyo/test_data/DA_164__27...   \n",
       "1    DA_24  /mnt/d/Lab/16S-Taxa-Phlyo/test_data/DA_24__27F...   \n",
       "2   DA_251  /mnt/d/Lab/16S-Taxa-Phlyo/test_data/DA_251__27...   \n",
       "3   DA_252  /mnt/d/Lab/16S-Taxa-Phlyo/test_data/DA_252__27...   \n",
       "\n",
       "                                                  R2  \n",
       "0  /mnt/d/Lab/16S-Taxa-Phlyo/test_data/DA_164__14...  \n",
       "1  /mnt/d/Lab/16S-Taxa-Phlyo/test_data/DA_24__149...  \n",
       "2  /mnt/d/Lab/16S-Taxa-Phlyo/test_data/DA_251__14...  \n",
       "3  /mnt/d/Lab/16S-Taxa-Phlyo/test_data/DA_252__14...  "
      ]
     },
     "execution_count": 80,
     "metadata": {},
     "output_type": "execute_result"
    }
   ],
   "source": [
    "df"
   ]
  },
  {
   "cell_type": "code",
   "execution_count": null,
   "metadata": {},
   "outputs": [],
   "source": []
  },
  {
   "cell_type": "code",
   "execution_count": 59,
   "metadata": {
    "execution": {
     "iopub.execute_input": "2021-01-08T10:40:15.505708Z",
     "iopub.status.busy": "2021-01-08T10:40:15.505427Z",
     "iopub.status.idle": "2021-01-08T10:40:15.511173Z",
     "shell.execute_reply": "2021-01-08T10:40:15.509702Z",
     "shell.execute_reply.started": "2021-01-08T10:40:15.505682Z"
    }
   },
   "outputs": [],
   "source": [
    "import collections"
   ]
  },
  {
   "cell_type": "code",
   "execution_count": 74,
   "metadata": {
    "execution": {
     "iopub.execute_input": "2021-01-08T11:14:05.806642Z",
     "iopub.status.busy": "2021-01-08T11:14:05.806237Z",
     "iopub.status.idle": "2021-01-08T11:14:05.812522Z",
     "shell.execute_reply": "2021-01-08T11:14:05.810936Z",
     "shell.execute_reply.started": "2021-01-08T11:14:05.806603Z"
    }
   },
   "outputs": [],
   "source": [
    "SampleList = collections.defaultdict(list)"
   ]
  },
  {
   "cell_type": "code",
   "execution_count": 75,
   "metadata": {
    "execution": {
     "iopub.execute_input": "2021-01-08T11:14:06.246618Z",
     "iopub.status.busy": "2021-01-08T11:14:06.246267Z",
     "iopub.status.idle": "2021-01-08T11:14:06.254074Z",
     "shell.execute_reply": "2021-01-08T11:14:06.252711Z",
     "shell.execute_reply.started": "2021-01-08T11:14:06.246586Z"
    }
   },
   "outputs": [
    {
     "data": {
      "text/plain": [
       "defaultdict(list, {})"
      ]
     },
     "execution_count": 75,
     "metadata": {},
     "output_type": "execute_result"
    }
   ],
   "source": [
    "SampleList"
   ]
  },
  {
   "cell_type": "code",
   "execution_count": 76,
   "metadata": {
    "execution": {
     "iopub.execute_input": "2021-01-08T11:14:06.798582Z",
     "iopub.status.busy": "2021-01-08T11:14:06.798075Z",
     "iopub.status.idle": "2021-01-08T11:14:06.813935Z",
     "shell.execute_reply": "2021-01-08T11:14:06.812823Z",
     "shell.execute_reply.started": "2021-01-08T11:14:06.798536Z"
    }
   },
   "outputs": [],
   "source": [
    "for subdir, dirs, files in os.walk(InDir):\n",
    "    for file in files:\n",
    "        filePath = os.path.join(subdir, file)\n",
    "        if file.endswith(\".ab1\") and os.path.getsize(filePath) > 0:\n",
    "            info = file.split(\"__\")\n",
    "            if info[1].endswith(\"F\"):\n",
    "                SampleList[info[0]].append(filePath)\n",
    "            elif info[1].endswith(\"R\"):\n",
    "                SampleList[info[0]].append(filePath)"
   ]
  },
  {
   "cell_type": "code",
   "execution_count": 77,
   "metadata": {
    "execution": {
     "iopub.execute_input": "2021-01-08T11:14:07.243321Z",
     "iopub.status.busy": "2021-01-08T11:14:07.242966Z",
     "iopub.status.idle": "2021-01-08T11:14:07.251168Z",
     "shell.execute_reply": "2021-01-08T11:14:07.249502Z",
     "shell.execute_reply.started": "2021-01-08T11:14:07.243273Z"
    }
   },
   "outputs": [
    {
     "data": {
      "text/plain": [
       "defaultdict(list,\n",
       "            {'DA_164': ['/mnt/d/Lab/16S-Taxa-Phlyo/test_data/DA_164__1492R__F06_2009041343G.ab1',\n",
       "              '/mnt/d/Lab/16S-Taxa-Phlyo/test_data/DA_164__27F__F03_2009041343G.ab1'],\n",
       "             'DA_24': ['/mnt/d/Lab/16S-Taxa-Phlyo/test_data/DA_24__1492R__E06_2009041339G.ab1',\n",
       "              '/mnt/d/Lab/16S-Taxa-Phlyo/test_data/DA_24__27F__E03_2009041339G.ab1'],\n",
       "             'DA_251': ['/mnt/d/Lab/16S-Taxa-Phlyo/test_data/DA_251__1492R__G06_2009041345G.ab1',\n",
       "              '/mnt/d/Lab/16S-Taxa-Phlyo/test_data/DA_251__27F__G03_2009041345G.ab1'],\n",
       "             'DA_252': ['/mnt/d/Lab/16S-Taxa-Phlyo/test_data/DA_252__1492R__H06_2009041346G.ab1',\n",
       "              '/mnt/d/Lab/16S-Taxa-Phlyo/test_data/DA_252__27F__H03_2009041346G.ab1']})"
      ]
     },
     "execution_count": 77,
     "metadata": {},
     "output_type": "execute_result"
    }
   ],
   "source": [
    "SampleList"
   ]
  },
  {
   "cell_type": "code",
   "execution_count": null,
   "metadata": {},
   "outputs": [],
   "source": []
  },
  {
   "cell_type": "markdown",
   "metadata": {},
   "source": [
    "## ABI to fastq"
   ]
  },
  {
   "cell_type": "code",
   "execution_count": 11,
   "metadata": {
    "execution": {
     "iopub.execute_input": "2021-01-08T07:41:55.879458Z",
     "iopub.status.busy": "2021-01-08T07:41:55.879209Z",
     "iopub.status.idle": "2021-01-08T07:41:55.883275Z",
     "shell.execute_reply": "2021-01-08T07:41:55.882256Z",
     "shell.execute_reply.started": "2021-01-08T07:41:55.879436Z"
    }
   },
   "outputs": [],
   "source": [
    "ab1 = \"/mnt/d/Lab/16S-Taxa-Phlyo/test_data/DA_164__1492R__F06_2009041343G.ab1\""
   ]
  },
  {
   "cell_type": "code",
   "execution_count": 9,
   "metadata": {
    "execution": {
     "iopub.execute_input": "2021-01-08T07:41:29.800501Z",
     "iopub.status.busy": "2021-01-08T07:41:29.800240Z",
     "iopub.status.idle": "2021-01-08T07:41:29.804835Z",
     "shell.execute_reply": "2021-01-08T07:41:29.803858Z",
     "shell.execute_reply.started": "2021-01-08T07:41:29.800474Z"
    }
   },
   "outputs": [],
   "source": [
    "ab1 = \"/mnt/d/Lab/16S-Taxa-Phlyo/test_data/DA_164__27F__F03_2009041343G.ab1\""
   ]
  },
  {
   "cell_type": "code",
   "execution_count": 12,
   "metadata": {
    "execution": {
     "iopub.execute_input": "2021-01-08T07:42:01.146207Z",
     "iopub.status.busy": "2021-01-08T07:42:01.145897Z",
     "iopub.status.idle": "2021-01-08T07:42:01.188642Z",
     "shell.execute_reply": "2021-01-08T07:42:01.187710Z",
     "shell.execute_reply.started": "2021-01-08T07:42:01.146169Z"
    }
   },
   "outputs": [],
   "source": [
    "from Bio import SeqIO\n",
    "record = SeqIO.parse(ab1, \"abi\")\n",
    "count = SeqIO.write(record, \"/mnt/d/Lab/16S-Taxa-Phlyo/test_out/DA_164_R2.fastq\", \"fastq\")"
   ]
  },
  {
   "cell_type": "code",
   "execution_count": 17,
   "metadata": {
    "execution": {
     "iopub.execute_input": "2021-01-08T09:09:02.968300Z",
     "iopub.status.busy": "2021-01-08T09:09:02.961458Z",
     "iopub.status.idle": "2021-01-08T09:09:03.100898Z",
     "shell.execute_reply": "2021-01-08T09:09:03.099024Z",
     "shell.execute_reply.started": "2021-01-08T09:09:02.967929Z"
    }
   },
   "outputs": [
    {
     "data": {
      "text/plain": [
       "1"
      ]
     },
     "execution_count": 17,
     "metadata": {},
     "output_type": "execute_result"
    }
   ],
   "source": [
    "from Bio import SeqIO\n",
    "SeqIO.convert(ab1, \"abi\", \"/mnt/d/Lab/16S-Taxa-Phlyo/test_out/DA_164_R2_convert.fastq\", \"fastq\")"
   ]
  },
  {
   "cell_type": "code",
   "execution_count": 81,
   "metadata": {
    "execution": {
     "iopub.execute_input": "2021-01-08T11:25:13.690425Z",
     "iopub.status.busy": "2021-01-08T11:25:13.689950Z",
     "iopub.status.idle": "2021-01-08T11:25:13.695844Z",
     "shell.execute_reply": "2021-01-08T11:25:13.694760Z",
     "shell.execute_reply.started": "2021-01-08T11:25:13.690376Z"
    }
   },
   "outputs": [],
   "source": [
    "def ABI2Fastq(abi, fastq):\n",
    "    SeqIO.convert(ab1, \"abi\", fastq, \"fastq\")"
   ]
  },
  {
   "cell_type": "code",
   "execution_count": 93,
   "metadata": {
    "execution": {
     "iopub.execute_input": "2021-01-08T11:28:49.929179Z",
     "iopub.status.busy": "2021-01-08T11:28:49.928664Z",
     "iopub.status.idle": "2021-01-08T11:28:49.937755Z",
     "shell.execute_reply": "2021-01-08T11:28:49.936089Z",
     "shell.execute_reply.started": "2021-01-08T11:28:49.929111Z"
    }
   },
   "outputs": [],
   "source": [
    "def ABI2FastqParallel(abiList, fastqList):\n",
    "    pool = Pool(processes = 4)\n",
    "    pool.starmap(ABI2Fastq, zip(abiList, fastqList))\n",
    "    pool.close()\n",
    "    pool.join()\n",
    "    pool.terminate()"
   ]
  },
  {
   "cell_type": "code",
   "execution_count": 98,
   "metadata": {
    "execution": {
     "iopub.execute_input": "2021-01-08T11:29:06.460409Z",
     "iopub.status.busy": "2021-01-08T11:29:06.459935Z",
     "iopub.status.idle": "2021-01-08T11:29:06.469421Z",
     "shell.execute_reply": "2021-01-08T11:29:06.467348Z",
     "shell.execute_reply.started": "2021-01-08T11:29:06.460372Z"
    }
   },
   "outputs": [
    {
     "data": {
      "text/plain": [
       "['/mnt/d/Lab/16S-Taxa-Phlyo/test_data/DA_164__27F__F03_2009041343G.ab1',\n",
       " '/mnt/d/Lab/16S-Taxa-Phlyo/test_data/DA_24__27F__E03_2009041339G.ab1',\n",
       " '/mnt/d/Lab/16S-Taxa-Phlyo/test_data/DA_251__27F__G03_2009041345G.ab1',\n",
       " '/mnt/d/Lab/16S-Taxa-Phlyo/test_data/DA_252__27F__H03_2009041346G.ab1']"
      ]
     },
     "execution_count": 98,
     "metadata": {},
     "output_type": "execute_result"
    }
   ],
   "source": [
    "list(df[\"R1\"])"
   ]
  },
  {
   "cell_type": "code",
   "execution_count": 99,
   "metadata": {
    "execution": {
     "iopub.execute_input": "2021-01-08T11:29:16.295908Z",
     "iopub.status.busy": "2021-01-08T11:29:16.295634Z",
     "iopub.status.idle": "2021-01-08T11:29:16.305605Z",
     "shell.execute_reply": "2021-01-08T11:29:16.304318Z",
     "shell.execute_reply.started": "2021-01-08T11:29:16.295881Z"
    }
   },
   "outputs": [
    {
     "name": "stderr",
     "output_type": "stream",
     "text": [
      "<ipython-input-99-bc2e443c12df>:1: FutureWarning: The default value of regex will change from True to False in a future version.\n",
      "  list(df[\"R1\"].str.replace(\".ab1\", \".fastq\"))\n"
     ]
    },
    {
     "data": {
      "text/plain": [
       "['/mnt/d/Lab/16S-Taxa-Phlyo/test_data/DA_164__27F__F03_2009041343G.fastq',\n",
       " '/mnt/d/Lab/16S-Taxa-Phlyo/test_data/DA_24__27F__E03_2009041339G.fastq',\n",
       " '/mnt/d/Lab/16S-Taxa-Phlyo/test_data/DA_251__27F__G03_2009041345G.fastq',\n",
       " '/mnt/d/Lab/16S-Taxa-Phlyo/test_data/DA_252__27F__H03_2009041346G.fastq']"
      ]
     },
     "execution_count": 99,
     "metadata": {},
     "output_type": "execute_result"
    }
   ],
   "source": [
    "list(df[\"R1\"].str.replace(\".ab1\", \".fastq\"))"
   ]
  },
  {
   "cell_type": "code",
   "execution_count": 100,
   "metadata": {
    "execution": {
     "iopub.execute_input": "2021-01-08T11:29:30.421583Z",
     "iopub.status.busy": "2021-01-08T11:29:30.421205Z",
     "iopub.status.idle": "2021-01-08T11:29:30.584644Z",
     "shell.execute_reply": "2021-01-08T11:29:30.583584Z",
     "shell.execute_reply.started": "2021-01-08T11:29:30.421547Z"
    }
   },
   "outputs": [
    {
     "name": "stderr",
     "output_type": "stream",
     "text": [
      "<ipython-input-100-90c72fb9313b>:1: FutureWarning: The default value of regex will change from True to False in a future version.\n",
      "  ABI2FastqParallel(df[\"R1\"], df[\"R1\"].str.replace(\".ab1\", \".fastq\"))\n"
     ]
    }
   ],
   "source": [
    "ABI2FastqParallel(df[\"R1\"], df[\"R1\"].str.replace(\".ab1\", \".fastq\"))"
   ]
  },
  {
   "cell_type": "code",
   "execution_count": 101,
   "metadata": {
    "execution": {
     "iopub.execute_input": "2021-01-08T11:30:06.660139Z",
     "iopub.status.busy": "2021-01-08T11:30:06.659839Z",
     "iopub.status.idle": "2021-01-08T11:30:06.792338Z",
     "shell.execute_reply": "2021-01-08T11:30:06.791192Z",
     "shell.execute_reply.started": "2021-01-08T11:30:06.660108Z"
    }
   },
   "outputs": [
    {
     "name": "stderr",
     "output_type": "stream",
     "text": [
      "<ipython-input-101-5851f60940b7>:1: FutureWarning: The default value of regex will change from True to False in a future version.\n",
      "  ABI2FastqParallel(df[\"R2\"], df[\"R2\"].str.replace(\".ab1\", \".fastq\"))\n"
     ]
    }
   ],
   "source": [
    "ABI2FastqParallel(df[\"R2\"], df[\"R2\"].str.replace(\".ab1\", \".fastq\"))"
   ]
  },
  {
   "cell_type": "markdown",
   "metadata": {},
   "source": [
    "### fastqc"
   ]
  },
  {
   "cell_type": "code",
   "execution_count": null,
   "metadata": {},
   "outputs": [],
   "source": [
    "!fastqc DA_164.fastq"
   ]
  },
  {
   "cell_type": "markdown",
   "metadata": {},
   "source": [
    "## Trimming"
   ]
  },
  {
   "cell_type": "markdown",
   "metadata": {},
   "source": [
    "### fastp"
   ]
  },
  {
   "cell_type": "markdown",
   "metadata": {},
   "source": [
    "https://github.com/OpenGene/fastp"
   ]
  },
  {
   "cell_type": "code",
   "execution_count": 15,
   "metadata": {
    "execution": {
     "iopub.execute_input": "2021-01-08T07:44:08.896612Z",
     "iopub.status.busy": "2021-01-08T07:44:08.896358Z",
     "iopub.status.idle": "2021-01-08T07:44:09.017298Z",
     "shell.execute_reply": "2021-01-08T07:44:09.013443Z",
     "shell.execute_reply.started": "2021-01-08T07:44:08.896588Z"
    }
   },
   "outputs": [
    {
     "name": "stdout",
     "output_type": "stream",
     "text": [
      "/mnt/d/Lab/16S-Taxa-Phlyo/pre_data\n"
     ]
    }
   ],
   "source": [
    "!pwd"
   ]
  },
  {
   "cell_type": "code",
   "execution_count": 16,
   "metadata": {
    "execution": {
     "iopub.execute_input": "2021-01-08T07:44:10.314561Z",
     "iopub.status.busy": "2021-01-08T07:44:10.314313Z",
     "iopub.status.idle": "2021-01-08T07:44:10.434071Z",
     "shell.execute_reply": "2021-01-08T07:44:10.433033Z",
     "shell.execute_reply.started": "2021-01-08T07:44:10.314533Z"
    }
   },
   "outputs": [],
   "source": [
    "!cd ../test_out"
   ]
  },
  {
   "cell_type": "code",
   "execution_count": null,
   "metadata": {
    "execution": {
     "iopub.execute_input": "2021-01-08T07:37:21.784092Z",
     "iopub.status.busy": "2021-01-08T07:37:21.783633Z",
     "iopub.status.idle": "2021-01-08T07:37:21.906892Z",
     "shell.execute_reply": "2021-01-08T07:37:21.905561Z",
     "shell.execute_reply.started": "2021-01-08T07:37:21.784063Z"
    }
   },
   "outputs": [],
   "source": [
    "!fastp -i DA_164.fastq -o DA_164_p.fastq"
   ]
  },
  {
   "cell_type": "code",
   "execution_count": null,
   "metadata": {},
   "outputs": [],
   "source": [
    "!fastqc DA_164.fastq"
   ]
  },
  {
   "cell_type": "code",
   "execution_count": null,
   "metadata": {},
   "outputs": [],
   "source": [
    "fastp -i DA_164_R1.fastq -I DA_164_R2.fastq -o trim/DA_164_trim_R1.fastq -O trim/DA_164_trim_R2.fastq"
   ]
  },
  {
   "cell_type": "markdown",
   "metadata": {},
   "source": [
    "#### trim"
   ]
  },
  {
   "cell_type": "code",
   "execution_count": null,
   "metadata": {},
   "outputs": [],
   "source": [
    "fastp -i DA_164_R1.fastq -I DA_164_R2.fastq -o trim/DA_164_trim_R1.fastq -O trim/DA_164_trim_R2.fastq --cut_front --cut_tail --cut_window_size 10 --cut_mean_quality 30"
   ]
  },
  {
   "cell_type": "code",
   "execution_count": null,
   "metadata": {},
   "outputs": [],
   "source": [
    "fastp -i DA_164_R1.fastq -I DA_164_R2.fastq -o trim/DA_164_trim_R1.fastq -O trim/DA_164_trim_R2.fastq --cut_front --cut_tail --cut_front_window_size 10 --cut_front_mean_quality 36"
   ]
  },
  {
   "cell_type": "code",
   "execution_count": null,
   "metadata": {},
   "outputs": [],
   "source": [
    "fastp -i DA_164_R1.fastq -I DA_164_R2.fastq -o trim/DA_164_trim_R1.fastq -O trim/DA_164_trim_R2.fastq --trim_front1 30 --trim_tail1 100 --max_len1 750 --trim_front2 30 --trim_tail2 100 --max_len2 750"
   ]
  },
  {
   "cell_type": "markdown",
   "metadata": {},
   "source": [
    "```shell\n",
    "fastp -i DA_164_R1.fastq -I DA_164_R2.fastq -o trim/DA_164_trim_R1.fastq -O trim/DA_164_trim_R2.fastq \\\n",
    "--trim_front1 30 --max_len1 750 --trim_front2 30 --max_len2 750 \\\n",
    "--cut_front --cut_tail --cut_window_size 20 --cut_mean_quality 30 \\\n",
    "--merge --merged_out trim/DA_164_merge.fastq\\\n",
    "--correction --overlap_len_require 30 --html DA_164.html --report_title DA_164-fastq-merge\n",
    "```"
   ]
  },
  {
   "cell_type": "code",
   "execution_count": 129,
   "metadata": {
    "execution": {
     "iopub.execute_input": "2021-01-08T12:00:28.928338Z",
     "iopub.status.busy": "2021-01-08T12:00:28.927943Z",
     "iopub.status.idle": "2021-01-08T12:00:28.935761Z",
     "shell.execute_reply": "2021-01-08T12:00:28.934659Z",
     "shell.execute_reply.started": "2021-01-08T12:00:28.928304Z"
    }
   },
   "outputs": [],
   "source": [
    "def RunFastp(R1, R2, prefix, OutDir):\n",
    "    trimDir = os.path.join(OutDir, \"trim\")\n",
    "    mergeDir = os.path.join(OutDir, \"merge\")\n",
    "    fastpDir = os.path.join(OutDir, \"fastp\")\n",
    "    if os.path.exists(OutDir) == 0:\n",
    "        os.makedirs(OutDir, 0o777, True)\n",
    "    if os.path.exists(trimDir) == 0:\n",
    "        os.makedirs(trimDir, 0o777, True)\n",
    "    if os.path.exists(mergeDir) == 0:\n",
    "        os.makedirs(mergeDir, 0o777, True)\n",
    "    if os.path.exists(fastpDir) == 0:\n",
    "        os.makedirs(fastpDir, 0o777, True)\n",
    "    cmd = \"fastp -i \" + R1 + \" -I \" + R2 + \" -o \" + os.path.join(trimDir, prefix + \"_R1.fastq\") + \" -O \" + os.path.join(trimDir, prefix + \"_R2.fastq\") + \\\n",
    "    \" --trim_front1 30 --max_len1 750 --trim_front2 30 --max_len2 750 --cut_front --cut_tail --cut_window_size 20 --cut_mean_quality 30\" + \\\n",
    "    \" --merge --merged_out \" + os.path.join(mergeDir, prefix + \".fastq\") + \" --correction --overlap_len_require 20 --html \" + os.path.join(fastpDir, prefix + \".html\") + \\\n",
    "    \" --report_title \" + prefix + \"-fastq-merge-report\"\n",
    "    print(cmd)\n",
    "    subprocess.call(cmd, shell=True)"
   ]
  },
  {
   "cell_type": "code",
   "execution_count": 130,
   "metadata": {
    "execution": {
     "iopub.execute_input": "2021-01-08T12:00:29.308980Z",
     "iopub.status.busy": "2021-01-08T12:00:29.308608Z",
     "iopub.status.idle": "2021-01-08T12:00:29.316327Z",
     "shell.execute_reply": "2021-01-08T12:00:29.314378Z",
     "shell.execute_reply.started": "2021-01-08T12:00:29.308941Z"
    }
   },
   "outputs": [],
   "source": [
    "def RunFastpParallel(R1List, R2List, prefixList, OutDir):\n",
    "    pool = Pool(processes = 4)\n",
    "    pool.starmap(RunFastp, zip(R1List, R2List, prefixList, repeat(OutDir)))\n",
    "    pool.close()\n",
    "    pool.join()\n",
    "    pool.terminate()"
   ]
  },
  {
   "cell_type": "code",
   "execution_count": 124,
   "metadata": {
    "execution": {
     "iopub.execute_input": "2021-01-08T11:57:03.304073Z",
     "iopub.status.busy": "2021-01-08T11:57:03.303658Z",
     "iopub.status.idle": "2021-01-08T11:57:03.311788Z",
     "shell.execute_reply": "2021-01-08T11:57:03.310325Z",
     "shell.execute_reply.started": "2021-01-08T11:57:03.304030Z"
    }
   },
   "outputs": [
    {
     "name": "stderr",
     "output_type": "stream",
     "text": [
      "<ipython-input-124-c3ce5bf156a2>:1: FutureWarning: The default value of regex will change from True to False in a future version.\n",
      "  R1List = df[\"R1\"].str.replace(\".ab1\", \".fastq\")\n"
     ]
    }
   ],
   "source": [
    "R1List = df[\"R1\"].str.replace(\".ab1\", \".fastq\")"
   ]
  },
  {
   "cell_type": "code",
   "execution_count": 106,
   "metadata": {
    "execution": {
     "iopub.execute_input": "2021-01-08T11:42:50.419070Z",
     "iopub.status.busy": "2021-01-08T11:42:50.418857Z",
     "iopub.status.idle": "2021-01-08T11:42:50.424124Z",
     "shell.execute_reply": "2021-01-08T11:42:50.423113Z",
     "shell.execute_reply.started": "2021-01-08T11:42:50.419049Z"
    }
   },
   "outputs": [
    {
     "name": "stderr",
     "output_type": "stream",
     "text": [
      "<ipython-input-106-38ecb3b25c17>:1: FutureWarning: The default value of regex will change from True to False in a future version.\n",
      "  R2List = df[\"R2\"].str.replace(\".ab1\", \".fastq\")\n"
     ]
    }
   ],
   "source": [
    "R2List = df[\"R2\"].str.replace(\".ab1\", \".fastq\")"
   ]
  },
  {
   "cell_type": "code",
   "execution_count": 108,
   "metadata": {
    "execution": {
     "iopub.execute_input": "2021-01-08T11:43:23.597797Z",
     "iopub.status.busy": "2021-01-08T11:43:23.597566Z",
     "iopub.status.idle": "2021-01-08T11:43:23.602023Z",
     "shell.execute_reply": "2021-01-08T11:43:23.600857Z",
     "shell.execute_reply.started": "2021-01-08T11:43:23.597774Z"
    }
   },
   "outputs": [],
   "source": [
    "prefixList = df[\"SampleID\"]"
   ]
  },
  {
   "cell_type": "code",
   "execution_count": 109,
   "metadata": {
    "execution": {
     "iopub.execute_input": "2021-01-08T11:43:55.452362Z",
     "iopub.status.busy": "2021-01-08T11:43:55.452126Z",
     "iopub.status.idle": "2021-01-08T11:43:55.456099Z",
     "shell.execute_reply": "2021-01-08T11:43:55.455074Z",
     "shell.execute_reply.started": "2021-01-08T11:43:55.452326Z"
    }
   },
   "outputs": [],
   "source": [
    "OutDir = \"/mnt/d/Lab/16S-Taxa-Phlyo/test_out\""
   ]
  },
  {
   "cell_type": "code",
   "execution_count": null,
   "metadata": {
    "execution": {
     "iopub.execute_input": "2021-01-08T12:00:32.836767Z",
     "iopub.status.busy": "2021-01-08T12:00:32.836462Z"
    }
   },
   "outputs": [
    {
     "name": "stdout",
     "output_type": "stream",
     "text": [
      "fastp -i /mnt/d/Lab/16S-Taxa-Phlyo/test_data/DA_24__27F__E03_2009041339G.fastq -I /mnt/d/Lab/16S-Taxa-Phlyo/test_data/DA_24__1492R__E06_2009041339G.fastq -o /mnt/d/Lab/16S-Taxa-Phlyo/test_out/trim/DA_24_R1.fastq -O /mnt/d/Lab/16S-Taxa-Phlyo/test_out/trim/DA_24_R2.fastq --trim_front1 30 --max_len1 750 --trim_front2 30 --max_len2 750 --cut_front --cut_tail --cut_window_size 20 --cut_mean_quality 30 --merge --merged_out /mnt/d/Lab/16S-Taxa-Phlyo/test_out/merge/DA_24.fastq --correction --overlap_len_require 20 --html /mnt/d/Lab/16S-Taxa-Phlyo/test_out/fastp/DA_24.html --report_title DA_24-fastq-merge-reportfastp -i /mnt/d/Lab/16S-Taxa-Phlyo/test_data/DA_251__27F__G03_2009041345G.fastq -I /mnt/d/Lab/16S-Taxa-Phlyo/test_data/DA_251__1492R__G06_2009041345G.fastq -o /mnt/d/Lab/16S-Taxa-Phlyo/test_out/trim/DA_251_R1.fastq -O /mnt/d/Lab/16S-Taxa-Phlyo/test_out/trim/DA_251_R2.fastq --trim_front1 30 --max_len1 750 --trim_front2 30 --max_len2 750 --cut_front --cut_tail --cut_window_size 20 --cut_mean_quality 30 --merge --merged_out /mnt/d/Lab/16S-Taxa-Phlyo/test_out/merge/DA_251.fastq --correction --overlap_len_require 20 --html /mnt/d/Lab/16S-Taxa-Phlyo/test_out/fastp/DA_251.html --report_title DA_251-fastq-merge-reportfastp -i /mnt/d/Lab/16S-Taxa-Phlyo/test_data/DA_164__27F__F03_2009041343G.fastq -I /mnt/d/Lab/16S-Taxa-Phlyo/test_data/DA_164__1492R__F06_2009041343G.fastq -o /mnt/d/Lab/16S-Taxa-Phlyo/test_out/trim/DA_164_R1.fastq -O /mnt/d/Lab/16S-Taxa-Phlyo/test_out/trim/DA_164_R2.fastq --trim_front1 30 --max_len1 750 --trim_front2 30 --max_len2 750 --cut_front --cut_tail --cut_window_size 20 --cut_mean_quality 30 --merge --merged_out /mnt/d/Lab/16S-Taxa-Phlyo/test_out/merge/DA_164.fastq --correction --overlap_len_require 20 --html /mnt/d/Lab/16S-Taxa-Phlyo/test_out/fastp/DA_164.html --report_title DA_164-fastq-merge-reportfastp -i /mnt/d/Lab/16S-Taxa-Phlyo/test_data/DA_252__27F__H03_2009041346G.fastq -I /mnt/d/Lab/16S-Taxa-Phlyo/test_data/DA_252__1492R__H06_2009041346G.fastq -o /mnt/d/Lab/16S-Taxa-Phlyo/test_out/trim/DA_252_R1.fastq -O /mnt/d/Lab/16S-Taxa-Phlyo/test_out/trim/DA_252_R2.fastq --trim_front1 30 --max_len1 750 --trim_front2 30 --max_len2 750 --cut_front --cut_tail --cut_window_size 20 --cut_mean_quality 30 --merge --merged_out /mnt/d/Lab/16S-Taxa-Phlyo/test_out/merge/DA_252.fastq --correction --overlap_len_require 20 --html /mnt/d/Lab/16S-Taxa-Phlyo/test_out/fastp/DA_252.html --report_title DA_252-fastq-merge-report\n"
     ]
    }
   ],
   "source": [
    "RunFastpParallel(R1List, R2List, prefixList, OutDir)"
   ]
  },
  {
   "cell_type": "code",
   "execution_count": 117,
   "metadata": {
    "execution": {
     "iopub.execute_input": "2021-01-08T11:55:40.529245Z",
     "iopub.status.busy": "2021-01-08T11:55:40.528972Z",
     "iopub.status.idle": "2021-01-08T11:55:40.535587Z",
     "shell.execute_reply": "2021-01-08T11:55:40.534457Z",
     "shell.execute_reply.started": "2021-01-08T11:55:40.529219Z"
    }
   },
   "outputs": [
    {
     "name": "stderr",
     "output_type": "stream",
     "text": [
      "<ipython-input-117-38d7a1cd8c22>:1: FutureWarning: The default value of regex will change from True to False in a future version.\n",
      "  R1 = df[\"R1\"].str.replace(\".ab1\", \".fastq\")[0]\n"
     ]
    }
   ],
   "source": [
    "R1 = df[\"R1\"].str.replace(\".ab1\", \".fastq\")[0]"
   ]
  },
  {
   "cell_type": "code",
   "execution_count": 119,
   "metadata": {
    "execution": {
     "iopub.execute_input": "2021-01-08T11:55:55.092661Z",
     "iopub.status.busy": "2021-01-08T11:55:55.092417Z",
     "iopub.status.idle": "2021-01-08T11:55:55.098072Z",
     "shell.execute_reply": "2021-01-08T11:55:55.097015Z",
     "shell.execute_reply.started": "2021-01-08T11:55:55.092636Z"
    }
   },
   "outputs": [
    {
     "name": "stderr",
     "output_type": "stream",
     "text": [
      "<ipython-input-119-c62cf4f7ba8b>:1: FutureWarning: The default value of regex will change from True to False in a future version.\n",
      "  R2 = df[\"R2\"].str.replace(\".ab1\", \".fastq\")[0]\n"
     ]
    }
   ],
   "source": [
    "R2 = df[\"R2\"].str.replace(\".ab1\", \".fastq\")[0]"
   ]
  },
  {
   "cell_type": "code",
   "execution_count": 118,
   "metadata": {
    "execution": {
     "iopub.execute_input": "2021-01-08T11:55:43.921790Z",
     "iopub.status.busy": "2021-01-08T11:55:43.921496Z",
     "iopub.status.idle": "2021-01-08T11:55:43.927896Z",
     "shell.execute_reply": "2021-01-08T11:55:43.926834Z",
     "shell.execute_reply.started": "2021-01-08T11:55:43.921760Z"
    }
   },
   "outputs": [
    {
     "data": {
      "text/plain": [
       "'/mnt/d/Lab/16S-Taxa-Phlyo/test_data/DA_164__27F__F03_2009041343G.fastq'"
      ]
     },
     "execution_count": 118,
     "metadata": {},
     "output_type": "execute_result"
    }
   ],
   "source": [
    "R1"
   ]
  },
  {
   "cell_type": "code",
   "execution_count": 120,
   "metadata": {
    "execution": {
     "iopub.execute_input": "2021-01-08T11:56:14.116590Z",
     "iopub.status.busy": "2021-01-08T11:56:14.116272Z",
     "iopub.status.idle": "2021-01-08T11:56:14.120833Z",
     "shell.execute_reply": "2021-01-08T11:56:14.119794Z",
     "shell.execute_reply.started": "2021-01-08T11:56:14.116559Z"
    }
   },
   "outputs": [],
   "source": [
    "prefix = \"DA_164\""
   ]
  },
  {
   "cell_type": "code",
   "execution_count": 128,
   "metadata": {
    "execution": {
     "iopub.execute_input": "2021-01-08T11:59:27.873402Z",
     "iopub.status.busy": "2021-01-08T11:59:27.873170Z",
     "iopub.status.idle": "2021-01-08T11:59:28.352340Z",
     "shell.execute_reply": "2021-01-08T11:59:28.351243Z",
     "shell.execute_reply.started": "2021-01-08T11:59:27.873378Z"
    }
   },
   "outputs": [
    {
     "name": "stdout",
     "output_type": "stream",
     "text": [
      "fastp -i /mnt/d/Lab/16S-Taxa-Phlyo/test_data/DA_164__27F__F03_2009041343G.fastq -I /mnt/d/Lab/16S-Taxa-Phlyo/test_data/DA_164__1492R__F06_2009041343G.fastq -o /mnt/d/Lab/16S-Taxa-Phlyo/test_out/trim/DA_164_R1.fastq -O /mnt/d/Lab/16S-Taxa-Phlyo/test_out/trim/DA_164_R2.fastq --trim_front1 30 --max_len1 750 --trim_front2 30 --max_len2 750 --cut_front --cut_tail --cut_window_size 20 --cut_mean_quality 30 --merge --merged_out /mnt/d/Lab/16S-Taxa-Phlyo/test_out/merge/DA_164.fastq --correction --overlap_len_require 30 --html /mnt/d/Lab/16S-Taxa-Phlyo/test_out/fastp/DA_164.html --report_title DA_164-fastq-merge-report\n"
     ]
    }
   ],
   "source": [
    "RunFastp(R1, R2, prefix, OutDir)"
   ]
  },
  {
   "cell_type": "markdown",
   "metadata": {},
   "source": [
    "```shell\n",
    "fastp -i DA_164_R1.fastq -I DA_164_R2.fastq -o trim/DA_164_trim_R1.fastq -O trim/DA_164_trim_R2.fastq \\\n",
    "--trim_front1 30 --max_len1 750 --trim_front2 30 --max_len2 750 \\\n",
    "--cut_front --cut_tail --cut_window_size 20 --cut_mean_quality 30 \\\n",
    "--merge --merged_out trim/DA_164_merge.fastq\\\n",
    "--correction --overlap_len_require 30 --html DA_164.html --report_title DA_164-fastq-merge\n",
    "```"
   ]
  },
  {
   "cell_type": "markdown",
   "metadata": {},
   "source": [
    "```shell\n",
    "fastp -i /mnt/d/Lab/16S-Taxa-Phlyo/test_data/DA_164__27F__F03_2009041343G.fastq -I /mnt/d/Lab/16S-Taxa-Phlyo/test_data/DA_164__1492R__F06_2009041343G.fastq -o /mnt/d/Lab/16S-Taxa-Phlyo/test_out/trim/DA_164_R1.fastq -O /mnt/d/Lab/16S-Taxa-Phlyo/test_out/trim/DA_164_R2.fastq --trim_front1 30 --max_len1 750 --trim_front2 30 --max_len2 750 --cut_front --cut_tail --cut_window_size 20 --cut_mean_quality 30 --merge --merged_out /mnt/d/Lab/16S-Taxa-Phlyo/test_out/merge/DA_164.fastq --correction --overlap_len_require 30 --html /mnt/d/Lab/16S-Taxa-Phlyo/test_out/fastp/DA_164.html --report_title DA_164-fastq-merge-report\n",
    "```"
   ]
  },
  {
   "cell_type": "code",
   "execution_count": null,
   "metadata": {},
   "outputs": [],
   "source": []
  },
  {
   "cell_type": "code",
   "execution_count": null,
   "metadata": {},
   "outputs": [],
   "source": [
    "--unpaired1\n",
    "--unpaired2"
   ]
  },
  {
   "cell_type": "code",
   "execution_count": null,
   "metadata": {},
   "outputs": [],
   "source": [
    "fastp -i DA_164_R1.fastq -I DA_164_R2.fastq -o trim/DA_164_trim_R1.fastq -O trim/DA_164_trim_R2.fastq --cut_front --cut_tail --cut_window_size 20 --cut_mean_quality 30"
   ]
  },
  {
   "cell_type": "code",
   "execution_count": null,
   "metadata": {},
   "outputs": [],
   "source": [
    "fastp -i DA_164_R1.fastq -I DA_164_R2.fastq -o trim/DA_164_trim_R1.fastq -O trim/DA_164_trim_R2.fastq --qualified_quality_phred 30"
   ]
  },
  {
   "cell_type": "code",
   "execution_count": null,
   "metadata": {},
   "outputs": [],
   "source": [
    "#ERROR: the mean quality requirement for cutting by quality (--cut_mean_quality) should be 1 ~ 30, suggest 15 ~ 20."
   ]
  },
  {
   "cell_type": "markdown",
   "metadata": {},
   "source": [
    "前面的质量还不是很好"
   ]
  },
  {
   "cell_type": "code",
   "execution_count": null,
   "metadata": {},
   "outputs": [],
   "source": [
    "fastp -i DA_164_R1.fastq -I DA_164_R2.fastq -o trim/DA_164_trim_R1.fastq -O trim/DA_164_trim_R2.fastq"
   ]
  },
  {
   "cell_type": "code",
   "execution_count": null,
   "metadata": {},
   "outputs": [],
   "source": [
    "output:--html --report_title string"
   ]
  },
  {
   "cell_type": "markdown",
   "metadata": {},
   "source": [
    "#### base correction for PE data"
   ]
  },
  {
   "cell_type": "code",
   "execution_count": null,
   "metadata": {},
   "outputs": [],
   "source": [
    "--correction"
   ]
  },
  {
   "cell_type": "markdown",
   "metadata": {},
   "source": [
    "#### merge paired-end reads"
   ]
  },
  {
   "cell_type": "code",
   "execution_count": null,
   "metadata": {},
   "outputs": [],
   "source": [
    "If you want to trim the reads to maximum length, you can specify -b, --max_len1 for read1, and -B, --max_len2 for read2."
   ]
  },
  {
   "cell_type": "markdown",
   "metadata": {},
   "source": [
    "```shell\n",
    "-O, --out2                           read2 output file name (string [=])\n",
    "      --unpaired1                      for PE input, if read1 passed QC but read2 not, it will be written to unpaired1. Default is to discard it. (string [=])\n",
    "      --unpaired2                      for PE input, if read2 passed QC but read1 not, it will be written to unpaired2. If --unpaired2 is same as --unpaired1 (default mode), both unpaired reads will be written to this same file. (string [=])\n",
    "      --failed_out                     specify the file to store reads that cannot pass the filters. (string [=])\n",
    "      --overlapped_out                 for each read pair, output the overlapped region if it has no any mismatched base. (string [=])\n",
    "-m, --merge                          for paired-end input, merge each pair of reads into a single read if they are overlapped. The merged reads will be written to the file given by --merged_out, the unmerged reads will be written to the files specified by --out1 and --out2. The merging mode is disabled by default.\n",
    "      --merged_out                     in the merging mode, specify the file name to store merged output, or specify --stdout to stream the merged output (string [=])\n",
    "      --include_unmerged               in the merging mode, write the unmerged or unpaired reads to the file specified by --merge. Disabled by default.\n",
    "```"
   ]
  },
  {
   "cell_type": "code",
   "execution_count": null,
   "metadata": {},
   "outputs": [],
   "source": []
  }
 ],
 "metadata": {
  "kernelspec": {
   "display_name": "Python 3",
   "language": "python",
   "name": "python3"
  },
  "language_info": {
   "codemirror_mode": {
    "name": "ipython",
    "version": 3
   },
   "file_extension": ".py",
   "mimetype": "text/x-python",
   "name": "python",
   "nbconvert_exporter": "python",
   "pygments_lexer": "ipython3",
   "version": "3.8.6"
  }
 },
 "nbformat": 4,
 "nbformat_minor": 4
}
