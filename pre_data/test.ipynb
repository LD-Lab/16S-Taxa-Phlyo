{
 "cells": [
  {
   "cell_type": "code",
   "execution_count": null,
   "metadata": {},
   "outputs": [],
   "source": []
  },
  {
   "cell_type": "code",
   "execution_count": 7,
   "metadata": {
    "execution": {
     "iopub.execute_input": "2021-01-11T07:35:36.861916Z",
     "iopub.status.busy": "2021-01-11T07:35:36.861657Z",
     "iopub.status.idle": "2021-01-11T07:35:36.869505Z",
     "shell.execute_reply": "2021-01-11T07:35:36.868176Z",
     "shell.execute_reply.started": "2021-01-11T07:35:36.861889Z"
    }
   },
   "outputs": [],
   "source": [
    "def manifest(InDir):\n",
    "    R1List = []\n",
    "    R2List = []\n",
    "    IdList = []\n",
    "    df = pd.DataFrame()\n",
    "    # Find all forward sequence files and reverse sequence files\n",
    "    for subdir, dirs, files in os.walk(InDir):\n",
    "        for file in files:\n",
    "            filePath = os.path.join(subdir, file)\n",
    "            if file.endswith(\".ab1\") and os.path.getsize(filePath) > 0:\n",
    "                SampleInfo = file.split(\"__\")\n",
    "                if SampleInfo[1].endswith(\"F\"):\n",
    "                    R1List.append(filePath)\n",
    "                    IdList.append(SampleInfo[0])\n",
    "                elif SampleInfo[1].endswith(\"R\"):\n",
    "                    R2List.append(filePath)\n",
    "    df[\"SampleID\"] = IdList\n",
    "    print(len(R1List))\n",
    "    print(len(R2List))\n",
    "    df[\"R1\"] = R1List\n",
    "    df[\"R2\"] = R2List\n",
    "    return df"
   ]
  },
  {
   "cell_type": "code",
   "execution_count": 13,
   "metadata": {
    "execution": {
     "iopub.execute_input": "2021-01-11T07:46:37.113766Z",
     "iopub.status.busy": "2021-01-11T07:46:37.113500Z",
     "iopub.status.idle": "2021-01-11T07:46:37.194436Z",
     "shell.execute_reply": "2021-01-11T07:46:37.192794Z",
     "shell.execute_reply.started": "2021-01-11T07:46:37.113739Z"
    }
   },
   "outputs": [
    {
     "name": "stdout",
     "output_type": "stream",
     "text": [
      "43\n",
      "47\n"
     ]
    }
   ],
   "source": [
    "R1List = []\n",
    "R2List = []\n",
    "IdList = []\n",
    "df = pd.DataFrame()\n",
    "# Find all forward sequence files and reverse sequence files\n",
    "for subdir, dirs, files in os.walk(InDir):\n",
    "    for file in files:\n",
    "        filePath = os.path.join(subdir, file)\n",
    "        if file.endswith(\".ab1\") and os.path.getsize(filePath) > 0:\n",
    "            SampleInfo = file.split(\"__\")\n",
    "            if SampleInfo[1].endswith(\"F\"):\n",
    "                R1List.append(filePath)\n",
    "                IdList.append(SampleInfo[0])\n",
    "            elif SampleInfo[1].endswith(\"R\"):\n",
    "                R2List.append(filePath)\n",
    "df[\"SampleID\"] = IdList\n",
    "print(len(R1List))\n",
    "print(len(R2List))\n",
    "#df[\"R1\"] = R1List\n",
    "#df[\"R2\"] = R2List"
   ]
  },
  {
   "cell_type": "code",
   "execution_count": 23,
   "metadata": {
    "collapsed": true,
    "execution": {
     "iopub.execute_input": "2021-01-11T07:57:38.421230Z",
     "iopub.status.busy": "2021-01-11T07:57:38.420796Z",
     "iopub.status.idle": "2021-01-11T07:57:38.432966Z",
     "shell.execute_reply": "2021-01-11T07:57:38.430966Z",
     "shell.execute_reply.started": "2021-01-11T07:57:38.421149Z"
    },
    "jupyter": {
     "outputs_hidden": true
    }
   },
   "outputs": [
    {
     "data": {
      "text/plain": [
       "['DA_115__M13R__H02_2004260535Q.ab1',\n",
       " 'DA_115__M13R__H02_2004260535Q.seq',\n",
       " 'DA_134__M13F__D01_2004260537Q.ab1',\n",
       " 'DA_134__M13F__D01_2004260537Q.seq',\n",
       " 'DA_134__M13R__C04_2004260537Q.ab1',\n",
       " 'DA_134__M13R__C04_2004260537Q.seq',\n",
       " 'DA_136__M13F__D01_2004260503Q.ab1',\n",
       " 'DA_136__M13F__D01_2004260503Q.seq',\n",
       " 'DA_136__M13R__C02_2004260503Q.ab1',\n",
       " 'DA_136__M13R__C02_2004260503Q.seq',\n",
       " 'DA_138__M13F__E01_2004260504Q.ab1',\n",
       " 'DA_138__M13F__E01_2004260504Q.seq',\n",
       " 'DA_138__M13R__D02_2004260504Q.ab1',\n",
       " 'DA_138__M13R__D02_2004260504Q.seq',\n",
       " 'DA_139__M13F__B01_2004260505Q.ab1',\n",
       " 'DA_139__M13F__B01_2004260505Q.seq',\n",
       " 'DA_139__M13R__B12_2004260505Q.ab1',\n",
       " 'DA_139__M13R__B12_2004260505Q.seq',\n",
       " 'DA_141__M13F__C01_2004260506Q.ab1',\n",
       " 'DA_141__M13F__C01_2004260506Q.seq',\n",
       " 'DA_141__M13R__C12_2004260506Q.ab1',\n",
       " 'DA_141__M13R__C12_2004260506Q.seq',\n",
       " 'DA_149__M13F__E01_2004260508Q.ab1',\n",
       " 'DA_149__M13F__E01_2004260508Q.seq',\n",
       " 'DA_150__M13R__A07_2004260509Q.ab1',\n",
       " 'DA_150__M13R__A07_2004260509Q.seq',\n",
       " 'DA_151__M13F__B02_2004260510Q.ab1',\n",
       " 'DA_151__M13F__B02_2004260510Q.seq',\n",
       " 'DA_151__M13R__B07_2004260510Q.ab1',\n",
       " 'DA_151__M13R__B07_2004260510Q.seq',\n",
       " 'DA_152__M13F__C02_2004260511Q.ab1',\n",
       " 'DA_152__M13F__C02_2004260511Q.seq',\n",
       " 'DA_152__M13R__C07_2004260511Q.ab1',\n",
       " 'DA_152__M13R__C07_2004260511Q.seq',\n",
       " 'DA_154__M13F__D02_2004260512Q.ab1',\n",
       " 'DA_154__M13F__D02_2004260512Q.seq',\n",
       " 'DA_154__M13R__D07_2004260512Q.ab1',\n",
       " 'DA_154__M13R__D07_2004260512Q.seq',\n",
       " 'DA_156__M13F__E02_2004260513Q.ab1',\n",
       " 'DA_156__M13F__E02_2004260513Q.seq',\n",
       " 'DA_156__M13R__E07_2004260513Q.ab1',\n",
       " 'DA_156__M13R__E07_2004260513Q.seq',\n",
       " 'DA_157__M13R__F07_2004260514Q.ab1',\n",
       " 'DA_157__M13R__F07_2004260514Q.seq',\n",
       " 'DA_158__M13F__G02_2004260515Q.ab1',\n",
       " 'DA_158__M13F__G02_2004260515Q.seq',\n",
       " 'DA_158__M13R__G07_2004260515Q.ab1',\n",
       " 'DA_158__M13R__G07_2004260515Q.seq',\n",
       " 'DA_160__M13R__A03_2004260557Q.ab1',\n",
       " 'DA_160__M13R__A03_2004260557Q.seq',\n",
       " 'DA_161__M13F__H02_2004260516Q.ab1',\n",
       " 'DA_161__M13F__H02_2004260516Q.seq',\n",
       " 'DA_161__M13R__H07_2004260516Q.ab1',\n",
       " 'DA_161__M13R__H07_2004260516Q.seq',\n",
       " 'DA_163__M13F__A04_2004260525Q.ab1',\n",
       " 'DA_163__M13F__A04_2004260525Q.seq',\n",
       " 'DA_163__M13R__A09_2004260525Q.ab1',\n",
       " 'DA_163__M13R__A09_2004260525Q.seq',\n",
       " 'DA_164__M13F__B04_2004260526Q.ab1',\n",
       " 'DA_164__M13F__B04_2004260526Q.seq',\n",
       " 'DA_164__M13R__B09_2004260526Q.ab1',\n",
       " 'DA_164__M13R__B09_2004260526Q.seq',\n",
       " 'DA_165__M13R__C09_2004260527Q.ab1',\n",
       " 'DA_165__M13R__C09_2004260527Q.seq',\n",
       " 'DA_166__M13F__D04_2004260528Q.ab1',\n",
       " 'DA_166__M13F__D04_2004260528Q.seq',\n",
       " 'DA_166__M13R__D09_2004260528Q.ab1',\n",
       " 'DA_166__M13R__D09_2004260528Q.seq',\n",
       " 'DA_168__M13F__E04_2004260529Q.ab1',\n",
       " 'DA_168__M13F__E04_2004260529Q.seq',\n",
       " 'DA_168__M13R__E09_2004260529Q.ab1',\n",
       " 'DA_168__M13R__E09_2004260529Q.seq',\n",
       " 'DA_169__M13F__F04_2004260530Q.ab1',\n",
       " 'DA_169__M13F__F04_2004260530Q.seq',\n",
       " 'DA_169__M13R__F09_2004260530Q.ab1',\n",
       " 'DA_169__M13R__F09_2004260530Q.seq',\n",
       " 'DA_170__M13F__G04_2004260531Q.ab1',\n",
       " 'DA_170__M13F__G04_2004260531Q.seq',\n",
       " 'DA_170__M13R__G09_2004260531Q.ab1',\n",
       " 'DA_170__M13R__G09_2004260531Q.seq',\n",
       " 'DA_172__M13F__H04_2004260532Q.ab1',\n",
       " 'DA_172__M13F__H04_2004260532Q.seq',\n",
       " 'DA_172__M13R__H09_2004260532Q.ab1',\n",
       " 'DA_172__M13R__H09_2004260532Q.seq',\n",
       " 'DA_174__M13F__B02_2004260558Q.ab1',\n",
       " 'DA_174__M13F__B02_2004260558Q.seq',\n",
       " 'DA_174__M13R__B03_2004260558Q.ab1',\n",
       " 'DA_174__M13R__B03_2004260558Q.seq',\n",
       " 'DA_176__M13F__C02_2004260559Q.ab1',\n",
       " 'DA_176__M13F__C02_2004260559Q.seq',\n",
       " 'DA_176__M13R__C03_2004260559Q.ab1',\n",
       " 'DA_176__M13R__C03_2004260559Q.seq',\n",
       " 'DA_177__M13F__B03_2004260518Q.ab1',\n",
       " 'DA_177__M13F__B03_2004260518Q.seq',\n",
       " 'DA_177__M13R__B08_2004260518Q.ab1',\n",
       " 'DA_177__M13R__B08_2004260518Q.seq',\n",
       " 'DA_178__M13F__C03_2004260519Q.ab1',\n",
       " 'DA_178__M13F__C03_2004260519Q.seq',\n",
       " 'DA_178__M13R__C08_2004260519Q.ab1',\n",
       " 'DA_178__M13R__C08_2004260519Q.seq',\n",
       " 'DA_179__M13F__D03_2004260520Q.ab1',\n",
       " 'DA_179__M13F__D03_2004260520Q.seq',\n",
       " 'DA_180__M13F__E03_2004260521Q.ab1',\n",
       " 'DA_180__M13F__E03_2004260521Q.seq',\n",
       " 'DA_180__M13R__E08_2004260521Q.ab1',\n",
       " 'DA_180__M13R__E08_2004260521Q.seq',\n",
       " 'DA_181__M13R__D03_2004260560Q.ab1',\n",
       " 'DA_181__M13R__D03_2004260560Q.seq',\n",
       " 'DA_182__M13F__F03_2004260522Q.ab1',\n",
       " 'DA_182__M13F__F03_2004260522Q.seq',\n",
       " 'DA_182__M13R__F08_2004260522Q.ab1',\n",
       " 'DA_182__M13R__F08_2004260522Q.seq',\n",
       " 'DA_183__M13F__G03_2004260523Q.ab1',\n",
       " 'DA_183__M13F__G03_2004260523Q.seq',\n",
       " 'DA_183__M13R__G08_2004260523Q.ab1',\n",
       " 'DA_183__M13R__G08_2004260523Q.seq',\n",
       " 'DA_184__M13F__H03_2004260524Q.ab1',\n",
       " 'DA_184__M13F__H03_2004260524Q.seq',\n",
       " 'DA_186__M13R__E04_2004260539Q.ab1',\n",
       " 'DA_186__M13R__E04_2004260539Q.seq',\n",
       " 'DA_187__M13F__G01_2004260540Q.ab1',\n",
       " 'DA_187__M13F__G01_2004260540Q.seq',\n",
       " 'DA_188__M13R__A10_2004260541Q.ab1',\n",
       " 'DA_188__M13R__A10_2004260541Q.seq',\n",
       " 'DA_189__M13F__B05_2004260542Q.ab1',\n",
       " 'DA_189__M13F__B05_2004260542Q.seq',\n",
       " 'DA_189__M13R__B10_2004260542Q.ab1',\n",
       " 'DA_189__M13R__B10_2004260542Q.seq',\n",
       " 'DA_191__M13F__C05_2004260543Q.ab1',\n",
       " 'DA_191__M13F__C05_2004260543Q.seq',\n",
       " 'DA_191__M13R__C10_2004260543Q.ab1',\n",
       " 'DA_191__M13R__C10_2004260543Q.seq',\n",
       " 'DA_192__M13F__D05_2004260544Q.ab1',\n",
       " 'DA_192__M13F__D05_2004260544Q.seq',\n",
       " 'DA_192__M13R__D10_2004260544Q.ab1',\n",
       " 'DA_192__M13R__D10_2004260544Q.seq',\n",
       " 'DA_194__M13R__E10_2004260545Q.ab1',\n",
       " 'DA_194__M13R__E10_2004260545Q.seq',\n",
       " 'DA_198__M13F__G05_2004260547Q.ab1',\n",
       " 'DA_198__M13F__G05_2004260547Q.seq',\n",
       " 'DA_198__M13R__G10_2004260547Q.ab1',\n",
       " 'DA_198__M13R__G10_2004260547Q.seq',\n",
       " 'DA_199__M13F__H05_2004260548Q.ab1',\n",
       " 'DA_199__M13F__H05_2004260548Q.seq',\n",
       " 'DA_199__M13R__H10_2004260548Q.ab1',\n",
       " 'DA_199__M13R__H10_2004260548Q.seq',\n",
       " 'DA_200__M13F__A06_2004260549Q.ab1',\n",
       " 'DA_200__M13F__A06_2004260549Q.seq',\n",
       " 'DA_200__M13R__A11_2004260549Q.ab1',\n",
       " 'DA_200__M13R__A11_2004260549Q.seq',\n",
       " 'DA_202__M13F__B06_2004260550Q.ab1',\n",
       " 'DA_202__M13F__B06_2004260550Q.seq',\n",
       " 'DA_203__M13F__C06_2004260551Q.ab1',\n",
       " 'DA_203__M13F__C06_2004260551Q.seq',\n",
       " 'DA_203__M13R__C11_2004260551Q.ab1',\n",
       " 'DA_203__M13R__C11_2004260551Q.seq',\n",
       " 'DA_205__M13F__E06_2004260553Q.ab1',\n",
       " 'DA_205__M13F__E06_2004260553Q.seq',\n",
       " 'DA_205__M13R__E11_2004260553Q.ab1',\n",
       " 'DA_205__M13R__E11_2004260553Q.seq',\n",
       " 'DA_206__M13F__F06_2004260554Q.ab1',\n",
       " 'DA_206__M13F__F06_2004260554Q.seq',\n",
       " 'DA_206__M13R__F11_2004260554Q.ab1',\n",
       " 'DA_206__M13R__F11_2004260554Q.seq',\n",
       " 'DA_208__M13F__G06_2004260555Q.ab1',\n",
       " 'DA_208__M13F__G06_2004260555Q.seq',\n",
       " 'DA_208__M13R__G11_2004260555Q.ab1',\n",
       " 'DA_208__M13R__G11_2004260555Q.seq',\n",
       " 'DA_210__M13F__H06_2004260556Q.ab1',\n",
       " 'DA_210__M13F__H06_2004260556Q.seq',\n",
       " 'DA_210__M13R__H11_2004260556Q.ab1',\n",
       " 'DA_210__M13R__H11_2004260556Q.seq',\n",
       " 'DO_100__M13F__G02_2004260565Q.ab1',\n",
       " 'DO_100__M13F__G02_2004260565Q.seq',\n",
       " 'DO_100__M13R__G03_2004260565Q.ab1',\n",
       " 'DO_100__M13R__G03_2004260565Q.seq',\n",
       " 'DO_103__M13F__H02_2004260567Q.ab1',\n",
       " 'DO_103__M13F__H02_2004260567Q.seq',\n",
       " 'DO_103__M13R__H03_2004260567Q.ab1',\n",
       " 'DO_103__M13R__H03_2004260567Q.seq']"
      ]
     },
     "execution_count": 23,
     "metadata": {},
     "output_type": "execute_result"
    }
   ],
   "source": [
    "files"
   ]
  },
  {
   "cell_type": "code",
   "execution_count": 24,
   "metadata": {
    "execution": {
     "iopub.execute_input": "2021-01-11T07:58:32.513499Z",
     "iopub.status.busy": "2021-01-11T07:58:32.513143Z",
     "iopub.status.idle": "2021-01-11T07:58:32.519094Z",
     "shell.execute_reply": "2021-01-11T07:58:32.517619Z",
     "shell.execute_reply.started": "2021-01-11T07:58:32.513468Z"
    }
   },
   "outputs": [],
   "source": [
    "file = files[0]"
   ]
  },
  {
   "cell_type": "code",
   "execution_count": 25,
   "metadata": {
    "execution": {
     "iopub.execute_input": "2021-01-11T07:58:33.628285Z",
     "iopub.status.busy": "2021-01-11T07:58:33.627948Z",
     "iopub.status.idle": "2021-01-11T07:58:33.634204Z",
     "shell.execute_reply": "2021-01-11T07:58:33.632081Z",
     "shell.execute_reply.started": "2021-01-11T07:58:33.628230Z"
    }
   },
   "outputs": [],
   "source": [
    "filestr = re.sub(\"[-()[\\]]\", \"_\", file)"
   ]
  },
  {
   "cell_type": "code",
   "execution_count": 26,
   "metadata": {
    "execution": {
     "iopub.execute_input": "2021-01-11T07:58:37.229041Z",
     "iopub.status.busy": "2021-01-11T07:58:37.228559Z",
     "iopub.status.idle": "2021-01-11T07:58:37.237636Z",
     "shell.execute_reply": "2021-01-11T07:58:37.236035Z",
     "shell.execute_reply.started": "2021-01-11T07:58:37.228970Z"
    }
   },
   "outputs": [
    {
     "data": {
      "text/plain": [
       "'DA_115__M13R__H02_2004260535Q.ab1'"
      ]
     },
     "execution_count": 26,
     "metadata": {},
     "output_type": "execute_result"
    }
   ],
   "source": [
    "filestr"
   ]
  },
  {
   "cell_type": "code",
   "execution_count": 27,
   "metadata": {
    "execution": {
     "iopub.execute_input": "2021-01-11T07:58:47.845536Z",
     "iopub.status.busy": "2021-01-11T07:58:47.844982Z",
     "iopub.status.idle": "2021-01-11T07:58:47.852103Z",
     "shell.execute_reply": "2021-01-11T07:58:47.849650Z",
     "shell.execute_reply.started": "2021-01-11T07:58:47.845494Z"
    }
   },
   "outputs": [],
   "source": [
    "filestr = re.sub(\"\\.\", \"__\", filestr)"
   ]
  },
  {
   "cell_type": "code",
   "execution_count": 28,
   "metadata": {
    "execution": {
     "iopub.execute_input": "2021-01-11T07:58:52.250612Z",
     "iopub.status.busy": "2021-01-11T07:58:52.250172Z",
     "iopub.status.idle": "2021-01-11T07:58:52.258031Z",
     "shell.execute_reply": "2021-01-11T07:58:52.256425Z",
     "shell.execute_reply.started": "2021-01-11T07:58:52.250565Z"
    }
   },
   "outputs": [
    {
     "data": {
      "text/plain": [
       "'DA_115__M13R__H02_2004260535Q__ab1'"
      ]
     },
     "execution_count": 28,
     "metadata": {},
     "output_type": "execute_result"
    }
   ],
   "source": [
    "filestr"
   ]
  },
  {
   "cell_type": "code",
   "execution_count": 44,
   "metadata": {
    "execution": {
     "iopub.execute_input": "2021-01-11T08:13:35.376438Z",
     "iopub.status.busy": "2021-01-11T08:13:35.376046Z",
     "iopub.status.idle": "2021-01-11T08:13:35.387137Z",
     "shell.execute_reply": "2021-01-11T08:13:35.385004Z",
     "shell.execute_reply.started": "2021-01-11T08:13:35.376391Z"
    }
   },
   "outputs": [
    {
     "data": {
      "text/plain": [
       "<re.Match object; span=(6, 14), match='__M13R__'>"
      ]
     },
     "execution_count": 44,
     "metadata": {},
     "output_type": "execute_result"
    }
   ],
   "source": [
    "re.search(\"__.*R__\", filestr)"
   ]
  },
  {
   "cell_type": "code",
   "execution_count": 16,
   "metadata": {
    "execution": {
     "iopub.execute_input": "2021-01-11T07:53:25.951394Z",
     "iopub.status.busy": "2021-01-11T07:53:25.951084Z",
     "iopub.status.idle": "2021-01-11T07:53:25.955824Z",
     "shell.execute_reply": "2021-01-11T07:53:25.954599Z",
     "shell.execute_reply.started": "2021-01-11T07:53:25.951363Z"
    }
   },
   "outputs": [],
   "source": [
    "import re"
   ]
  },
  {
   "cell_type": "code",
   "execution_count": 19,
   "metadata": {
    "execution": {
     "iopub.execute_input": "2021-01-11T07:54:39.360037Z",
     "iopub.status.busy": "2021-01-11T07:54:39.359746Z",
     "iopub.status.idle": "2021-01-11T07:54:39.369912Z",
     "shell.execute_reply": "2021-01-11T07:54:39.368849Z",
     "shell.execute_reply.started": "2021-01-11T07:54:39.360008Z"
    }
   },
   "outputs": [],
   "source": [
    "R1FileList = []\n",
    "R2FileList = []\n",
    "for file in os.listdir(InDir):\n",
    "    filestr = re.sub(\"[-()[\\]]\", \"_\", file)\n",
    "    filestr = re.sub(\"\\.\", \"__\", filestr)\n",
    "    if re.search(\"__.*F__\", filestr) and file.endswith(\".ab1\"):\n",
    "        R1FileList.append(file)\n",
    "    elif re.search(\"__.*R__\", filestr) and file.endswith(\".ab1\"):\n",
    "        R2FileList.append(file)"
   ]
  },
  {
   "cell_type": "code",
   "execution_count": 22,
   "metadata": {
    "execution": {
     "iopub.execute_input": "2021-01-11T07:57:34.767751Z",
     "iopub.status.busy": "2021-01-11T07:57:34.767337Z",
     "iopub.status.idle": "2021-01-11T07:57:34.777055Z",
     "shell.execute_reply": "2021-01-11T07:57:34.775693Z",
     "shell.execute_reply.started": "2021-01-11T07:57:34.767710Z"
    }
   },
   "outputs": [],
   "source": [
    "files = os.listdir(InDir)"
   ]
  },
  {
   "cell_type": "code",
   "execution_count": null,
   "metadata": {},
   "outputs": [],
   "source": [
    "[abiFile = for files]"
   ]
  },
  {
   "cell_type": "code",
   "execution_count": null,
   "metadata": {},
   "outputs": [],
   "source": []
  },
  {
   "cell_type": "code",
   "execution_count": 33,
   "metadata": {
    "execution": {
     "iopub.execute_input": "2021-01-11T08:04:14.428628Z",
     "iopub.status.busy": "2021-01-11T08:04:14.428020Z",
     "iopub.status.idle": "2021-01-11T08:04:14.435890Z",
     "shell.execute_reply": "2021-01-11T08:04:14.434401Z",
     "shell.execute_reply.started": "2021-01-11T08:04:14.428567Z"
    }
   },
   "outputs": [],
   "source": [
    "fileID = [file.split(\"__\")[0] for file in files]"
   ]
  },
  {
   "cell_type": "code",
   "execution_count": 34,
   "metadata": {
    "execution": {
     "iopub.execute_input": "2021-01-11T08:04:24.525726Z",
     "iopub.status.busy": "2021-01-11T08:04:24.525177Z",
     "iopub.status.idle": "2021-01-11T08:04:24.534797Z",
     "shell.execute_reply": "2021-01-11T08:04:24.532616Z",
     "shell.execute_reply.started": "2021-01-11T08:04:24.525667Z"
    }
   },
   "outputs": [
    {
     "data": {
      "text/plain": [
       "180"
      ]
     },
     "execution_count": 34,
     "metadata": {},
     "output_type": "execute_result"
    }
   ],
   "source": [
    "len(fileID)"
   ]
  },
  {
   "cell_type": "code",
   "execution_count": 36,
   "metadata": {
    "execution": {
     "iopub.execute_input": "2021-01-11T08:04:48.048394Z",
     "iopub.status.busy": "2021-01-11T08:04:48.047966Z",
     "iopub.status.idle": "2021-01-11T08:04:48.054871Z",
     "shell.execute_reply": "2021-01-11T08:04:48.052992Z",
     "shell.execute_reply.started": "2021-01-11T08:04:48.048351Z"
    }
   },
   "outputs": [],
   "source": [
    "sampleID = set(fileID)"
   ]
  },
  {
   "cell_type": "code",
   "execution_count": 37,
   "metadata": {
    "execution": {
     "iopub.execute_input": "2021-01-11T08:04:57.313044Z",
     "iopub.status.busy": "2021-01-11T08:04:57.312646Z",
     "iopub.status.idle": "2021-01-11T08:04:57.322338Z",
     "shell.execute_reply": "2021-01-11T08:04:57.320147Z",
     "shell.execute_reply.started": "2021-01-11T08:04:57.313003Z"
    }
   },
   "outputs": [
    {
     "data": {
      "text/plain": [
       "52"
      ]
     },
     "execution_count": 37,
     "metadata": {},
     "output_type": "execute_result"
    }
   ],
   "source": [
    "len(sampleID)"
   ]
  },
  {
   "cell_type": "code",
   "execution_count": 40,
   "metadata": {
    "execution": {
     "iopub.execute_input": "2021-01-11T08:08:38.061794Z",
     "iopub.status.busy": "2021-01-11T08:08:38.061569Z",
     "iopub.status.idle": "2021-01-11T08:08:38.068517Z",
     "shell.execute_reply": "2021-01-11T08:08:38.066580Z",
     "shell.execute_reply.started": "2021-01-11T08:08:38.061772Z"
    }
   },
   "outputs": [
    {
     "data": {
      "text/plain": [
       "defaultdict(list, {})"
      ]
     },
     "execution_count": 40,
     "metadata": {},
     "output_type": "execute_result"
    }
   ],
   "source": [
    "SampleList"
   ]
  },
  {
   "cell_type": "code",
   "execution_count": null,
   "metadata": {},
   "outputs": [],
   "source": [
    "for sample in sampleID:\n",
    "    SampleList[sample]"
   ]
  },
  {
   "cell_type": "code",
   "execution_count": 21,
   "metadata": {
    "execution": {
     "iopub.execute_input": "2021-01-11T07:54:51.967533Z",
     "iopub.status.busy": "2021-01-11T07:54:51.967190Z",
     "iopub.status.idle": "2021-01-11T07:54:51.974223Z",
     "shell.execute_reply": "2021-01-11T07:54:51.973026Z",
     "shell.execute_reply.started": "2021-01-11T07:54:51.967500Z"
    }
   },
   "outputs": [
    {
     "data": {
      "text/plain": [
       "43"
      ]
     },
     "execution_count": 21,
     "metadata": {},
     "output_type": "execute_result"
    }
   ],
   "source": [
    "len(R1FileList)"
   ]
  },
  {
   "cell_type": "code",
   "execution_count": 20,
   "metadata": {
    "execution": {
     "iopub.execute_input": "2021-01-11T07:54:42.895571Z",
     "iopub.status.busy": "2021-01-11T07:54:42.895032Z",
     "iopub.status.idle": "2021-01-11T07:54:42.904735Z",
     "shell.execute_reply": "2021-01-11T07:54:42.903150Z",
     "shell.execute_reply.started": "2021-01-11T07:54:42.895513Z"
    }
   },
   "outputs": [
    {
     "data": {
      "text/plain": [
       "47"
      ]
     },
     "execution_count": 20,
     "metadata": {},
     "output_type": "execute_result"
    }
   ],
   "source": [
    "len(R2FileList)"
   ]
  },
  {
   "cell_type": "code",
   "execution_count": 50,
   "metadata": {
    "collapsed": true,
    "execution": {
     "iopub.execute_input": "2021-01-11T08:17:34.758433Z",
     "iopub.status.busy": "2021-01-11T08:17:34.758027Z",
     "iopub.status.idle": "2021-01-11T08:17:34.768588Z",
     "shell.execute_reply": "2021-01-11T08:17:34.766848Z",
     "shell.execute_reply.started": "2021-01-11T08:17:34.758372Z"
    },
    "jupyter": {
     "outputs_hidden": true
    }
   },
   "outputs": [
    {
     "data": {
      "text/plain": [
       "['DA_115__M13R__H02_2004260535Q.ab1',\n",
       " 'DA_134__M13F__D01_2004260537Q.ab1',\n",
       " 'DA_134__M13R__C04_2004260537Q.ab1',\n",
       " 'DA_136__M13F__D01_2004260503Q.ab1',\n",
       " 'DA_136__M13R__C02_2004260503Q.ab1',\n",
       " 'DA_138__M13F__E01_2004260504Q.ab1',\n",
       " 'DA_138__M13R__D02_2004260504Q.ab1',\n",
       " 'DA_139__M13F__B01_2004260505Q.ab1',\n",
       " 'DA_139__M13R__B12_2004260505Q.ab1',\n",
       " 'DA_141__M13F__C01_2004260506Q.ab1',\n",
       " 'DA_141__M13R__C12_2004260506Q.ab1',\n",
       " 'DA_149__M13F__E01_2004260508Q.ab1',\n",
       " 'DA_150__M13R__A07_2004260509Q.ab1',\n",
       " 'DA_151__M13F__B02_2004260510Q.ab1',\n",
       " 'DA_151__M13R__B07_2004260510Q.ab1',\n",
       " 'DA_152__M13F__C02_2004260511Q.ab1',\n",
       " 'DA_152__M13R__C07_2004260511Q.ab1',\n",
       " 'DA_154__M13F__D02_2004260512Q.ab1',\n",
       " 'DA_154__M13R__D07_2004260512Q.ab1',\n",
       " 'DA_156__M13F__E02_2004260513Q.ab1',\n",
       " 'DA_156__M13R__E07_2004260513Q.ab1',\n",
       " 'DA_157__M13R__F07_2004260514Q.ab1',\n",
       " 'DA_158__M13F__G02_2004260515Q.ab1',\n",
       " 'DA_158__M13R__G07_2004260515Q.ab1',\n",
       " 'DA_160__M13R__A03_2004260557Q.ab1',\n",
       " 'DA_161__M13F__H02_2004260516Q.ab1',\n",
       " 'DA_161__M13R__H07_2004260516Q.ab1',\n",
       " 'DA_163__M13F__A04_2004260525Q.ab1',\n",
       " 'DA_163__M13R__A09_2004260525Q.ab1',\n",
       " 'DA_164__M13F__B04_2004260526Q.ab1',\n",
       " 'DA_164__M13R__B09_2004260526Q.ab1',\n",
       " 'DA_165__M13R__C09_2004260527Q.ab1',\n",
       " 'DA_166__M13F__D04_2004260528Q.ab1',\n",
       " 'DA_166__M13R__D09_2004260528Q.ab1',\n",
       " 'DA_168__M13F__E04_2004260529Q.ab1',\n",
       " 'DA_168__M13R__E09_2004260529Q.ab1',\n",
       " 'DA_169__M13F__F04_2004260530Q.ab1',\n",
       " 'DA_169__M13R__F09_2004260530Q.ab1',\n",
       " 'DA_170__M13F__G04_2004260531Q.ab1',\n",
       " 'DA_170__M13R__G09_2004260531Q.ab1',\n",
       " 'DA_172__M13F__H04_2004260532Q.ab1',\n",
       " 'DA_172__M13R__H09_2004260532Q.ab1',\n",
       " 'DA_174__M13F__B02_2004260558Q.ab1',\n",
       " 'DA_174__M13R__B03_2004260558Q.ab1',\n",
       " 'DA_176__M13F__C02_2004260559Q.ab1',\n",
       " 'DA_176__M13R__C03_2004260559Q.ab1',\n",
       " 'DA_177__M13F__B03_2004260518Q.ab1',\n",
       " 'DA_177__M13R__B08_2004260518Q.ab1',\n",
       " 'DA_178__M13F__C03_2004260519Q.ab1',\n",
       " 'DA_178__M13R__C08_2004260519Q.ab1',\n",
       " 'DA_179__M13F__D03_2004260520Q.ab1',\n",
       " 'DA_180__M13F__E03_2004260521Q.ab1',\n",
       " 'DA_180__M13R__E08_2004260521Q.ab1',\n",
       " 'DA_181__M13R__D03_2004260560Q.ab1',\n",
       " 'DA_182__M13F__F03_2004260522Q.ab1',\n",
       " 'DA_182__M13R__F08_2004260522Q.ab1',\n",
       " 'DA_183__M13F__G03_2004260523Q.ab1',\n",
       " 'DA_183__M13R__G08_2004260523Q.ab1',\n",
       " 'DA_184__M13F__H03_2004260524Q.ab1',\n",
       " 'DA_186__M13R__E04_2004260539Q.ab1',\n",
       " 'DA_187__M13F__G01_2004260540Q.ab1',\n",
       " 'DA_188__M13R__A10_2004260541Q.ab1',\n",
       " 'DA_189__M13F__B05_2004260542Q.ab1',\n",
       " 'DA_189__M13R__B10_2004260542Q.ab1',\n",
       " 'DA_191__M13F__C05_2004260543Q.ab1',\n",
       " 'DA_191__M13R__C10_2004260543Q.ab1',\n",
       " 'DA_192__M13F__D05_2004260544Q.ab1',\n",
       " 'DA_192__M13R__D10_2004260544Q.ab1',\n",
       " 'DA_194__M13R__E10_2004260545Q.ab1',\n",
       " 'DA_198__M13F__G05_2004260547Q.ab1',\n",
       " 'DA_198__M13R__G10_2004260547Q.ab1',\n",
       " 'DA_199__M13F__H05_2004260548Q.ab1',\n",
       " 'DA_199__M13R__H10_2004260548Q.ab1',\n",
       " 'DA_200__M13F__A06_2004260549Q.ab1',\n",
       " 'DA_200__M13R__A11_2004260549Q.ab1',\n",
       " 'DA_202__M13F__B06_2004260550Q.ab1',\n",
       " 'DA_203__M13F__C06_2004260551Q.ab1',\n",
       " 'DA_203__M13R__C11_2004260551Q.ab1',\n",
       " 'DA_205__M13F__E06_2004260553Q.ab1',\n",
       " 'DA_205__M13R__E11_2004260553Q.ab1',\n",
       " 'DA_206__M13F__F06_2004260554Q.ab1',\n",
       " 'DA_206__M13R__F11_2004260554Q.ab1',\n",
       " 'DA_208__M13F__G06_2004260555Q.ab1',\n",
       " 'DA_208__M13R__G11_2004260555Q.ab1',\n",
       " 'DA_210__M13F__H06_2004260556Q.ab1',\n",
       " 'DA_210__M13R__H11_2004260556Q.ab1',\n",
       " 'DO_100__M13F__G02_2004260565Q.ab1',\n",
       " 'DO_100__M13R__G03_2004260565Q.ab1',\n",
       " 'DO_103__M13F__H02_2004260567Q.ab1',\n",
       " 'DO_103__M13R__H03_2004260567Q.ab1']"
      ]
     },
     "execution_count": 50,
     "metadata": {},
     "output_type": "execute_result"
    }
   ],
   "source": [
    "fileList"
   ]
  },
  {
   "cell_type": "code",
   "execution_count": 51,
   "metadata": {
    "execution": {
     "iopub.execute_input": "2021-01-11T08:18:10.626143Z",
     "iopub.status.busy": "2021-01-11T08:18:10.625870Z",
     "iopub.status.idle": "2021-01-11T08:18:10.631370Z",
     "shell.execute_reply": "2021-01-11T08:18:10.629654Z",
     "shell.execute_reply.started": "2021-01-11T08:18:10.626116Z"
    }
   },
   "outputs": [],
   "source": [
    "fileID = [file.split(\"__\")[0] for file in fileList]"
   ]
  },
  {
   "cell_type": "code",
   "execution_count": 52,
   "metadata": {
    "execution": {
     "iopub.execute_input": "2021-01-11T08:18:11.259708Z",
     "iopub.status.busy": "2021-01-11T08:18:11.259444Z",
     "iopub.status.idle": "2021-01-11T08:18:11.265867Z",
     "shell.execute_reply": "2021-01-11T08:18:11.264618Z",
     "shell.execute_reply.started": "2021-01-11T08:18:11.259682Z"
    }
   },
   "outputs": [
    {
     "data": {
      "text/plain": [
       "90"
      ]
     },
     "execution_count": 52,
     "metadata": {},
     "output_type": "execute_result"
    }
   ],
   "source": [
    "len(fileID)"
   ]
  },
  {
   "cell_type": "code",
   "execution_count": 53,
   "metadata": {
    "execution": {
     "iopub.execute_input": "2021-01-11T08:18:17.476518Z",
     "iopub.status.busy": "2021-01-11T08:18:17.476297Z",
     "iopub.status.idle": "2021-01-11T08:18:17.480816Z",
     "shell.execute_reply": "2021-01-11T08:18:17.479583Z",
     "shell.execute_reply.started": "2021-01-11T08:18:17.476495Z"
    }
   },
   "outputs": [],
   "source": [
    "sampleID = set(fileID)"
   ]
  },
  {
   "cell_type": "code",
   "execution_count": 54,
   "metadata": {
    "execution": {
     "iopub.execute_input": "2021-01-11T08:18:17.747597Z",
     "iopub.status.busy": "2021-01-11T08:18:17.747319Z",
     "iopub.status.idle": "2021-01-11T08:18:17.754273Z",
     "shell.execute_reply": "2021-01-11T08:18:17.752908Z",
     "shell.execute_reply.started": "2021-01-11T08:18:17.747569Z"
    }
   },
   "outputs": [
    {
     "data": {
      "text/plain": [
       "52"
      ]
     },
     "execution_count": 54,
     "metadata": {},
     "output_type": "execute_result"
    }
   ],
   "source": [
    "len(sampleID)"
   ]
  },
  {
   "cell_type": "code",
   "execution_count": null,
   "metadata": {},
   "outputs": [],
   "source": []
  },
  {
   "cell_type": "code",
   "execution_count": 64,
   "metadata": {
    "execution": {
     "iopub.execute_input": "2021-01-11T08:27:02.305367Z",
     "iopub.status.busy": "2021-01-11T08:27:02.305042Z",
     "iopub.status.idle": "2021-01-11T08:27:02.394700Z",
     "shell.execute_reply": "2021-01-11T08:27:02.393407Z",
     "shell.execute_reply.started": "2021-01-11T08:27:02.305333Z"
    }
   },
   "outputs": [],
   "source": [
    "sampleID = []\n",
    "SampleList = collections.defaultdict(list)\n",
    "for file in os.listdir(InDir):\n",
    "    filePath = os.path.join(InDir, file)\n",
    "    if file.endswith(\".ab1\") and os.path.getsize(filePath) > 0:\n",
    "        info = file.split(\"__\")\n",
    "        sampleID.append(info[0])\n",
    "        if info[1].endswith(\"F\"):\n",
    "            SampleList[info[0]].append(filePath)\n",
    "        elif info[1].endswith(\"R\"):\n",
    "            SampleList[info[0]].append(filePath)"
   ]
  },
  {
   "cell_type": "code",
   "execution_count": 65,
   "metadata": {
    "execution": {
     "iopub.execute_input": "2021-01-11T08:27:03.205947Z",
     "iopub.status.busy": "2021-01-11T08:27:03.205579Z",
     "iopub.status.idle": "2021-01-11T08:27:03.216423Z",
     "shell.execute_reply": "2021-01-11T08:27:03.213777Z",
     "shell.execute_reply.started": "2021-01-11T08:27:03.205912Z"
    }
   },
   "outputs": [
    {
     "data": {
      "text/plain": [
       "['/mnt/d/Lab/16S-Taxa-Phlyo/data/M15/DA_115__M13R__H02_2004260535Q.ab1']"
      ]
     },
     "execution_count": 65,
     "metadata": {},
     "output_type": "execute_result"
    }
   ],
   "source": [
    "SampleList[\"DA_115\"]"
   ]
  },
  {
   "cell_type": "code",
   "execution_count": 68,
   "metadata": {
    "execution": {
     "iopub.execute_input": "2021-01-11T08:27:53.328143Z",
     "iopub.status.busy": "2021-01-11T08:27:53.327771Z",
     "iopub.status.idle": "2021-01-11T08:27:53.338006Z",
     "shell.execute_reply": "2021-01-11T08:27:53.335596Z",
     "shell.execute_reply.started": "2021-01-11T08:27:53.328105Z"
    }
   },
   "outputs": [
    {
     "data": {
      "text/plain": [
       "2"
      ]
     },
     "execution_count": 68,
     "metadata": {},
     "output_type": "execute_result"
    }
   ],
   "source": [
    "len(SampleList[\"DA_134\"])"
   ]
  },
  {
   "cell_type": "code",
   "execution_count": 66,
   "metadata": {
    "execution": {
     "iopub.execute_input": "2021-01-11T08:27:08.270786Z",
     "iopub.status.busy": "2021-01-11T08:27:08.270384Z",
     "iopub.status.idle": "2021-01-11T08:27:08.282343Z",
     "shell.execute_reply": "2021-01-11T08:27:08.279744Z",
     "shell.execute_reply.started": "2021-01-11T08:27:08.270742Z"
    }
   },
   "outputs": [
    {
     "data": {
      "text/plain": [
       "90"
      ]
     },
     "execution_count": 66,
     "metadata": {},
     "output_type": "execute_result"
    }
   ],
   "source": [
    "len(sampleID)"
   ]
  },
  {
   "cell_type": "code",
   "execution_count": 90,
   "metadata": {
    "execution": {
     "iopub.execute_input": "2021-01-11T08:48:32.662016Z",
     "iopub.status.busy": "2021-01-11T08:48:32.661719Z",
     "iopub.status.idle": "2021-01-11T08:48:32.670510Z",
     "shell.execute_reply": "2021-01-11T08:48:32.668885Z",
     "shell.execute_reply.started": "2021-01-11T08:48:32.661986Z"
    }
   },
   "outputs": [],
   "source": [
    "fileList = []\n",
    "for file in os.listdir(InDir):\n",
    "    if file.endswith(\".ab1\"):\n",
    "        fileList.append(file)"
   ]
  },
  {
   "cell_type": "code",
   "execution_count": 75,
   "metadata": {
    "execution": {
     "iopub.execute_input": "2021-01-11T08:32:08.173968Z",
     "iopub.status.busy": "2021-01-11T08:32:08.173649Z",
     "iopub.status.idle": "2021-01-11T08:32:08.181308Z",
     "shell.execute_reply": "2021-01-11T08:32:08.179901Z",
     "shell.execute_reply.started": "2021-01-11T08:32:08.173933Z"
    }
   },
   "outputs": [
    {
     "data": {
      "text/plain": [
       "dict_keys(['DA_161', 'DO_100', 'DA_154', 'DA_134', 'DA_208', 'DA_156', 'DA_198', 'DA_168', 'DA_158', 'DA_178', 'DA_199', 'DA_151', 'DA_189', 'DA_152', 'DA_182', 'DA_164', 'DA_166', 'DA_177', 'DA_180', 'DA_172', 'DA_205', 'DA_206', 'DA_138', 'DA_141', 'DA_170', 'DO_103', 'DA_200', 'DA_210', 'DA_139', 'DA_163', 'DA_176', 'DA_183', 'DA_203', 'DA_169', 'DA_191', 'DA_174', 'DA_192', 'DA_136'])"
      ]
     },
     "execution_count": 75,
     "metadata": {},
     "output_type": "execute_result"
    }
   ],
   "source": [
    "pair.keys()"
   ]
  },
  {
   "cell_type": "code",
   "execution_count": 77,
   "metadata": {
    "execution": {
     "iopub.execute_input": "2021-01-11T08:37:29.097065Z",
     "iopub.status.busy": "2021-01-11T08:37:29.096802Z",
     "iopub.status.idle": "2021-01-11T08:37:29.237828Z",
     "shell.execute_reply": "2021-01-11T08:37:29.236827Z",
     "shell.execute_reply.started": "2021-01-11T08:37:29.097039Z"
    }
   },
   "outputs": [],
   "source": [
    "df = pd.DataFrame()\n",
    "for sample in pair.keys():\n",
    "    for end in pair[sample]:\n",
    "        if \"F__\" in end:\n",
    "            R1 = end\n",
    "        elif \"R__\" in end:\n",
    "            R2 = end\n",
    "    df = df.append({\"ID\": sample, \"R1\":R1, \"R2\":R2},ignore_index=True)"
   ]
  },
  {
   "cell_type": "code",
   "execution_count": null,
   "metadata": {},
   "outputs": [],
   "source": []
  },
  {
   "cell_type": "code",
   "execution_count": null,
   "metadata": {},
   "outputs": [],
   "source": []
  },
  {
   "cell_type": "code",
   "execution_count": 10,
   "metadata": {
    "execution": {
     "iopub.execute_input": "2021-01-10T03:31:51.857292Z",
     "iopub.status.busy": "2021-01-10T03:31:51.857012Z",
     "iopub.status.idle": "2021-01-10T03:31:51.862294Z",
     "shell.execute_reply": "2021-01-10T03:31:51.861025Z",
     "shell.execute_reply.started": "2021-01-10T03:31:51.857264Z"
    }
   },
   "outputs": [],
   "source": [
    "def ABI2Fastq(abi, sampleID, OutDir):\n",
    "    if os.path.exists(OutDir) == 0:\n",
    "        os.makedirs(OutDir, 0o777, True)\n",
    "    SeqIO.convert(ab1, \"abi\", os.path.join(OutDir, sampleID+\".fastq\"), \"fastq\")"
   ]
  },
  {
   "cell_type": "code",
   "execution_count": 11,
   "metadata": {
    "execution": {
     "iopub.execute_input": "2021-01-10T03:31:52.072000Z",
     "iopub.status.busy": "2021-01-10T03:31:52.071769Z",
     "iopub.status.idle": "2021-01-10T03:31:52.076664Z",
     "shell.execute_reply": "2021-01-10T03:31:52.075638Z",
     "shell.execute_reply.started": "2021-01-10T03:31:52.071978Z"
    }
   },
   "outputs": [],
   "source": [
    "def ABI2FastqParallel(abiList, sampleIDList, OutDir):\n",
    "    pool = Pool(processes = 4)\n",
    "    pool.starmap(ABI2Fastq, zip(abiList, sampleIDList, repeat(OutDir)))\n",
    "    pool.close()\n",
    "    pool.join()\n",
    "    pool.terminate()"
   ]
  }
 ],
 "metadata": {
  "kernelspec": {
   "display_name": "Python 3",
   "language": "python",
   "name": "python3"
  },
  "language_info": {
   "codemirror_mode": {
    "name": "ipython",
    "version": 3
   },
   "file_extension": ".py",
   "mimetype": "text/x-python",
   "name": "python",
   "nbconvert_exporter": "python",
   "pygments_lexer": "ipython3",
   "version": "3.8.6"
  }
 },
 "nbformat": 4,
 "nbformat_minor": 4
}
