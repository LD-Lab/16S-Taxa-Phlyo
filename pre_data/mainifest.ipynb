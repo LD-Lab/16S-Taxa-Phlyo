{
 "cells": [
  {
   "cell_type": "code",
   "execution_count": 9,
   "metadata": {
    "execution": {
     "iopub.execute_input": "2021-01-11T07:46:29.510367Z",
     "iopub.status.busy": "2021-01-11T07:46:29.509980Z",
     "iopub.status.idle": "2021-01-11T07:46:29.516877Z",
     "shell.execute_reply": "2021-01-11T07:46:29.514940Z",
     "shell.execute_reply.started": "2021-01-11T07:46:29.510322Z"
    }
   },
   "outputs": [],
   "source": [
    "import os\n",
    "import re\n",
    "import pandas as pd"
   ]
  },
  {
   "cell_type": "code",
   "execution_count": 10,
   "metadata": {
    "execution": {
     "iopub.execute_input": "2021-01-11T07:46:29.520042Z",
     "iopub.status.busy": "2021-01-11T07:46:29.519360Z",
     "iopub.status.idle": "2021-01-11T07:46:29.534912Z",
     "shell.execute_reply": "2021-01-11T07:46:29.533508Z",
     "shell.execute_reply.started": "2021-01-11T07:46:29.519979Z"
    }
   },
   "outputs": [],
   "source": [
    "import os\n",
    "import argparse\n",
    "import subprocess\n",
    "from Bio import SeqIO"
   ]
  },
  {
   "cell_type": "code",
   "execution_count": 11,
   "metadata": {
    "execution": {
     "iopub.execute_input": "2021-01-11T07:46:29.537679Z",
     "iopub.status.busy": "2021-01-11T07:46:29.537187Z",
     "iopub.status.idle": "2021-01-11T07:46:29.543807Z",
     "shell.execute_reply": "2021-01-11T07:46:29.542335Z",
     "shell.execute_reply.started": "2021-01-11T07:46:29.537624Z"
    }
   },
   "outputs": [],
   "source": [
    "from itertools import repeat\n",
    "from multiprocessing import Pool, freeze_support"
   ]
  },
  {
   "cell_type": "code",
   "execution_count": 12,
   "metadata": {
    "execution": {
     "iopub.execute_input": "2021-01-11T07:46:30.525354Z",
     "iopub.status.busy": "2021-01-11T07:46:30.524986Z",
     "iopub.status.idle": "2021-01-11T07:46:30.531435Z",
     "shell.execute_reply": "2021-01-11T07:46:30.529623Z",
     "shell.execute_reply.started": "2021-01-11T07:46:30.525317Z"
    }
   },
   "outputs": [],
   "source": [
    "InDir = \"/mnt/d/Lab/16S-Taxa-Phlyo/data/M15\""
   ]
  },
  {
   "cell_type": "code",
   "execution_count": 15,
   "metadata": {
    "execution": {
     "iopub.execute_input": "2021-01-11T07:48:35.082134Z",
     "iopub.status.busy": "2021-01-11T07:48:35.081787Z",
     "iopub.status.idle": "2021-01-11T07:48:35.215405Z",
     "shell.execute_reply": "2021-01-11T07:48:35.213781Z",
     "shell.execute_reply.started": "2021-01-11T07:48:35.082098Z"
    }
   },
   "outputs": [
    {
     "name": "stdout",
     "output_type": "stream",
     "text": [
      "180\n"
     ]
    }
   ],
   "source": [
    "!ls /mnt/d/Lab/16S-Taxa-Phlyo/data/M15 | wc -l"
   ]
  },
  {
   "cell_type": "code",
   "execution_count": 7,
   "metadata": {
    "execution": {
     "iopub.execute_input": "2021-01-11T07:35:36.861916Z",
     "iopub.status.busy": "2021-01-11T07:35:36.861657Z",
     "iopub.status.idle": "2021-01-11T07:35:36.869505Z",
     "shell.execute_reply": "2021-01-11T07:35:36.868176Z",
     "shell.execute_reply.started": "2021-01-11T07:35:36.861889Z"
    },
    "jupyter": {
     "source_hidden": true
    }
   },
   "outputs": [],
   "source": [
    "def manifest(InDir):\n",
    "    R1List = []\n",
    "    R2List = []\n",
    "    IdList = []\n",
    "    df = pd.DataFrame()\n",
    "    # Find all forward sequence files and reverse sequence files\n",
    "    for subdir, dirs, files in os.walk(InDir):\n",
    "        for file in files:\n",
    "            filePath = os.path.join(subdir, file)\n",
    "            if file.endswith(\".ab1\") and os.path.getsize(filePath) > 0:\n",
    "                SampleInfo = file.split(\"__\")\n",
    "                if SampleInfo[1].endswith(\"F\"):\n",
    "                    R1List.append(filePath)\n",
    "                    IdList.append(SampleInfo[0])\n",
    "                elif SampleInfo[1].endswith(\"R\"):\n",
    "                    R2List.append(filePath)\n",
    "    df[\"SampleID\"] = IdList\n",
    "    print(len(R1List))\n",
    "    print(len(R2List))\n",
    "    df[\"R1\"] = R1List\n",
    "    df[\"R2\"] = R2List\n",
    "    return df"
   ]
  },
  {
   "cell_type": "code",
   "execution_count": 13,
   "metadata": {
    "execution": {
     "iopub.execute_input": "2021-01-11T07:46:37.113766Z",
     "iopub.status.busy": "2021-01-11T07:46:37.113500Z",
     "iopub.status.idle": "2021-01-11T07:46:37.194436Z",
     "shell.execute_reply": "2021-01-11T07:46:37.192794Z",
     "shell.execute_reply.started": "2021-01-11T07:46:37.113739Z"
    }
   },
   "outputs": [
    {
     "name": "stdout",
     "output_type": "stream",
     "text": [
      "43\n",
      "47\n"
     ]
    }
   ],
   "source": [
    "R1List = []\n",
    "R2List = []\n",
    "IdList = []\n",
    "df = pd.DataFrame()\n",
    "# Find all forward sequence files and reverse sequence files\n",
    "for subdir, dirs, files in os.walk(InDir):\n",
    "    for file in files:\n",
    "        filePath = os.path.join(subdir, file)\n",
    "        if file.endswith(\".ab1\") and os.path.getsize(filePath) > 0:\n",
    "            SampleInfo = file.split(\"__\")\n",
    "            if SampleInfo[1].endswith(\"F\"):\n",
    "                R1List.append(filePath)\n",
    "                IdList.append(SampleInfo[0])\n",
    "            elif SampleInfo[1].endswith(\"R\"):\n",
    "                R2List.append(filePath)\n",
    "df[\"SampleID\"] = IdList\n",
    "print(len(R1List))\n",
    "print(len(R2List))\n",
    "#df[\"R1\"] = R1List\n",
    "#df[\"R2\"] = R2List"
   ]
  },
  {
   "cell_type": "code",
   "execution_count": 16,
   "metadata": {
    "execution": {
     "iopub.execute_input": "2021-01-11T07:53:25.951394Z",
     "iopub.status.busy": "2021-01-11T07:53:25.951084Z",
     "iopub.status.idle": "2021-01-11T07:53:25.955824Z",
     "shell.execute_reply": "2021-01-11T07:53:25.954599Z",
     "shell.execute_reply.started": "2021-01-11T07:53:25.951363Z"
    }
   },
   "outputs": [],
   "source": [
    "import re"
   ]
  },
  {
   "cell_type": "code",
   "execution_count": 19,
   "metadata": {
    "execution": {
     "iopub.execute_input": "2021-01-11T07:54:39.360037Z",
     "iopub.status.busy": "2021-01-11T07:54:39.359746Z",
     "iopub.status.idle": "2021-01-11T07:54:39.369912Z",
     "shell.execute_reply": "2021-01-11T07:54:39.368849Z",
     "shell.execute_reply.started": "2021-01-11T07:54:39.360008Z"
    }
   },
   "outputs": [],
   "source": [
    "R1FileList = []\n",
    "R2FileList = []\n",
    "for file in os.listdir(InDir):\n",
    "    filestr = re.sub(\"[-()[\\]]\", \"_\", file)\n",
    "    filestr = re.sub(\"\\.\", \"__\", filestr)\n",
    "    if re.search(\"__.*F__\", filestr) and file.endswith(\".ab1\"):\n",
    "        R1FileList.append(file)\n",
    "    elif re.search(\"__.*R__\", filestr) and file.endswith(\".ab1\"):\n",
    "        R2FileList.append(file)"
   ]
  },
  {
   "cell_type": "code",
   "execution_count": 22,
   "metadata": {
    "execution": {
     "iopub.execute_input": "2021-01-11T07:57:34.767751Z",
     "iopub.status.busy": "2021-01-11T07:57:34.767337Z",
     "iopub.status.idle": "2021-01-11T07:57:34.777055Z",
     "shell.execute_reply": "2021-01-11T07:57:34.775693Z",
     "shell.execute_reply.started": "2021-01-11T07:57:34.767710Z"
    }
   },
   "outputs": [],
   "source": [
    "files = os.listdir(InDir)"
   ]
  },
  {
   "cell_type": "code",
   "execution_count": null,
   "metadata": {},
   "outputs": [],
   "source": [
    "[abiFile = for files]"
   ]
  },
  {
   "cell_type": "code",
   "execution_count": 23,
   "metadata": {
    "collapsed": true,
    "execution": {
     "iopub.execute_input": "2021-01-11T07:57:38.421230Z",
     "iopub.status.busy": "2021-01-11T07:57:38.420796Z",
     "iopub.status.idle": "2021-01-11T07:57:38.432966Z",
     "shell.execute_reply": "2021-01-11T07:57:38.430966Z",
     "shell.execute_reply.started": "2021-01-11T07:57:38.421149Z"
    },
    "jupyter": {
     "outputs_hidden": true
    }
   },
   "outputs": [
    {
     "data": {
      "text/plain": [
       "['DA_115__M13R__H02_2004260535Q.ab1',\n",
       " 'DA_115__M13R__H02_2004260535Q.seq',\n",
       " 'DA_134__M13F__D01_2004260537Q.ab1',\n",
       " 'DA_134__M13F__D01_2004260537Q.seq',\n",
       " 'DA_134__M13R__C04_2004260537Q.ab1',\n",
       " 'DA_134__M13R__C04_2004260537Q.seq',\n",
       " 'DA_136__M13F__D01_2004260503Q.ab1',\n",
       " 'DA_136__M13F__D01_2004260503Q.seq',\n",
       " 'DA_136__M13R__C02_2004260503Q.ab1',\n",
       " 'DA_136__M13R__C02_2004260503Q.seq',\n",
       " 'DA_138__M13F__E01_2004260504Q.ab1',\n",
       " 'DA_138__M13F__E01_2004260504Q.seq',\n",
       " 'DA_138__M13R__D02_2004260504Q.ab1',\n",
       " 'DA_138__M13R__D02_2004260504Q.seq',\n",
       " 'DA_139__M13F__B01_2004260505Q.ab1',\n",
       " 'DA_139__M13F__B01_2004260505Q.seq',\n",
       " 'DA_139__M13R__B12_2004260505Q.ab1',\n",
       " 'DA_139__M13R__B12_2004260505Q.seq',\n",
       " 'DA_141__M13F__C01_2004260506Q.ab1',\n",
       " 'DA_141__M13F__C01_2004260506Q.seq',\n",
       " 'DA_141__M13R__C12_2004260506Q.ab1',\n",
       " 'DA_141__M13R__C12_2004260506Q.seq',\n",
       " 'DA_149__M13F__E01_2004260508Q.ab1',\n",
       " 'DA_149__M13F__E01_2004260508Q.seq',\n",
       " 'DA_150__M13R__A07_2004260509Q.ab1',\n",
       " 'DA_150__M13R__A07_2004260509Q.seq',\n",
       " 'DA_151__M13F__B02_2004260510Q.ab1',\n",
       " 'DA_151__M13F__B02_2004260510Q.seq',\n",
       " 'DA_151__M13R__B07_2004260510Q.ab1',\n",
       " 'DA_151__M13R__B07_2004260510Q.seq',\n",
       " 'DA_152__M13F__C02_2004260511Q.ab1',\n",
       " 'DA_152__M13F__C02_2004260511Q.seq',\n",
       " 'DA_152__M13R__C07_2004260511Q.ab1',\n",
       " 'DA_152__M13R__C07_2004260511Q.seq',\n",
       " 'DA_154__M13F__D02_2004260512Q.ab1',\n",
       " 'DA_154__M13F__D02_2004260512Q.seq',\n",
       " 'DA_154__M13R__D07_2004260512Q.ab1',\n",
       " 'DA_154__M13R__D07_2004260512Q.seq',\n",
       " 'DA_156__M13F__E02_2004260513Q.ab1',\n",
       " 'DA_156__M13F__E02_2004260513Q.seq',\n",
       " 'DA_156__M13R__E07_2004260513Q.ab1',\n",
       " 'DA_156__M13R__E07_2004260513Q.seq',\n",
       " 'DA_157__M13R__F07_2004260514Q.ab1',\n",
       " 'DA_157__M13R__F07_2004260514Q.seq',\n",
       " 'DA_158__M13F__G02_2004260515Q.ab1',\n",
       " 'DA_158__M13F__G02_2004260515Q.seq',\n",
       " 'DA_158__M13R__G07_2004260515Q.ab1',\n",
       " 'DA_158__M13R__G07_2004260515Q.seq',\n",
       " 'DA_160__M13R__A03_2004260557Q.ab1',\n",
       " 'DA_160__M13R__A03_2004260557Q.seq',\n",
       " 'DA_161__M13F__H02_2004260516Q.ab1',\n",
       " 'DA_161__M13F__H02_2004260516Q.seq',\n",
       " 'DA_161__M13R__H07_2004260516Q.ab1',\n",
       " 'DA_161__M13R__H07_2004260516Q.seq',\n",
       " 'DA_163__M13F__A04_2004260525Q.ab1',\n",
       " 'DA_163__M13F__A04_2004260525Q.seq',\n",
       " 'DA_163__M13R__A09_2004260525Q.ab1',\n",
       " 'DA_163__M13R__A09_2004260525Q.seq',\n",
       " 'DA_164__M13F__B04_2004260526Q.ab1',\n",
       " 'DA_164__M13F__B04_2004260526Q.seq',\n",
       " 'DA_164__M13R__B09_2004260526Q.ab1',\n",
       " 'DA_164__M13R__B09_2004260526Q.seq',\n",
       " 'DA_165__M13R__C09_2004260527Q.ab1',\n",
       " 'DA_165__M13R__C09_2004260527Q.seq',\n",
       " 'DA_166__M13F__D04_2004260528Q.ab1',\n",
       " 'DA_166__M13F__D04_2004260528Q.seq',\n",
       " 'DA_166__M13R__D09_2004260528Q.ab1',\n",
       " 'DA_166__M13R__D09_2004260528Q.seq',\n",
       " 'DA_168__M13F__E04_2004260529Q.ab1',\n",
       " 'DA_168__M13F__E04_2004260529Q.seq',\n",
       " 'DA_168__M13R__E09_2004260529Q.ab1',\n",
       " 'DA_168__M13R__E09_2004260529Q.seq',\n",
       " 'DA_169__M13F__F04_2004260530Q.ab1',\n",
       " 'DA_169__M13F__F04_2004260530Q.seq',\n",
       " 'DA_169__M13R__F09_2004260530Q.ab1',\n",
       " 'DA_169__M13R__F09_2004260530Q.seq',\n",
       " 'DA_170__M13F__G04_2004260531Q.ab1',\n",
       " 'DA_170__M13F__G04_2004260531Q.seq',\n",
       " 'DA_170__M13R__G09_2004260531Q.ab1',\n",
       " 'DA_170__M13R__G09_2004260531Q.seq',\n",
       " 'DA_172__M13F__H04_2004260532Q.ab1',\n",
       " 'DA_172__M13F__H04_2004260532Q.seq',\n",
       " 'DA_172__M13R__H09_2004260532Q.ab1',\n",
       " 'DA_172__M13R__H09_2004260532Q.seq',\n",
       " 'DA_174__M13F__B02_2004260558Q.ab1',\n",
       " 'DA_174__M13F__B02_2004260558Q.seq',\n",
       " 'DA_174__M13R__B03_2004260558Q.ab1',\n",
       " 'DA_174__M13R__B03_2004260558Q.seq',\n",
       " 'DA_176__M13F__C02_2004260559Q.ab1',\n",
       " 'DA_176__M13F__C02_2004260559Q.seq',\n",
       " 'DA_176__M13R__C03_2004260559Q.ab1',\n",
       " 'DA_176__M13R__C03_2004260559Q.seq',\n",
       " 'DA_177__M13F__B03_2004260518Q.ab1',\n",
       " 'DA_177__M13F__B03_2004260518Q.seq',\n",
       " 'DA_177__M13R__B08_2004260518Q.ab1',\n",
       " 'DA_177__M13R__B08_2004260518Q.seq',\n",
       " 'DA_178__M13F__C03_2004260519Q.ab1',\n",
       " 'DA_178__M13F__C03_2004260519Q.seq',\n",
       " 'DA_178__M13R__C08_2004260519Q.ab1',\n",
       " 'DA_178__M13R__C08_2004260519Q.seq',\n",
       " 'DA_179__M13F__D03_2004260520Q.ab1',\n",
       " 'DA_179__M13F__D03_2004260520Q.seq',\n",
       " 'DA_180__M13F__E03_2004260521Q.ab1',\n",
       " 'DA_180__M13F__E03_2004260521Q.seq',\n",
       " 'DA_180__M13R__E08_2004260521Q.ab1',\n",
       " 'DA_180__M13R__E08_2004260521Q.seq',\n",
       " 'DA_181__M13R__D03_2004260560Q.ab1',\n",
       " 'DA_181__M13R__D03_2004260560Q.seq',\n",
       " 'DA_182__M13F__F03_2004260522Q.ab1',\n",
       " 'DA_182__M13F__F03_2004260522Q.seq',\n",
       " 'DA_182__M13R__F08_2004260522Q.ab1',\n",
       " 'DA_182__M13R__F08_2004260522Q.seq',\n",
       " 'DA_183__M13F__G03_2004260523Q.ab1',\n",
       " 'DA_183__M13F__G03_2004260523Q.seq',\n",
       " 'DA_183__M13R__G08_2004260523Q.ab1',\n",
       " 'DA_183__M13R__G08_2004260523Q.seq',\n",
       " 'DA_184__M13F__H03_2004260524Q.ab1',\n",
       " 'DA_184__M13F__H03_2004260524Q.seq',\n",
       " 'DA_186__M13R__E04_2004260539Q.ab1',\n",
       " 'DA_186__M13R__E04_2004260539Q.seq',\n",
       " 'DA_187__M13F__G01_2004260540Q.ab1',\n",
       " 'DA_187__M13F__G01_2004260540Q.seq',\n",
       " 'DA_188__M13R__A10_2004260541Q.ab1',\n",
       " 'DA_188__M13R__A10_2004260541Q.seq',\n",
       " 'DA_189__M13F__B05_2004260542Q.ab1',\n",
       " 'DA_189__M13F__B05_2004260542Q.seq',\n",
       " 'DA_189__M13R__B10_2004260542Q.ab1',\n",
       " 'DA_189__M13R__B10_2004260542Q.seq',\n",
       " 'DA_191__M13F__C05_2004260543Q.ab1',\n",
       " 'DA_191__M13F__C05_2004260543Q.seq',\n",
       " 'DA_191__M13R__C10_2004260543Q.ab1',\n",
       " 'DA_191__M13R__C10_2004260543Q.seq',\n",
       " 'DA_192__M13F__D05_2004260544Q.ab1',\n",
       " 'DA_192__M13F__D05_2004260544Q.seq',\n",
       " 'DA_192__M13R__D10_2004260544Q.ab1',\n",
       " 'DA_192__M13R__D10_2004260544Q.seq',\n",
       " 'DA_194__M13R__E10_2004260545Q.ab1',\n",
       " 'DA_194__M13R__E10_2004260545Q.seq',\n",
       " 'DA_198__M13F__G05_2004260547Q.ab1',\n",
       " 'DA_198__M13F__G05_2004260547Q.seq',\n",
       " 'DA_198__M13R__G10_2004260547Q.ab1',\n",
       " 'DA_198__M13R__G10_2004260547Q.seq',\n",
       " 'DA_199__M13F__H05_2004260548Q.ab1',\n",
       " 'DA_199__M13F__H05_2004260548Q.seq',\n",
       " 'DA_199__M13R__H10_2004260548Q.ab1',\n",
       " 'DA_199__M13R__H10_2004260548Q.seq',\n",
       " 'DA_200__M13F__A06_2004260549Q.ab1',\n",
       " 'DA_200__M13F__A06_2004260549Q.seq',\n",
       " 'DA_200__M13R__A11_2004260549Q.ab1',\n",
       " 'DA_200__M13R__A11_2004260549Q.seq',\n",
       " 'DA_202__M13F__B06_2004260550Q.ab1',\n",
       " 'DA_202__M13F__B06_2004260550Q.seq',\n",
       " 'DA_203__M13F__C06_2004260551Q.ab1',\n",
       " 'DA_203__M13F__C06_2004260551Q.seq',\n",
       " 'DA_203__M13R__C11_2004260551Q.ab1',\n",
       " 'DA_203__M13R__C11_2004260551Q.seq',\n",
       " 'DA_205__M13F__E06_2004260553Q.ab1',\n",
       " 'DA_205__M13F__E06_2004260553Q.seq',\n",
       " 'DA_205__M13R__E11_2004260553Q.ab1',\n",
       " 'DA_205__M13R__E11_2004260553Q.seq',\n",
       " 'DA_206__M13F__F06_2004260554Q.ab1',\n",
       " 'DA_206__M13F__F06_2004260554Q.seq',\n",
       " 'DA_206__M13R__F11_2004260554Q.ab1',\n",
       " 'DA_206__M13R__F11_2004260554Q.seq',\n",
       " 'DA_208__M13F__G06_2004260555Q.ab1',\n",
       " 'DA_208__M13F__G06_2004260555Q.seq',\n",
       " 'DA_208__M13R__G11_2004260555Q.ab1',\n",
       " 'DA_208__M13R__G11_2004260555Q.seq',\n",
       " 'DA_210__M13F__H06_2004260556Q.ab1',\n",
       " 'DA_210__M13F__H06_2004260556Q.seq',\n",
       " 'DA_210__M13R__H11_2004260556Q.ab1',\n",
       " 'DA_210__M13R__H11_2004260556Q.seq',\n",
       " 'DO_100__M13F__G02_2004260565Q.ab1',\n",
       " 'DO_100__M13F__G02_2004260565Q.seq',\n",
       " 'DO_100__M13R__G03_2004260565Q.ab1',\n",
       " 'DO_100__M13R__G03_2004260565Q.seq',\n",
       " 'DO_103__M13F__H02_2004260567Q.ab1',\n",
       " 'DO_103__M13F__H02_2004260567Q.seq',\n",
       " 'DO_103__M13R__H03_2004260567Q.ab1',\n",
       " 'DO_103__M13R__H03_2004260567Q.seq']"
      ]
     },
     "execution_count": 23,
     "metadata": {},
     "output_type": "execute_result"
    }
   ],
   "source": [
    "files"
   ]
  },
  {
   "cell_type": "code",
   "execution_count": 24,
   "metadata": {
    "execution": {
     "iopub.execute_input": "2021-01-11T07:58:32.513499Z",
     "iopub.status.busy": "2021-01-11T07:58:32.513143Z",
     "iopub.status.idle": "2021-01-11T07:58:32.519094Z",
     "shell.execute_reply": "2021-01-11T07:58:32.517619Z",
     "shell.execute_reply.started": "2021-01-11T07:58:32.513468Z"
    }
   },
   "outputs": [],
   "source": [
    "file = files[0]"
   ]
  },
  {
   "cell_type": "code",
   "execution_count": 25,
   "metadata": {
    "execution": {
     "iopub.execute_input": "2021-01-11T07:58:33.628285Z",
     "iopub.status.busy": "2021-01-11T07:58:33.627948Z",
     "iopub.status.idle": "2021-01-11T07:58:33.634204Z",
     "shell.execute_reply": "2021-01-11T07:58:33.632081Z",
     "shell.execute_reply.started": "2021-01-11T07:58:33.628230Z"
    }
   },
   "outputs": [],
   "source": [
    "filestr = re.sub(\"[-()[\\]]\", \"_\", file)"
   ]
  },
  {
   "cell_type": "code",
   "execution_count": 26,
   "metadata": {
    "execution": {
     "iopub.execute_input": "2021-01-11T07:58:37.229041Z",
     "iopub.status.busy": "2021-01-11T07:58:37.228559Z",
     "iopub.status.idle": "2021-01-11T07:58:37.237636Z",
     "shell.execute_reply": "2021-01-11T07:58:37.236035Z",
     "shell.execute_reply.started": "2021-01-11T07:58:37.228970Z"
    }
   },
   "outputs": [
    {
     "data": {
      "text/plain": [
       "'DA_115__M13R__H02_2004260535Q.ab1'"
      ]
     },
     "execution_count": 26,
     "metadata": {},
     "output_type": "execute_result"
    }
   ],
   "source": [
    "filestr"
   ]
  },
  {
   "cell_type": "code",
   "execution_count": 27,
   "metadata": {
    "execution": {
     "iopub.execute_input": "2021-01-11T07:58:47.845536Z",
     "iopub.status.busy": "2021-01-11T07:58:47.844982Z",
     "iopub.status.idle": "2021-01-11T07:58:47.852103Z",
     "shell.execute_reply": "2021-01-11T07:58:47.849650Z",
     "shell.execute_reply.started": "2021-01-11T07:58:47.845494Z"
    }
   },
   "outputs": [],
   "source": [
    "filestr = re.sub(\"\\.\", \"__\", filestr)"
   ]
  },
  {
   "cell_type": "code",
   "execution_count": 28,
   "metadata": {
    "execution": {
     "iopub.execute_input": "2021-01-11T07:58:52.250612Z",
     "iopub.status.busy": "2021-01-11T07:58:52.250172Z",
     "iopub.status.idle": "2021-01-11T07:58:52.258031Z",
     "shell.execute_reply": "2021-01-11T07:58:52.256425Z",
     "shell.execute_reply.started": "2021-01-11T07:58:52.250565Z"
    }
   },
   "outputs": [
    {
     "data": {
      "text/plain": [
       "'DA_115__M13R__H02_2004260535Q__ab1'"
      ]
     },
     "execution_count": 28,
     "metadata": {},
     "output_type": "execute_result"
    }
   ],
   "source": [
    "filestr"
   ]
  },
  {
   "cell_type": "code",
   "execution_count": 44,
   "metadata": {
    "execution": {
     "iopub.execute_input": "2021-01-11T08:13:35.376438Z",
     "iopub.status.busy": "2021-01-11T08:13:35.376046Z",
     "iopub.status.idle": "2021-01-11T08:13:35.387137Z",
     "shell.execute_reply": "2021-01-11T08:13:35.385004Z",
     "shell.execute_reply.started": "2021-01-11T08:13:35.376391Z"
    }
   },
   "outputs": [
    {
     "data": {
      "text/plain": [
       "<re.Match object; span=(6, 14), match='__M13R__'>"
      ]
     },
     "execution_count": 44,
     "metadata": {},
     "output_type": "execute_result"
    }
   ],
   "source": [
    "re.search(\"__.*R__\", filestr)"
   ]
  },
  {
   "cell_type": "code",
   "execution_count": null,
   "metadata": {},
   "outputs": [],
   "source": []
  },
  {
   "cell_type": "code",
   "execution_count": 33,
   "metadata": {
    "execution": {
     "iopub.execute_input": "2021-01-11T08:04:14.428628Z",
     "iopub.status.busy": "2021-01-11T08:04:14.428020Z",
     "iopub.status.idle": "2021-01-11T08:04:14.435890Z",
     "shell.execute_reply": "2021-01-11T08:04:14.434401Z",
     "shell.execute_reply.started": "2021-01-11T08:04:14.428567Z"
    }
   },
   "outputs": [],
   "source": [
    "fileID = [file.split(\"__\")[0] for file in files]"
   ]
  },
  {
   "cell_type": "code",
   "execution_count": 34,
   "metadata": {
    "execution": {
     "iopub.execute_input": "2021-01-11T08:04:24.525726Z",
     "iopub.status.busy": "2021-01-11T08:04:24.525177Z",
     "iopub.status.idle": "2021-01-11T08:04:24.534797Z",
     "shell.execute_reply": "2021-01-11T08:04:24.532616Z",
     "shell.execute_reply.started": "2021-01-11T08:04:24.525667Z"
    }
   },
   "outputs": [
    {
     "data": {
      "text/plain": [
       "180"
      ]
     },
     "execution_count": 34,
     "metadata": {},
     "output_type": "execute_result"
    }
   ],
   "source": [
    "len(fileID)"
   ]
  },
  {
   "cell_type": "code",
   "execution_count": 36,
   "metadata": {
    "execution": {
     "iopub.execute_input": "2021-01-11T08:04:48.048394Z",
     "iopub.status.busy": "2021-01-11T08:04:48.047966Z",
     "iopub.status.idle": "2021-01-11T08:04:48.054871Z",
     "shell.execute_reply": "2021-01-11T08:04:48.052992Z",
     "shell.execute_reply.started": "2021-01-11T08:04:48.048351Z"
    }
   },
   "outputs": [],
   "source": [
    "sampleID = set(fileID)"
   ]
  },
  {
   "cell_type": "code",
   "execution_count": 37,
   "metadata": {
    "execution": {
     "iopub.execute_input": "2021-01-11T08:04:57.313044Z",
     "iopub.status.busy": "2021-01-11T08:04:57.312646Z",
     "iopub.status.idle": "2021-01-11T08:04:57.322338Z",
     "shell.execute_reply": "2021-01-11T08:04:57.320147Z",
     "shell.execute_reply.started": "2021-01-11T08:04:57.313003Z"
    }
   },
   "outputs": [
    {
     "data": {
      "text/plain": [
       "52"
      ]
     },
     "execution_count": 37,
     "metadata": {},
     "output_type": "execute_result"
    }
   ],
   "source": [
    "len(sampleID)"
   ]
  },
  {
   "cell_type": "code",
   "execution_count": 40,
   "metadata": {
    "execution": {
     "iopub.execute_input": "2021-01-11T08:08:38.061794Z",
     "iopub.status.busy": "2021-01-11T08:08:38.061569Z",
     "iopub.status.idle": "2021-01-11T08:08:38.068517Z",
     "shell.execute_reply": "2021-01-11T08:08:38.066580Z",
     "shell.execute_reply.started": "2021-01-11T08:08:38.061772Z"
    }
   },
   "outputs": [
    {
     "data": {
      "text/plain": [
       "defaultdict(list, {})"
      ]
     },
     "execution_count": 40,
     "metadata": {},
     "output_type": "execute_result"
    }
   ],
   "source": [
    "SampleList"
   ]
  },
  {
   "cell_type": "code",
   "execution_count": null,
   "metadata": {},
   "outputs": [],
   "source": [
    "for sample in sampleID:\n",
    "    SampleList[sample]"
   ]
  },
  {
   "cell_type": "code",
   "execution_count": 21,
   "metadata": {
    "execution": {
     "iopub.execute_input": "2021-01-11T07:54:51.967533Z",
     "iopub.status.busy": "2021-01-11T07:54:51.967190Z",
     "iopub.status.idle": "2021-01-11T07:54:51.974223Z",
     "shell.execute_reply": "2021-01-11T07:54:51.973026Z",
     "shell.execute_reply.started": "2021-01-11T07:54:51.967500Z"
    }
   },
   "outputs": [
    {
     "data": {
      "text/plain": [
       "43"
      ]
     },
     "execution_count": 21,
     "metadata": {},
     "output_type": "execute_result"
    }
   ],
   "source": [
    "len(R1FileList)"
   ]
  },
  {
   "cell_type": "code",
   "execution_count": 20,
   "metadata": {
    "execution": {
     "iopub.execute_input": "2021-01-11T07:54:42.895571Z",
     "iopub.status.busy": "2021-01-11T07:54:42.895032Z",
     "iopub.status.idle": "2021-01-11T07:54:42.904735Z",
     "shell.execute_reply": "2021-01-11T07:54:42.903150Z",
     "shell.execute_reply.started": "2021-01-11T07:54:42.895513Z"
    }
   },
   "outputs": [
    {
     "data": {
      "text/plain": [
       "47"
      ]
     },
     "execution_count": 20,
     "metadata": {},
     "output_type": "execute_result"
    }
   ],
   "source": [
    "len(R2FileList)"
   ]
  },
  {
   "cell_type": "code",
   "execution_count": null,
   "metadata": {},
   "outputs": [],
   "source": []
  },
  {
   "cell_type": "code",
   "execution_count": null,
   "metadata": {},
   "outputs": [],
   "source": []
  },
  {
   "cell_type": "code",
   "execution_count": 50,
   "metadata": {
    "collapsed": true,
    "execution": {
     "iopub.execute_input": "2021-01-11T08:17:34.758433Z",
     "iopub.status.busy": "2021-01-11T08:17:34.758027Z",
     "iopub.status.idle": "2021-01-11T08:17:34.768588Z",
     "shell.execute_reply": "2021-01-11T08:17:34.766848Z",
     "shell.execute_reply.started": "2021-01-11T08:17:34.758372Z"
    },
    "jupyter": {
     "outputs_hidden": true
    }
   },
   "outputs": [
    {
     "data": {
      "text/plain": [
       "['DA_115__M13R__H02_2004260535Q.ab1',\n",
       " 'DA_134__M13F__D01_2004260537Q.ab1',\n",
       " 'DA_134__M13R__C04_2004260537Q.ab1',\n",
       " 'DA_136__M13F__D01_2004260503Q.ab1',\n",
       " 'DA_136__M13R__C02_2004260503Q.ab1',\n",
       " 'DA_138__M13F__E01_2004260504Q.ab1',\n",
       " 'DA_138__M13R__D02_2004260504Q.ab1',\n",
       " 'DA_139__M13F__B01_2004260505Q.ab1',\n",
       " 'DA_139__M13R__B12_2004260505Q.ab1',\n",
       " 'DA_141__M13F__C01_2004260506Q.ab1',\n",
       " 'DA_141__M13R__C12_2004260506Q.ab1',\n",
       " 'DA_149__M13F__E01_2004260508Q.ab1',\n",
       " 'DA_150__M13R__A07_2004260509Q.ab1',\n",
       " 'DA_151__M13F__B02_2004260510Q.ab1',\n",
       " 'DA_151__M13R__B07_2004260510Q.ab1',\n",
       " 'DA_152__M13F__C02_2004260511Q.ab1',\n",
       " 'DA_152__M13R__C07_2004260511Q.ab1',\n",
       " 'DA_154__M13F__D02_2004260512Q.ab1',\n",
       " 'DA_154__M13R__D07_2004260512Q.ab1',\n",
       " 'DA_156__M13F__E02_2004260513Q.ab1',\n",
       " 'DA_156__M13R__E07_2004260513Q.ab1',\n",
       " 'DA_157__M13R__F07_2004260514Q.ab1',\n",
       " 'DA_158__M13F__G02_2004260515Q.ab1',\n",
       " 'DA_158__M13R__G07_2004260515Q.ab1',\n",
       " 'DA_160__M13R__A03_2004260557Q.ab1',\n",
       " 'DA_161__M13F__H02_2004260516Q.ab1',\n",
       " 'DA_161__M13R__H07_2004260516Q.ab1',\n",
       " 'DA_163__M13F__A04_2004260525Q.ab1',\n",
       " 'DA_163__M13R__A09_2004260525Q.ab1',\n",
       " 'DA_164__M13F__B04_2004260526Q.ab1',\n",
       " 'DA_164__M13R__B09_2004260526Q.ab1',\n",
       " 'DA_165__M13R__C09_2004260527Q.ab1',\n",
       " 'DA_166__M13F__D04_2004260528Q.ab1',\n",
       " 'DA_166__M13R__D09_2004260528Q.ab1',\n",
       " 'DA_168__M13F__E04_2004260529Q.ab1',\n",
       " 'DA_168__M13R__E09_2004260529Q.ab1',\n",
       " 'DA_169__M13F__F04_2004260530Q.ab1',\n",
       " 'DA_169__M13R__F09_2004260530Q.ab1',\n",
       " 'DA_170__M13F__G04_2004260531Q.ab1',\n",
       " 'DA_170__M13R__G09_2004260531Q.ab1',\n",
       " 'DA_172__M13F__H04_2004260532Q.ab1',\n",
       " 'DA_172__M13R__H09_2004260532Q.ab1',\n",
       " 'DA_174__M13F__B02_2004260558Q.ab1',\n",
       " 'DA_174__M13R__B03_2004260558Q.ab1',\n",
       " 'DA_176__M13F__C02_2004260559Q.ab1',\n",
       " 'DA_176__M13R__C03_2004260559Q.ab1',\n",
       " 'DA_177__M13F__B03_2004260518Q.ab1',\n",
       " 'DA_177__M13R__B08_2004260518Q.ab1',\n",
       " 'DA_178__M13F__C03_2004260519Q.ab1',\n",
       " 'DA_178__M13R__C08_2004260519Q.ab1',\n",
       " 'DA_179__M13F__D03_2004260520Q.ab1',\n",
       " 'DA_180__M13F__E03_2004260521Q.ab1',\n",
       " 'DA_180__M13R__E08_2004260521Q.ab1',\n",
       " 'DA_181__M13R__D03_2004260560Q.ab1',\n",
       " 'DA_182__M13F__F03_2004260522Q.ab1',\n",
       " 'DA_182__M13R__F08_2004260522Q.ab1',\n",
       " 'DA_183__M13F__G03_2004260523Q.ab1',\n",
       " 'DA_183__M13R__G08_2004260523Q.ab1',\n",
       " 'DA_184__M13F__H03_2004260524Q.ab1',\n",
       " 'DA_186__M13R__E04_2004260539Q.ab1',\n",
       " 'DA_187__M13F__G01_2004260540Q.ab1',\n",
       " 'DA_188__M13R__A10_2004260541Q.ab1',\n",
       " 'DA_189__M13F__B05_2004260542Q.ab1',\n",
       " 'DA_189__M13R__B10_2004260542Q.ab1',\n",
       " 'DA_191__M13F__C05_2004260543Q.ab1',\n",
       " 'DA_191__M13R__C10_2004260543Q.ab1',\n",
       " 'DA_192__M13F__D05_2004260544Q.ab1',\n",
       " 'DA_192__M13R__D10_2004260544Q.ab1',\n",
       " 'DA_194__M13R__E10_2004260545Q.ab1',\n",
       " 'DA_198__M13F__G05_2004260547Q.ab1',\n",
       " 'DA_198__M13R__G10_2004260547Q.ab1',\n",
       " 'DA_199__M13F__H05_2004260548Q.ab1',\n",
       " 'DA_199__M13R__H10_2004260548Q.ab1',\n",
       " 'DA_200__M13F__A06_2004260549Q.ab1',\n",
       " 'DA_200__M13R__A11_2004260549Q.ab1',\n",
       " 'DA_202__M13F__B06_2004260550Q.ab1',\n",
       " 'DA_203__M13F__C06_2004260551Q.ab1',\n",
       " 'DA_203__M13R__C11_2004260551Q.ab1',\n",
       " 'DA_205__M13F__E06_2004260553Q.ab1',\n",
       " 'DA_205__M13R__E11_2004260553Q.ab1',\n",
       " 'DA_206__M13F__F06_2004260554Q.ab1',\n",
       " 'DA_206__M13R__F11_2004260554Q.ab1',\n",
       " 'DA_208__M13F__G06_2004260555Q.ab1',\n",
       " 'DA_208__M13R__G11_2004260555Q.ab1',\n",
       " 'DA_210__M13F__H06_2004260556Q.ab1',\n",
       " 'DA_210__M13R__H11_2004260556Q.ab1',\n",
       " 'DO_100__M13F__G02_2004260565Q.ab1',\n",
       " 'DO_100__M13R__G03_2004260565Q.ab1',\n",
       " 'DO_103__M13F__H02_2004260567Q.ab1',\n",
       " 'DO_103__M13R__H03_2004260567Q.ab1']"
      ]
     },
     "execution_count": 50,
     "metadata": {},
     "output_type": "execute_result"
    }
   ],
   "source": [
    "fileList"
   ]
  },
  {
   "cell_type": "code",
   "execution_count": 51,
   "metadata": {
    "execution": {
     "iopub.execute_input": "2021-01-11T08:18:10.626143Z",
     "iopub.status.busy": "2021-01-11T08:18:10.625870Z",
     "iopub.status.idle": "2021-01-11T08:18:10.631370Z",
     "shell.execute_reply": "2021-01-11T08:18:10.629654Z",
     "shell.execute_reply.started": "2021-01-11T08:18:10.626116Z"
    }
   },
   "outputs": [],
   "source": [
    "fileID = [file.split(\"__\")[0] for file in fileList]"
   ]
  },
  {
   "cell_type": "code",
   "execution_count": 52,
   "metadata": {
    "execution": {
     "iopub.execute_input": "2021-01-11T08:18:11.259708Z",
     "iopub.status.busy": "2021-01-11T08:18:11.259444Z",
     "iopub.status.idle": "2021-01-11T08:18:11.265867Z",
     "shell.execute_reply": "2021-01-11T08:18:11.264618Z",
     "shell.execute_reply.started": "2021-01-11T08:18:11.259682Z"
    }
   },
   "outputs": [
    {
     "data": {
      "text/plain": [
       "90"
      ]
     },
     "execution_count": 52,
     "metadata": {},
     "output_type": "execute_result"
    }
   ],
   "source": [
    "len(fileID)"
   ]
  },
  {
   "cell_type": "code",
   "execution_count": 53,
   "metadata": {
    "execution": {
     "iopub.execute_input": "2021-01-11T08:18:17.476518Z",
     "iopub.status.busy": "2021-01-11T08:18:17.476297Z",
     "iopub.status.idle": "2021-01-11T08:18:17.480816Z",
     "shell.execute_reply": "2021-01-11T08:18:17.479583Z",
     "shell.execute_reply.started": "2021-01-11T08:18:17.476495Z"
    }
   },
   "outputs": [],
   "source": [
    "sampleID = set(fileID)"
   ]
  },
  {
   "cell_type": "code",
   "execution_count": 54,
   "metadata": {
    "execution": {
     "iopub.execute_input": "2021-01-11T08:18:17.747597Z",
     "iopub.status.busy": "2021-01-11T08:18:17.747319Z",
     "iopub.status.idle": "2021-01-11T08:18:17.754273Z",
     "shell.execute_reply": "2021-01-11T08:18:17.752908Z",
     "shell.execute_reply.started": "2021-01-11T08:18:17.747569Z"
    }
   },
   "outputs": [
    {
     "data": {
      "text/plain": [
       "52"
      ]
     },
     "execution_count": 54,
     "metadata": {},
     "output_type": "execute_result"
    }
   ],
   "source": [
    "len(sampleID)"
   ]
  },
  {
   "cell_type": "code",
   "execution_count": null,
   "metadata": {},
   "outputs": [],
   "source": []
  },
  {
   "cell_type": "code",
   "execution_count": 64,
   "metadata": {
    "execution": {
     "iopub.execute_input": "2021-01-11T08:27:02.305367Z",
     "iopub.status.busy": "2021-01-11T08:27:02.305042Z",
     "iopub.status.idle": "2021-01-11T08:27:02.394700Z",
     "shell.execute_reply": "2021-01-11T08:27:02.393407Z",
     "shell.execute_reply.started": "2021-01-11T08:27:02.305333Z"
    }
   },
   "outputs": [],
   "source": [
    "sampleID = []\n",
    "SampleList = collections.defaultdict(list)\n",
    "for file in os.listdir(InDir):\n",
    "    filePath = os.path.join(InDir, file)\n",
    "    if file.endswith(\".ab1\") and os.path.getsize(filePath) > 0:\n",
    "        info = file.split(\"__\")\n",
    "        sampleID.append(info[0])\n",
    "        if info[1].endswith(\"F\"):\n",
    "            SampleList[info[0]].append(filePath)\n",
    "        elif info[1].endswith(\"R\"):\n",
    "            SampleList[info[0]].append(filePath)"
   ]
  },
  {
   "cell_type": "code",
   "execution_count": 65,
   "metadata": {
    "execution": {
     "iopub.execute_input": "2021-01-11T08:27:03.205947Z",
     "iopub.status.busy": "2021-01-11T08:27:03.205579Z",
     "iopub.status.idle": "2021-01-11T08:27:03.216423Z",
     "shell.execute_reply": "2021-01-11T08:27:03.213777Z",
     "shell.execute_reply.started": "2021-01-11T08:27:03.205912Z"
    }
   },
   "outputs": [
    {
     "data": {
      "text/plain": [
       "['/mnt/d/Lab/16S-Taxa-Phlyo/data/M15/DA_115__M13R__H02_2004260535Q.ab1']"
      ]
     },
     "execution_count": 65,
     "metadata": {},
     "output_type": "execute_result"
    }
   ],
   "source": [
    "SampleList[\"DA_115\"]"
   ]
  },
  {
   "cell_type": "code",
   "execution_count": 68,
   "metadata": {
    "execution": {
     "iopub.execute_input": "2021-01-11T08:27:53.328143Z",
     "iopub.status.busy": "2021-01-11T08:27:53.327771Z",
     "iopub.status.idle": "2021-01-11T08:27:53.338006Z",
     "shell.execute_reply": "2021-01-11T08:27:53.335596Z",
     "shell.execute_reply.started": "2021-01-11T08:27:53.328105Z"
    }
   },
   "outputs": [
    {
     "data": {
      "text/plain": [
       "2"
      ]
     },
     "execution_count": 68,
     "metadata": {},
     "output_type": "execute_result"
    }
   ],
   "source": [
    "len(SampleList[\"DA_134\"])"
   ]
  },
  {
   "cell_type": "code",
   "execution_count": 66,
   "metadata": {
    "execution": {
     "iopub.execute_input": "2021-01-11T08:27:08.270786Z",
     "iopub.status.busy": "2021-01-11T08:27:08.270384Z",
     "iopub.status.idle": "2021-01-11T08:27:08.282343Z",
     "shell.execute_reply": "2021-01-11T08:27:08.279744Z",
     "shell.execute_reply.started": "2021-01-11T08:27:08.270742Z"
    }
   },
   "outputs": [
    {
     "data": {
      "text/plain": [
       "90"
      ]
     },
     "execution_count": 66,
     "metadata": {},
     "output_type": "execute_result"
    }
   ],
   "source": [
    "len(sampleID)"
   ]
  },
  {
   "cell_type": "code",
   "execution_count": null,
   "metadata": {},
   "outputs": [],
   "source": []
  },
  {
   "cell_type": "code",
   "execution_count": null,
   "metadata": {},
   "outputs": [],
   "source": []
  },
  {
   "cell_type": "code",
   "execution_count": 90,
   "metadata": {
    "execution": {
     "iopub.execute_input": "2021-01-11T08:48:32.662016Z",
     "iopub.status.busy": "2021-01-11T08:48:32.661719Z",
     "iopub.status.idle": "2021-01-11T08:48:32.670510Z",
     "shell.execute_reply": "2021-01-11T08:48:32.668885Z",
     "shell.execute_reply.started": "2021-01-11T08:48:32.661986Z"
    }
   },
   "outputs": [],
   "source": [
    "fileList = []\n",
    "for file in os.listdir(InDir):\n",
    "    if file.endswith(\".ab1\"):\n",
    "        fileList.append(file)"
   ]
  },
  {
   "cell_type": "code",
   "execution_count": null,
   "metadata": {},
   "outputs": [],
   "source": []
  },
  {
   "cell_type": "code",
   "execution_count": null,
   "metadata": {},
   "outputs": [],
   "source": []
  },
  {
   "cell_type": "code",
   "execution_count": 88,
   "metadata": {
    "execution": {
     "iopub.execute_input": "2021-01-11T08:48:32.275855Z",
     "iopub.status.busy": "2021-01-11T08:48:32.275583Z",
     "iopub.status.idle": "2021-01-11T08:48:32.280312Z",
     "shell.execute_reply": "2021-01-11T08:48:32.278962Z",
     "shell.execute_reply.started": "2021-01-11T08:48:32.275826Z"
    }
   },
   "outputs": [],
   "source": [
    "import collections"
   ]
  },
  {
   "cell_type": "code",
   "execution_count": 105,
   "metadata": {
    "execution": {
     "iopub.execute_input": "2021-01-11T08:54:15.973604Z",
     "iopub.status.busy": "2021-01-11T08:54:15.973324Z",
     "iopub.status.idle": "2021-01-11T08:54:16.151646Z",
     "shell.execute_reply": "2021-01-11T08:54:16.150858Z",
     "shell.execute_reply.started": "2021-01-11T08:54:15.973576Z"
    }
   },
   "outputs": [],
   "source": [
    "sampleID = []\n",
    "single = {}\n",
    "pair = {}\n",
    "df = pd.DataFrame()\n",
    "SampleList = collections.defaultdict(list)\n",
    "\n",
    "for file in os.listdir(InDir):\n",
    "    filePath = os.path.join(InDir, file)\n",
    "    if file.endswith(\".ab1\") and os.path.getsize(filePath) > 0:\n",
    "        info = file.split(\"__\")\n",
    "        sampleID.append(info[0])\n",
    "        SampleList[info[0]].append(filePath)\n",
    "        \n",
    "for sample in set(sampleID):\n",
    "    if len(SampleList[sample]) == 1:\n",
    "        single[sample] = SampleList[sample]\n",
    "    elif len(SampleList[sample]) == 2:\n",
    "        pair[sample] = SampleList[sample]\n",
    "        for end in pair[sample]:\n",
    "            if \"F__\" in end:\n",
    "                R1 = end\n",
    "            elif \"R__\" in end:\n",
    "                R2 = end\n",
    "        df = df.append({\"ID\": sample, \"R1\":R1, \"R2\":R2},ignore_index=True)"
   ]
  },
  {
   "cell_type": "code",
   "execution_count": null,
   "metadata": {},
   "outputs": [],
   "source": []
  },
  {
   "cell_type": "markdown",
   "metadata": {},
   "source": [
    "#### test"
   ]
  },
  {
   "cell_type": "code",
   "execution_count": 75,
   "metadata": {
    "execution": {
     "iopub.execute_input": "2021-01-11T08:32:08.173968Z",
     "iopub.status.busy": "2021-01-11T08:32:08.173649Z",
     "iopub.status.idle": "2021-01-11T08:32:08.181308Z",
     "shell.execute_reply": "2021-01-11T08:32:08.179901Z",
     "shell.execute_reply.started": "2021-01-11T08:32:08.173933Z"
    }
   },
   "outputs": [
    {
     "data": {
      "text/plain": [
       "dict_keys(['DA_161', 'DO_100', 'DA_154', 'DA_134', 'DA_208', 'DA_156', 'DA_198', 'DA_168', 'DA_158', 'DA_178', 'DA_199', 'DA_151', 'DA_189', 'DA_152', 'DA_182', 'DA_164', 'DA_166', 'DA_177', 'DA_180', 'DA_172', 'DA_205', 'DA_206', 'DA_138', 'DA_141', 'DA_170', 'DO_103', 'DA_200', 'DA_210', 'DA_139', 'DA_163', 'DA_176', 'DA_183', 'DA_203', 'DA_169', 'DA_191', 'DA_174', 'DA_192', 'DA_136'])"
      ]
     },
     "execution_count": 75,
     "metadata": {},
     "output_type": "execute_result"
    }
   ],
   "source": [
    "pair.keys()"
   ]
  },
  {
   "cell_type": "code",
   "execution_count": 77,
   "metadata": {
    "execution": {
     "iopub.execute_input": "2021-01-11T08:37:29.097065Z",
     "iopub.status.busy": "2021-01-11T08:37:29.096802Z",
     "iopub.status.idle": "2021-01-11T08:37:29.237828Z",
     "shell.execute_reply": "2021-01-11T08:37:29.236827Z",
     "shell.execute_reply.started": "2021-01-11T08:37:29.097039Z"
    }
   },
   "outputs": [],
   "source": [
    "df = pd.DataFrame()\n",
    "for sample in pair.keys():\n",
    "    for end in pair[sample]:\n",
    "        if \"F__\" in end:\n",
    "            R1 = end\n",
    "        elif \"R__\" in end:\n",
    "            R2 = end\n",
    "    df = df.append({\"ID\": sample, \"R1\":R1, \"R2\":R2},ignore_index=True)"
   ]
  },
  {
   "cell_type": "code",
   "execution_count": 106,
   "metadata": {
    "execution": {
     "iopub.execute_input": "2021-01-11T08:54:17.030237Z",
     "iopub.status.busy": "2021-01-11T08:54:17.029979Z",
     "iopub.status.idle": "2021-01-11T08:54:17.037368Z",
     "shell.execute_reply": "2021-01-11T08:54:17.036013Z",
     "shell.execute_reply.started": "2021-01-11T08:54:17.030210Z"
    }
   },
   "outputs": [
    {
     "data": {
      "text/plain": [
       "{'DA_150': ['/mnt/d/Lab/16S-Taxa-Phlyo/data/M15/DA_150__M13R__A07_2004260509Q.ab1'],\n",
       " 'DA_194': ['/mnt/d/Lab/16S-Taxa-Phlyo/data/M15/DA_194__M13R__E10_2004260545Q.ab1'],\n",
       " 'DA_157': ['/mnt/d/Lab/16S-Taxa-Phlyo/data/M15/DA_157__M13R__F07_2004260514Q.ab1'],\n",
       " 'DA_202': ['/mnt/d/Lab/16S-Taxa-Phlyo/data/M15/DA_202__M13F__B06_2004260550Q.ab1'],\n",
       " 'DA_160': ['/mnt/d/Lab/16S-Taxa-Phlyo/data/M15/DA_160__M13R__A03_2004260557Q.ab1'],\n",
       " 'DA_149': ['/mnt/d/Lab/16S-Taxa-Phlyo/data/M15/DA_149__M13F__E01_2004260508Q.ab1'],\n",
       " 'DA_187': ['/mnt/d/Lab/16S-Taxa-Phlyo/data/M15/DA_187__M13F__G01_2004260540Q.ab1'],\n",
       " 'DA_165': ['/mnt/d/Lab/16S-Taxa-Phlyo/data/M15/DA_165__M13R__C09_2004260527Q.ab1'],\n",
       " 'DA_184': ['/mnt/d/Lab/16S-Taxa-Phlyo/data/M15/DA_184__M13F__H03_2004260524Q.ab1'],\n",
       " 'DA_115': ['/mnt/d/Lab/16S-Taxa-Phlyo/data/M15/DA_115__M13R__H02_2004260535Q.ab1'],\n",
       " 'DA_186': ['/mnt/d/Lab/16S-Taxa-Phlyo/data/M15/DA_186__M13R__E04_2004260539Q.ab1'],\n",
       " 'DA_179': ['/mnt/d/Lab/16S-Taxa-Phlyo/data/M15/DA_179__M13F__D03_2004260520Q.ab1'],\n",
       " 'DA_181': ['/mnt/d/Lab/16S-Taxa-Phlyo/data/M15/DA_181__M13R__D03_2004260560Q.ab1'],\n",
       " 'DA_188': ['/mnt/d/Lab/16S-Taxa-Phlyo/data/M15/DA_188__M13R__A10_2004260541Q.ab1']}"
      ]
     },
     "execution_count": 106,
     "metadata": {},
     "output_type": "execute_result"
    }
   ],
   "source": [
    "single"
   ]
  },
  {
   "cell_type": "code",
   "execution_count": 109,
   "metadata": {
    "collapsed": true,
    "execution": {
     "iopub.execute_input": "2021-01-11T09:01:54.165143Z",
     "iopub.status.busy": "2021-01-11T09:01:54.164871Z",
     "iopub.status.idle": "2021-01-11T09:01:54.172083Z",
     "shell.execute_reply": "2021-01-11T09:01:54.171059Z",
     "shell.execute_reply.started": "2021-01-11T09:01:54.165116Z"
    },
    "jupyter": {
     "outputs_hidden": true
    }
   },
   "outputs": [
    {
     "data": {
      "text/plain": [
       "0     DA_161\n",
       "1     DO_100\n",
       "2     DA_154\n",
       "3     DA_134\n",
       "4     DA_208\n",
       "5     DA_156\n",
       "6     DA_198\n",
       "7     DA_168\n",
       "8     DA_158\n",
       "9     DA_178\n",
       "10    DA_199\n",
       "11    DA_151\n",
       "12    DA_189\n",
       "13    DA_152\n",
       "14    DA_182\n",
       "15    DA_164\n",
       "16    DA_166\n",
       "17    DA_177\n",
       "18    DA_180\n",
       "19    DA_172\n",
       "20    DA_205\n",
       "21    DA_206\n",
       "22    DA_138\n",
       "23    DA_141\n",
       "24    DA_170\n",
       "25    DO_103\n",
       "26    DA_200\n",
       "27    DA_210\n",
       "28    DA_139\n",
       "29    DA_163\n",
       "30    DA_176\n",
       "31    DA_183\n",
       "32    DA_203\n",
       "33    DA_169\n",
       "34    DA_191\n",
       "35    DA_174\n",
       "36    DA_192\n",
       "37    DA_136\n",
       "Name: ID, dtype: object"
      ]
     },
     "execution_count": 109,
     "metadata": {},
     "output_type": "execute_result"
    }
   ],
   "source": []
  },
  {
   "cell_type": "code",
   "execution_count": 114,
   "metadata": {
    "execution": {
     "iopub.execute_input": "2021-01-11T09:07:17.769344Z",
     "iopub.status.busy": "2021-01-11T09:07:17.769027Z",
     "iopub.status.idle": "2021-01-11T09:07:17.775228Z",
     "shell.execute_reply": "2021-01-11T09:07:17.773670Z",
     "shell.execute_reply.started": "2021-01-11T09:07:17.769310Z"
    }
   },
   "outputs": [],
   "source": [
    "OutDir = \"/mnt/d/Lab/16S-Taxa-Phlyo/result/M15\""
   ]
  },
  {
   "cell_type": "code",
   "execution_count": 124,
   "metadata": {
    "execution": {
     "iopub.execute_input": "2021-01-11T09:11:29.753417Z",
     "iopub.status.busy": "2021-01-11T09:11:29.753149Z",
     "iopub.status.idle": "2021-01-11T09:11:29.764754Z",
     "shell.execute_reply": "2021-01-11T09:11:29.763594Z",
     "shell.execute_reply.started": "2021-01-11T09:11:29.753390Z"
    }
   },
   "outputs": [],
   "source": [
    "R1OutList = []\n",
    "R2OutList = []\n",
    "df1 = pd.DataFrame()\n",
    "fastqDir = os.path.join(OutDir, \"fastq\")\n",
    "if os.path.exists(fastqDir) == 0:\n",
    "    os.makedirs(fastqDir, 0o777, True)\n",
    "for ID in df[\"ID\"]:\n",
    "    R1OutList.append(os.path.join(fastqDir, ID + \"_R1.fastq\"))\n",
    "    R2OutList.append(os.path.join(fastqDir, ID + \"_R2.fastq\"))\n",
    "df1[\"ID\"] = df[\"ID\"]\n",
    "df1[\"R1\"] = R1OutList\n",
    "df1[\"R2\"] = R2OutList"
   ]
  },
  {
   "cell_type": "code",
   "execution_count": 125,
   "metadata": {
    "collapsed": true,
    "execution": {
     "iopub.execute_input": "2021-01-11T09:11:32.752022Z",
     "iopub.status.busy": "2021-01-11T09:11:32.751679Z",
     "iopub.status.idle": "2021-01-11T09:11:32.776099Z",
     "shell.execute_reply": "2021-01-11T09:11:32.773546Z",
     "shell.execute_reply.started": "2021-01-11T09:11:32.751984Z"
    },
    "jupyter": {
     "outputs_hidden": true
    }
   },
   "outputs": [
    {
     "data": {
      "text/html": [
       "<div>\n",
       "<style scoped>\n",
       "    .dataframe tbody tr th:only-of-type {\n",
       "        vertical-align: middle;\n",
       "    }\n",
       "\n",
       "    .dataframe tbody tr th {\n",
       "        vertical-align: top;\n",
       "    }\n",
       "\n",
       "    .dataframe thead th {\n",
       "        text-align: right;\n",
       "    }\n",
       "</style>\n",
       "<table border=\"1\" class=\"dataframe\">\n",
       "  <thead>\n",
       "    <tr style=\"text-align: right;\">\n",
       "      <th></th>\n",
       "      <th>ID</th>\n",
       "      <th>R1</th>\n",
       "      <th>R2</th>\n",
       "    </tr>\n",
       "  </thead>\n",
       "  <tbody>\n",
       "    <tr>\n",
       "      <th>0</th>\n",
       "      <td>DA_161</td>\n",
       "      <td>/mnt/d/Lab/16S-Taxa-Phlyo/result/M15/fastq/DA_...</td>\n",
       "      <td>/mnt/d/Lab/16S-Taxa-Phlyo/result/M15/fastq/DA_...</td>\n",
       "    </tr>\n",
       "    <tr>\n",
       "      <th>1</th>\n",
       "      <td>DO_100</td>\n",
       "      <td>/mnt/d/Lab/16S-Taxa-Phlyo/result/M15/fastq/DO_...</td>\n",
       "      <td>/mnt/d/Lab/16S-Taxa-Phlyo/result/M15/fastq/DO_...</td>\n",
       "    </tr>\n",
       "    <tr>\n",
       "      <th>2</th>\n",
       "      <td>DA_154</td>\n",
       "      <td>/mnt/d/Lab/16S-Taxa-Phlyo/result/M15/fastq/DA_...</td>\n",
       "      <td>/mnt/d/Lab/16S-Taxa-Phlyo/result/M15/fastq/DA_...</td>\n",
       "    </tr>\n",
       "    <tr>\n",
       "      <th>3</th>\n",
       "      <td>DA_134</td>\n",
       "      <td>/mnt/d/Lab/16S-Taxa-Phlyo/result/M15/fastq/DA_...</td>\n",
       "      <td>/mnt/d/Lab/16S-Taxa-Phlyo/result/M15/fastq/DA_...</td>\n",
       "    </tr>\n",
       "    <tr>\n",
       "      <th>4</th>\n",
       "      <td>DA_208</td>\n",
       "      <td>/mnt/d/Lab/16S-Taxa-Phlyo/result/M15/fastq/DA_...</td>\n",
       "      <td>/mnt/d/Lab/16S-Taxa-Phlyo/result/M15/fastq/DA_...</td>\n",
       "    </tr>\n",
       "    <tr>\n",
       "      <th>5</th>\n",
       "      <td>DA_156</td>\n",
       "      <td>/mnt/d/Lab/16S-Taxa-Phlyo/result/M15/fastq/DA_...</td>\n",
       "      <td>/mnt/d/Lab/16S-Taxa-Phlyo/result/M15/fastq/DA_...</td>\n",
       "    </tr>\n",
       "    <tr>\n",
       "      <th>6</th>\n",
       "      <td>DA_198</td>\n",
       "      <td>/mnt/d/Lab/16S-Taxa-Phlyo/result/M15/fastq/DA_...</td>\n",
       "      <td>/mnt/d/Lab/16S-Taxa-Phlyo/result/M15/fastq/DA_...</td>\n",
       "    </tr>\n",
       "    <tr>\n",
       "      <th>7</th>\n",
       "      <td>DA_168</td>\n",
       "      <td>/mnt/d/Lab/16S-Taxa-Phlyo/result/M15/fastq/DA_...</td>\n",
       "      <td>/mnt/d/Lab/16S-Taxa-Phlyo/result/M15/fastq/DA_...</td>\n",
       "    </tr>\n",
       "    <tr>\n",
       "      <th>8</th>\n",
       "      <td>DA_158</td>\n",
       "      <td>/mnt/d/Lab/16S-Taxa-Phlyo/result/M15/fastq/DA_...</td>\n",
       "      <td>/mnt/d/Lab/16S-Taxa-Phlyo/result/M15/fastq/DA_...</td>\n",
       "    </tr>\n",
       "    <tr>\n",
       "      <th>9</th>\n",
       "      <td>DA_178</td>\n",
       "      <td>/mnt/d/Lab/16S-Taxa-Phlyo/result/M15/fastq/DA_...</td>\n",
       "      <td>/mnt/d/Lab/16S-Taxa-Phlyo/result/M15/fastq/DA_...</td>\n",
       "    </tr>\n",
       "    <tr>\n",
       "      <th>10</th>\n",
       "      <td>DA_199</td>\n",
       "      <td>/mnt/d/Lab/16S-Taxa-Phlyo/result/M15/fastq/DA_...</td>\n",
       "      <td>/mnt/d/Lab/16S-Taxa-Phlyo/result/M15/fastq/DA_...</td>\n",
       "    </tr>\n",
       "    <tr>\n",
       "      <th>11</th>\n",
       "      <td>DA_151</td>\n",
       "      <td>/mnt/d/Lab/16S-Taxa-Phlyo/result/M15/fastq/DA_...</td>\n",
       "      <td>/mnt/d/Lab/16S-Taxa-Phlyo/result/M15/fastq/DA_...</td>\n",
       "    </tr>\n",
       "    <tr>\n",
       "      <th>12</th>\n",
       "      <td>DA_189</td>\n",
       "      <td>/mnt/d/Lab/16S-Taxa-Phlyo/result/M15/fastq/DA_...</td>\n",
       "      <td>/mnt/d/Lab/16S-Taxa-Phlyo/result/M15/fastq/DA_...</td>\n",
       "    </tr>\n",
       "    <tr>\n",
       "      <th>13</th>\n",
       "      <td>DA_152</td>\n",
       "      <td>/mnt/d/Lab/16S-Taxa-Phlyo/result/M15/fastq/DA_...</td>\n",
       "      <td>/mnt/d/Lab/16S-Taxa-Phlyo/result/M15/fastq/DA_...</td>\n",
       "    </tr>\n",
       "    <tr>\n",
       "      <th>14</th>\n",
       "      <td>DA_182</td>\n",
       "      <td>/mnt/d/Lab/16S-Taxa-Phlyo/result/M15/fastq/DA_...</td>\n",
       "      <td>/mnt/d/Lab/16S-Taxa-Phlyo/result/M15/fastq/DA_...</td>\n",
       "    </tr>\n",
       "    <tr>\n",
       "      <th>15</th>\n",
       "      <td>DA_164</td>\n",
       "      <td>/mnt/d/Lab/16S-Taxa-Phlyo/result/M15/fastq/DA_...</td>\n",
       "      <td>/mnt/d/Lab/16S-Taxa-Phlyo/result/M15/fastq/DA_...</td>\n",
       "    </tr>\n",
       "    <tr>\n",
       "      <th>16</th>\n",
       "      <td>DA_166</td>\n",
       "      <td>/mnt/d/Lab/16S-Taxa-Phlyo/result/M15/fastq/DA_...</td>\n",
       "      <td>/mnt/d/Lab/16S-Taxa-Phlyo/result/M15/fastq/DA_...</td>\n",
       "    </tr>\n",
       "    <tr>\n",
       "      <th>17</th>\n",
       "      <td>DA_177</td>\n",
       "      <td>/mnt/d/Lab/16S-Taxa-Phlyo/result/M15/fastq/DA_...</td>\n",
       "      <td>/mnt/d/Lab/16S-Taxa-Phlyo/result/M15/fastq/DA_...</td>\n",
       "    </tr>\n",
       "    <tr>\n",
       "      <th>18</th>\n",
       "      <td>DA_180</td>\n",
       "      <td>/mnt/d/Lab/16S-Taxa-Phlyo/result/M15/fastq/DA_...</td>\n",
       "      <td>/mnt/d/Lab/16S-Taxa-Phlyo/result/M15/fastq/DA_...</td>\n",
       "    </tr>\n",
       "    <tr>\n",
       "      <th>19</th>\n",
       "      <td>DA_172</td>\n",
       "      <td>/mnt/d/Lab/16S-Taxa-Phlyo/result/M15/fastq/DA_...</td>\n",
       "      <td>/mnt/d/Lab/16S-Taxa-Phlyo/result/M15/fastq/DA_...</td>\n",
       "    </tr>\n",
       "    <tr>\n",
       "      <th>20</th>\n",
       "      <td>DA_205</td>\n",
       "      <td>/mnt/d/Lab/16S-Taxa-Phlyo/result/M15/fastq/DA_...</td>\n",
       "      <td>/mnt/d/Lab/16S-Taxa-Phlyo/result/M15/fastq/DA_...</td>\n",
       "    </tr>\n",
       "    <tr>\n",
       "      <th>21</th>\n",
       "      <td>DA_206</td>\n",
       "      <td>/mnt/d/Lab/16S-Taxa-Phlyo/result/M15/fastq/DA_...</td>\n",
       "      <td>/mnt/d/Lab/16S-Taxa-Phlyo/result/M15/fastq/DA_...</td>\n",
       "    </tr>\n",
       "    <tr>\n",
       "      <th>22</th>\n",
       "      <td>DA_138</td>\n",
       "      <td>/mnt/d/Lab/16S-Taxa-Phlyo/result/M15/fastq/DA_...</td>\n",
       "      <td>/mnt/d/Lab/16S-Taxa-Phlyo/result/M15/fastq/DA_...</td>\n",
       "    </tr>\n",
       "    <tr>\n",
       "      <th>23</th>\n",
       "      <td>DA_141</td>\n",
       "      <td>/mnt/d/Lab/16S-Taxa-Phlyo/result/M15/fastq/DA_...</td>\n",
       "      <td>/mnt/d/Lab/16S-Taxa-Phlyo/result/M15/fastq/DA_...</td>\n",
       "    </tr>\n",
       "    <tr>\n",
       "      <th>24</th>\n",
       "      <td>DA_170</td>\n",
       "      <td>/mnt/d/Lab/16S-Taxa-Phlyo/result/M15/fastq/DA_...</td>\n",
       "      <td>/mnt/d/Lab/16S-Taxa-Phlyo/result/M15/fastq/DA_...</td>\n",
       "    </tr>\n",
       "    <tr>\n",
       "      <th>25</th>\n",
       "      <td>DO_103</td>\n",
       "      <td>/mnt/d/Lab/16S-Taxa-Phlyo/result/M15/fastq/DO_...</td>\n",
       "      <td>/mnt/d/Lab/16S-Taxa-Phlyo/result/M15/fastq/DO_...</td>\n",
       "    </tr>\n",
       "    <tr>\n",
       "      <th>26</th>\n",
       "      <td>DA_200</td>\n",
       "      <td>/mnt/d/Lab/16S-Taxa-Phlyo/result/M15/fastq/DA_...</td>\n",
       "      <td>/mnt/d/Lab/16S-Taxa-Phlyo/result/M15/fastq/DA_...</td>\n",
       "    </tr>\n",
       "    <tr>\n",
       "      <th>27</th>\n",
       "      <td>DA_210</td>\n",
       "      <td>/mnt/d/Lab/16S-Taxa-Phlyo/result/M15/fastq/DA_...</td>\n",
       "      <td>/mnt/d/Lab/16S-Taxa-Phlyo/result/M15/fastq/DA_...</td>\n",
       "    </tr>\n",
       "    <tr>\n",
       "      <th>28</th>\n",
       "      <td>DA_139</td>\n",
       "      <td>/mnt/d/Lab/16S-Taxa-Phlyo/result/M15/fastq/DA_...</td>\n",
       "      <td>/mnt/d/Lab/16S-Taxa-Phlyo/result/M15/fastq/DA_...</td>\n",
       "    </tr>\n",
       "    <tr>\n",
       "      <th>29</th>\n",
       "      <td>DA_163</td>\n",
       "      <td>/mnt/d/Lab/16S-Taxa-Phlyo/result/M15/fastq/DA_...</td>\n",
       "      <td>/mnt/d/Lab/16S-Taxa-Phlyo/result/M15/fastq/DA_...</td>\n",
       "    </tr>\n",
       "    <tr>\n",
       "      <th>30</th>\n",
       "      <td>DA_176</td>\n",
       "      <td>/mnt/d/Lab/16S-Taxa-Phlyo/result/M15/fastq/DA_...</td>\n",
       "      <td>/mnt/d/Lab/16S-Taxa-Phlyo/result/M15/fastq/DA_...</td>\n",
       "    </tr>\n",
       "    <tr>\n",
       "      <th>31</th>\n",
       "      <td>DA_183</td>\n",
       "      <td>/mnt/d/Lab/16S-Taxa-Phlyo/result/M15/fastq/DA_...</td>\n",
       "      <td>/mnt/d/Lab/16S-Taxa-Phlyo/result/M15/fastq/DA_...</td>\n",
       "    </tr>\n",
       "    <tr>\n",
       "      <th>32</th>\n",
       "      <td>DA_203</td>\n",
       "      <td>/mnt/d/Lab/16S-Taxa-Phlyo/result/M15/fastq/DA_...</td>\n",
       "      <td>/mnt/d/Lab/16S-Taxa-Phlyo/result/M15/fastq/DA_...</td>\n",
       "    </tr>\n",
       "    <tr>\n",
       "      <th>33</th>\n",
       "      <td>DA_169</td>\n",
       "      <td>/mnt/d/Lab/16S-Taxa-Phlyo/result/M15/fastq/DA_...</td>\n",
       "      <td>/mnt/d/Lab/16S-Taxa-Phlyo/result/M15/fastq/DA_...</td>\n",
       "    </tr>\n",
       "    <tr>\n",
       "      <th>34</th>\n",
       "      <td>DA_191</td>\n",
       "      <td>/mnt/d/Lab/16S-Taxa-Phlyo/result/M15/fastq/DA_...</td>\n",
       "      <td>/mnt/d/Lab/16S-Taxa-Phlyo/result/M15/fastq/DA_...</td>\n",
       "    </tr>\n",
       "    <tr>\n",
       "      <th>35</th>\n",
       "      <td>DA_174</td>\n",
       "      <td>/mnt/d/Lab/16S-Taxa-Phlyo/result/M15/fastq/DA_...</td>\n",
       "      <td>/mnt/d/Lab/16S-Taxa-Phlyo/result/M15/fastq/DA_...</td>\n",
       "    </tr>\n",
       "    <tr>\n",
       "      <th>36</th>\n",
       "      <td>DA_192</td>\n",
       "      <td>/mnt/d/Lab/16S-Taxa-Phlyo/result/M15/fastq/DA_...</td>\n",
       "      <td>/mnt/d/Lab/16S-Taxa-Phlyo/result/M15/fastq/DA_...</td>\n",
       "    </tr>\n",
       "    <tr>\n",
       "      <th>37</th>\n",
       "      <td>DA_136</td>\n",
       "      <td>/mnt/d/Lab/16S-Taxa-Phlyo/result/M15/fastq/DA_...</td>\n",
       "      <td>/mnt/d/Lab/16S-Taxa-Phlyo/result/M15/fastq/DA_...</td>\n",
       "    </tr>\n",
       "  </tbody>\n",
       "</table>\n",
       "</div>"
      ],
      "text/plain": [
       "        ID                                                 R1  \\\n",
       "0   DA_161  /mnt/d/Lab/16S-Taxa-Phlyo/result/M15/fastq/DA_...   \n",
       "1   DO_100  /mnt/d/Lab/16S-Taxa-Phlyo/result/M15/fastq/DO_...   \n",
       "2   DA_154  /mnt/d/Lab/16S-Taxa-Phlyo/result/M15/fastq/DA_...   \n",
       "3   DA_134  /mnt/d/Lab/16S-Taxa-Phlyo/result/M15/fastq/DA_...   \n",
       "4   DA_208  /mnt/d/Lab/16S-Taxa-Phlyo/result/M15/fastq/DA_...   \n",
       "5   DA_156  /mnt/d/Lab/16S-Taxa-Phlyo/result/M15/fastq/DA_...   \n",
       "6   DA_198  /mnt/d/Lab/16S-Taxa-Phlyo/result/M15/fastq/DA_...   \n",
       "7   DA_168  /mnt/d/Lab/16S-Taxa-Phlyo/result/M15/fastq/DA_...   \n",
       "8   DA_158  /mnt/d/Lab/16S-Taxa-Phlyo/result/M15/fastq/DA_...   \n",
       "9   DA_178  /mnt/d/Lab/16S-Taxa-Phlyo/result/M15/fastq/DA_...   \n",
       "10  DA_199  /mnt/d/Lab/16S-Taxa-Phlyo/result/M15/fastq/DA_...   \n",
       "11  DA_151  /mnt/d/Lab/16S-Taxa-Phlyo/result/M15/fastq/DA_...   \n",
       "12  DA_189  /mnt/d/Lab/16S-Taxa-Phlyo/result/M15/fastq/DA_...   \n",
       "13  DA_152  /mnt/d/Lab/16S-Taxa-Phlyo/result/M15/fastq/DA_...   \n",
       "14  DA_182  /mnt/d/Lab/16S-Taxa-Phlyo/result/M15/fastq/DA_...   \n",
       "15  DA_164  /mnt/d/Lab/16S-Taxa-Phlyo/result/M15/fastq/DA_...   \n",
       "16  DA_166  /mnt/d/Lab/16S-Taxa-Phlyo/result/M15/fastq/DA_...   \n",
       "17  DA_177  /mnt/d/Lab/16S-Taxa-Phlyo/result/M15/fastq/DA_...   \n",
       "18  DA_180  /mnt/d/Lab/16S-Taxa-Phlyo/result/M15/fastq/DA_...   \n",
       "19  DA_172  /mnt/d/Lab/16S-Taxa-Phlyo/result/M15/fastq/DA_...   \n",
       "20  DA_205  /mnt/d/Lab/16S-Taxa-Phlyo/result/M15/fastq/DA_...   \n",
       "21  DA_206  /mnt/d/Lab/16S-Taxa-Phlyo/result/M15/fastq/DA_...   \n",
       "22  DA_138  /mnt/d/Lab/16S-Taxa-Phlyo/result/M15/fastq/DA_...   \n",
       "23  DA_141  /mnt/d/Lab/16S-Taxa-Phlyo/result/M15/fastq/DA_...   \n",
       "24  DA_170  /mnt/d/Lab/16S-Taxa-Phlyo/result/M15/fastq/DA_...   \n",
       "25  DO_103  /mnt/d/Lab/16S-Taxa-Phlyo/result/M15/fastq/DO_...   \n",
       "26  DA_200  /mnt/d/Lab/16S-Taxa-Phlyo/result/M15/fastq/DA_...   \n",
       "27  DA_210  /mnt/d/Lab/16S-Taxa-Phlyo/result/M15/fastq/DA_...   \n",
       "28  DA_139  /mnt/d/Lab/16S-Taxa-Phlyo/result/M15/fastq/DA_...   \n",
       "29  DA_163  /mnt/d/Lab/16S-Taxa-Phlyo/result/M15/fastq/DA_...   \n",
       "30  DA_176  /mnt/d/Lab/16S-Taxa-Phlyo/result/M15/fastq/DA_...   \n",
       "31  DA_183  /mnt/d/Lab/16S-Taxa-Phlyo/result/M15/fastq/DA_...   \n",
       "32  DA_203  /mnt/d/Lab/16S-Taxa-Phlyo/result/M15/fastq/DA_...   \n",
       "33  DA_169  /mnt/d/Lab/16S-Taxa-Phlyo/result/M15/fastq/DA_...   \n",
       "34  DA_191  /mnt/d/Lab/16S-Taxa-Phlyo/result/M15/fastq/DA_...   \n",
       "35  DA_174  /mnt/d/Lab/16S-Taxa-Phlyo/result/M15/fastq/DA_...   \n",
       "36  DA_192  /mnt/d/Lab/16S-Taxa-Phlyo/result/M15/fastq/DA_...   \n",
       "37  DA_136  /mnt/d/Lab/16S-Taxa-Phlyo/result/M15/fastq/DA_...   \n",
       "\n",
       "                                                   R2  \n",
       "0   /mnt/d/Lab/16S-Taxa-Phlyo/result/M15/fastq/DA_...  \n",
       "1   /mnt/d/Lab/16S-Taxa-Phlyo/result/M15/fastq/DO_...  \n",
       "2   /mnt/d/Lab/16S-Taxa-Phlyo/result/M15/fastq/DA_...  \n",
       "3   /mnt/d/Lab/16S-Taxa-Phlyo/result/M15/fastq/DA_...  \n",
       "4   /mnt/d/Lab/16S-Taxa-Phlyo/result/M15/fastq/DA_...  \n",
       "5   /mnt/d/Lab/16S-Taxa-Phlyo/result/M15/fastq/DA_...  \n",
       "6   /mnt/d/Lab/16S-Taxa-Phlyo/result/M15/fastq/DA_...  \n",
       "7   /mnt/d/Lab/16S-Taxa-Phlyo/result/M15/fastq/DA_...  \n",
       "8   /mnt/d/Lab/16S-Taxa-Phlyo/result/M15/fastq/DA_...  \n",
       "9   /mnt/d/Lab/16S-Taxa-Phlyo/result/M15/fastq/DA_...  \n",
       "10  /mnt/d/Lab/16S-Taxa-Phlyo/result/M15/fastq/DA_...  \n",
       "11  /mnt/d/Lab/16S-Taxa-Phlyo/result/M15/fastq/DA_...  \n",
       "12  /mnt/d/Lab/16S-Taxa-Phlyo/result/M15/fastq/DA_...  \n",
       "13  /mnt/d/Lab/16S-Taxa-Phlyo/result/M15/fastq/DA_...  \n",
       "14  /mnt/d/Lab/16S-Taxa-Phlyo/result/M15/fastq/DA_...  \n",
       "15  /mnt/d/Lab/16S-Taxa-Phlyo/result/M15/fastq/DA_...  \n",
       "16  /mnt/d/Lab/16S-Taxa-Phlyo/result/M15/fastq/DA_...  \n",
       "17  /mnt/d/Lab/16S-Taxa-Phlyo/result/M15/fastq/DA_...  \n",
       "18  /mnt/d/Lab/16S-Taxa-Phlyo/result/M15/fastq/DA_...  \n",
       "19  /mnt/d/Lab/16S-Taxa-Phlyo/result/M15/fastq/DA_...  \n",
       "20  /mnt/d/Lab/16S-Taxa-Phlyo/result/M15/fastq/DA_...  \n",
       "21  /mnt/d/Lab/16S-Taxa-Phlyo/result/M15/fastq/DA_...  \n",
       "22  /mnt/d/Lab/16S-Taxa-Phlyo/result/M15/fastq/DA_...  \n",
       "23  /mnt/d/Lab/16S-Taxa-Phlyo/result/M15/fastq/DA_...  \n",
       "24  /mnt/d/Lab/16S-Taxa-Phlyo/result/M15/fastq/DA_...  \n",
       "25  /mnt/d/Lab/16S-Taxa-Phlyo/result/M15/fastq/DO_...  \n",
       "26  /mnt/d/Lab/16S-Taxa-Phlyo/result/M15/fastq/DA_...  \n",
       "27  /mnt/d/Lab/16S-Taxa-Phlyo/result/M15/fastq/DA_...  \n",
       "28  /mnt/d/Lab/16S-Taxa-Phlyo/result/M15/fastq/DA_...  \n",
       "29  /mnt/d/Lab/16S-Taxa-Phlyo/result/M15/fastq/DA_...  \n",
       "30  /mnt/d/Lab/16S-Taxa-Phlyo/result/M15/fastq/DA_...  \n",
       "31  /mnt/d/Lab/16S-Taxa-Phlyo/result/M15/fastq/DA_...  \n",
       "32  /mnt/d/Lab/16S-Taxa-Phlyo/result/M15/fastq/DA_...  \n",
       "33  /mnt/d/Lab/16S-Taxa-Phlyo/result/M15/fastq/DA_...  \n",
       "34  /mnt/d/Lab/16S-Taxa-Phlyo/result/M15/fastq/DA_...  \n",
       "35  /mnt/d/Lab/16S-Taxa-Phlyo/result/M15/fastq/DA_...  \n",
       "36  /mnt/d/Lab/16S-Taxa-Phlyo/result/M15/fastq/DA_...  \n",
       "37  /mnt/d/Lab/16S-Taxa-Phlyo/result/M15/fastq/DA_...  "
      ]
     },
     "execution_count": 125,
     "metadata": {},
     "output_type": "execute_result"
    }
   ],
   "source": [
    "df1"
   ]
  },
  {
   "cell_type": "code",
   "execution_count": null,
   "metadata": {},
   "outputs": [],
   "source": []
  },
  {
   "cell_type": "code",
   "execution_count": 118,
   "metadata": {
    "execution": {
     "iopub.execute_input": "2021-01-11T09:07:32.251138Z",
     "iopub.status.busy": "2021-01-11T09:07:32.250766Z",
     "iopub.status.idle": "2021-01-11T09:07:32.256932Z",
     "shell.execute_reply": "2021-01-11T09:07:32.255269Z",
     "shell.execute_reply.started": "2021-01-11T09:07:32.251102Z"
    }
   },
   "outputs": [],
   "source": [
    "def ABI2Fastq(abi, fastq):\n",
    "    SeqIO.convert(abi, \"abi\", fastq, \"fastq\")"
   ]
  },
  {
   "cell_type": "code",
   "execution_count": 119,
   "metadata": {
    "execution": {
     "iopub.execute_input": "2021-01-11T09:07:32.408854Z",
     "iopub.status.busy": "2021-01-11T09:07:32.408321Z",
     "iopub.status.idle": "2021-01-11T09:07:32.415023Z",
     "shell.execute_reply": "2021-01-11T09:07:32.413426Z",
     "shell.execute_reply.started": "2021-01-11T09:07:32.408797Z"
    }
   },
   "outputs": [],
   "source": [
    "def ABI2FastqParallel(abiList, fastqList):\n",
    "    pool = Pool(processes = 4)\n",
    "    pool.starmap(ABI2Fastq, zip(abiList, fastqList))\n",
    "    pool.close()\n",
    "    pool.join()\n",
    "    pool.terminate()"
   ]
  },
  {
   "cell_type": "code",
   "execution_count": 120,
   "metadata": {
    "execution": {
     "iopub.execute_input": "2021-01-11T09:08:22.011017Z",
     "iopub.status.busy": "2021-01-11T09:08:22.010513Z",
     "iopub.status.idle": "2021-01-11T09:08:22.955563Z",
     "shell.execute_reply": "2021-01-11T09:08:22.954623Z",
     "shell.execute_reply.started": "2021-01-11T09:08:22.010944Z"
    }
   },
   "outputs": [],
   "source": [
    "ABI2FastqParallel(df[\"R1\"], R1OutList)"
   ]
  },
  {
   "cell_type": "code",
   "execution_count": 121,
   "metadata": {
    "execution": {
     "iopub.execute_input": "2021-01-11T09:08:23.648832Z",
     "iopub.status.busy": "2021-01-11T09:08:23.648425Z",
     "iopub.status.idle": "2021-01-11T09:08:24.701522Z",
     "shell.execute_reply": "2021-01-11T09:08:24.700596Z",
     "shell.execute_reply.started": "2021-01-11T09:08:23.648764Z"
    }
   },
   "outputs": [],
   "source": [
    "ABI2FastqParallel(df[\"R2\"], R2OutList)"
   ]
  },
  {
   "cell_type": "code",
   "execution_count": 122,
   "metadata": {
    "execution": {
     "iopub.execute_input": "2021-01-11T09:08:46.667191Z",
     "iopub.status.busy": "2021-01-11T09:08:46.666848Z",
     "iopub.status.idle": "2021-01-11T09:08:46.674104Z",
     "shell.execute_reply": "2021-01-11T09:08:46.672881Z",
     "shell.execute_reply.started": "2021-01-11T09:08:46.667156Z"
    }
   },
   "outputs": [
    {
     "data": {
      "text/plain": [
       "38"
      ]
     },
     "execution_count": 122,
     "metadata": {},
     "output_type": "execute_result"
    }
   ],
   "source": [
    "len(R1OutList)"
   ]
  },
  {
   "cell_type": "code",
   "execution_count": 123,
   "metadata": {
    "execution": {
     "iopub.execute_input": "2021-01-11T09:09:00.141838Z",
     "iopub.status.busy": "2021-01-11T09:09:00.141522Z",
     "iopub.status.idle": "2021-01-11T09:09:00.147956Z",
     "shell.execute_reply": "2021-01-11T09:09:00.146456Z",
     "shell.execute_reply.started": "2021-01-11T09:09:00.141807Z"
    }
   },
   "outputs": [
    {
     "data": {
      "text/plain": [
       "38"
      ]
     },
     "execution_count": 123,
     "metadata": {},
     "output_type": "execute_result"
    }
   ],
   "source": [
    "len(df)"
   ]
  },
  {
   "cell_type": "code",
   "execution_count": 134,
   "metadata": {
    "execution": {
     "iopub.execute_input": "2021-01-11T09:17:12.745708Z",
     "iopub.status.busy": "2021-01-11T09:17:12.745189Z",
     "iopub.status.idle": "2021-01-11T09:17:12.759766Z",
     "shell.execute_reply": "2021-01-11T09:17:12.758025Z",
     "shell.execute_reply.started": "2021-01-11T09:17:12.745655Z"
    }
   },
   "outputs": [],
   "source": [
    "def RunFastp(R1, R2, prefix, OutDir):\n",
    "    trimDir = os.path.join(OutDir, \"trim\")\n",
    "    mergeDir = os.path.join(OutDir, \"merge\")\n",
    "    fastpDir = os.path.join(OutDir, \"fastp\")\n",
    "    unmergeDir = os.path.join(OutDir, \"unmerge\")\n",
    "    if os.path.exists(OutDir) == 0:\n",
    "        os.makedirs(OutDir, 0o777, True)\n",
    "    if os.path.exists(trimDir) == 0:\n",
    "        os.makedirs(trimDir, 0o777, True)\n",
    "    if os.path.exists(mergeDir) == 0:\n",
    "        os.makedirs(mergeDir, 0o777, True)\n",
    "    if os.path.exists(fastpDir) == 0:\n",
    "        os.makedirs(fastpDir, 0o777, True)\n",
    "    if os.path.exists(unmergeDir) == 0:\n",
    "        os.makedirs(unmergeDir, 0o777, True)        \n",
    "    cmd = \"fastp -i \" + R1 + \" -I \" + R2 + \" -o \" + os.path.join(trimDir, prefix + \"_trim_R1.fastq\") + \" -O \" + os.path.join(trimDir, prefix + \"_trim_R2.fastq\") + \\\n",
    "    \" --trim_front1 30 --max_len1 750 --trim_front2 30 --max_len2 750 --cut_front --cut_tail --cut_window_size 20 --cut_mean_quality 30\" + \\\n",
    "    \" --merge --merged_out \" + os.path.join(mergeDir, prefix + \".fastq\") + \" --correction --overlap_len_require 20 \" + \\\n",
    "    \" --html \" + os.path.join(fastpDir, prefix + \".html\") + \" --report_title \" + prefix + \"-fastq-merge-report\"\n",
    "    #print(cmd)\n",
    "    subprocess.call(cmd, shell=True)"
   ]
  },
  {
   "cell_type": "code",
   "execution_count": 135,
   "metadata": {
    "execution": {
     "iopub.execute_input": "2021-01-11T09:17:13.176569Z",
     "iopub.status.busy": "2021-01-11T09:17:13.176102Z",
     "iopub.status.idle": "2021-01-11T09:17:13.183255Z",
     "shell.execute_reply": "2021-01-11T09:17:13.181744Z",
     "shell.execute_reply.started": "2021-01-11T09:17:13.176525Z"
    }
   },
   "outputs": [],
   "source": [
    "def RunFastpParallel(R1List, R2List, prefixList, OutDir):\n",
    "    pool = Pool(processes = 4)\n",
    "    pool.starmap(RunFastp, zip(R1List, R2List, prefixList, repeat(OutDir)))\n",
    "    pool.close()\n",
    "    pool.join()\n",
    "    pool.terminate()"
   ]
  },
  {
   "cell_type": "code",
   "execution_count": 136,
   "metadata": {
    "execution": {
     "iopub.execute_input": "2021-01-11T09:17:13.664914Z",
     "iopub.status.busy": "2021-01-11T09:17:13.664466Z",
     "iopub.status.idle": "2021-01-11T09:17:25.635712Z",
     "shell.execute_reply": "2021-01-11T09:17:25.633289Z",
     "shell.execute_reply.started": "2021-01-11T09:17:13.664867Z"
    }
   },
   "outputs": [],
   "source": [
    "RunFastpParallel(df1[\"R1\"], df1[\"R2\"], df1[\"ID\"], OutDir)"
   ]
  },
  {
   "cell_type": "code",
   "execution_count": 5,
   "metadata": {
    "execution": {
     "iopub.execute_input": "2021-01-11T09:42:24.662004Z",
     "iopub.status.busy": "2021-01-11T09:42:24.661506Z",
     "iopub.status.idle": "2021-01-11T09:42:24.666786Z",
     "shell.execute_reply": "2021-01-11T09:42:24.665517Z",
     "shell.execute_reply.started": "2021-01-11T09:42:24.661964Z"
    }
   },
   "outputs": [],
   "source": [
    "import os"
   ]
  },
  {
   "cell_type": "code",
   "execution_count": 3,
   "metadata": {
    "execution": {
     "iopub.execute_input": "2021-01-11T09:39:18.656471Z",
     "iopub.status.busy": "2021-01-11T09:39:18.656102Z",
     "iopub.status.idle": "2021-01-11T09:39:18.661823Z",
     "shell.execute_reply": "2021-01-11T09:39:18.660452Z",
     "shell.execute_reply.started": "2021-01-11T09:39:18.656442Z"
    }
   },
   "outputs": [],
   "source": [
    "from Bio import SeqIO"
   ]
  },
  {
   "cell_type": "code",
   "execution_count": 6,
   "metadata": {
    "execution": {
     "iopub.execute_input": "2021-01-11T09:42:39.941372Z",
     "iopub.status.busy": "2021-01-11T09:42:39.940746Z",
     "iopub.status.idle": "2021-01-11T09:42:39.948725Z",
     "shell.execute_reply": "2021-01-11T09:42:39.946366Z",
     "shell.execute_reply.started": "2021-01-11T09:42:39.941317Z"
    }
   },
   "outputs": [],
   "source": [
    "InDir = \"/mnt/d/Lab/16S-Taxa-Phlyo/result/M15/merge\""
   ]
  },
  {
   "cell_type": "code",
   "execution_count": 16,
   "metadata": {
    "execution": {
     "iopub.execute_input": "2021-01-11T12:47:58.131477Z",
     "iopub.status.busy": "2021-01-11T12:47:58.131185Z",
     "iopub.status.idle": "2021-01-11T12:47:58.290313Z",
     "shell.execute_reply": "2021-01-11T12:47:58.288665Z",
     "shell.execute_reply.started": "2021-01-11T12:47:58.131448Z"
    }
   },
   "outputs": [],
   "source": [
    "allSeq = []\n",
    "for file in os.listdir(InDir):\n",
    "    if file.endswith(\".fastq\") and os.path.getsize(os.path.join(InDir, file)) > 0:\n",
    "        for seq in SeqIO.parse(os.path.join(InDir, file), \"fastq\"):\n",
    "            seq.id = file.replace(\".fastq\", \"\")\n",
    "            seq.name = \"\"\n",
    "            seq.description = seq.description.split(\" \")[1]\n",
    "            allSeq.append(seq)"
   ]
  },
  {
   "cell_type": "code",
   "execution_count": 17,
   "metadata": {
    "collapsed": true,
    "execution": {
     "iopub.execute_input": "2021-01-11T12:47:58.798094Z",
     "iopub.status.busy": "2021-01-11T12:47:58.797592Z",
     "iopub.status.idle": "2021-01-11T12:47:58.807946Z",
     "shell.execute_reply": "2021-01-11T12:47:58.805825Z",
     "shell.execute_reply.started": "2021-01-11T12:47:58.798034Z"
    },
    "jupyter": {
     "outputs_hidden": true
    }
   },
   "outputs": [
    {
     "data": {
      "text/plain": [
       "[SeqRecord(seq=Seq('AGCGAAGCACCTAAGAAAGATTCTTCGGATGAATTCTTTTGTGACTGAGCGGCG...AAG'), id='DA_134', name='', description='merged_721_658', dbxrefs=[]),\n",
       " SeqRecord(seq=Seq('AAGCACTTAGGTTTGATTCTTCGGATGAAGACTTTTGTGACTGAGCGGCGGACG...GTA'), id='DA_136', name='', description='merged_750_624', dbxrefs=[]),\n",
       " SeqRecord(seq=Seq('CGTTGGCCCAACTGATTGAACGTGCTTGCACGGACTTGACGTTGGTTTACCAGC...GGG'), id='DA_138', name='', description='merged_750_672', dbxrefs=[]),\n",
       " SeqRecord(seq=Seq('CACTTAAGTTCGATTCTTCGGATGAAGACTTTTGTGACTGAGCGGCGGACGGGT...AAA'), id='DA_139', name='', description='merged_750_621', dbxrefs=[]),\n",
       " SeqRecord(seq=Seq('AGCACTTAAGTTCGATTCTTCGGATGAAGACTTTTGTGACTGAGCGGCGGACGG...GGG'), id='DA_141', name='', description='merged_750_629', dbxrefs=[]),\n",
       " SeqRecord(seq=Seq('AAGCACTTAAGTTTGATTCTTCGGATGAAGACTTTTGTGACTGAGCGGCGGACG...AAG'), id='DA_151', name='', description='merged_750_626', dbxrefs=[]),\n",
       " SeqRecord(seq=Seq('CGATGAAACCGCCCTCGGGCGGACATGAAGTGGCGAACGGGTGAGTAACACGTG...AAG'), id='DA_152', name='', description='merged_750_604', dbxrefs=[]),\n",
       " SeqRecord(seq=Seq('CACCTAAGAAAGATTCTTCGGATGAATTCTTTTGTGACTGAGCGGCGGACGGGT...AAG'), id='DA_154', name='', description='merged_750_622', dbxrefs=[]),\n",
       " SeqRecord(seq=Seq('AAGCAATCTAACGGAAGTTTTCGGATGGAAGCTGGATTGACTGAGTGGCGGACG...GGA'), id='DA_156', name='', description='merged_750_627', dbxrefs=[]),\n",
       " SeqRecord(seq=Seq('GAAACGACATCGAAAGCTTGCTTTTGATGGGCGTCGACCGGCGCACGGGTGAGT...AAG'), id='DA_158', name='', description='merged_750_630', dbxrefs=[]),\n",
       " SeqRecord(seq=Seq('AGAAAGTTTTGAATGATCCTTCGGGTGAAATTAGAACTGGAAAGTGGCGAACGG...GGA'), id='DA_161', name='', description='merged_750_620', dbxrefs=[]),\n",
       " SeqRecord(seq=Seq('AGCCATTGACTGAAACTTCGGTAGAAGGATATGGTGGAAAGCGGCGGACGGGTG...AGG'), id='DA_163', name='', description='merged_750_607', dbxrefs=[]),\n",
       " SeqRecord(seq=Seq('GCATTTTAGATGAAGTTTTCGGATGGATTCTGAGATGACTGAGTGGCGGACGGG...AAG'), id='DA_164', name='', description='merged_750_622', dbxrefs=[]),\n",
       " SeqRecord(seq=Seq('GCAGCATGGGAGTAGCAATACTTCCGATGGCGACCGGCGCACGGGTGAGTAACA...GCA'), id='DA_166', name='', description='merged_750_623', dbxrefs=[]),\n",
       " SeqRecord(seq=Seq('GAAGCACCTAAGAAAGATTCTTCGGATGAATTCTTTTGTGACTGAGCGGCGGAC...TAA'), id='DA_168', name='', description='merged_750_625', dbxrefs=[]),\n",
       " SeqRecord(seq=Seq('CGATGAAACCGCCCTCGGGCGGACATGAAGTGGCGAACGGGTGAGTAACACGTG...AAG'), id='DA_169', name='', description='merged_750_604', dbxrefs=[]),\n",
       " SeqRecord(seq=Seq('AAGCACCTAAGAAAGATTCTTCGGATGAATTCTTTTGTGACTGAGCGGCGGACG...AAG'), id='DA_170', name='', description='merged_750_625', dbxrefs=[]),\n",
       " SeqRecord(seq=Seq('GAGAAGCCATTGACTGAAACTTCGGTAGAAGGATATGGTGGAAAGCGGCGGACG...CCG'), id='DA_172', name='', description='merged_750_606', dbxrefs=[]),\n",
       " SeqRecord(seq=Seq('GAAGCACCTAAGAAAGATTCTTCGGATGAATTCTTTTGTGACTGAGCGGCGGAC...AGG'), id='DA_174', name='', description='merged_750_627', dbxrefs=[]),\n",
       " SeqRecord(seq=Seq('CACTTAGGTTTGATTCTTCGGATGAAGACTTTTGTGACTGAGCGGCGGACGGGT...AAG'), id='DA_176', name='', description='merged_750_623', dbxrefs=[]),\n",
       " SeqRecord(seq=Seq('AGCACCTAAGAAAGATTCTTCGGATGAATTCTTTTGTGACTGAGCGGCGGACGG...AGG'), id='DA_177', name='', description='merged_750_625', dbxrefs=[]),\n",
       " SeqRecord(seq=Seq('CCTAAGAAAGATTCTTCGGATGAATTCTTTTGTGACTGAGCGGCGGACGGGTGA...AAG'), id='DA_178', name='', description='merged_750_620', dbxrefs=[]),\n",
       " SeqRecord(seq=Seq('GCGATTTAACGGAAGTTTTCGGATGGAAGCTAAATTGACTGAGTGGCGGACGGG...AAG'), id='DA_180', name='', description='merged_750_623', dbxrefs=[]),\n",
       " SeqRecord(seq=Seq('AAGCACCTAAGAAAGATTCTTCGGATGAATTCTTTTGTGACTGAGCGGCGGACG...GTA'), id='DA_182', name='', description='merged_750_623', dbxrefs=[]),\n",
       " SeqRecord(seq=Seq('GGCAGCATGAACTTAGCTTGCTAAGTTTGATGGCGACCGGCGCACGGGTGAGTA...CGC'), id='DA_183', name='', description='merged_750_623', dbxrefs=[]),\n",
       " SeqRecord(seq=Seq('CTTTCTTACACCGAATGCTTGCATTCACCGTAAGAAGTTGAGTGGCGGACGGGT...AAG'), id='DA_189', name='', description='merged_750_653', dbxrefs=[]),\n",
       " SeqRecord(seq=Seq('GAGAGAGAGCTTGCTTTCTCGAGCGAGTGGCGAACGGGTGAGTAACGCGTGAGG...AGG'), id='DA_191', name='', description='merged_750_603', dbxrefs=[]),\n",
       " SeqRecord(seq=Seq('AGCGATTTAGGCGGAAGTTTTCGGATGGAAGTTAAATTGACTGAGTGGCGGACG...GAG'), id='DA_192', name='', description='merged_750_632', dbxrefs=[]),\n",
       " SeqRecord(seq=Seq('AGAAAGTTTTGAATGATCCTTCGGGTGAAATTAGAACTGGAAAGTGGCGAACGG...AAG'), id='DA_198', name='', description='merged_750_618', dbxrefs=[]),\n",
       " SeqRecord(seq=Seq('GAAGCACCTAAGAAAGATTCTTCGGATGAATTCTTTTGTGACTGAGCGGCGGAC...TAA'), id='DA_199', name='', description='merged_750_625', dbxrefs=[]),\n",
       " SeqRecord(seq=Seq('CAGCATGGTCTTAGCTTGCTAAGGCCGATGGCGACCGGCGCACGGGTGAGTAAC...ACC'), id='DA_200', name='', description='merged_750_620', dbxrefs=[]),\n",
       " SeqRecord(seq=Seq('AAGCACTTAGGTTTGATTCTTCGGATGAAGACTTTTGTGACTGAGCGGCGGACG...AAG'), id='DA_203', name='', description='merged_750_626', dbxrefs=[]),\n",
       " SeqRecord(seq=Seq('AAGCGATTTAATCGGAAGTTTTCGGATGGAAGCTGAATTGACTGAGTGGCGGAC...GGG'), id='DA_205', name='', description='merged_750_629', dbxrefs=[]),\n",
       " SeqRecord(seq=Seq('AAGCACCTAAGAAAGATTCTTCGGATGAATTCTTTTGTGACTGAGCGGCGGACG...GTA'), id='DA_206', name='', description='merged_716_657', dbxrefs=[]),\n",
       " SeqRecord(seq=Seq('GAGAAAGTTTTGAATGATCCTTCGGGTGAAATTAGAACTGGAAAGTGGCGAACG...CAA'), id='DA_208', name='', description='merged_750_618', dbxrefs=[]),\n",
       " SeqRecord(seq=Seq('GAAGGTTTTGAATGATCCTTCGGGTGAAATTAGAACTGGAAAGTGGCGAACGGG...GGA'), id='DA_210', name='', description='merged_750_619', dbxrefs=[]),\n",
       " SeqRecord(seq=Seq('ACGCCTCTTTTTCCACCGGAGCTTGCTCCATCGGAAAAAGAGGAGTGGCGAACG...TTG'), id='DO_100', name='', description='merged_750_657', dbxrefs=[]),\n",
       " SeqRecord(seq=Seq('CTTTTTCTTTCACCGGAGCTTGCTCCACCGAAAGAAAAAGAGTGGCGAACGGGT...TGG'), id='DO_103', name='', description='merged_750_655', dbxrefs=[])]"
      ]
     },
     "execution_count": 17,
     "metadata": {},
     "output_type": "execute_result"
    }
   ],
   "source": [
    "allSeq"
   ]
  },
  {
   "cell_type": "code",
   "execution_count": 18,
   "metadata": {
    "execution": {
     "iopub.execute_input": "2021-01-11T12:48:05.026143Z",
     "iopub.status.busy": "2021-01-11T12:48:05.025810Z",
     "iopub.status.idle": "2021-01-11T12:48:05.078150Z",
     "shell.execute_reply": "2021-01-11T12:48:05.076804Z",
     "shell.execute_reply.started": "2021-01-11T12:48:05.026101Z"
    }
   },
   "outputs": [
    {
     "data": {
      "text/plain": [
       "38"
      ]
     },
     "execution_count": 18,
     "metadata": {},
     "output_type": "execute_result"
    }
   ],
   "source": [
    "SeqIO.write(allSeq, \"/mnt/d/Lab/16S-Taxa-Phlyo/result/M15/merged.fasta\", \"fasta\")"
   ]
  },
  {
   "cell_type": "code",
   "execution_count": null,
   "metadata": {},
   "outputs": [],
   "source": []
  },
  {
   "cell_type": "code",
   "execution_count": 10,
   "metadata": {
    "execution": {
     "iopub.execute_input": "2021-01-10T03:31:51.857292Z",
     "iopub.status.busy": "2021-01-10T03:31:51.857012Z",
     "iopub.status.idle": "2021-01-10T03:31:51.862294Z",
     "shell.execute_reply": "2021-01-10T03:31:51.861025Z",
     "shell.execute_reply.started": "2021-01-10T03:31:51.857264Z"
    }
   },
   "outputs": [],
   "source": [
    "def ABI2Fastq(abi, sampleID, OutDir):\n",
    "    if os.path.exists(OutDir) == 0:\n",
    "        os.makedirs(OutDir, 0o777, True)\n",
    "    SeqIO.convert(ab1, \"abi\", os.path.join(OutDir, sampleID+\".fastq\"), \"fastq\")"
   ]
  },
  {
   "cell_type": "code",
   "execution_count": 11,
   "metadata": {
    "execution": {
     "iopub.execute_input": "2021-01-10T03:31:52.072000Z",
     "iopub.status.busy": "2021-01-10T03:31:52.071769Z",
     "iopub.status.idle": "2021-01-10T03:31:52.076664Z",
     "shell.execute_reply": "2021-01-10T03:31:52.075638Z",
     "shell.execute_reply.started": "2021-01-10T03:31:52.071978Z"
    }
   },
   "outputs": [],
   "source": [
    "def ABI2FastqParallel(abiList, sampleIDList, OutDir):\n",
    "    pool = Pool(processes = 4)\n",
    "    pool.starmap(ABI2Fastq, zip(abiList, sampleIDList, repeat(OutDir)))\n",
    "    pool.close()\n",
    "    pool.join()\n",
    "    pool.terminate()"
   ]
  }
 ],
 "metadata": {
  "kernelspec": {
   "display_name": "Python 3",
   "language": "python",
   "name": "python3"
  },
  "language_info": {
   "codemirror_mode": {
    "name": "ipython",
    "version": 3
   },
   "file_extension": ".py",
   "mimetype": "text/x-python",
   "name": "python",
   "nbconvert_exporter": "python",
   "pygments_lexer": "ipython3",
   "version": "3.8.6"
  }
 },
 "nbformat": 4,
 "nbformat_minor": 4
}
