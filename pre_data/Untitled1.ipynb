{
 "cells": [
  {
   "cell_type": "code",
   "execution_count": null,
   "metadata": {},
   "outputs": [],
   "source": []
  },
  {
   "cell_type": "code",
   "execution_count": 10,
   "metadata": {
    "execution": {
     "iopub.execute_input": "2021-01-10T03:31:51.857292Z",
     "iopub.status.busy": "2021-01-10T03:31:51.857012Z",
     "iopub.status.idle": "2021-01-10T03:31:51.862294Z",
     "shell.execute_reply": "2021-01-10T03:31:51.861025Z",
     "shell.execute_reply.started": "2021-01-10T03:31:51.857264Z"
    }
   },
   "outputs": [],
   "source": [
    "def ABI2Fastq(abi, sampleID, OutDir):\n",
    "    if os.path.exists(OutDir) == 0:\n",
    "        os.makedirs(OutDir, 0o777, True)\n",
    "    SeqIO.convert(ab1, \"abi\", os.path.join(OutDir, sampleID+\".fastq\"), \"fastq\")"
   ]
  },
  {
   "cell_type": "code",
   "execution_count": 11,
   "metadata": {
    "execution": {
     "iopub.execute_input": "2021-01-10T03:31:52.072000Z",
     "iopub.status.busy": "2021-01-10T03:31:52.071769Z",
     "iopub.status.idle": "2021-01-10T03:31:52.076664Z",
     "shell.execute_reply": "2021-01-10T03:31:52.075638Z",
     "shell.execute_reply.started": "2021-01-10T03:31:52.071978Z"
    }
   },
   "outputs": [],
   "source": [
    "def ABI2FastqParallel(abiList, sampleIDList, OutDir):\n",
    "    pool = Pool(processes = 4)\n",
    "    pool.starmap(ABI2Fastq, zip(abiList, sampleIDList, repeat(OutDir)))\n",
    "    pool.close()\n",
    "    pool.join()\n",
    "    pool.terminate()"
   ]
  }
 ],
 "metadata": {
  "kernelspec": {
   "display_name": "Python 3",
   "language": "python",
   "name": "python3"
  },
  "language_info": {
   "codemirror_mode": {
    "name": "ipython",
    "version": 3
   },
   "file_extension": ".py",
   "mimetype": "text/x-python",
   "name": "python",
   "nbconvert_exporter": "python",
   "pygments_lexer": "ipython3",
   "version": "3.8.6"
  }
 },
 "nbformat": 4,
 "nbformat_minor": 4
}
