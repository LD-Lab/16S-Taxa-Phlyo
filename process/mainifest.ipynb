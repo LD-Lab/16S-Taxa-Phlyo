{
 "cells": [
  {
   "cell_type": "code",
   "execution_count": 81,
   "metadata": {
    "execution": {
     "iopub.execute_input": "2021-01-12T03:05:28.694294Z",
     "iopub.status.busy": "2021-01-12T03:05:28.694038Z",
     "iopub.status.idle": "2021-01-12T03:05:28.698722Z",
     "shell.execute_reply": "2021-01-12T03:05:28.697483Z",
     "shell.execute_reply.started": "2021-01-12T03:05:28.694268Z"
    }
   },
   "outputs": [],
   "source": [
    "import os\n",
    "import re\n",
    "import pandas as pd"
   ]
  },
  {
   "cell_type": "code",
   "execution_count": 82,
   "metadata": {
    "execution": {
     "iopub.execute_input": "2021-01-12T03:05:29.089758Z",
     "iopub.status.busy": "2021-01-12T03:05:29.089523Z",
     "iopub.status.idle": "2021-01-12T03:05:29.094393Z",
     "shell.execute_reply": "2021-01-12T03:05:29.092703Z",
     "shell.execute_reply.started": "2021-01-12T03:05:29.089735Z"
    }
   },
   "outputs": [],
   "source": [
    "import collections"
   ]
  },
  {
   "cell_type": "code",
   "execution_count": 83,
   "metadata": {
    "execution": {
     "iopub.execute_input": "2021-01-12T03:05:29.510540Z",
     "iopub.status.busy": "2021-01-12T03:05:29.510136Z",
     "iopub.status.idle": "2021-01-12T03:05:29.517237Z",
     "shell.execute_reply": "2021-01-12T03:05:29.515462Z",
     "shell.execute_reply.started": "2021-01-12T03:05:29.510499Z"
    }
   },
   "outputs": [],
   "source": [
    "import os\n",
    "import argparse\n",
    "import subprocess\n",
    "from Bio import SeqIO"
   ]
  },
  {
   "cell_type": "code",
   "execution_count": 84,
   "metadata": {
    "execution": {
     "iopub.execute_input": "2021-01-12T03:05:30.017832Z",
     "iopub.status.busy": "2021-01-12T03:05:30.017610Z",
     "iopub.status.idle": "2021-01-12T03:05:30.021479Z",
     "shell.execute_reply": "2021-01-12T03:05:30.020593Z",
     "shell.execute_reply.started": "2021-01-12T03:05:30.017809Z"
    }
   },
   "outputs": [],
   "source": [
    "from itertools import repeat\n",
    "from multiprocessing import Pool, freeze_support"
   ]
  },
  {
   "cell_type": "code",
   "execution_count": 118,
   "metadata": {
    "execution": {
     "iopub.execute_input": "2021-01-12T09:33:22.951931Z",
     "iopub.status.busy": "2021-01-12T09:33:22.951596Z",
     "iopub.status.idle": "2021-01-12T09:33:22.958066Z",
     "shell.execute_reply": "2021-01-12T09:33:22.956398Z",
     "shell.execute_reply.started": "2021-01-12T09:33:22.951897Z"
    }
   },
   "outputs": [],
   "source": [
    "InDir = \"/mnt/d/Lab/16S-Taxa-Phlyo/data/M15\""
   ]
  },
  {
   "cell_type": "code",
   "execution_count": 86,
   "metadata": {
    "execution": {
     "iopub.execute_input": "2021-01-12T03:05:31.079379Z",
     "iopub.status.busy": "2021-01-12T03:05:31.079152Z",
     "iopub.status.idle": "2021-01-12T03:05:31.207940Z",
     "shell.execute_reply": "2021-01-12T03:05:31.206517Z",
     "shell.execute_reply.started": "2021-01-12T03:05:31.079354Z"
    }
   },
   "outputs": [
    {
     "name": "stdout",
     "output_type": "stream",
     "text": [
      "180\n"
     ]
    }
   ],
   "source": [
    "!ls /mnt/d/Lab/16S-Taxa-Phlyo/data/M15 | wc -l"
   ]
  },
  {
   "cell_type": "code",
   "execution_count": 123,
   "metadata": {
    "execution": {
     "iopub.execute_input": "2021-01-12T09:33:58.158099Z",
     "iopub.status.busy": "2021-01-12T09:33:58.157822Z",
     "iopub.status.idle": "2021-01-12T09:33:58.166309Z",
     "shell.execute_reply": "2021-01-12T09:33:58.165104Z",
     "shell.execute_reply.started": "2021-01-12T09:33:58.158071Z"
    }
   },
   "outputs": [],
   "source": [
    "def manifestGen(InDir):\n",
    "    sampleID = []\n",
    "    single = {}\n",
    "    pair = {}\n",
    "    df = pd.DataFrame()\n",
    "    SampleList = collections.defaultdict(list)\n",
    "\n",
    "    for file in os.listdir(InDir):\n",
    "        filePath = os.path.join(InDir, file)\n",
    "        if file.endswith(\".ab1\") and os.path.getsize(filePath) > 0:\n",
    "            info = file.split(\"__\")\n",
    "            sampleID.append(info[0])\n",
    "            SampleList[info[0]].append(filePath)\n",
    "\n",
    "    for sample in set(sampleID):\n",
    "        if len(SampleList[sample]) == 1:\n",
    "            single[sample] = SampleList[sample]\n",
    "        elif len(SampleList[sample]) == 2:\n",
    "            pair[sample] = SampleList[sample]\n",
    "            for end in pair[sample]:\n",
    "                if \"F__\" in end:\n",
    "                    R1 = end\n",
    "                elif \"R__\" in end:\n",
    "                    R2 = end\n",
    "            df = df.append({\"ID\": sample, \"R1\":R1, \"R2\":R2},ignore_index=True)\n",
    "    return single, df"
   ]
  },
  {
   "cell_type": "code",
   "execution_count": 124,
   "metadata": {
    "execution": {
     "iopub.execute_input": "2021-01-12T09:34:03.344035Z",
     "iopub.status.busy": "2021-01-12T09:34:03.343768Z",
     "iopub.status.idle": "2021-01-12T09:34:03.590743Z",
     "shell.execute_reply": "2021-01-12T09:34:03.589654Z",
     "shell.execute_reply.started": "2021-01-12T09:34:03.344006Z"
    }
   },
   "outputs": [],
   "source": [
    "single, df = manifestGen(InDir)"
   ]
  },
  {
   "cell_type": "code",
   "execution_count": 125,
   "metadata": {
    "collapsed": true,
    "execution": {
     "iopub.execute_input": "2021-01-12T09:34:05.537099Z",
     "iopub.status.busy": "2021-01-12T09:34:05.536611Z",
     "iopub.status.idle": "2021-01-12T09:34:05.548151Z",
     "shell.execute_reply": "2021-01-12T09:34:05.546340Z",
     "shell.execute_reply.started": "2021-01-12T09:34:05.537045Z"
    },
    "jupyter": {
     "outputs_hidden": true
    }
   },
   "outputs": [
    {
     "data": {
      "text/plain": [
       "{'DA_194': ['/mnt/d/Lab/16S-Taxa-Phlyo/data/M15/DA_194__M13R__E10_2004260545Q.ab1'],\n",
       " 'DA_202': ['/mnt/d/Lab/16S-Taxa-Phlyo/data/M15/DA_202__M13F__B06_2004260550Q.ab1'],\n",
       " 'DA_186': ['/mnt/d/Lab/16S-Taxa-Phlyo/data/M15/DA_186__M13R__E04_2004260539Q.ab1'],\n",
       " 'DA_157': ['/mnt/d/Lab/16S-Taxa-Phlyo/data/M15/DA_157__M13R__F07_2004260514Q.ab1'],\n",
       " 'DA_165': ['/mnt/d/Lab/16S-Taxa-Phlyo/data/M15/DA_165__M13R__C09_2004260527Q.ab1'],\n",
       " 'DA_149': ['/mnt/d/Lab/16S-Taxa-Phlyo/data/M15/DA_149__M13F__E01_2004260508Q.ab1'],\n",
       " 'DA_181': ['/mnt/d/Lab/16S-Taxa-Phlyo/data/M15/DA_181__M13R__D03_2004260560Q.ab1'],\n",
       " 'DA_160': ['/mnt/d/Lab/16S-Taxa-Phlyo/data/M15/DA_160__M13R__A03_2004260557Q.ab1'],\n",
       " 'DA_115': ['/mnt/d/Lab/16S-Taxa-Phlyo/data/M15/DA_115__M13R__H02_2004260535Q.ab1'],\n",
       " 'DA_150': ['/mnt/d/Lab/16S-Taxa-Phlyo/data/M15/DA_150__M13R__A07_2004260509Q.ab1'],\n",
       " 'DA_179': ['/mnt/d/Lab/16S-Taxa-Phlyo/data/M15/DA_179__M13F__D03_2004260520Q.ab1'],\n",
       " 'DA_184': ['/mnt/d/Lab/16S-Taxa-Phlyo/data/M15/DA_184__M13F__H03_2004260524Q.ab1'],\n",
       " 'DA_188': ['/mnt/d/Lab/16S-Taxa-Phlyo/data/M15/DA_188__M13R__A10_2004260541Q.ab1'],\n",
       " 'DA_187': ['/mnt/d/Lab/16S-Taxa-Phlyo/data/M15/DA_187__M13F__G01_2004260540Q.ab1']}"
      ]
     },
     "execution_count": 125,
     "metadata": {},
     "output_type": "execute_result"
    }
   ],
   "source": [
    "single"
   ]
  },
  {
   "cell_type": "code",
   "execution_count": 121,
   "metadata": {
    "collapsed": true,
    "execution": {
     "iopub.execute_input": "2021-01-12T09:33:26.948057Z",
     "iopub.status.busy": "2021-01-12T09:33:26.947751Z",
     "iopub.status.idle": "2021-01-12T09:33:26.967779Z",
     "shell.execute_reply": "2021-01-12T09:33:26.966296Z",
     "shell.execute_reply.started": "2021-01-12T09:33:26.948026Z"
    },
    "jupyter": {
     "outputs_hidden": true
    }
   },
   "outputs": [
    {
     "data": {
      "text/html": [
       "<div>\n",
       "<style scoped>\n",
       "    .dataframe tbody tr th:only-of-type {\n",
       "        vertical-align: middle;\n",
       "    }\n",
       "\n",
       "    .dataframe tbody tr th {\n",
       "        vertical-align: top;\n",
       "    }\n",
       "\n",
       "    .dataframe thead th {\n",
       "        text-align: right;\n",
       "    }\n",
       "</style>\n",
       "<table border=\"1\" class=\"dataframe\">\n",
       "  <thead>\n",
       "    <tr style=\"text-align: right;\">\n",
       "      <th></th>\n",
       "      <th>ID</th>\n",
       "      <th>R1</th>\n",
       "      <th>R2</th>\n",
       "    </tr>\n",
       "  </thead>\n",
       "  <tbody>\n",
       "    <tr>\n",
       "      <th>0</th>\n",
       "      <td>DA_141</td>\n",
       "      <td>/mnt/d/Lab/16S-Taxa-Phlyo/data/M15/DA_141__M13...</td>\n",
       "      <td>/mnt/d/Lab/16S-Taxa-Phlyo/data/M15/DA_141__M13...</td>\n",
       "    </tr>\n",
       "    <tr>\n",
       "      <th>1</th>\n",
       "      <td>DA_183</td>\n",
       "      <td>/mnt/d/Lab/16S-Taxa-Phlyo/data/M15/DA_183__M13...</td>\n",
       "      <td>/mnt/d/Lab/16S-Taxa-Phlyo/data/M15/DA_183__M13...</td>\n",
       "    </tr>\n",
       "    <tr>\n",
       "      <th>2</th>\n",
       "      <td>DA_208</td>\n",
       "      <td>/mnt/d/Lab/16S-Taxa-Phlyo/data/M15/DA_208__M13...</td>\n",
       "      <td>/mnt/d/Lab/16S-Taxa-Phlyo/data/M15/DA_208__M13...</td>\n",
       "    </tr>\n",
       "    <tr>\n",
       "      <th>3</th>\n",
       "      <td>DA_177</td>\n",
       "      <td>/mnt/d/Lab/16S-Taxa-Phlyo/data/M15/DA_177__M13...</td>\n",
       "      <td>/mnt/d/Lab/16S-Taxa-Phlyo/data/M15/DA_177__M13...</td>\n",
       "    </tr>\n",
       "    <tr>\n",
       "      <th>4</th>\n",
       "      <td>DA_161</td>\n",
       "      <td>/mnt/d/Lab/16S-Taxa-Phlyo/data/M15/DA_161__M13...</td>\n",
       "      <td>/mnt/d/Lab/16S-Taxa-Phlyo/data/M15/DA_161__M13...</td>\n",
       "    </tr>\n",
       "    <tr>\n",
       "      <th>5</th>\n",
       "      <td>DA_191</td>\n",
       "      <td>/mnt/d/Lab/16S-Taxa-Phlyo/data/M15/DA_191__M13...</td>\n",
       "      <td>/mnt/d/Lab/16S-Taxa-Phlyo/data/M15/DA_191__M13...</td>\n",
       "    </tr>\n",
       "    <tr>\n",
       "      <th>6</th>\n",
       "      <td>DA_139</td>\n",
       "      <td>/mnt/d/Lab/16S-Taxa-Phlyo/data/M15/DA_139__M13...</td>\n",
       "      <td>/mnt/d/Lab/16S-Taxa-Phlyo/data/M15/DA_139__M13...</td>\n",
       "    </tr>\n",
       "    <tr>\n",
       "      <th>7</th>\n",
       "      <td>DA_180</td>\n",
       "      <td>/mnt/d/Lab/16S-Taxa-Phlyo/data/M15/DA_180__M13...</td>\n",
       "      <td>/mnt/d/Lab/16S-Taxa-Phlyo/data/M15/DA_180__M13...</td>\n",
       "    </tr>\n",
       "    <tr>\n",
       "      <th>8</th>\n",
       "      <td>DA_192</td>\n",
       "      <td>/mnt/d/Lab/16S-Taxa-Phlyo/data/M15/DA_192__M13...</td>\n",
       "      <td>/mnt/d/Lab/16S-Taxa-Phlyo/data/M15/DA_192__M13...</td>\n",
       "    </tr>\n",
       "    <tr>\n",
       "      <th>9</th>\n",
       "      <td>DA_199</td>\n",
       "      <td>/mnt/d/Lab/16S-Taxa-Phlyo/data/M15/DA_199__M13...</td>\n",
       "      <td>/mnt/d/Lab/16S-Taxa-Phlyo/data/M15/DA_199__M13...</td>\n",
       "    </tr>\n",
       "    <tr>\n",
       "      <th>10</th>\n",
       "      <td>DA_210</td>\n",
       "      <td>/mnt/d/Lab/16S-Taxa-Phlyo/data/M15/DA_210__M13...</td>\n",
       "      <td>/mnt/d/Lab/16S-Taxa-Phlyo/data/M15/DA_210__M13...</td>\n",
       "    </tr>\n",
       "    <tr>\n",
       "      <th>11</th>\n",
       "      <td>DA_172</td>\n",
       "      <td>/mnt/d/Lab/16S-Taxa-Phlyo/data/M15/DA_172__M13...</td>\n",
       "      <td>/mnt/d/Lab/16S-Taxa-Phlyo/data/M15/DA_172__M13...</td>\n",
       "    </tr>\n",
       "    <tr>\n",
       "      <th>12</th>\n",
       "      <td>DA_174</td>\n",
       "      <td>/mnt/d/Lab/16S-Taxa-Phlyo/data/M15/DA_174__M13...</td>\n",
       "      <td>/mnt/d/Lab/16S-Taxa-Phlyo/data/M15/DA_174__M13...</td>\n",
       "    </tr>\n",
       "    <tr>\n",
       "      <th>13</th>\n",
       "      <td>DA_154</td>\n",
       "      <td>/mnt/d/Lab/16S-Taxa-Phlyo/data/M15/DA_154__M13...</td>\n",
       "      <td>/mnt/d/Lab/16S-Taxa-Phlyo/data/M15/DA_154__M13...</td>\n",
       "    </tr>\n",
       "    <tr>\n",
       "      <th>14</th>\n",
       "      <td>DA_136</td>\n",
       "      <td>/mnt/d/Lab/16S-Taxa-Phlyo/data/M15/DA_136__M13...</td>\n",
       "      <td>/mnt/d/Lab/16S-Taxa-Phlyo/data/M15/DA_136__M13...</td>\n",
       "    </tr>\n",
       "    <tr>\n",
       "      <th>15</th>\n",
       "      <td>DA_182</td>\n",
       "      <td>/mnt/d/Lab/16S-Taxa-Phlyo/data/M15/DA_182__M13...</td>\n",
       "      <td>/mnt/d/Lab/16S-Taxa-Phlyo/data/M15/DA_182__M13...</td>\n",
       "    </tr>\n",
       "    <tr>\n",
       "      <th>16</th>\n",
       "      <td>DA_164</td>\n",
       "      <td>/mnt/d/Lab/16S-Taxa-Phlyo/data/M15/DA_164__M13...</td>\n",
       "      <td>/mnt/d/Lab/16S-Taxa-Phlyo/data/M15/DA_164__M13...</td>\n",
       "    </tr>\n",
       "    <tr>\n",
       "      <th>17</th>\n",
       "      <td>DA_134</td>\n",
       "      <td>/mnt/d/Lab/16S-Taxa-Phlyo/data/M15/DA_134__M13...</td>\n",
       "      <td>/mnt/d/Lab/16S-Taxa-Phlyo/data/M15/DA_134__M13...</td>\n",
       "    </tr>\n",
       "    <tr>\n",
       "      <th>18</th>\n",
       "      <td>DA_151</td>\n",
       "      <td>/mnt/d/Lab/16S-Taxa-Phlyo/data/M15/DA_151__M13...</td>\n",
       "      <td>/mnt/d/Lab/16S-Taxa-Phlyo/data/M15/DA_151__M13...</td>\n",
       "    </tr>\n",
       "    <tr>\n",
       "      <th>19</th>\n",
       "      <td>DA_168</td>\n",
       "      <td>/mnt/d/Lab/16S-Taxa-Phlyo/data/M15/DA_168__M13...</td>\n",
       "      <td>/mnt/d/Lab/16S-Taxa-Phlyo/data/M15/DA_168__M13...</td>\n",
       "    </tr>\n",
       "    <tr>\n",
       "      <th>20</th>\n",
       "      <td>DA_170</td>\n",
       "      <td>/mnt/d/Lab/16S-Taxa-Phlyo/data/M15/DA_170__M13...</td>\n",
       "      <td>/mnt/d/Lab/16S-Taxa-Phlyo/data/M15/DA_170__M13...</td>\n",
       "    </tr>\n",
       "    <tr>\n",
       "      <th>21</th>\n",
       "      <td>DA_163</td>\n",
       "      <td>/mnt/d/Lab/16S-Taxa-Phlyo/data/M15/DA_163__M13...</td>\n",
       "      <td>/mnt/d/Lab/16S-Taxa-Phlyo/data/M15/DA_163__M13...</td>\n",
       "    </tr>\n",
       "    <tr>\n",
       "      <th>22</th>\n",
       "      <td>DO_100</td>\n",
       "      <td>/mnt/d/Lab/16S-Taxa-Phlyo/data/M15/DO_100__M13...</td>\n",
       "      <td>/mnt/d/Lab/16S-Taxa-Phlyo/data/M15/DO_100__M13...</td>\n",
       "    </tr>\n",
       "    <tr>\n",
       "      <th>23</th>\n",
       "      <td>DA_200</td>\n",
       "      <td>/mnt/d/Lab/16S-Taxa-Phlyo/data/M15/DA_200__M13...</td>\n",
       "      <td>/mnt/d/Lab/16S-Taxa-Phlyo/data/M15/DA_200__M13...</td>\n",
       "    </tr>\n",
       "    <tr>\n",
       "      <th>24</th>\n",
       "      <td>DA_138</td>\n",
       "      <td>/mnt/d/Lab/16S-Taxa-Phlyo/data/M15/DA_138__M13...</td>\n",
       "      <td>/mnt/d/Lab/16S-Taxa-Phlyo/data/M15/DA_138__M13...</td>\n",
       "    </tr>\n",
       "    <tr>\n",
       "      <th>25</th>\n",
       "      <td>DA_169</td>\n",
       "      <td>/mnt/d/Lab/16S-Taxa-Phlyo/data/M15/DA_169__M13...</td>\n",
       "      <td>/mnt/d/Lab/16S-Taxa-Phlyo/data/M15/DA_169__M13...</td>\n",
       "    </tr>\n",
       "    <tr>\n",
       "      <th>26</th>\n",
       "      <td>DA_152</td>\n",
       "      <td>/mnt/d/Lab/16S-Taxa-Phlyo/data/M15/DA_152__M13...</td>\n",
       "      <td>/mnt/d/Lab/16S-Taxa-Phlyo/data/M15/DA_152__M13...</td>\n",
       "    </tr>\n",
       "    <tr>\n",
       "      <th>27</th>\n",
       "      <td>DA_205</td>\n",
       "      <td>/mnt/d/Lab/16S-Taxa-Phlyo/data/M15/DA_205__M13...</td>\n",
       "      <td>/mnt/d/Lab/16S-Taxa-Phlyo/data/M15/DA_205__M13...</td>\n",
       "    </tr>\n",
       "    <tr>\n",
       "      <th>28</th>\n",
       "      <td>DO_103</td>\n",
       "      <td>/mnt/d/Lab/16S-Taxa-Phlyo/data/M15/DO_103__M13...</td>\n",
       "      <td>/mnt/d/Lab/16S-Taxa-Phlyo/data/M15/DO_103__M13...</td>\n",
       "    </tr>\n",
       "    <tr>\n",
       "      <th>29</th>\n",
       "      <td>DA_198</td>\n",
       "      <td>/mnt/d/Lab/16S-Taxa-Phlyo/data/M15/DA_198__M13...</td>\n",
       "      <td>/mnt/d/Lab/16S-Taxa-Phlyo/data/M15/DA_198__M13...</td>\n",
       "    </tr>\n",
       "    <tr>\n",
       "      <th>30</th>\n",
       "      <td>DA_176</td>\n",
       "      <td>/mnt/d/Lab/16S-Taxa-Phlyo/data/M15/DA_176__M13...</td>\n",
       "      <td>/mnt/d/Lab/16S-Taxa-Phlyo/data/M15/DA_176__M13...</td>\n",
       "    </tr>\n",
       "    <tr>\n",
       "      <th>31</th>\n",
       "      <td>DA_203</td>\n",
       "      <td>/mnt/d/Lab/16S-Taxa-Phlyo/data/M15/DA_203__M13...</td>\n",
       "      <td>/mnt/d/Lab/16S-Taxa-Phlyo/data/M15/DA_203__M13...</td>\n",
       "    </tr>\n",
       "    <tr>\n",
       "      <th>32</th>\n",
       "      <td>DA_206</td>\n",
       "      <td>/mnt/d/Lab/16S-Taxa-Phlyo/data/M15/DA_206__M13...</td>\n",
       "      <td>/mnt/d/Lab/16S-Taxa-Phlyo/data/M15/DA_206__M13...</td>\n",
       "    </tr>\n",
       "    <tr>\n",
       "      <th>33</th>\n",
       "      <td>DA_156</td>\n",
       "      <td>/mnt/d/Lab/16S-Taxa-Phlyo/data/M15/DA_156__M13...</td>\n",
       "      <td>/mnt/d/Lab/16S-Taxa-Phlyo/data/M15/DA_156__M13...</td>\n",
       "    </tr>\n",
       "    <tr>\n",
       "      <th>34</th>\n",
       "      <td>DA_189</td>\n",
       "      <td>/mnt/d/Lab/16S-Taxa-Phlyo/data/M15/DA_189__M13...</td>\n",
       "      <td>/mnt/d/Lab/16S-Taxa-Phlyo/data/M15/DA_189__M13...</td>\n",
       "    </tr>\n",
       "    <tr>\n",
       "      <th>35</th>\n",
       "      <td>DA_178</td>\n",
       "      <td>/mnt/d/Lab/16S-Taxa-Phlyo/data/M15/DA_178__M13...</td>\n",
       "      <td>/mnt/d/Lab/16S-Taxa-Phlyo/data/M15/DA_178__M13...</td>\n",
       "    </tr>\n",
       "    <tr>\n",
       "      <th>36</th>\n",
       "      <td>DA_166</td>\n",
       "      <td>/mnt/d/Lab/16S-Taxa-Phlyo/data/M15/DA_166__M13...</td>\n",
       "      <td>/mnt/d/Lab/16S-Taxa-Phlyo/data/M15/DA_166__M13...</td>\n",
       "    </tr>\n",
       "    <tr>\n",
       "      <th>37</th>\n",
       "      <td>DA_158</td>\n",
       "      <td>/mnt/d/Lab/16S-Taxa-Phlyo/data/M15/DA_158__M13...</td>\n",
       "      <td>/mnt/d/Lab/16S-Taxa-Phlyo/data/M15/DA_158__M13...</td>\n",
       "    </tr>\n",
       "  </tbody>\n",
       "</table>\n",
       "</div>"
      ],
      "text/plain": [
       "        ID                                                 R1  \\\n",
       "0   DA_141  /mnt/d/Lab/16S-Taxa-Phlyo/data/M15/DA_141__M13...   \n",
       "1   DA_183  /mnt/d/Lab/16S-Taxa-Phlyo/data/M15/DA_183__M13...   \n",
       "2   DA_208  /mnt/d/Lab/16S-Taxa-Phlyo/data/M15/DA_208__M13...   \n",
       "3   DA_177  /mnt/d/Lab/16S-Taxa-Phlyo/data/M15/DA_177__M13...   \n",
       "4   DA_161  /mnt/d/Lab/16S-Taxa-Phlyo/data/M15/DA_161__M13...   \n",
       "5   DA_191  /mnt/d/Lab/16S-Taxa-Phlyo/data/M15/DA_191__M13...   \n",
       "6   DA_139  /mnt/d/Lab/16S-Taxa-Phlyo/data/M15/DA_139__M13...   \n",
       "7   DA_180  /mnt/d/Lab/16S-Taxa-Phlyo/data/M15/DA_180__M13...   \n",
       "8   DA_192  /mnt/d/Lab/16S-Taxa-Phlyo/data/M15/DA_192__M13...   \n",
       "9   DA_199  /mnt/d/Lab/16S-Taxa-Phlyo/data/M15/DA_199__M13...   \n",
       "10  DA_210  /mnt/d/Lab/16S-Taxa-Phlyo/data/M15/DA_210__M13...   \n",
       "11  DA_172  /mnt/d/Lab/16S-Taxa-Phlyo/data/M15/DA_172__M13...   \n",
       "12  DA_174  /mnt/d/Lab/16S-Taxa-Phlyo/data/M15/DA_174__M13...   \n",
       "13  DA_154  /mnt/d/Lab/16S-Taxa-Phlyo/data/M15/DA_154__M13...   \n",
       "14  DA_136  /mnt/d/Lab/16S-Taxa-Phlyo/data/M15/DA_136__M13...   \n",
       "15  DA_182  /mnt/d/Lab/16S-Taxa-Phlyo/data/M15/DA_182__M13...   \n",
       "16  DA_164  /mnt/d/Lab/16S-Taxa-Phlyo/data/M15/DA_164__M13...   \n",
       "17  DA_134  /mnt/d/Lab/16S-Taxa-Phlyo/data/M15/DA_134__M13...   \n",
       "18  DA_151  /mnt/d/Lab/16S-Taxa-Phlyo/data/M15/DA_151__M13...   \n",
       "19  DA_168  /mnt/d/Lab/16S-Taxa-Phlyo/data/M15/DA_168__M13...   \n",
       "20  DA_170  /mnt/d/Lab/16S-Taxa-Phlyo/data/M15/DA_170__M13...   \n",
       "21  DA_163  /mnt/d/Lab/16S-Taxa-Phlyo/data/M15/DA_163__M13...   \n",
       "22  DO_100  /mnt/d/Lab/16S-Taxa-Phlyo/data/M15/DO_100__M13...   \n",
       "23  DA_200  /mnt/d/Lab/16S-Taxa-Phlyo/data/M15/DA_200__M13...   \n",
       "24  DA_138  /mnt/d/Lab/16S-Taxa-Phlyo/data/M15/DA_138__M13...   \n",
       "25  DA_169  /mnt/d/Lab/16S-Taxa-Phlyo/data/M15/DA_169__M13...   \n",
       "26  DA_152  /mnt/d/Lab/16S-Taxa-Phlyo/data/M15/DA_152__M13...   \n",
       "27  DA_205  /mnt/d/Lab/16S-Taxa-Phlyo/data/M15/DA_205__M13...   \n",
       "28  DO_103  /mnt/d/Lab/16S-Taxa-Phlyo/data/M15/DO_103__M13...   \n",
       "29  DA_198  /mnt/d/Lab/16S-Taxa-Phlyo/data/M15/DA_198__M13...   \n",
       "30  DA_176  /mnt/d/Lab/16S-Taxa-Phlyo/data/M15/DA_176__M13...   \n",
       "31  DA_203  /mnt/d/Lab/16S-Taxa-Phlyo/data/M15/DA_203__M13...   \n",
       "32  DA_206  /mnt/d/Lab/16S-Taxa-Phlyo/data/M15/DA_206__M13...   \n",
       "33  DA_156  /mnt/d/Lab/16S-Taxa-Phlyo/data/M15/DA_156__M13...   \n",
       "34  DA_189  /mnt/d/Lab/16S-Taxa-Phlyo/data/M15/DA_189__M13...   \n",
       "35  DA_178  /mnt/d/Lab/16S-Taxa-Phlyo/data/M15/DA_178__M13...   \n",
       "36  DA_166  /mnt/d/Lab/16S-Taxa-Phlyo/data/M15/DA_166__M13...   \n",
       "37  DA_158  /mnt/d/Lab/16S-Taxa-Phlyo/data/M15/DA_158__M13...   \n",
       "\n",
       "                                                   R2  \n",
       "0   /mnt/d/Lab/16S-Taxa-Phlyo/data/M15/DA_141__M13...  \n",
       "1   /mnt/d/Lab/16S-Taxa-Phlyo/data/M15/DA_183__M13...  \n",
       "2   /mnt/d/Lab/16S-Taxa-Phlyo/data/M15/DA_208__M13...  \n",
       "3   /mnt/d/Lab/16S-Taxa-Phlyo/data/M15/DA_177__M13...  \n",
       "4   /mnt/d/Lab/16S-Taxa-Phlyo/data/M15/DA_161__M13...  \n",
       "5   /mnt/d/Lab/16S-Taxa-Phlyo/data/M15/DA_191__M13...  \n",
       "6   /mnt/d/Lab/16S-Taxa-Phlyo/data/M15/DA_139__M13...  \n",
       "7   /mnt/d/Lab/16S-Taxa-Phlyo/data/M15/DA_180__M13...  \n",
       "8   /mnt/d/Lab/16S-Taxa-Phlyo/data/M15/DA_192__M13...  \n",
       "9   /mnt/d/Lab/16S-Taxa-Phlyo/data/M15/DA_199__M13...  \n",
       "10  /mnt/d/Lab/16S-Taxa-Phlyo/data/M15/DA_210__M13...  \n",
       "11  /mnt/d/Lab/16S-Taxa-Phlyo/data/M15/DA_172__M13...  \n",
       "12  /mnt/d/Lab/16S-Taxa-Phlyo/data/M15/DA_174__M13...  \n",
       "13  /mnt/d/Lab/16S-Taxa-Phlyo/data/M15/DA_154__M13...  \n",
       "14  /mnt/d/Lab/16S-Taxa-Phlyo/data/M15/DA_136__M13...  \n",
       "15  /mnt/d/Lab/16S-Taxa-Phlyo/data/M15/DA_182__M13...  \n",
       "16  /mnt/d/Lab/16S-Taxa-Phlyo/data/M15/DA_164__M13...  \n",
       "17  /mnt/d/Lab/16S-Taxa-Phlyo/data/M15/DA_134__M13...  \n",
       "18  /mnt/d/Lab/16S-Taxa-Phlyo/data/M15/DA_151__M13...  \n",
       "19  /mnt/d/Lab/16S-Taxa-Phlyo/data/M15/DA_168__M13...  \n",
       "20  /mnt/d/Lab/16S-Taxa-Phlyo/data/M15/DA_170__M13...  \n",
       "21  /mnt/d/Lab/16S-Taxa-Phlyo/data/M15/DA_163__M13...  \n",
       "22  /mnt/d/Lab/16S-Taxa-Phlyo/data/M15/DO_100__M13...  \n",
       "23  /mnt/d/Lab/16S-Taxa-Phlyo/data/M15/DA_200__M13...  \n",
       "24  /mnt/d/Lab/16S-Taxa-Phlyo/data/M15/DA_138__M13...  \n",
       "25  /mnt/d/Lab/16S-Taxa-Phlyo/data/M15/DA_169__M13...  \n",
       "26  /mnt/d/Lab/16S-Taxa-Phlyo/data/M15/DA_152__M13...  \n",
       "27  /mnt/d/Lab/16S-Taxa-Phlyo/data/M15/DA_205__M13...  \n",
       "28  /mnt/d/Lab/16S-Taxa-Phlyo/data/M15/DO_103__M13...  \n",
       "29  /mnt/d/Lab/16S-Taxa-Phlyo/data/M15/DA_198__M13...  \n",
       "30  /mnt/d/Lab/16S-Taxa-Phlyo/data/M15/DA_176__M13...  \n",
       "31  /mnt/d/Lab/16S-Taxa-Phlyo/data/M15/DA_203__M13...  \n",
       "32  /mnt/d/Lab/16S-Taxa-Phlyo/data/M15/DA_206__M13...  \n",
       "33  /mnt/d/Lab/16S-Taxa-Phlyo/data/M15/DA_156__M13...  \n",
       "34  /mnt/d/Lab/16S-Taxa-Phlyo/data/M15/DA_189__M13...  \n",
       "35  /mnt/d/Lab/16S-Taxa-Phlyo/data/M15/DA_178__M13...  \n",
       "36  /mnt/d/Lab/16S-Taxa-Phlyo/data/M15/DA_166__M13...  \n",
       "37  /mnt/d/Lab/16S-Taxa-Phlyo/data/M15/DA_158__M13...  "
      ]
     },
     "execution_count": 121,
     "metadata": {},
     "output_type": "execute_result"
    }
   ],
   "source": [
    "df"
   ]
  },
  {
   "cell_type": "code",
   "execution_count": null,
   "metadata": {},
   "outputs": [],
   "source": []
  },
  {
   "cell_type": "code",
   "execution_count": 145,
   "metadata": {
    "execution": {
     "iopub.execute_input": "2021-01-12T12:35:17.442566Z",
     "iopub.status.busy": "2021-01-12T12:35:17.442304Z",
     "iopub.status.idle": "2021-01-12T12:35:17.447471Z",
     "shell.execute_reply": "2021-01-12T12:35:17.446027Z",
     "shell.execute_reply.started": "2021-01-12T12:35:17.442533Z"
    }
   },
   "outputs": [],
   "source": [
    "OutDir = \"/mnt/d/Lab/16S-Taxa-Phlyo/result/M15\""
   ]
  },
  {
   "cell_type": "code",
   "execution_count": 137,
   "metadata": {
    "execution": {
     "iopub.execute_input": "2021-01-12T09:36:52.610131Z",
     "iopub.status.busy": "2021-01-12T09:36:52.609618Z",
     "iopub.status.idle": "2021-01-12T09:36:52.617177Z",
     "shell.execute_reply": "2021-01-12T09:36:52.615772Z",
     "shell.execute_reply.started": "2021-01-12T09:36:52.610070Z"
    }
   },
   "outputs": [],
   "source": [
    "def parsePairs(df, OutDir):\n",
    "    R1OutList = []\n",
    "    R2OutList = []\n",
    "    df1 = pd.DataFrame()\n",
    "    fastqDir = os.path.join(OutDir, \"fastq\")\n",
    "    if os.path.exists(fastqDir) == 0:\n",
    "        os.makedirs(fastqDir, 0o777, True)\n",
    "    for ID in df[\"ID\"]:\n",
    "        R1OutList.append(os.path.join(fastqDir, ID + \"_R1.fastq\"))\n",
    "        R2OutList.append(os.path.join(fastqDir, ID + \"_R2.fastq\"))\n",
    "    df1[\"ID\"] = df[\"ID\"]\n",
    "    df1[\"R1\"] = R1OutList\n",
    "    df1[\"R2\"] = R2OutList\n",
    "    return df1"
   ]
  },
  {
   "cell_type": "code",
   "execution_count": 138,
   "metadata": {
    "execution": {
     "iopub.execute_input": "2021-01-12T09:36:52.920293Z",
     "iopub.status.busy": "2021-01-12T09:36:52.919956Z",
     "iopub.status.idle": "2021-01-12T09:36:52.932195Z",
     "shell.execute_reply": "2021-01-12T09:36:52.930750Z",
     "shell.execute_reply.started": "2021-01-12T09:36:52.920260Z"
    }
   },
   "outputs": [],
   "source": [
    "df1 = parsePairs(df)"
   ]
  },
  {
   "cell_type": "code",
   "execution_count": 139,
   "metadata": {
    "collapsed": true,
    "execution": {
     "iopub.execute_input": "2021-01-12T09:36:53.449787Z",
     "iopub.status.busy": "2021-01-12T09:36:53.449453Z",
     "iopub.status.idle": "2021-01-12T09:36:53.471499Z",
     "shell.execute_reply": "2021-01-12T09:36:53.469663Z",
     "shell.execute_reply.started": "2021-01-12T09:36:53.449755Z"
    },
    "jupyter": {
     "outputs_hidden": true
    }
   },
   "outputs": [
    {
     "data": {
      "text/html": [
       "<div>\n",
       "<style scoped>\n",
       "    .dataframe tbody tr th:only-of-type {\n",
       "        vertical-align: middle;\n",
       "    }\n",
       "\n",
       "    .dataframe tbody tr th {\n",
       "        vertical-align: top;\n",
       "    }\n",
       "\n",
       "    .dataframe thead th {\n",
       "        text-align: right;\n",
       "    }\n",
       "</style>\n",
       "<table border=\"1\" class=\"dataframe\">\n",
       "  <thead>\n",
       "    <tr style=\"text-align: right;\">\n",
       "      <th></th>\n",
       "      <th>ID</th>\n",
       "      <th>R1</th>\n",
       "      <th>R2</th>\n",
       "    </tr>\n",
       "  </thead>\n",
       "  <tbody>\n",
       "    <tr>\n",
       "      <th>0</th>\n",
       "      <td>DA_141</td>\n",
       "      <td>/mnt/d/Lab/16S-Taxa-Phlyo/result/M15/fastq/DA_...</td>\n",
       "      <td>/mnt/d/Lab/16S-Taxa-Phlyo/result/M15/fastq/DA_...</td>\n",
       "    </tr>\n",
       "    <tr>\n",
       "      <th>1</th>\n",
       "      <td>DA_183</td>\n",
       "      <td>/mnt/d/Lab/16S-Taxa-Phlyo/result/M15/fastq/DA_...</td>\n",
       "      <td>/mnt/d/Lab/16S-Taxa-Phlyo/result/M15/fastq/DA_...</td>\n",
       "    </tr>\n",
       "    <tr>\n",
       "      <th>2</th>\n",
       "      <td>DA_208</td>\n",
       "      <td>/mnt/d/Lab/16S-Taxa-Phlyo/result/M15/fastq/DA_...</td>\n",
       "      <td>/mnt/d/Lab/16S-Taxa-Phlyo/result/M15/fastq/DA_...</td>\n",
       "    </tr>\n",
       "    <tr>\n",
       "      <th>3</th>\n",
       "      <td>DA_177</td>\n",
       "      <td>/mnt/d/Lab/16S-Taxa-Phlyo/result/M15/fastq/DA_...</td>\n",
       "      <td>/mnt/d/Lab/16S-Taxa-Phlyo/result/M15/fastq/DA_...</td>\n",
       "    </tr>\n",
       "    <tr>\n",
       "      <th>4</th>\n",
       "      <td>DA_161</td>\n",
       "      <td>/mnt/d/Lab/16S-Taxa-Phlyo/result/M15/fastq/DA_...</td>\n",
       "      <td>/mnt/d/Lab/16S-Taxa-Phlyo/result/M15/fastq/DA_...</td>\n",
       "    </tr>\n",
       "    <tr>\n",
       "      <th>5</th>\n",
       "      <td>DA_191</td>\n",
       "      <td>/mnt/d/Lab/16S-Taxa-Phlyo/result/M15/fastq/DA_...</td>\n",
       "      <td>/mnt/d/Lab/16S-Taxa-Phlyo/result/M15/fastq/DA_...</td>\n",
       "    </tr>\n",
       "    <tr>\n",
       "      <th>6</th>\n",
       "      <td>DA_139</td>\n",
       "      <td>/mnt/d/Lab/16S-Taxa-Phlyo/result/M15/fastq/DA_...</td>\n",
       "      <td>/mnt/d/Lab/16S-Taxa-Phlyo/result/M15/fastq/DA_...</td>\n",
       "    </tr>\n",
       "    <tr>\n",
       "      <th>7</th>\n",
       "      <td>DA_180</td>\n",
       "      <td>/mnt/d/Lab/16S-Taxa-Phlyo/result/M15/fastq/DA_...</td>\n",
       "      <td>/mnt/d/Lab/16S-Taxa-Phlyo/result/M15/fastq/DA_...</td>\n",
       "    </tr>\n",
       "    <tr>\n",
       "      <th>8</th>\n",
       "      <td>DA_192</td>\n",
       "      <td>/mnt/d/Lab/16S-Taxa-Phlyo/result/M15/fastq/DA_...</td>\n",
       "      <td>/mnt/d/Lab/16S-Taxa-Phlyo/result/M15/fastq/DA_...</td>\n",
       "    </tr>\n",
       "    <tr>\n",
       "      <th>9</th>\n",
       "      <td>DA_199</td>\n",
       "      <td>/mnt/d/Lab/16S-Taxa-Phlyo/result/M15/fastq/DA_...</td>\n",
       "      <td>/mnt/d/Lab/16S-Taxa-Phlyo/result/M15/fastq/DA_...</td>\n",
       "    </tr>\n",
       "    <tr>\n",
       "      <th>10</th>\n",
       "      <td>DA_210</td>\n",
       "      <td>/mnt/d/Lab/16S-Taxa-Phlyo/result/M15/fastq/DA_...</td>\n",
       "      <td>/mnt/d/Lab/16S-Taxa-Phlyo/result/M15/fastq/DA_...</td>\n",
       "    </tr>\n",
       "    <tr>\n",
       "      <th>11</th>\n",
       "      <td>DA_172</td>\n",
       "      <td>/mnt/d/Lab/16S-Taxa-Phlyo/result/M15/fastq/DA_...</td>\n",
       "      <td>/mnt/d/Lab/16S-Taxa-Phlyo/result/M15/fastq/DA_...</td>\n",
       "    </tr>\n",
       "    <tr>\n",
       "      <th>12</th>\n",
       "      <td>DA_174</td>\n",
       "      <td>/mnt/d/Lab/16S-Taxa-Phlyo/result/M15/fastq/DA_...</td>\n",
       "      <td>/mnt/d/Lab/16S-Taxa-Phlyo/result/M15/fastq/DA_...</td>\n",
       "    </tr>\n",
       "    <tr>\n",
       "      <th>13</th>\n",
       "      <td>DA_154</td>\n",
       "      <td>/mnt/d/Lab/16S-Taxa-Phlyo/result/M15/fastq/DA_...</td>\n",
       "      <td>/mnt/d/Lab/16S-Taxa-Phlyo/result/M15/fastq/DA_...</td>\n",
       "    </tr>\n",
       "    <tr>\n",
       "      <th>14</th>\n",
       "      <td>DA_136</td>\n",
       "      <td>/mnt/d/Lab/16S-Taxa-Phlyo/result/M15/fastq/DA_...</td>\n",
       "      <td>/mnt/d/Lab/16S-Taxa-Phlyo/result/M15/fastq/DA_...</td>\n",
       "    </tr>\n",
       "    <tr>\n",
       "      <th>15</th>\n",
       "      <td>DA_182</td>\n",
       "      <td>/mnt/d/Lab/16S-Taxa-Phlyo/result/M15/fastq/DA_...</td>\n",
       "      <td>/mnt/d/Lab/16S-Taxa-Phlyo/result/M15/fastq/DA_...</td>\n",
       "    </tr>\n",
       "    <tr>\n",
       "      <th>16</th>\n",
       "      <td>DA_164</td>\n",
       "      <td>/mnt/d/Lab/16S-Taxa-Phlyo/result/M15/fastq/DA_...</td>\n",
       "      <td>/mnt/d/Lab/16S-Taxa-Phlyo/result/M15/fastq/DA_...</td>\n",
       "    </tr>\n",
       "    <tr>\n",
       "      <th>17</th>\n",
       "      <td>DA_134</td>\n",
       "      <td>/mnt/d/Lab/16S-Taxa-Phlyo/result/M15/fastq/DA_...</td>\n",
       "      <td>/mnt/d/Lab/16S-Taxa-Phlyo/result/M15/fastq/DA_...</td>\n",
       "    </tr>\n",
       "    <tr>\n",
       "      <th>18</th>\n",
       "      <td>DA_151</td>\n",
       "      <td>/mnt/d/Lab/16S-Taxa-Phlyo/result/M15/fastq/DA_...</td>\n",
       "      <td>/mnt/d/Lab/16S-Taxa-Phlyo/result/M15/fastq/DA_...</td>\n",
       "    </tr>\n",
       "    <tr>\n",
       "      <th>19</th>\n",
       "      <td>DA_168</td>\n",
       "      <td>/mnt/d/Lab/16S-Taxa-Phlyo/result/M15/fastq/DA_...</td>\n",
       "      <td>/mnt/d/Lab/16S-Taxa-Phlyo/result/M15/fastq/DA_...</td>\n",
       "    </tr>\n",
       "    <tr>\n",
       "      <th>20</th>\n",
       "      <td>DA_170</td>\n",
       "      <td>/mnt/d/Lab/16S-Taxa-Phlyo/result/M15/fastq/DA_...</td>\n",
       "      <td>/mnt/d/Lab/16S-Taxa-Phlyo/result/M15/fastq/DA_...</td>\n",
       "    </tr>\n",
       "    <tr>\n",
       "      <th>21</th>\n",
       "      <td>DA_163</td>\n",
       "      <td>/mnt/d/Lab/16S-Taxa-Phlyo/result/M15/fastq/DA_...</td>\n",
       "      <td>/mnt/d/Lab/16S-Taxa-Phlyo/result/M15/fastq/DA_...</td>\n",
       "    </tr>\n",
       "    <tr>\n",
       "      <th>22</th>\n",
       "      <td>DO_100</td>\n",
       "      <td>/mnt/d/Lab/16S-Taxa-Phlyo/result/M15/fastq/DO_...</td>\n",
       "      <td>/mnt/d/Lab/16S-Taxa-Phlyo/result/M15/fastq/DO_...</td>\n",
       "    </tr>\n",
       "    <tr>\n",
       "      <th>23</th>\n",
       "      <td>DA_200</td>\n",
       "      <td>/mnt/d/Lab/16S-Taxa-Phlyo/result/M15/fastq/DA_...</td>\n",
       "      <td>/mnt/d/Lab/16S-Taxa-Phlyo/result/M15/fastq/DA_...</td>\n",
       "    </tr>\n",
       "    <tr>\n",
       "      <th>24</th>\n",
       "      <td>DA_138</td>\n",
       "      <td>/mnt/d/Lab/16S-Taxa-Phlyo/result/M15/fastq/DA_...</td>\n",
       "      <td>/mnt/d/Lab/16S-Taxa-Phlyo/result/M15/fastq/DA_...</td>\n",
       "    </tr>\n",
       "    <tr>\n",
       "      <th>25</th>\n",
       "      <td>DA_169</td>\n",
       "      <td>/mnt/d/Lab/16S-Taxa-Phlyo/result/M15/fastq/DA_...</td>\n",
       "      <td>/mnt/d/Lab/16S-Taxa-Phlyo/result/M15/fastq/DA_...</td>\n",
       "    </tr>\n",
       "    <tr>\n",
       "      <th>26</th>\n",
       "      <td>DA_152</td>\n",
       "      <td>/mnt/d/Lab/16S-Taxa-Phlyo/result/M15/fastq/DA_...</td>\n",
       "      <td>/mnt/d/Lab/16S-Taxa-Phlyo/result/M15/fastq/DA_...</td>\n",
       "    </tr>\n",
       "    <tr>\n",
       "      <th>27</th>\n",
       "      <td>DA_205</td>\n",
       "      <td>/mnt/d/Lab/16S-Taxa-Phlyo/result/M15/fastq/DA_...</td>\n",
       "      <td>/mnt/d/Lab/16S-Taxa-Phlyo/result/M15/fastq/DA_...</td>\n",
       "    </tr>\n",
       "    <tr>\n",
       "      <th>28</th>\n",
       "      <td>DO_103</td>\n",
       "      <td>/mnt/d/Lab/16S-Taxa-Phlyo/result/M15/fastq/DO_...</td>\n",
       "      <td>/mnt/d/Lab/16S-Taxa-Phlyo/result/M15/fastq/DO_...</td>\n",
       "    </tr>\n",
       "    <tr>\n",
       "      <th>29</th>\n",
       "      <td>DA_198</td>\n",
       "      <td>/mnt/d/Lab/16S-Taxa-Phlyo/result/M15/fastq/DA_...</td>\n",
       "      <td>/mnt/d/Lab/16S-Taxa-Phlyo/result/M15/fastq/DA_...</td>\n",
       "    </tr>\n",
       "    <tr>\n",
       "      <th>30</th>\n",
       "      <td>DA_176</td>\n",
       "      <td>/mnt/d/Lab/16S-Taxa-Phlyo/result/M15/fastq/DA_...</td>\n",
       "      <td>/mnt/d/Lab/16S-Taxa-Phlyo/result/M15/fastq/DA_...</td>\n",
       "    </tr>\n",
       "    <tr>\n",
       "      <th>31</th>\n",
       "      <td>DA_203</td>\n",
       "      <td>/mnt/d/Lab/16S-Taxa-Phlyo/result/M15/fastq/DA_...</td>\n",
       "      <td>/mnt/d/Lab/16S-Taxa-Phlyo/result/M15/fastq/DA_...</td>\n",
       "    </tr>\n",
       "    <tr>\n",
       "      <th>32</th>\n",
       "      <td>DA_206</td>\n",
       "      <td>/mnt/d/Lab/16S-Taxa-Phlyo/result/M15/fastq/DA_...</td>\n",
       "      <td>/mnt/d/Lab/16S-Taxa-Phlyo/result/M15/fastq/DA_...</td>\n",
       "    </tr>\n",
       "    <tr>\n",
       "      <th>33</th>\n",
       "      <td>DA_156</td>\n",
       "      <td>/mnt/d/Lab/16S-Taxa-Phlyo/result/M15/fastq/DA_...</td>\n",
       "      <td>/mnt/d/Lab/16S-Taxa-Phlyo/result/M15/fastq/DA_...</td>\n",
       "    </tr>\n",
       "    <tr>\n",
       "      <th>34</th>\n",
       "      <td>DA_189</td>\n",
       "      <td>/mnt/d/Lab/16S-Taxa-Phlyo/result/M15/fastq/DA_...</td>\n",
       "      <td>/mnt/d/Lab/16S-Taxa-Phlyo/result/M15/fastq/DA_...</td>\n",
       "    </tr>\n",
       "    <tr>\n",
       "      <th>35</th>\n",
       "      <td>DA_178</td>\n",
       "      <td>/mnt/d/Lab/16S-Taxa-Phlyo/result/M15/fastq/DA_...</td>\n",
       "      <td>/mnt/d/Lab/16S-Taxa-Phlyo/result/M15/fastq/DA_...</td>\n",
       "    </tr>\n",
       "    <tr>\n",
       "      <th>36</th>\n",
       "      <td>DA_166</td>\n",
       "      <td>/mnt/d/Lab/16S-Taxa-Phlyo/result/M15/fastq/DA_...</td>\n",
       "      <td>/mnt/d/Lab/16S-Taxa-Phlyo/result/M15/fastq/DA_...</td>\n",
       "    </tr>\n",
       "    <tr>\n",
       "      <th>37</th>\n",
       "      <td>DA_158</td>\n",
       "      <td>/mnt/d/Lab/16S-Taxa-Phlyo/result/M15/fastq/DA_...</td>\n",
       "      <td>/mnt/d/Lab/16S-Taxa-Phlyo/result/M15/fastq/DA_...</td>\n",
       "    </tr>\n",
       "  </tbody>\n",
       "</table>\n",
       "</div>"
      ],
      "text/plain": [
       "        ID                                                 R1  \\\n",
       "0   DA_141  /mnt/d/Lab/16S-Taxa-Phlyo/result/M15/fastq/DA_...   \n",
       "1   DA_183  /mnt/d/Lab/16S-Taxa-Phlyo/result/M15/fastq/DA_...   \n",
       "2   DA_208  /mnt/d/Lab/16S-Taxa-Phlyo/result/M15/fastq/DA_...   \n",
       "3   DA_177  /mnt/d/Lab/16S-Taxa-Phlyo/result/M15/fastq/DA_...   \n",
       "4   DA_161  /mnt/d/Lab/16S-Taxa-Phlyo/result/M15/fastq/DA_...   \n",
       "5   DA_191  /mnt/d/Lab/16S-Taxa-Phlyo/result/M15/fastq/DA_...   \n",
       "6   DA_139  /mnt/d/Lab/16S-Taxa-Phlyo/result/M15/fastq/DA_...   \n",
       "7   DA_180  /mnt/d/Lab/16S-Taxa-Phlyo/result/M15/fastq/DA_...   \n",
       "8   DA_192  /mnt/d/Lab/16S-Taxa-Phlyo/result/M15/fastq/DA_...   \n",
       "9   DA_199  /mnt/d/Lab/16S-Taxa-Phlyo/result/M15/fastq/DA_...   \n",
       "10  DA_210  /mnt/d/Lab/16S-Taxa-Phlyo/result/M15/fastq/DA_...   \n",
       "11  DA_172  /mnt/d/Lab/16S-Taxa-Phlyo/result/M15/fastq/DA_...   \n",
       "12  DA_174  /mnt/d/Lab/16S-Taxa-Phlyo/result/M15/fastq/DA_...   \n",
       "13  DA_154  /mnt/d/Lab/16S-Taxa-Phlyo/result/M15/fastq/DA_...   \n",
       "14  DA_136  /mnt/d/Lab/16S-Taxa-Phlyo/result/M15/fastq/DA_...   \n",
       "15  DA_182  /mnt/d/Lab/16S-Taxa-Phlyo/result/M15/fastq/DA_...   \n",
       "16  DA_164  /mnt/d/Lab/16S-Taxa-Phlyo/result/M15/fastq/DA_...   \n",
       "17  DA_134  /mnt/d/Lab/16S-Taxa-Phlyo/result/M15/fastq/DA_...   \n",
       "18  DA_151  /mnt/d/Lab/16S-Taxa-Phlyo/result/M15/fastq/DA_...   \n",
       "19  DA_168  /mnt/d/Lab/16S-Taxa-Phlyo/result/M15/fastq/DA_...   \n",
       "20  DA_170  /mnt/d/Lab/16S-Taxa-Phlyo/result/M15/fastq/DA_...   \n",
       "21  DA_163  /mnt/d/Lab/16S-Taxa-Phlyo/result/M15/fastq/DA_...   \n",
       "22  DO_100  /mnt/d/Lab/16S-Taxa-Phlyo/result/M15/fastq/DO_...   \n",
       "23  DA_200  /mnt/d/Lab/16S-Taxa-Phlyo/result/M15/fastq/DA_...   \n",
       "24  DA_138  /mnt/d/Lab/16S-Taxa-Phlyo/result/M15/fastq/DA_...   \n",
       "25  DA_169  /mnt/d/Lab/16S-Taxa-Phlyo/result/M15/fastq/DA_...   \n",
       "26  DA_152  /mnt/d/Lab/16S-Taxa-Phlyo/result/M15/fastq/DA_...   \n",
       "27  DA_205  /mnt/d/Lab/16S-Taxa-Phlyo/result/M15/fastq/DA_...   \n",
       "28  DO_103  /mnt/d/Lab/16S-Taxa-Phlyo/result/M15/fastq/DO_...   \n",
       "29  DA_198  /mnt/d/Lab/16S-Taxa-Phlyo/result/M15/fastq/DA_...   \n",
       "30  DA_176  /mnt/d/Lab/16S-Taxa-Phlyo/result/M15/fastq/DA_...   \n",
       "31  DA_203  /mnt/d/Lab/16S-Taxa-Phlyo/result/M15/fastq/DA_...   \n",
       "32  DA_206  /mnt/d/Lab/16S-Taxa-Phlyo/result/M15/fastq/DA_...   \n",
       "33  DA_156  /mnt/d/Lab/16S-Taxa-Phlyo/result/M15/fastq/DA_...   \n",
       "34  DA_189  /mnt/d/Lab/16S-Taxa-Phlyo/result/M15/fastq/DA_...   \n",
       "35  DA_178  /mnt/d/Lab/16S-Taxa-Phlyo/result/M15/fastq/DA_...   \n",
       "36  DA_166  /mnt/d/Lab/16S-Taxa-Phlyo/result/M15/fastq/DA_...   \n",
       "37  DA_158  /mnt/d/Lab/16S-Taxa-Phlyo/result/M15/fastq/DA_...   \n",
       "\n",
       "                                                   R2  \n",
       "0   /mnt/d/Lab/16S-Taxa-Phlyo/result/M15/fastq/DA_...  \n",
       "1   /mnt/d/Lab/16S-Taxa-Phlyo/result/M15/fastq/DA_...  \n",
       "2   /mnt/d/Lab/16S-Taxa-Phlyo/result/M15/fastq/DA_...  \n",
       "3   /mnt/d/Lab/16S-Taxa-Phlyo/result/M15/fastq/DA_...  \n",
       "4   /mnt/d/Lab/16S-Taxa-Phlyo/result/M15/fastq/DA_...  \n",
       "5   /mnt/d/Lab/16S-Taxa-Phlyo/result/M15/fastq/DA_...  \n",
       "6   /mnt/d/Lab/16S-Taxa-Phlyo/result/M15/fastq/DA_...  \n",
       "7   /mnt/d/Lab/16S-Taxa-Phlyo/result/M15/fastq/DA_...  \n",
       "8   /mnt/d/Lab/16S-Taxa-Phlyo/result/M15/fastq/DA_...  \n",
       "9   /mnt/d/Lab/16S-Taxa-Phlyo/result/M15/fastq/DA_...  \n",
       "10  /mnt/d/Lab/16S-Taxa-Phlyo/result/M15/fastq/DA_...  \n",
       "11  /mnt/d/Lab/16S-Taxa-Phlyo/result/M15/fastq/DA_...  \n",
       "12  /mnt/d/Lab/16S-Taxa-Phlyo/result/M15/fastq/DA_...  \n",
       "13  /mnt/d/Lab/16S-Taxa-Phlyo/result/M15/fastq/DA_...  \n",
       "14  /mnt/d/Lab/16S-Taxa-Phlyo/result/M15/fastq/DA_...  \n",
       "15  /mnt/d/Lab/16S-Taxa-Phlyo/result/M15/fastq/DA_...  \n",
       "16  /mnt/d/Lab/16S-Taxa-Phlyo/result/M15/fastq/DA_...  \n",
       "17  /mnt/d/Lab/16S-Taxa-Phlyo/result/M15/fastq/DA_...  \n",
       "18  /mnt/d/Lab/16S-Taxa-Phlyo/result/M15/fastq/DA_...  \n",
       "19  /mnt/d/Lab/16S-Taxa-Phlyo/result/M15/fastq/DA_...  \n",
       "20  /mnt/d/Lab/16S-Taxa-Phlyo/result/M15/fastq/DA_...  \n",
       "21  /mnt/d/Lab/16S-Taxa-Phlyo/result/M15/fastq/DA_...  \n",
       "22  /mnt/d/Lab/16S-Taxa-Phlyo/result/M15/fastq/DO_...  \n",
       "23  /mnt/d/Lab/16S-Taxa-Phlyo/result/M15/fastq/DA_...  \n",
       "24  /mnt/d/Lab/16S-Taxa-Phlyo/result/M15/fastq/DA_...  \n",
       "25  /mnt/d/Lab/16S-Taxa-Phlyo/result/M15/fastq/DA_...  \n",
       "26  /mnt/d/Lab/16S-Taxa-Phlyo/result/M15/fastq/DA_...  \n",
       "27  /mnt/d/Lab/16S-Taxa-Phlyo/result/M15/fastq/DA_...  \n",
       "28  /mnt/d/Lab/16S-Taxa-Phlyo/result/M15/fastq/DO_...  \n",
       "29  /mnt/d/Lab/16S-Taxa-Phlyo/result/M15/fastq/DA_...  \n",
       "30  /mnt/d/Lab/16S-Taxa-Phlyo/result/M15/fastq/DA_...  \n",
       "31  /mnt/d/Lab/16S-Taxa-Phlyo/result/M15/fastq/DA_...  \n",
       "32  /mnt/d/Lab/16S-Taxa-Phlyo/result/M15/fastq/DA_...  \n",
       "33  /mnt/d/Lab/16S-Taxa-Phlyo/result/M15/fastq/DA_...  \n",
       "34  /mnt/d/Lab/16S-Taxa-Phlyo/result/M15/fastq/DA_...  \n",
       "35  /mnt/d/Lab/16S-Taxa-Phlyo/result/M15/fastq/DA_...  \n",
       "36  /mnt/d/Lab/16S-Taxa-Phlyo/result/M15/fastq/DA_...  \n",
       "37  /mnt/d/Lab/16S-Taxa-Phlyo/result/M15/fastq/DA_...  "
      ]
     },
     "execution_count": 139,
     "metadata": {},
     "output_type": "execute_result"
    }
   ],
   "source": [
    "df1"
   ]
  },
  {
   "cell_type": "code",
   "execution_count": null,
   "metadata": {},
   "outputs": [],
   "source": []
  },
  {
   "cell_type": "code",
   "execution_count": 24,
   "metadata": {
    "execution": {
     "iopub.execute_input": "2021-01-12T02:39:22.843443Z",
     "iopub.status.busy": "2021-01-12T02:39:22.842902Z",
     "iopub.status.idle": "2021-01-12T02:39:22.851389Z",
     "shell.execute_reply": "2021-01-12T02:39:22.848970Z",
     "shell.execute_reply.started": "2021-01-12T02:39:22.843387Z"
    }
   },
   "outputs": [],
   "source": [
    "def ABI2Fastq(abi, fastq):\n",
    "    SeqIO.convert(abi, \"abi\", fastq, \"fastq\")"
   ]
  },
  {
   "cell_type": "code",
   "execution_count": 25,
   "metadata": {
    "execution": {
     "iopub.execute_input": "2021-01-12T02:39:23.061726Z",
     "iopub.status.busy": "2021-01-12T02:39:23.061084Z",
     "iopub.status.idle": "2021-01-12T02:39:23.071232Z",
     "shell.execute_reply": "2021-01-12T02:39:23.068353Z",
     "shell.execute_reply.started": "2021-01-12T02:39:23.061651Z"
    }
   },
   "outputs": [],
   "source": [
    "def ABI2FastqParallel(abiList, fastqList):\n",
    "    pool = Pool(processes = 4)\n",
    "    pool.starmap(ABI2Fastq, zip(abiList, fastqList))\n",
    "    pool.close()\n",
    "    pool.join()\n",
    "    pool.terminate()"
   ]
  },
  {
   "cell_type": "code",
   "execution_count": 120,
   "metadata": {
    "execution": {
     "iopub.execute_input": "2021-01-11T09:08:22.011017Z",
     "iopub.status.busy": "2021-01-11T09:08:22.010513Z",
     "iopub.status.idle": "2021-01-11T09:08:22.955563Z",
     "shell.execute_reply": "2021-01-11T09:08:22.954623Z",
     "shell.execute_reply.started": "2021-01-11T09:08:22.010944Z"
    }
   },
   "outputs": [],
   "source": [
    "ABI2FastqParallel(df[\"R1\"], R1OutList)"
   ]
  },
  {
   "cell_type": "code",
   "execution_count": 121,
   "metadata": {
    "execution": {
     "iopub.execute_input": "2021-01-11T09:08:23.648832Z",
     "iopub.status.busy": "2021-01-11T09:08:23.648425Z",
     "iopub.status.idle": "2021-01-11T09:08:24.701522Z",
     "shell.execute_reply": "2021-01-11T09:08:24.700596Z",
     "shell.execute_reply.started": "2021-01-11T09:08:23.648764Z"
    }
   },
   "outputs": [],
   "source": [
    "ABI2FastqParallel(df[\"R2\"], R2OutList)"
   ]
  },
  {
   "cell_type": "code",
   "execution_count": 122,
   "metadata": {
    "execution": {
     "iopub.execute_input": "2021-01-11T09:08:46.667191Z",
     "iopub.status.busy": "2021-01-11T09:08:46.666848Z",
     "iopub.status.idle": "2021-01-11T09:08:46.674104Z",
     "shell.execute_reply": "2021-01-11T09:08:46.672881Z",
     "shell.execute_reply.started": "2021-01-11T09:08:46.667156Z"
    }
   },
   "outputs": [
    {
     "data": {
      "text/plain": [
       "38"
      ]
     },
     "execution_count": 122,
     "metadata": {},
     "output_type": "execute_result"
    }
   ],
   "source": [
    "len(R1OutList)"
   ]
  },
  {
   "cell_type": "code",
   "execution_count": 123,
   "metadata": {
    "execution": {
     "iopub.execute_input": "2021-01-11T09:09:00.141838Z",
     "iopub.status.busy": "2021-01-11T09:09:00.141522Z",
     "iopub.status.idle": "2021-01-11T09:09:00.147956Z",
     "shell.execute_reply": "2021-01-11T09:09:00.146456Z",
     "shell.execute_reply.started": "2021-01-11T09:09:00.141807Z"
    }
   },
   "outputs": [
    {
     "data": {
      "text/plain": [
       "38"
      ]
     },
     "execution_count": 123,
     "metadata": {},
     "output_type": "execute_result"
    }
   ],
   "source": [
    "len(df)"
   ]
  },
  {
   "cell_type": "code",
   "execution_count": 62,
   "metadata": {
    "execution": {
     "iopub.execute_input": "2021-01-12T02:51:01.712913Z",
     "iopub.status.busy": "2021-01-12T02:51:01.712601Z",
     "iopub.status.idle": "2021-01-12T02:51:01.722622Z",
     "shell.execute_reply": "2021-01-12T02:51:01.721305Z",
     "shell.execute_reply.started": "2021-01-12T02:51:01.712879Z"
    }
   },
   "outputs": [],
   "source": [
    "def RunFastp(R1, R2, prefix, OutDir):\n",
    "    trimDir = os.path.join(OutDir, \"trim\")\n",
    "    mergeDir = os.path.join(OutDir, \"merge\")\n",
    "    fastpDir = os.path.join(OutDir, \"fastp\")\n",
    "    unmergeDir = os.path.join(OutDir, \"unmerge\")\n",
    "    if os.path.exists(OutDir) == 0:\n",
    "        os.makedirs(OutDir, 0o777, True)\n",
    "    if os.path.exists(trimDir) == 0:\n",
    "        os.makedirs(trimDir, 0o777, True)\n",
    "    if os.path.exists(mergeDir) == 0:\n",
    "        os.makedirs(mergeDir, 0o777, True)\n",
    "    if os.path.exists(fastpDir) == 0:\n",
    "        os.makedirs(fastpDir, 0o777, True)\n",
    "    if os.path.exists(unmergeDir) == 0:\n",
    "        os.makedirs(unmergeDir, 0o777, True)        \n",
    "    cmd = \"fastp -i \" + R1 + \" -I \" + R2 + \" -o \" + os.path.join(trimDir, prefix + \"_trim_R1.fastq\") + \" -O \" + os.path.join(trimDir, prefix + \"_trim_R2.fastq\") + \\\n",
    "    \" --trim_front1 30 --max_len1 750 --trim_front2 30 --max_len2 750 --cut_front --cut_tail --cut_window_size 20 --cut_mean_quality 30\" + \\\n",
    "    \" --merge --merged_out \" + os.path.join(mergeDir, prefix + \".fastq\") + \" --correction --overlap_len_require 20 \" + \\\n",
    "    \" --html \" + os.path.join(fastpDir, prefix + \".html\") + \" --report_title \" + prefix + \"-fastq-merge-report\"\n",
    "    #print(cmd)\n",
    "    subprocess.call(cmd, shell=True)"
   ]
  },
  {
   "cell_type": "code",
   "execution_count": 63,
   "metadata": {
    "execution": {
     "iopub.execute_input": "2021-01-12T02:51:01.901440Z",
     "iopub.status.busy": "2021-01-12T02:51:01.901002Z",
     "iopub.status.idle": "2021-01-12T02:51:01.909215Z",
     "shell.execute_reply": "2021-01-12T02:51:01.907460Z",
     "shell.execute_reply.started": "2021-01-12T02:51:01.901392Z"
    }
   },
   "outputs": [],
   "source": [
    "def RunFastpParallel(R1List, R2List, prefixList, OutDir):\n",
    "    pool = Pool(processes = 4)\n",
    "    pool.starmap(RunFastp, zip(R1List, R2List, prefixList, repeat(OutDir)))\n",
    "    pool.close()\n",
    "    pool.join()\n",
    "    pool.terminate()"
   ]
  },
  {
   "cell_type": "code",
   "execution_count": 136,
   "metadata": {
    "execution": {
     "iopub.execute_input": "2021-01-11T09:17:13.664914Z",
     "iopub.status.busy": "2021-01-11T09:17:13.664466Z",
     "iopub.status.idle": "2021-01-11T09:17:25.635712Z",
     "shell.execute_reply": "2021-01-11T09:17:25.633289Z",
     "shell.execute_reply.started": "2021-01-11T09:17:13.664867Z"
    }
   },
   "outputs": [],
   "source": [
    "RunFastpParallel(df1[\"R1\"], df1[\"R2\"], df1[\"ID\"], OutDir)"
   ]
  },
  {
   "cell_type": "code",
   "execution_count": 5,
   "metadata": {
    "execution": {
     "iopub.execute_input": "2021-01-11T09:42:24.662004Z",
     "iopub.status.busy": "2021-01-11T09:42:24.661506Z",
     "iopub.status.idle": "2021-01-11T09:42:24.666786Z",
     "shell.execute_reply": "2021-01-11T09:42:24.665517Z",
     "shell.execute_reply.started": "2021-01-11T09:42:24.661964Z"
    }
   },
   "outputs": [],
   "source": [
    "import os"
   ]
  },
  {
   "cell_type": "code",
   "execution_count": 3,
   "metadata": {
    "execution": {
     "iopub.execute_input": "2021-01-11T09:39:18.656471Z",
     "iopub.status.busy": "2021-01-11T09:39:18.656102Z",
     "iopub.status.idle": "2021-01-11T09:39:18.661823Z",
     "shell.execute_reply": "2021-01-11T09:39:18.660452Z",
     "shell.execute_reply.started": "2021-01-11T09:39:18.656442Z"
    }
   },
   "outputs": [],
   "source": [
    "from Bio import SeqIO"
   ]
  },
  {
   "cell_type": "code",
   "execution_count": 144,
   "metadata": {
    "execution": {
     "iopub.execute_input": "2021-01-12T12:35:07.103046Z",
     "iopub.status.busy": "2021-01-12T12:35:07.102801Z",
     "iopub.status.idle": "2021-01-12T12:35:07.107776Z",
     "shell.execute_reply": "2021-01-12T12:35:07.106337Z",
     "shell.execute_reply.started": "2021-01-12T12:35:07.103022Z"
    }
   },
   "outputs": [],
   "source": [
    "InDir = \"/mnt/d/Lab/16S-Taxa-Phlyo/result/M15/merge\""
   ]
  },
  {
   "cell_type": "code",
   "execution_count": 147,
   "metadata": {
    "execution": {
     "iopub.execute_input": "2021-01-12T12:35:45.136718Z",
     "iopub.status.busy": "2021-01-12T12:35:45.136396Z",
     "iopub.status.idle": "2021-01-12T12:35:45.146088Z",
     "shell.execute_reply": "2021-01-12T12:35:45.144337Z",
     "shell.execute_reply.started": "2021-01-12T12:35:45.136685Z"
    }
   },
   "outputs": [],
   "source": [
    "def parseFastqPairs(InDir, OutDir):\n",
    "    allSeq = []\n",
    "    fastaFileList = []\n",
    "    fastaDir = os.path.join(OutDir, \"fasta\")\n",
    "    if os.path.exists(fastaDir) == 0:\n",
    "        os.makedirs(fastaDir, 0o777, True)\n",
    "    for file in os.listdir(InDir):\n",
    "        if file.endswith(\".fastq\") and os.path.getsize(os.path.join(InDir, file)) > 0:\n",
    "            for seq in SeqIO.parse(os.path.join(InDir, file), \"fastq\"):\n",
    "                seq.id = file.replace(\".fastq\", \"\")\n",
    "                seq.name = \"\"\n",
    "                seq.description = seq.description.split(\" \")[1]\n",
    "                fastaFile = os.path.join(fastaDir, file.replace(\".fastq\", \".fasta\"))\n",
    "                fastaFileList.append(fastaFile)\n",
    "                SeqIO.write(seq, fastaFile, \"fasta\")\n",
    "                allSeq.append(seq)\n",
    "    SeqIO.write(allSeq, os.path.join(OutDir, \"pairsMerge.fasta\"), \"fasta\")\n",
    "    return fastaFileList"
   ]
  },
  {
   "cell_type": "code",
   "execution_count": 148,
   "metadata": {
    "execution": {
     "iopub.execute_input": "2021-01-12T12:35:45.811343Z",
     "iopub.status.busy": "2021-01-12T12:35:45.811081Z",
     "iopub.status.idle": "2021-01-12T12:35:46.110194Z",
     "shell.execute_reply": "2021-01-12T12:35:46.109384Z",
     "shell.execute_reply.started": "2021-01-12T12:35:45.811317Z"
    }
   },
   "outputs": [],
   "source": [
    "allSeq = parseFastqPairs(InDir, OutDir)"
   ]
  },
  {
   "cell_type": "code",
   "execution_count": 149,
   "metadata": {
    "collapsed": true,
    "execution": {
     "iopub.execute_input": "2021-01-12T12:46:17.963535Z",
     "iopub.status.busy": "2021-01-12T12:46:17.963133Z",
     "iopub.status.idle": "2021-01-12T12:46:17.972090Z",
     "shell.execute_reply": "2021-01-12T12:46:17.970590Z",
     "shell.execute_reply.started": "2021-01-12T12:46:17.963494Z"
    },
    "jupyter": {
     "outputs_hidden": true
    }
   },
   "outputs": [
    {
     "data": {
      "text/plain": [
       "['/mnt/d/Lab/16S-Taxa-Phlyo/result/M15/fasta/DA_134.fasta',\n",
       " '/mnt/d/Lab/16S-Taxa-Phlyo/result/M15/fasta/DA_136.fasta',\n",
       " '/mnt/d/Lab/16S-Taxa-Phlyo/result/M15/fasta/DA_138.fasta',\n",
       " '/mnt/d/Lab/16S-Taxa-Phlyo/result/M15/fasta/DA_139.fasta',\n",
       " '/mnt/d/Lab/16S-Taxa-Phlyo/result/M15/fasta/DA_141.fasta',\n",
       " '/mnt/d/Lab/16S-Taxa-Phlyo/result/M15/fasta/DA_151.fasta',\n",
       " '/mnt/d/Lab/16S-Taxa-Phlyo/result/M15/fasta/DA_152.fasta',\n",
       " '/mnt/d/Lab/16S-Taxa-Phlyo/result/M15/fasta/DA_154.fasta',\n",
       " '/mnt/d/Lab/16S-Taxa-Phlyo/result/M15/fasta/DA_156.fasta',\n",
       " '/mnt/d/Lab/16S-Taxa-Phlyo/result/M15/fasta/DA_158.fasta',\n",
       " '/mnt/d/Lab/16S-Taxa-Phlyo/result/M15/fasta/DA_161.fasta',\n",
       " '/mnt/d/Lab/16S-Taxa-Phlyo/result/M15/fasta/DA_163.fasta',\n",
       " '/mnt/d/Lab/16S-Taxa-Phlyo/result/M15/fasta/DA_164.fasta',\n",
       " '/mnt/d/Lab/16S-Taxa-Phlyo/result/M15/fasta/DA_166.fasta',\n",
       " '/mnt/d/Lab/16S-Taxa-Phlyo/result/M15/fasta/DA_168.fasta',\n",
       " '/mnt/d/Lab/16S-Taxa-Phlyo/result/M15/fasta/DA_169.fasta',\n",
       " '/mnt/d/Lab/16S-Taxa-Phlyo/result/M15/fasta/DA_170.fasta',\n",
       " '/mnt/d/Lab/16S-Taxa-Phlyo/result/M15/fasta/DA_172.fasta',\n",
       " '/mnt/d/Lab/16S-Taxa-Phlyo/result/M15/fasta/DA_174.fasta',\n",
       " '/mnt/d/Lab/16S-Taxa-Phlyo/result/M15/fasta/DA_176.fasta',\n",
       " '/mnt/d/Lab/16S-Taxa-Phlyo/result/M15/fasta/DA_177.fasta',\n",
       " '/mnt/d/Lab/16S-Taxa-Phlyo/result/M15/fasta/DA_178.fasta',\n",
       " '/mnt/d/Lab/16S-Taxa-Phlyo/result/M15/fasta/DA_180.fasta',\n",
       " '/mnt/d/Lab/16S-Taxa-Phlyo/result/M15/fasta/DA_182.fasta',\n",
       " '/mnt/d/Lab/16S-Taxa-Phlyo/result/M15/fasta/DA_183.fasta',\n",
       " '/mnt/d/Lab/16S-Taxa-Phlyo/result/M15/fasta/DA_189.fasta',\n",
       " '/mnt/d/Lab/16S-Taxa-Phlyo/result/M15/fasta/DA_191.fasta',\n",
       " '/mnt/d/Lab/16S-Taxa-Phlyo/result/M15/fasta/DA_192.fasta',\n",
       " '/mnt/d/Lab/16S-Taxa-Phlyo/result/M15/fasta/DA_198.fasta',\n",
       " '/mnt/d/Lab/16S-Taxa-Phlyo/result/M15/fasta/DA_199.fasta',\n",
       " '/mnt/d/Lab/16S-Taxa-Phlyo/result/M15/fasta/DA_200.fasta',\n",
       " '/mnt/d/Lab/16S-Taxa-Phlyo/result/M15/fasta/DA_203.fasta',\n",
       " '/mnt/d/Lab/16S-Taxa-Phlyo/result/M15/fasta/DA_205.fasta',\n",
       " '/mnt/d/Lab/16S-Taxa-Phlyo/result/M15/fasta/DA_206.fasta',\n",
       " '/mnt/d/Lab/16S-Taxa-Phlyo/result/M15/fasta/DA_208.fasta',\n",
       " '/mnt/d/Lab/16S-Taxa-Phlyo/result/M15/fasta/DA_210.fasta',\n",
       " '/mnt/d/Lab/16S-Taxa-Phlyo/result/M15/fasta/DO_100.fasta',\n",
       " '/mnt/d/Lab/16S-Taxa-Phlyo/result/M15/fasta/DO_103.fasta']"
      ]
     },
     "execution_count": 149,
     "metadata": {},
     "output_type": "execute_result"
    }
   ],
   "source": [
    "allSeq"
   ]
  },
  {
   "cell_type": "code",
   "execution_count": 155,
   "metadata": {
    "execution": {
     "iopub.execute_input": "2021-01-12T13:10:12.346780Z",
     "iopub.status.busy": "2021-01-12T13:10:12.346453Z",
     "iopub.status.idle": "2021-01-12T13:10:12.352492Z",
     "shell.execute_reply": "2021-01-12T13:10:12.350762Z",
     "shell.execute_reply.started": "2021-01-12T13:10:12.346747Z"
    }
   },
   "outputs": [],
   "source": [
    "indexPath = \"/mnt/d/Lab/16S-Taxa-Phlyo/database/silva-138-99-index.tsv\""
   ]
  },
  {
   "cell_type": "code",
   "execution_count": 159,
   "metadata": {
    "execution": {
     "iopub.execute_input": "2021-01-12T13:11:34.369269Z",
     "iopub.status.busy": "2021-01-12T13:11:34.368806Z",
     "iopub.status.idle": "2021-01-12T13:11:34.383237Z",
     "shell.execute_reply": "2021-01-12T13:11:34.381386Z",
     "shell.execute_reply.started": "2021-01-12T13:11:34.369224Z"
    }
   },
   "outputs": [],
   "source": [
    "def parseIndex(blastDir, OutDir):\n",
    "    taxaList = []\n",
    "    df = pd.DataFrame()\n",
    "    out = pd.DataFrame()\n",
    "    for file in os.listdir(blastDir):\n",
    "        #print(file)\n",
    "        if file.endswith(\".tsv\") and os.path.getsize(os.path.join(blastDir, file)) > 0:\n",
    "            df1 = pd.read_table(os.path.join(blastDir, file), header = None)\n",
    "            df1.columns = [\"qseqid\", \"sseqid\", \"pident\", \"length\", \"mismatch\", \"gapopen\", \"qstart\", \"qend\", \"sstart\", \"send\", \"evalue\", \"bitscore\"]\n",
    "            df = df.append(df1)\n",
    "    df = df.reset_index()\n",
    "    df2 = pd.read_table(indexPath)\n",
    "    index = dict(zip(df2[\"ID\"], df2[\"Taxa\"]))\n",
    "    for i in range(len(df)):\n",
    "        taxa = index[df[\"sseqid\"][i]]\n",
    "        taxaList.append(taxa)\n",
    "    out[\"taxa\"] = taxaList\n",
    "    out[\"qseqid\"] = df[\"qseqid\"]\n",
    "    out[\"pident\"] = df[\"pident\"]\n",
    "    out[\"length\"] = df[\"length\"]\n",
    "    return out"
   ]
  },
  {
   "cell_type": "code",
   "execution_count": 167,
   "metadata": {
    "execution": {
     "iopub.execute_input": "2021-01-12T14:09:00.351504Z",
     "iopub.status.busy": "2021-01-12T14:09:00.351202Z",
     "iopub.status.idle": "2021-01-12T14:09:00.365428Z",
     "shell.execute_reply": "2021-01-12T14:09:00.363352Z",
     "shell.execute_reply.started": "2021-01-12T14:09:00.351475Z"
    }
   },
   "outputs": [
    {
     "data": {
      "text/html": [
       "<div>\n",
       "<style scoped>\n",
       "    .dataframe tbody tr th:only-of-type {\n",
       "        vertical-align: middle;\n",
       "    }\n",
       "\n",
       "    .dataframe tbody tr th {\n",
       "        vertical-align: top;\n",
       "    }\n",
       "\n",
       "    .dataframe thead th {\n",
       "        text-align: right;\n",
       "    }\n",
       "</style>\n",
       "<table border=\"1\" class=\"dataframe\">\n",
       "  <thead>\n",
       "    <tr style=\"text-align: right;\">\n",
       "      <th></th>\n",
       "      <th>ID</th>\n",
       "      <th>R1</th>\n",
       "      <th>R2</th>\n",
       "    </tr>\n",
       "  </thead>\n",
       "  <tbody>\n",
       "    <tr>\n",
       "      <th>0</th>\n",
       "      <td>DA_141</td>\n",
       "      <td>/mnt/d/Lab/16S-Taxa-Phlyo/result/M15/fastq/DA_...</td>\n",
       "      <td>/mnt/d/Lab/16S-Taxa-Phlyo/result/M15/fastq/DA_...</td>\n",
       "    </tr>\n",
       "  </tbody>\n",
       "</table>\n",
       "</div>"
      ],
      "text/plain": [
       "       ID                                                 R1  \\\n",
       "0  DA_141  /mnt/d/Lab/16S-Taxa-Phlyo/result/M15/fastq/DA_...   \n",
       "\n",
       "                                                  R2  \n",
       "0  /mnt/d/Lab/16S-Taxa-Phlyo/result/M15/fastq/DA_...  "
      ]
     },
     "execution_count": 167,
     "metadata": {},
     "output_type": "execute_result"
    }
   ],
   "source": [
    "df1[0:1]"
   ]
  },
  {
   "cell_type": "code",
   "execution_count": 160,
   "metadata": {
    "execution": {
     "iopub.execute_input": "2021-01-12T13:11:34.681281Z",
     "iopub.status.busy": "2021-01-12T13:11:34.680674Z",
     "iopub.status.idle": "2021-01-12T13:11:34.690617Z",
     "shell.execute_reply": "2021-01-12T13:11:34.688823Z",
     "shell.execute_reply.started": "2021-01-12T13:11:34.681231Z"
    }
   },
   "outputs": [
    {
     "data": {
      "text/plain": [
       "'/mnt/d/Lab/16S-Taxa-Phlyo/result/M15'"
      ]
     },
     "execution_count": 160,
     "metadata": {},
     "output_type": "execute_result"
    }
   ],
   "source": [
    "OutDir"
   ]
  },
  {
   "cell_type": "code",
   "execution_count": 161,
   "metadata": {
    "execution": {
     "iopub.execute_input": "2021-01-12T13:11:35.001857Z",
     "iopub.status.busy": "2021-01-12T13:11:35.001484Z",
     "iopub.status.idle": "2021-01-12T13:11:37.513433Z",
     "shell.execute_reply": "2021-01-12T13:11:37.512158Z",
     "shell.execute_reply.started": "2021-01-12T13:11:35.001822Z"
    }
   },
   "outputs": [],
   "source": [
    "pairsOut = parseIndex(os.path.join(OutDir, \"blast\"), OutDir)"
   ]
  },
  {
   "cell_type": "code",
   "execution_count": 162,
   "metadata": {
    "execution": {
     "iopub.execute_input": "2021-01-12T13:11:40.662197Z",
     "iopub.status.busy": "2021-01-12T13:11:40.661675Z",
     "iopub.status.idle": "2021-01-12T13:11:40.683475Z",
     "shell.execute_reply": "2021-01-12T13:11:40.681682Z",
     "shell.execute_reply.started": "2021-01-12T13:11:40.662149Z"
    }
   },
   "outputs": [
    {
     "data": {
      "text/html": [
       "<div>\n",
       "<style scoped>\n",
       "    .dataframe tbody tr th:only-of-type {\n",
       "        vertical-align: middle;\n",
       "    }\n",
       "\n",
       "    .dataframe tbody tr th {\n",
       "        vertical-align: top;\n",
       "    }\n",
       "\n",
       "    .dataframe thead th {\n",
       "        text-align: right;\n",
       "    }\n",
       "</style>\n",
       "<table border=\"1\" class=\"dataframe\">\n",
       "  <thead>\n",
       "    <tr style=\"text-align: right;\">\n",
       "      <th></th>\n",
       "      <th>taxa</th>\n",
       "      <th>qseqid</th>\n",
       "      <th>pident</th>\n",
       "      <th>length</th>\n",
       "    </tr>\n",
       "  </thead>\n",
       "  <tbody>\n",
       "    <tr>\n",
       "      <th>0</th>\n",
       "      <td>Bacteria;Firmicutes;Clostridia;Lachnospirales;...</td>\n",
       "      <td>DA_134</td>\n",
       "      <td>99.637</td>\n",
       "      <td>1379</td>\n",
       "    </tr>\n",
       "    <tr>\n",
       "      <th>1</th>\n",
       "      <td>Bacteria;Firmicutes;Clostridia;Lachnospirales;...</td>\n",
       "      <td>DA_136</td>\n",
       "      <td>98.908</td>\n",
       "      <td>1374</td>\n",
       "    </tr>\n",
       "    <tr>\n",
       "      <th>2</th>\n",
       "      <td>Bacteria;Firmicutes;Bacilli;Lactobacillales;La...</td>\n",
       "      <td>DA_138</td>\n",
       "      <td>100.000</td>\n",
       "      <td>1422</td>\n",
       "    </tr>\n",
       "    <tr>\n",
       "      <th>3</th>\n",
       "      <td>Bacteria;Firmicutes;Clostridia;Lachnospirales;...</td>\n",
       "      <td>DA_139</td>\n",
       "      <td>99.708</td>\n",
       "      <td>1371</td>\n",
       "    </tr>\n",
       "    <tr>\n",
       "      <th>4</th>\n",
       "      <td>Bacteria;Firmicutes;Clostridia;Lachnospirales;...</td>\n",
       "      <td>DA_141</td>\n",
       "      <td>99.855</td>\n",
       "      <td>1379</td>\n",
       "    </tr>\n",
       "    <tr>\n",
       "      <th>5</th>\n",
       "      <td>Bacteria;Firmicutes;Clostridia;Lachnospirales;...</td>\n",
       "      <td>DA_151</td>\n",
       "      <td>98.983</td>\n",
       "      <td>1376</td>\n",
       "    </tr>\n",
       "    <tr>\n",
       "      <th>6</th>\n",
       "      <td>Bacteria;Actinobacteriota;Coriobacteriia;Corio...</td>\n",
       "      <td>DA_152</td>\n",
       "      <td>99.926</td>\n",
       "      <td>1354</td>\n",
       "    </tr>\n",
       "    <tr>\n",
       "      <th>7</th>\n",
       "      <td>Bacteria;Firmicutes;Clostridia;Lachnospirales;...</td>\n",
       "      <td>DA_154</td>\n",
       "      <td>99.636</td>\n",
       "      <td>1372</td>\n",
       "    </tr>\n",
       "    <tr>\n",
       "      <th>8</th>\n",
       "      <td>Bacteria;Firmicutes;Clostridia;Lachnospirales;...</td>\n",
       "      <td>DA_156</td>\n",
       "      <td>99.637</td>\n",
       "      <td>1377</td>\n",
       "    </tr>\n",
       "    <tr>\n",
       "      <th>9</th>\n",
       "      <td>Bacteria;Bacteroidota;Bacteroidia;Bacteroidale...</td>\n",
       "      <td>DA_158</td>\n",
       "      <td>99.420</td>\n",
       "      <td>1380</td>\n",
       "    </tr>\n",
       "    <tr>\n",
       "      <th>10</th>\n",
       "      <td>Bacteria;Firmicutes;Clostridia;Eubacteriales;E...</td>\n",
       "      <td>DA_161</td>\n",
       "      <td>99.927</td>\n",
       "      <td>1370</td>\n",
       "    </tr>\n",
       "    <tr>\n",
       "      <th>11</th>\n",
       "      <td>Bacteria;Firmicutes;Clostridia;Peptostreptococ...</td>\n",
       "      <td>DA_163</td>\n",
       "      <td>99.779</td>\n",
       "      <td>1357</td>\n",
       "    </tr>\n",
       "    <tr>\n",
       "      <th>12</th>\n",
       "      <td>Bacteria;Firmicutes;Clostridia;Lachnospirales;...</td>\n",
       "      <td>DA_164</td>\n",
       "      <td>99.708</td>\n",
       "      <td>1372</td>\n",
       "    </tr>\n",
       "    <tr>\n",
       "      <th>13</th>\n",
       "      <td>Bacteria;Bacteroidota;Bacteroidia;Bacteroidale...</td>\n",
       "      <td>DA_166</td>\n",
       "      <td>93.402</td>\n",
       "      <td>1364</td>\n",
       "    </tr>\n",
       "    <tr>\n",
       "      <th>14</th>\n",
       "      <td>Bacteria;Firmicutes;Clostridia;Lachnospirales;...</td>\n",
       "      <td>DA_168</td>\n",
       "      <td>99.636</td>\n",
       "      <td>1375</td>\n",
       "    </tr>\n",
       "    <tr>\n",
       "      <th>15</th>\n",
       "      <td>Bacteria;Actinobacteriota;Coriobacteriia;Corio...</td>\n",
       "      <td>DA_169</td>\n",
       "      <td>99.852</td>\n",
       "      <td>1354</td>\n",
       "    </tr>\n",
       "    <tr>\n",
       "      <th>16</th>\n",
       "      <td>Bacteria;Firmicutes;Clostridia;Lachnospirales;...</td>\n",
       "      <td>DA_170</td>\n",
       "      <td>99.636</td>\n",
       "      <td>1375</td>\n",
       "    </tr>\n",
       "    <tr>\n",
       "      <th>17</th>\n",
       "      <td>Bacteria;Firmicutes;Clostridia;Peptostreptococ...</td>\n",
       "      <td>DA_172</td>\n",
       "      <td>99.853</td>\n",
       "      <td>1356</td>\n",
       "    </tr>\n",
       "    <tr>\n",
       "      <th>18</th>\n",
       "      <td>Bacteria;Firmicutes;Clostridia;Lachnospirales;...</td>\n",
       "      <td>DA_174</td>\n",
       "      <td>99.637</td>\n",
       "      <td>1377</td>\n",
       "    </tr>\n",
       "    <tr>\n",
       "      <th>19</th>\n",
       "      <td>Bacteria;Firmicutes;Clostridia;Lachnospirales;...</td>\n",
       "      <td>DA_176</td>\n",
       "      <td>98.908</td>\n",
       "      <td>1373</td>\n",
       "    </tr>\n",
       "    <tr>\n",
       "      <th>20</th>\n",
       "      <td>Bacteria;Firmicutes;Clostridia;Lachnospirales;...</td>\n",
       "      <td>DA_177</td>\n",
       "      <td>99.636</td>\n",
       "      <td>1375</td>\n",
       "    </tr>\n",
       "    <tr>\n",
       "      <th>21</th>\n",
       "      <td>Bacteria;Firmicutes;Clostridia;Lachnospirales;...</td>\n",
       "      <td>DA_178</td>\n",
       "      <td>99.635</td>\n",
       "      <td>1370</td>\n",
       "    </tr>\n",
       "    <tr>\n",
       "      <th>22</th>\n",
       "      <td>Bacteria;Firmicutes;Clostridia;Lachnospirales;...</td>\n",
       "      <td>DA_180</td>\n",
       "      <td>99.417</td>\n",
       "      <td>1373</td>\n",
       "    </tr>\n",
       "    <tr>\n",
       "      <th>23</th>\n",
       "      <td>Bacteria;Firmicutes;Clostridia;Lachnospirales;...</td>\n",
       "      <td>DA_182</td>\n",
       "      <td>99.636</td>\n",
       "      <td>1373</td>\n",
       "    </tr>\n",
       "    <tr>\n",
       "      <th>24</th>\n",
       "      <td>Bacteria;Bacteroidota;Bacteroidia;Bacteroidale...</td>\n",
       "      <td>DA_183</td>\n",
       "      <td>99.782</td>\n",
       "      <td>1373</td>\n",
       "    </tr>\n",
       "    <tr>\n",
       "      <th>25</th>\n",
       "      <td>Bacteria;Firmicutes;Bacilli;Lactobacillales;La...</td>\n",
       "      <td>DA_189</td>\n",
       "      <td>99.929</td>\n",
       "      <td>1403</td>\n",
       "    </tr>\n",
       "    <tr>\n",
       "      <th>26</th>\n",
       "      <td>Bacteria;Firmicutes;Clostridia;Oscillospirales...</td>\n",
       "      <td>DA_191</td>\n",
       "      <td>99.630</td>\n",
       "      <td>1353</td>\n",
       "    </tr>\n",
       "    <tr>\n",
       "      <th>27</th>\n",
       "      <td>Bacteria;Firmicutes;Clostridia;Lachnospirales;...</td>\n",
       "      <td>DA_192</td>\n",
       "      <td>99.493</td>\n",
       "      <td>1382</td>\n",
       "    </tr>\n",
       "    <tr>\n",
       "      <th>28</th>\n",
       "      <td>Bacteria;Firmicutes;Clostridia;Eubacteriales;E...</td>\n",
       "      <td>DA_198</td>\n",
       "      <td>99.927</td>\n",
       "      <td>1368</td>\n",
       "    </tr>\n",
       "    <tr>\n",
       "      <th>29</th>\n",
       "      <td>Bacteria;Firmicutes;Clostridia;Lachnospirales;...</td>\n",
       "      <td>DA_199</td>\n",
       "      <td>99.636</td>\n",
       "      <td>1375</td>\n",
       "    </tr>\n",
       "    <tr>\n",
       "      <th>30</th>\n",
       "      <td>Bacteria;Bacteroidota;Bacteroidia;Bacteroidale...</td>\n",
       "      <td>DA_200</td>\n",
       "      <td>100.000</td>\n",
       "      <td>1370</td>\n",
       "    </tr>\n",
       "    <tr>\n",
       "      <th>31</th>\n",
       "      <td>Bacteria;Firmicutes;Clostridia;Lachnospirales;...</td>\n",
       "      <td>DA_203</td>\n",
       "      <td>98.910</td>\n",
       "      <td>1376</td>\n",
       "    </tr>\n",
       "    <tr>\n",
       "      <th>32</th>\n",
       "      <td>Bacteria;Firmicutes;Clostridia;Lachnospirales;...</td>\n",
       "      <td>DA_205</td>\n",
       "      <td>96.650</td>\n",
       "      <td>1373</td>\n",
       "    </tr>\n",
       "    <tr>\n",
       "      <th>33</th>\n",
       "      <td>Bacteria;Firmicutes;Clostridia;Lachnospirales;...</td>\n",
       "      <td>DA_206</td>\n",
       "      <td>99.636</td>\n",
       "      <td>1373</td>\n",
       "    </tr>\n",
       "    <tr>\n",
       "      <th>34</th>\n",
       "      <td>Bacteria;Firmicutes;Clostridia;Eubacteriales;E...</td>\n",
       "      <td>DA_208</td>\n",
       "      <td>99.562</td>\n",
       "      <td>1369</td>\n",
       "    </tr>\n",
       "    <tr>\n",
       "      <th>35</th>\n",
       "      <td>Bacteria;Firmicutes;Clostridia;Eubacteriales;E...</td>\n",
       "      <td>DA_210</td>\n",
       "      <td>99.854</td>\n",
       "      <td>1369</td>\n",
       "    </tr>\n",
       "    <tr>\n",
       "      <th>36</th>\n",
       "      <td>Bacteria;Firmicutes;Bacilli;Lactobacillales;En...</td>\n",
       "      <td>DO_100</td>\n",
       "      <td>99.858</td>\n",
       "      <td>1407</td>\n",
       "    </tr>\n",
       "    <tr>\n",
       "      <th>37</th>\n",
       "      <td>Bacteria;Firmicutes;Bacilli;Lactobacillales;En...</td>\n",
       "      <td>DO_103</td>\n",
       "      <td>100.000</td>\n",
       "      <td>1405</td>\n",
       "    </tr>\n",
       "  </tbody>\n",
       "</table>\n",
       "</div>"
      ],
      "text/plain": [
       "                                                 taxa  qseqid   pident  length\n",
       "0   Bacteria;Firmicutes;Clostridia;Lachnospirales;...  DA_134   99.637    1379\n",
       "1   Bacteria;Firmicutes;Clostridia;Lachnospirales;...  DA_136   98.908    1374\n",
       "2   Bacteria;Firmicutes;Bacilli;Lactobacillales;La...  DA_138  100.000    1422\n",
       "3   Bacteria;Firmicutes;Clostridia;Lachnospirales;...  DA_139   99.708    1371\n",
       "4   Bacteria;Firmicutes;Clostridia;Lachnospirales;...  DA_141   99.855    1379\n",
       "5   Bacteria;Firmicutes;Clostridia;Lachnospirales;...  DA_151   98.983    1376\n",
       "6   Bacteria;Actinobacteriota;Coriobacteriia;Corio...  DA_152   99.926    1354\n",
       "7   Bacteria;Firmicutes;Clostridia;Lachnospirales;...  DA_154   99.636    1372\n",
       "8   Bacteria;Firmicutes;Clostridia;Lachnospirales;...  DA_156   99.637    1377\n",
       "9   Bacteria;Bacteroidota;Bacteroidia;Bacteroidale...  DA_158   99.420    1380\n",
       "10  Bacteria;Firmicutes;Clostridia;Eubacteriales;E...  DA_161   99.927    1370\n",
       "11  Bacteria;Firmicutes;Clostridia;Peptostreptococ...  DA_163   99.779    1357\n",
       "12  Bacteria;Firmicutes;Clostridia;Lachnospirales;...  DA_164   99.708    1372\n",
       "13  Bacteria;Bacteroidota;Bacteroidia;Bacteroidale...  DA_166   93.402    1364\n",
       "14  Bacteria;Firmicutes;Clostridia;Lachnospirales;...  DA_168   99.636    1375\n",
       "15  Bacteria;Actinobacteriota;Coriobacteriia;Corio...  DA_169   99.852    1354\n",
       "16  Bacteria;Firmicutes;Clostridia;Lachnospirales;...  DA_170   99.636    1375\n",
       "17  Bacteria;Firmicutes;Clostridia;Peptostreptococ...  DA_172   99.853    1356\n",
       "18  Bacteria;Firmicutes;Clostridia;Lachnospirales;...  DA_174   99.637    1377\n",
       "19  Bacteria;Firmicutes;Clostridia;Lachnospirales;...  DA_176   98.908    1373\n",
       "20  Bacteria;Firmicutes;Clostridia;Lachnospirales;...  DA_177   99.636    1375\n",
       "21  Bacteria;Firmicutes;Clostridia;Lachnospirales;...  DA_178   99.635    1370\n",
       "22  Bacteria;Firmicutes;Clostridia;Lachnospirales;...  DA_180   99.417    1373\n",
       "23  Bacteria;Firmicutes;Clostridia;Lachnospirales;...  DA_182   99.636    1373\n",
       "24  Bacteria;Bacteroidota;Bacteroidia;Bacteroidale...  DA_183   99.782    1373\n",
       "25  Bacteria;Firmicutes;Bacilli;Lactobacillales;La...  DA_189   99.929    1403\n",
       "26  Bacteria;Firmicutes;Clostridia;Oscillospirales...  DA_191   99.630    1353\n",
       "27  Bacteria;Firmicutes;Clostridia;Lachnospirales;...  DA_192   99.493    1382\n",
       "28  Bacteria;Firmicutes;Clostridia;Eubacteriales;E...  DA_198   99.927    1368\n",
       "29  Bacteria;Firmicutes;Clostridia;Lachnospirales;...  DA_199   99.636    1375\n",
       "30  Bacteria;Bacteroidota;Bacteroidia;Bacteroidale...  DA_200  100.000    1370\n",
       "31  Bacteria;Firmicutes;Clostridia;Lachnospirales;...  DA_203   98.910    1376\n",
       "32  Bacteria;Firmicutes;Clostridia;Lachnospirales;...  DA_205   96.650    1373\n",
       "33  Bacteria;Firmicutes;Clostridia;Lachnospirales;...  DA_206   99.636    1373\n",
       "34  Bacteria;Firmicutes;Clostridia;Eubacteriales;E...  DA_208   99.562    1369\n",
       "35  Bacteria;Firmicutes;Clostridia;Eubacteriales;E...  DA_210   99.854    1369\n",
       "36  Bacteria;Firmicutes;Bacilli;Lactobacillales;En...  DO_100   99.858    1407\n",
       "37  Bacteria;Firmicutes;Bacilli;Lactobacillales;En...  DO_103  100.000    1405"
      ]
     },
     "execution_count": 162,
     "metadata": {},
     "output_type": "execute_result"
    }
   ],
   "source": [
    "pairsOut"
   ]
  },
  {
   "cell_type": "code",
   "execution_count": null,
   "metadata": {},
   "outputs": [],
   "source": []
  }
 ],
 "metadata": {
  "kernelspec": {
   "display_name": "Python 3",
   "language": "python",
   "name": "python3"
  },
  "language_info": {
   "codemirror_mode": {
    "name": "ipython",
    "version": 3
   },
   "file_extension": ".py",
   "mimetype": "text/x-python",
   "name": "python",
   "nbconvert_exporter": "python",
   "pygments_lexer": "ipython3",
   "version": "3.8.6"
  }
 },
 "nbformat": 4,
 "nbformat_minor": 4
}
