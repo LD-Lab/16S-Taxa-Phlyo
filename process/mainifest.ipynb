{
 "cells": [
  {
   "cell_type": "code",
   "execution_count": 1,
   "metadata": {},
   "outputs": [],
   "source": [
    "import os\n",
    "import re\n",
    "import pandas as pd"
   ]
  },
  {
   "cell_type": "code",
   "execution_count": 2,
   "metadata": {},
   "outputs": [],
   "source": [
    "import collections"
   ]
  },
  {
   "cell_type": "code",
   "execution_count": 41,
   "metadata": {},
   "outputs": [],
   "source": [
    "import os\n",
    "import argparse\n",
    "import subprocess\n",
    "from Bio import SeqIO"
   ]
  },
  {
   "cell_type": "code",
   "execution_count": 4,
   "metadata": {},
   "outputs": [],
   "source": [
    "from itertools import repeat\n",
    "from multiprocessing import Pool, freeze_support"
   ]
  },
  {
   "cell_type": "code",
   "execution_count": 5,
   "metadata": {},
   "outputs": [],
   "source": [
    "InDir = \"/mnt/d/Lab/16S-Taxa-Phlyo/data/M15\""
   ]
  },
  {
   "cell_type": "code",
   "execution_count": 10,
   "metadata": {},
   "outputs": [],
   "source": [
    "InDir = \"/mnt/d/Lab/16S-Taxa-Phlyo/data/16S-Taxa-20210106\""
   ]
  },
  {
   "cell_type": "code",
   "execution_count": 11,
   "metadata": {},
   "outputs": [
    {
     "name": "stdout",
     "output_type": "stream",
     "text": [
      "180\n"
     ]
    }
   ],
   "source": [
    "!ls /mnt/d/Lab/16S-Taxa-Phlyo/data/M15 | wc -l"
   ]
  },
  {
   "cell_type": "code",
   "execution_count": 12,
   "metadata": {},
   "outputs": [],
   "source": [
    "def manifestGen(InDir):\n",
    "    sampleID = []\n",
    "    single = {}\n",
    "    pair = {}\n",
    "    df = pd.DataFrame()\n",
    "    SampleList = collections.defaultdict(list)\n",
    "\n",
    "    for file in os.listdir(InDir):\n",
    "        filePath = os.path.join(InDir, file)\n",
    "        if file.endswith(\".ab1\") and os.path.getsize(filePath) > 0:\n",
    "            info = file.split(\"__\")\n",
    "            sampleID.append(info[0])\n",
    "            SampleList[info[0]].append(filePath)\n",
    "\n",
    "    for sample in set(sampleID):\n",
    "        if len(SampleList[sample]) == 1:\n",
    "            single[sample] = SampleList[sample]\n",
    "        elif len(SampleList[sample]) == 2:\n",
    "            pair[sample] = SampleList[sample]\n",
    "            for end in pair[sample]:\n",
    "                if \"F__\" in end:\n",
    "                    R1 = end\n",
    "                elif \"R__\" in end:\n",
    "                    R2 = end\n",
    "            df = df.append({\"ID\": sample, \"R1\":R1, \"R2\":R2},ignore_index=True)\n",
    "    return single, df"
   ]
  },
  {
   "cell_type": "code",
   "execution_count": 13,
   "metadata": {},
   "outputs": [],
   "source": [
    "single, df = manifestGen(InDir)"
   ]
  },
  {
   "cell_type": "code",
   "execution_count": 14,
   "metadata": {},
   "outputs": [
    {
     "data": {
      "text/plain": [
       "{}"
      ]
     },
     "execution_count": 14,
     "metadata": {},
     "output_type": "execute_result"
    }
   ],
   "source": [
    "single"
   ]
  },
  {
   "cell_type": "code",
   "execution_count": 15,
   "metadata": {},
   "outputs": [
    {
     "data": {
      "text/html": [
       "<div>\n",
       "<style scoped>\n",
       "    .dataframe tbody tr th:only-of-type {\n",
       "        vertical-align: middle;\n",
       "    }\n",
       "\n",
       "    .dataframe tbody tr th {\n",
       "        vertical-align: top;\n",
       "    }\n",
       "\n",
       "    .dataframe thead th {\n",
       "        text-align: right;\n",
       "    }\n",
       "</style>\n",
       "<table border=\"1\" class=\"dataframe\">\n",
       "  <thead>\n",
       "    <tr style=\"text-align: right;\">\n",
       "      <th></th>\n",
       "      <th>ID</th>\n",
       "      <th>R1</th>\n",
       "      <th>R2</th>\n",
       "    </tr>\n",
       "  </thead>\n",
       "  <tbody>\n",
       "    <tr>\n",
       "      <th>0</th>\n",
       "      <td>C63</td>\n",
       "      <td>/mnt/d/Lab/16S-Taxa-Phlyo/data/16S-Taxa-202101...</td>\n",
       "      <td>/mnt/d/Lab/16S-Taxa-Phlyo/data/16S-Taxa-202101...</td>\n",
       "    </tr>\n",
       "    <tr>\n",
       "      <th>1</th>\n",
       "      <td>D40</td>\n",
       "      <td>/mnt/d/Lab/16S-Taxa-Phlyo/data/16S-Taxa-202101...</td>\n",
       "      <td>/mnt/d/Lab/16S-Taxa-Phlyo/data/16S-Taxa-202101...</td>\n",
       "    </tr>\n",
       "    <tr>\n",
       "      <th>2</th>\n",
       "      <td>B3</td>\n",
       "      <td>/mnt/d/Lab/16S-Taxa-Phlyo/data/16S-Taxa-202101...</td>\n",
       "      <td>/mnt/d/Lab/16S-Taxa-Phlyo/data/16S-Taxa-202101...</td>\n",
       "    </tr>\n",
       "    <tr>\n",
       "      <th>3</th>\n",
       "      <td>D7</td>\n",
       "      <td>/mnt/d/Lab/16S-Taxa-Phlyo/data/16S-Taxa-202101...</td>\n",
       "      <td>/mnt/d/Lab/16S-Taxa-Phlyo/data/16S-Taxa-202101...</td>\n",
       "    </tr>\n",
       "    <tr>\n",
       "      <th>4</th>\n",
       "      <td>A17</td>\n",
       "      <td>/mnt/d/Lab/16S-Taxa-Phlyo/data/16S-Taxa-202101...</td>\n",
       "      <td>/mnt/d/Lab/16S-Taxa-Phlyo/data/16S-Taxa-202101...</td>\n",
       "    </tr>\n",
       "    <tr>\n",
       "      <th>...</th>\n",
       "      <td>...</td>\n",
       "      <td>...</td>\n",
       "      <td>...</td>\n",
       "    </tr>\n",
       "    <tr>\n",
       "      <th>229</th>\n",
       "      <td>D25</td>\n",
       "      <td>/mnt/d/Lab/16S-Taxa-Phlyo/data/16S-Taxa-202101...</td>\n",
       "      <td>/mnt/d/Lab/16S-Taxa-Phlyo/data/16S-Taxa-202101...</td>\n",
       "    </tr>\n",
       "    <tr>\n",
       "      <th>230</th>\n",
       "      <td>A64</td>\n",
       "      <td>/mnt/d/Lab/16S-Taxa-Phlyo/data/16S-Taxa-202101...</td>\n",
       "      <td>/mnt/d/Lab/16S-Taxa-Phlyo/data/16S-Taxa-202101...</td>\n",
       "    </tr>\n",
       "    <tr>\n",
       "      <th>231</th>\n",
       "      <td>B5</td>\n",
       "      <td>/mnt/d/Lab/16S-Taxa-Phlyo/data/16S-Taxa-202101...</td>\n",
       "      <td>/mnt/d/Lab/16S-Taxa-Phlyo/data/16S-Taxa-202101...</td>\n",
       "    </tr>\n",
       "    <tr>\n",
       "      <th>232</th>\n",
       "      <td>D92</td>\n",
       "      <td>/mnt/d/Lab/16S-Taxa-Phlyo/data/16S-Taxa-202101...</td>\n",
       "      <td>/mnt/d/Lab/16S-Taxa-Phlyo/data/16S-Taxa-202101...</td>\n",
       "    </tr>\n",
       "    <tr>\n",
       "      <th>233</th>\n",
       "      <td>C37</td>\n",
       "      <td>/mnt/d/Lab/16S-Taxa-Phlyo/data/16S-Taxa-202101...</td>\n",
       "      <td>/mnt/d/Lab/16S-Taxa-Phlyo/data/16S-Taxa-202101...</td>\n",
       "    </tr>\n",
       "  </tbody>\n",
       "</table>\n",
       "<p>234 rows × 3 columns</p>\n",
       "</div>"
      ],
      "text/plain": [
       "      ID                                                 R1  \\\n",
       "0    C63  /mnt/d/Lab/16S-Taxa-Phlyo/data/16S-Taxa-202101...   \n",
       "1    D40  /mnt/d/Lab/16S-Taxa-Phlyo/data/16S-Taxa-202101...   \n",
       "2     B3  /mnt/d/Lab/16S-Taxa-Phlyo/data/16S-Taxa-202101...   \n",
       "3     D7  /mnt/d/Lab/16S-Taxa-Phlyo/data/16S-Taxa-202101...   \n",
       "4    A17  /mnt/d/Lab/16S-Taxa-Phlyo/data/16S-Taxa-202101...   \n",
       "..   ...                                                ...   \n",
       "229  D25  /mnt/d/Lab/16S-Taxa-Phlyo/data/16S-Taxa-202101...   \n",
       "230  A64  /mnt/d/Lab/16S-Taxa-Phlyo/data/16S-Taxa-202101...   \n",
       "231   B5  /mnt/d/Lab/16S-Taxa-Phlyo/data/16S-Taxa-202101...   \n",
       "232  D92  /mnt/d/Lab/16S-Taxa-Phlyo/data/16S-Taxa-202101...   \n",
       "233  C37  /mnt/d/Lab/16S-Taxa-Phlyo/data/16S-Taxa-202101...   \n",
       "\n",
       "                                                    R2  \n",
       "0    /mnt/d/Lab/16S-Taxa-Phlyo/data/16S-Taxa-202101...  \n",
       "1    /mnt/d/Lab/16S-Taxa-Phlyo/data/16S-Taxa-202101...  \n",
       "2    /mnt/d/Lab/16S-Taxa-Phlyo/data/16S-Taxa-202101...  \n",
       "3    /mnt/d/Lab/16S-Taxa-Phlyo/data/16S-Taxa-202101...  \n",
       "4    /mnt/d/Lab/16S-Taxa-Phlyo/data/16S-Taxa-202101...  \n",
       "..                                                 ...  \n",
       "229  /mnt/d/Lab/16S-Taxa-Phlyo/data/16S-Taxa-202101...  \n",
       "230  /mnt/d/Lab/16S-Taxa-Phlyo/data/16S-Taxa-202101...  \n",
       "231  /mnt/d/Lab/16S-Taxa-Phlyo/data/16S-Taxa-202101...  \n",
       "232  /mnt/d/Lab/16S-Taxa-Phlyo/data/16S-Taxa-202101...  \n",
       "233  /mnt/d/Lab/16S-Taxa-Phlyo/data/16S-Taxa-202101...  \n",
       "\n",
       "[234 rows x 3 columns]"
      ]
     },
     "execution_count": 15,
     "metadata": {},
     "output_type": "execute_result"
    }
   ],
   "source": [
    "df"
   ]
  },
  {
   "cell_type": "code",
   "execution_count": null,
   "metadata": {},
   "outputs": [],
   "source": []
  },
  {
   "cell_type": "code",
   "execution_count": 145,
   "metadata": {
    "execution": {
     "iopub.execute_input": "2021-01-12T12:35:17.442566Z",
     "iopub.status.busy": "2021-01-12T12:35:17.442304Z",
     "iopub.status.idle": "2021-01-12T12:35:17.447471Z",
     "shell.execute_reply": "2021-01-12T12:35:17.446027Z",
     "shell.execute_reply.started": "2021-01-12T12:35:17.442533Z"
    }
   },
   "outputs": [],
   "source": [
    "OutDir = \"/mnt/d/Lab/16S-Taxa-Phlyo/result/M15\""
   ]
  },
  {
   "cell_type": "code",
   "execution_count": 60,
   "metadata": {},
   "outputs": [],
   "source": [
    "OutDir = \"/mnt/d/Lab/16S-Taxa-Phlyo/result/merge-test\""
   ]
  },
  {
   "cell_type": "code",
   "execution_count": 66,
   "metadata": {},
   "outputs": [],
   "source": [
    "def parsePairs(df, OutDir):\n",
    "    R1OutList = []\n",
    "    R2OutList = []\n",
    "    df1 = pd.DataFrame()\n",
    "    fastqDir = os.path.join(OutDir, \"fastq\")\n",
    "    if os.path.exists(fastqDir) == 0:\n",
    "        os.makedirs(fastqDir, 0o777, True)\n",
    "    for ID in df[\"ID\"]:\n",
    "        R1OutList.append(os.path.join(fastqDir, ID + \"_R1.fastq\"))\n",
    "        R2OutList.append(os.path.join(fastqDir, ID + \"_R2.fastq\"))\n",
    "    df1[\"ID\"] = df[\"ID\"]\n",
    "    df1[\"R1\"] = R1OutList\n",
    "    df1[\"R2\"] = R2OutList\n",
    "    return df1"
   ]
  },
  {
   "cell_type": "code",
   "execution_count": 69,
   "metadata": {},
   "outputs": [],
   "source": [
    "df1 = parsePairs(df, OutDir)"
   ]
  },
  {
   "cell_type": "code",
   "execution_count": 70,
   "metadata": {},
   "outputs": [
    {
     "data": {
      "text/html": [
       "<div>\n",
       "<style scoped>\n",
       "    .dataframe tbody tr th:only-of-type {\n",
       "        vertical-align: middle;\n",
       "    }\n",
       "\n",
       "    .dataframe tbody tr th {\n",
       "        vertical-align: top;\n",
       "    }\n",
       "\n",
       "    .dataframe thead th {\n",
       "        text-align: right;\n",
       "    }\n",
       "</style>\n",
       "<table border=\"1\" class=\"dataframe\">\n",
       "  <thead>\n",
       "    <tr style=\"text-align: right;\">\n",
       "      <th></th>\n",
       "      <th>ID</th>\n",
       "      <th>R1</th>\n",
       "      <th>R2</th>\n",
       "    </tr>\n",
       "  </thead>\n",
       "  <tbody>\n",
       "    <tr>\n",
       "      <th>0</th>\n",
       "      <td>C63</td>\n",
       "      <td>/mnt/d/Lab/16S-Taxa-Phlyo/result/merge-test/fa...</td>\n",
       "      <td>/mnt/d/Lab/16S-Taxa-Phlyo/result/merge-test/fa...</td>\n",
       "    </tr>\n",
       "    <tr>\n",
       "      <th>1</th>\n",
       "      <td>D40</td>\n",
       "      <td>/mnt/d/Lab/16S-Taxa-Phlyo/result/merge-test/fa...</td>\n",
       "      <td>/mnt/d/Lab/16S-Taxa-Phlyo/result/merge-test/fa...</td>\n",
       "    </tr>\n",
       "    <tr>\n",
       "      <th>2</th>\n",
       "      <td>B3</td>\n",
       "      <td>/mnt/d/Lab/16S-Taxa-Phlyo/result/merge-test/fa...</td>\n",
       "      <td>/mnt/d/Lab/16S-Taxa-Phlyo/result/merge-test/fa...</td>\n",
       "    </tr>\n",
       "    <tr>\n",
       "      <th>3</th>\n",
       "      <td>D7</td>\n",
       "      <td>/mnt/d/Lab/16S-Taxa-Phlyo/result/merge-test/fa...</td>\n",
       "      <td>/mnt/d/Lab/16S-Taxa-Phlyo/result/merge-test/fa...</td>\n",
       "    </tr>\n",
       "    <tr>\n",
       "      <th>4</th>\n",
       "      <td>A17</td>\n",
       "      <td>/mnt/d/Lab/16S-Taxa-Phlyo/result/merge-test/fa...</td>\n",
       "      <td>/mnt/d/Lab/16S-Taxa-Phlyo/result/merge-test/fa...</td>\n",
       "    </tr>\n",
       "    <tr>\n",
       "      <th>...</th>\n",
       "      <td>...</td>\n",
       "      <td>...</td>\n",
       "      <td>...</td>\n",
       "    </tr>\n",
       "    <tr>\n",
       "      <th>229</th>\n",
       "      <td>D25</td>\n",
       "      <td>/mnt/d/Lab/16S-Taxa-Phlyo/result/merge-test/fa...</td>\n",
       "      <td>/mnt/d/Lab/16S-Taxa-Phlyo/result/merge-test/fa...</td>\n",
       "    </tr>\n",
       "    <tr>\n",
       "      <th>230</th>\n",
       "      <td>A64</td>\n",
       "      <td>/mnt/d/Lab/16S-Taxa-Phlyo/result/merge-test/fa...</td>\n",
       "      <td>/mnt/d/Lab/16S-Taxa-Phlyo/result/merge-test/fa...</td>\n",
       "    </tr>\n",
       "    <tr>\n",
       "      <th>231</th>\n",
       "      <td>B5</td>\n",
       "      <td>/mnt/d/Lab/16S-Taxa-Phlyo/result/merge-test/fa...</td>\n",
       "      <td>/mnt/d/Lab/16S-Taxa-Phlyo/result/merge-test/fa...</td>\n",
       "    </tr>\n",
       "    <tr>\n",
       "      <th>232</th>\n",
       "      <td>D92</td>\n",
       "      <td>/mnt/d/Lab/16S-Taxa-Phlyo/result/merge-test/fa...</td>\n",
       "      <td>/mnt/d/Lab/16S-Taxa-Phlyo/result/merge-test/fa...</td>\n",
       "    </tr>\n",
       "    <tr>\n",
       "      <th>233</th>\n",
       "      <td>C37</td>\n",
       "      <td>/mnt/d/Lab/16S-Taxa-Phlyo/result/merge-test/fa...</td>\n",
       "      <td>/mnt/d/Lab/16S-Taxa-Phlyo/result/merge-test/fa...</td>\n",
       "    </tr>\n",
       "  </tbody>\n",
       "</table>\n",
       "<p>234 rows × 3 columns</p>\n",
       "</div>"
      ],
      "text/plain": [
       "      ID                                                 R1  \\\n",
       "0    C63  /mnt/d/Lab/16S-Taxa-Phlyo/result/merge-test/fa...   \n",
       "1    D40  /mnt/d/Lab/16S-Taxa-Phlyo/result/merge-test/fa...   \n",
       "2     B3  /mnt/d/Lab/16S-Taxa-Phlyo/result/merge-test/fa...   \n",
       "3     D7  /mnt/d/Lab/16S-Taxa-Phlyo/result/merge-test/fa...   \n",
       "4    A17  /mnt/d/Lab/16S-Taxa-Phlyo/result/merge-test/fa...   \n",
       "..   ...                                                ...   \n",
       "229  D25  /mnt/d/Lab/16S-Taxa-Phlyo/result/merge-test/fa...   \n",
       "230  A64  /mnt/d/Lab/16S-Taxa-Phlyo/result/merge-test/fa...   \n",
       "231   B5  /mnt/d/Lab/16S-Taxa-Phlyo/result/merge-test/fa...   \n",
       "232  D92  /mnt/d/Lab/16S-Taxa-Phlyo/result/merge-test/fa...   \n",
       "233  C37  /mnt/d/Lab/16S-Taxa-Phlyo/result/merge-test/fa...   \n",
       "\n",
       "                                                    R2  \n",
       "0    /mnt/d/Lab/16S-Taxa-Phlyo/result/merge-test/fa...  \n",
       "1    /mnt/d/Lab/16S-Taxa-Phlyo/result/merge-test/fa...  \n",
       "2    /mnt/d/Lab/16S-Taxa-Phlyo/result/merge-test/fa...  \n",
       "3    /mnt/d/Lab/16S-Taxa-Phlyo/result/merge-test/fa...  \n",
       "4    /mnt/d/Lab/16S-Taxa-Phlyo/result/merge-test/fa...  \n",
       "..                                                 ...  \n",
       "229  /mnt/d/Lab/16S-Taxa-Phlyo/result/merge-test/fa...  \n",
       "230  /mnt/d/Lab/16S-Taxa-Phlyo/result/merge-test/fa...  \n",
       "231  /mnt/d/Lab/16S-Taxa-Phlyo/result/merge-test/fa...  \n",
       "232  /mnt/d/Lab/16S-Taxa-Phlyo/result/merge-test/fa...  \n",
       "233  /mnt/d/Lab/16S-Taxa-Phlyo/result/merge-test/fa...  \n",
       "\n",
       "[234 rows x 3 columns]"
      ]
     },
     "execution_count": 70,
     "metadata": {},
     "output_type": "execute_result"
    }
   ],
   "source": [
    "df1"
   ]
  },
  {
   "cell_type": "code",
   "execution_count": 64,
   "metadata": {
    "collapsed": true,
    "jupyter": {
     "outputs_hidden": true
    }
   },
   "outputs": [
    {
     "data": {
      "text/html": [
       "<div>\n",
       "<style scoped>\n",
       "    .dataframe tbody tr th:only-of-type {\n",
       "        vertical-align: middle;\n",
       "    }\n",
       "\n",
       "    .dataframe tbody tr th {\n",
       "        vertical-align: top;\n",
       "    }\n",
       "\n",
       "    .dataframe thead th {\n",
       "        text-align: right;\n",
       "    }\n",
       "</style>\n",
       "<table border=\"1\" class=\"dataframe\">\n",
       "  <thead>\n",
       "    <tr style=\"text-align: right;\">\n",
       "      <th></th>\n",
       "      <th>ID</th>\n",
       "      <th>R1</th>\n",
       "      <th>R2</th>\n",
       "    </tr>\n",
       "  </thead>\n",
       "  <tbody>\n",
       "    <tr>\n",
       "      <th>0</th>\n",
       "      <td>C63</td>\n",
       "      <td>/mnt/d/Lab/16S-Taxa-Phlyo/data/16S-Taxa-202101...</td>\n",
       "      <td>/mnt/d/Lab/16S-Taxa-Phlyo/data/16S-Taxa-202101...</td>\n",
       "    </tr>\n",
       "    <tr>\n",
       "      <th>1</th>\n",
       "      <td>D40</td>\n",
       "      <td>/mnt/d/Lab/16S-Taxa-Phlyo/data/16S-Taxa-202101...</td>\n",
       "      <td>/mnt/d/Lab/16S-Taxa-Phlyo/data/16S-Taxa-202101...</td>\n",
       "    </tr>\n",
       "    <tr>\n",
       "      <th>2</th>\n",
       "      <td>B3</td>\n",
       "      <td>/mnt/d/Lab/16S-Taxa-Phlyo/data/16S-Taxa-202101...</td>\n",
       "      <td>/mnt/d/Lab/16S-Taxa-Phlyo/data/16S-Taxa-202101...</td>\n",
       "    </tr>\n",
       "    <tr>\n",
       "      <th>3</th>\n",
       "      <td>D7</td>\n",
       "      <td>/mnt/d/Lab/16S-Taxa-Phlyo/data/16S-Taxa-202101...</td>\n",
       "      <td>/mnt/d/Lab/16S-Taxa-Phlyo/data/16S-Taxa-202101...</td>\n",
       "    </tr>\n",
       "    <tr>\n",
       "      <th>4</th>\n",
       "      <td>A17</td>\n",
       "      <td>/mnt/d/Lab/16S-Taxa-Phlyo/data/16S-Taxa-202101...</td>\n",
       "      <td>/mnt/d/Lab/16S-Taxa-Phlyo/data/16S-Taxa-202101...</td>\n",
       "    </tr>\n",
       "    <tr>\n",
       "      <th>...</th>\n",
       "      <td>...</td>\n",
       "      <td>...</td>\n",
       "      <td>...</td>\n",
       "    </tr>\n",
       "    <tr>\n",
       "      <th>229</th>\n",
       "      <td>D25</td>\n",
       "      <td>/mnt/d/Lab/16S-Taxa-Phlyo/data/16S-Taxa-202101...</td>\n",
       "      <td>/mnt/d/Lab/16S-Taxa-Phlyo/data/16S-Taxa-202101...</td>\n",
       "    </tr>\n",
       "    <tr>\n",
       "      <th>230</th>\n",
       "      <td>A64</td>\n",
       "      <td>/mnt/d/Lab/16S-Taxa-Phlyo/data/16S-Taxa-202101...</td>\n",
       "      <td>/mnt/d/Lab/16S-Taxa-Phlyo/data/16S-Taxa-202101...</td>\n",
       "    </tr>\n",
       "    <tr>\n",
       "      <th>231</th>\n",
       "      <td>B5</td>\n",
       "      <td>/mnt/d/Lab/16S-Taxa-Phlyo/data/16S-Taxa-202101...</td>\n",
       "      <td>/mnt/d/Lab/16S-Taxa-Phlyo/data/16S-Taxa-202101...</td>\n",
       "    </tr>\n",
       "    <tr>\n",
       "      <th>232</th>\n",
       "      <td>D92</td>\n",
       "      <td>/mnt/d/Lab/16S-Taxa-Phlyo/data/16S-Taxa-202101...</td>\n",
       "      <td>/mnt/d/Lab/16S-Taxa-Phlyo/data/16S-Taxa-202101...</td>\n",
       "    </tr>\n",
       "    <tr>\n",
       "      <th>233</th>\n",
       "      <td>C37</td>\n",
       "      <td>/mnt/d/Lab/16S-Taxa-Phlyo/data/16S-Taxa-202101...</td>\n",
       "      <td>/mnt/d/Lab/16S-Taxa-Phlyo/data/16S-Taxa-202101...</td>\n",
       "    </tr>\n",
       "  </tbody>\n",
       "</table>\n",
       "<p>234 rows × 3 columns</p>\n",
       "</div>"
      ],
      "text/plain": [
       "      ID                                                 R1  \\\n",
       "0    C63  /mnt/d/Lab/16S-Taxa-Phlyo/data/16S-Taxa-202101...   \n",
       "1    D40  /mnt/d/Lab/16S-Taxa-Phlyo/data/16S-Taxa-202101...   \n",
       "2     B3  /mnt/d/Lab/16S-Taxa-Phlyo/data/16S-Taxa-202101...   \n",
       "3     D7  /mnt/d/Lab/16S-Taxa-Phlyo/data/16S-Taxa-202101...   \n",
       "4    A17  /mnt/d/Lab/16S-Taxa-Phlyo/data/16S-Taxa-202101...   \n",
       "..   ...                                                ...   \n",
       "229  D25  /mnt/d/Lab/16S-Taxa-Phlyo/data/16S-Taxa-202101...   \n",
       "230  A64  /mnt/d/Lab/16S-Taxa-Phlyo/data/16S-Taxa-202101...   \n",
       "231   B5  /mnt/d/Lab/16S-Taxa-Phlyo/data/16S-Taxa-202101...   \n",
       "232  D92  /mnt/d/Lab/16S-Taxa-Phlyo/data/16S-Taxa-202101...   \n",
       "233  C37  /mnt/d/Lab/16S-Taxa-Phlyo/data/16S-Taxa-202101...   \n",
       "\n",
       "                                                    R2  \n",
       "0    /mnt/d/Lab/16S-Taxa-Phlyo/data/16S-Taxa-202101...  \n",
       "1    /mnt/d/Lab/16S-Taxa-Phlyo/data/16S-Taxa-202101...  \n",
       "2    /mnt/d/Lab/16S-Taxa-Phlyo/data/16S-Taxa-202101...  \n",
       "3    /mnt/d/Lab/16S-Taxa-Phlyo/data/16S-Taxa-202101...  \n",
       "4    /mnt/d/Lab/16S-Taxa-Phlyo/data/16S-Taxa-202101...  \n",
       "..                                                 ...  \n",
       "229  /mnt/d/Lab/16S-Taxa-Phlyo/data/16S-Taxa-202101...  \n",
       "230  /mnt/d/Lab/16S-Taxa-Phlyo/data/16S-Taxa-202101...  \n",
       "231  /mnt/d/Lab/16S-Taxa-Phlyo/data/16S-Taxa-202101...  \n",
       "232  /mnt/d/Lab/16S-Taxa-Phlyo/data/16S-Taxa-202101...  \n",
       "233  /mnt/d/Lab/16S-Taxa-Phlyo/data/16S-Taxa-202101...  \n",
       "\n",
       "[234 rows x 3 columns]"
      ]
     },
     "execution_count": 64,
     "metadata": {},
     "output_type": "execute_result"
    }
   ],
   "source": [
    "df"
   ]
  },
  {
   "cell_type": "code",
   "execution_count": 25,
   "metadata": {},
   "outputs": [],
   "source": [
    "def ABI2Fastq(abi, fastq):\n",
    "    SeqIO.convert(abi, \"abi\", fastq, \"fastq\")"
   ]
  },
  {
   "cell_type": "code",
   "execution_count": 26,
   "metadata": {},
   "outputs": [],
   "source": [
    "def ABI2FastqParallel(abiList, fastqList):\n",
    "    pool = Pool(processes = 4)\n",
    "    pool.starmap(ABI2Fastq, zip(abiList, fastqList))\n",
    "    pool.close()\n",
    "    pool.join()\n",
    "    pool.terminate()"
   ]
  },
  {
   "cell_type": "code",
   "execution_count": 71,
   "metadata": {},
   "outputs": [],
   "source": [
    "ABI2FastqParallel(df[\"R1\"], df1[\"R1\"])"
   ]
  },
  {
   "cell_type": "code",
   "execution_count": 72,
   "metadata": {},
   "outputs": [],
   "source": [
    "ABI2FastqParallel(df[\"R2\"], df1[\"R2\"])"
   ]
  },
  {
   "cell_type": "code",
   "execution_count": 73,
   "metadata": {},
   "outputs": [
    {
     "data": {
      "text/plain": [
       "234"
      ]
     },
     "execution_count": 73,
     "metadata": {},
     "output_type": "execute_result"
    }
   ],
   "source": [
    "len(df)"
   ]
  },
  {
   "cell_type": "code",
   "execution_count": 74,
   "metadata": {},
   "outputs": [],
   "source": [
    "def RunFastp(R1, R2, prefix, OutDir):\n",
    "    mergeDir = os.path.join(OutDir, \"merge\")\n",
    "    fastpDir = os.path.join(OutDir, \"fastp\")\n",
    "    unmergeDir = os.path.join(OutDir, \"unmerge\", \"fastq\")\n",
    "    if os.path.exists(OutDir) == 0:\n",
    "        os.makedirs(OutDir, 0o777, True)\n",
    "    if os.path.exists(mergeDir) == 0:\n",
    "        os.makedirs(mergeDir, 0o777, True)\n",
    "    if os.path.exists(fastpDir) == 0:\n",
    "        os.makedirs(fastpDir, 0o777, True)\n",
    "    if os.path.exists(unmergeDir) == 0:\n",
    "        os.makedirs(unmergeDir, 0o777, True)\n",
    "    cmd = \"fastp -i \" + R1 + \" -I \" + R2 + \" -o \" + os.path.join(unmergeDir, prefix + \"_R1.fastq\") + \" -O \" + os.path.join(unmergeDir, prefix + \"_R2.fastq\") + \\\n",
    "    \" --trim_front1 30 --max_len1 750 --trim_front2 30 --max_len2 750 --cut_front --cut_tail --cut_window_size 20 --cut_mean_quality 30\" + \\\n",
    "    \" --merge --merged_out \" + os.path.join(mergeDir, prefix + \".fastq\") + \" --correction --overlap_len_require 20 \" + \\\n",
    "    \" --html \" + os.path.join(fastpDir, prefix + \".html\") + \" --json \" + os.path.join(fastpDir, prefix + \".json\") + \" --report_title \" + prefix + \"-fastq-merge-report\"\n",
    "    subprocess.call(cmd, shell=True)"
   ]
  },
  {
   "cell_type": "code",
   "execution_count": 33,
   "metadata": {},
   "outputs": [],
   "source": [
    "def RunFastp(R1, R2, prefix, OutDir):\n",
    "    trimDir = os.path.join(OutDir, \"trim\")\n",
    "    mergeDir = os.path.join(OutDir, \"merge\")\n",
    "    fastpDir = os.path.join(OutDir, \"fastp\")\n",
    "    unmergeDir = os.path.join(OutDir, \"unmerge\")\n",
    "    if os.path.exists(OutDir) == 0:\n",
    "        os.makedirs(OutDir, 0o777, True)\n",
    "    if os.path.exists(trimDir) == 0:\n",
    "        os.makedirs(trimDir, 0o777, True)\n",
    "    if os.path.exists(mergeDir) == 0:\n",
    "        os.makedirs(mergeDir, 0o777, True)\n",
    "    if os.path.exists(fastpDir) == 0:\n",
    "        os.makedirs(fastpDir, 0o777, True)\n",
    "    if os.path.exists(unmergeDir) == 0:\n",
    "        os.makedirs(unmergeDir, 0o777, True)        \n",
    "    cmd = \"fastp -i \" + R1 + \" -I \" + R2 + \" -o \" + os.path.join(trimDir, prefix + \"_trim_R1.fastq\") + \" -O \" + os.path.join(trimDir, prefix + \"_trim_R2.fastq\") + \\\n",
    "    \" --trim_front1 30 --trim_front2 30 --cut_front --cut_tail --cut_window_size 20 --cut_mean_quality 30\" + \\\n",
    "    \" --merge --merged_out \" + os.path.join(mergeDir, prefix + \".fastq\") + \" --correction --overlap_len_require 20 \" + \\\n",
    "    \" --html \" + os.path.join(fastpDir, prefix + \".html\") + \" --report_title \" + prefix + \"-fastq-merge-report\"\n",
    "    #print(cmd)\n",
    "    subprocess.call(cmd, shell=True)"
   ]
  },
  {
   "cell_type": "code",
   "execution_count": 34,
   "metadata": {},
   "outputs": [],
   "source": [
    "def RunFastpParallel(R1List, R2List, prefixList, OutDir):\n",
    "    pool = Pool(processes = 4)\n",
    "    pool.starmap(RunFastp, zip(R1List, R2List, prefixList, repeat(OutDir)))\n",
    "    pool.close()\n",
    "    pool.join()\n",
    "    pool.terminate()"
   ]
  },
  {
   "cell_type": "code",
   "execution_count": 75,
   "metadata": {},
   "outputs": [],
   "source": [
    "RunFastpParallel(df1[\"R1\"], df1[\"R2\"], df1[\"ID\"], OutDir)"
   ]
  },
  {
   "cell_type": "code",
   "execution_count": 38,
   "metadata": {},
   "outputs": [
    {
     "data": {
      "text/plain": [
       "'/mnt/d/Lab/16S-Taxa-Phlyo/result/merge-test/fastq/C63_R1.fastq'"
      ]
     },
     "execution_count": 38,
     "metadata": {},
     "output_type": "execute_result"
    }
   ],
   "source": [
    "df1[\"R1\"][0]"
   ]
  },
  {
   "cell_type": "code",
   "execution_count": 76,
   "metadata": {},
   "outputs": [],
   "source": [
    "unmergeDir = \"/mnt/d/Lab/16S-Taxa-Phlyo/result/merge-test/unmerge/fastq\""
   ]
  },
  {
   "cell_type": "code",
   "execution_count": 77,
   "metadata": {},
   "outputs": [],
   "source": [
    "unmergeList = []\n",
    "for file in os.listdir(unmergeDir):\n",
    "    filePath = os.path.join(unmergeDir, file)\n",
    "    if file.endswith(\".fastq\") and os.path.getsize(filePath) > 0:\n",
    "        unmergeList.append(filePath)"
   ]
  },
  {
   "cell_type": "code",
   "execution_count": 78,
   "metadata": {},
   "outputs": [
    {
     "data": {
      "text/plain": [
       "['/mnt/d/Lab/16S-Taxa-Phlyo/result/merge-test/unmerge/fastq/A24_R1.fastq',\n",
       " '/mnt/d/Lab/16S-Taxa-Phlyo/result/merge-test/unmerge/fastq/A24_R2.fastq',\n",
       " '/mnt/d/Lab/16S-Taxa-Phlyo/result/merge-test/unmerge/fastq/A61_R1.fastq',\n",
       " '/mnt/d/Lab/16S-Taxa-Phlyo/result/merge-test/unmerge/fastq/A61_R2.fastq',\n",
       " '/mnt/d/Lab/16S-Taxa-Phlyo/result/merge-test/unmerge/fastq/A80_R1.fastq',\n",
       " '/mnt/d/Lab/16S-Taxa-Phlyo/result/merge-test/unmerge/fastq/A80_R2.fastq',\n",
       " '/mnt/d/Lab/16S-Taxa-Phlyo/result/merge-test/unmerge/fastq/B21_R1.fastq',\n",
       " '/mnt/d/Lab/16S-Taxa-Phlyo/result/merge-test/unmerge/fastq/B21_R2.fastq',\n",
       " '/mnt/d/Lab/16S-Taxa-Phlyo/result/merge-test/unmerge/fastq/B57_R1.fastq',\n",
       " '/mnt/d/Lab/16S-Taxa-Phlyo/result/merge-test/unmerge/fastq/B57_R2.fastq',\n",
       " '/mnt/d/Lab/16S-Taxa-Phlyo/result/merge-test/unmerge/fastq/B87_R1.fastq',\n",
       " '/mnt/d/Lab/16S-Taxa-Phlyo/result/merge-test/unmerge/fastq/B87_R2.fastq',\n",
       " '/mnt/d/Lab/16S-Taxa-Phlyo/result/merge-test/unmerge/fastq/C37_R1.fastq',\n",
       " '/mnt/d/Lab/16S-Taxa-Phlyo/result/merge-test/unmerge/fastq/C37_R2.fastq',\n",
       " '/mnt/d/Lab/16S-Taxa-Phlyo/result/merge-test/unmerge/fastq/C41_R1.fastq',\n",
       " '/mnt/d/Lab/16S-Taxa-Phlyo/result/merge-test/unmerge/fastq/C41_R2.fastq',\n",
       " '/mnt/d/Lab/16S-Taxa-Phlyo/result/merge-test/unmerge/fastq/D13_R1.fastq',\n",
       " '/mnt/d/Lab/16S-Taxa-Phlyo/result/merge-test/unmerge/fastq/D13_R2.fastq']"
      ]
     },
     "execution_count": 78,
     "metadata": {},
     "output_type": "execute_result"
    }
   ],
   "source": [
    "unmergeList"
   ]
  },
  {
   "cell_type": "code",
   "execution_count": 82,
   "metadata": {},
   "outputs": [],
   "source": [
    "OutDir = \"/mnt/d/Lab/16S-Taxa-Phlyo/result/merge-test/unmerge\""
   ]
  },
  {
   "cell_type": "code",
   "execution_count": 88,
   "metadata": {},
   "outputs": [],
   "source": [
    "def parseFastqUnmerge(filePath, OutDir):\n",
    "    allSeq = []\n",
    "    fastaFileList = []\n",
    "    fastaDir = os.path.join(OutDir, \"fasta\")\n",
    "    if os.path.exists(fastaDir) == 0:\n",
    "        os.makedirs(fastaDir, 0o777, True)\n",
    "    for file in filePath:\n",
    "        for seq in SeqIO.parse(file, \"fastq\"):\n",
    "            seq.id = os.path.split(file)[1].replace(\".fastq\", \"\")\n",
    "            seq.name = \"\"\n",
    "            seq.description = \"\"\n",
    "            if \"_R2\" in seq.id:\n",
    "                seq.seq = seq.seq.reverse_complement()\n",
    "            allSeq.append(seq)\n",
    "            fastaFile = os.path.join(fastaDir, os.path.split(file)[1].replace(\".fastq\", \".fasta\"))\n",
    "            fastaFileList.append(fastaFile)\n",
    "            SeqIO.write(seq, fastaFile, \"fasta\")\n",
    "    SeqIO.write(allSeq, os.path.join(OutDir, \"single.fasta\"), \"fasta\")\n",
    "    return fastaFileList"
   ]
  },
  {
   "cell_type": "code",
   "execution_count": 89,
   "metadata": {},
   "outputs": [],
   "source": [
    "fastaFileList = parseFastqUnmerge(unmergeList, OutDir)"
   ]
  },
  {
   "cell_type": "code",
   "execution_count": 90,
   "metadata": {},
   "outputs": [
    {
     "data": {
      "text/plain": [
       "['/mnt/d/Lab/16S-Taxa-Phlyo/result/merge-test/unmerge/fasta/A24_R1.fasta',\n",
       " '/mnt/d/Lab/16S-Taxa-Phlyo/result/merge-test/unmerge/fasta/A24_R2.fasta',\n",
       " '/mnt/d/Lab/16S-Taxa-Phlyo/result/merge-test/unmerge/fasta/A61_R1.fasta',\n",
       " '/mnt/d/Lab/16S-Taxa-Phlyo/result/merge-test/unmerge/fasta/A61_R2.fasta',\n",
       " '/mnt/d/Lab/16S-Taxa-Phlyo/result/merge-test/unmerge/fasta/A80_R1.fasta',\n",
       " '/mnt/d/Lab/16S-Taxa-Phlyo/result/merge-test/unmerge/fasta/A80_R2.fasta',\n",
       " '/mnt/d/Lab/16S-Taxa-Phlyo/result/merge-test/unmerge/fasta/B21_R1.fasta',\n",
       " '/mnt/d/Lab/16S-Taxa-Phlyo/result/merge-test/unmerge/fasta/B21_R2.fasta',\n",
       " '/mnt/d/Lab/16S-Taxa-Phlyo/result/merge-test/unmerge/fasta/B57_R1.fasta',\n",
       " '/mnt/d/Lab/16S-Taxa-Phlyo/result/merge-test/unmerge/fasta/B57_R2.fasta',\n",
       " '/mnt/d/Lab/16S-Taxa-Phlyo/result/merge-test/unmerge/fasta/B87_R1.fasta',\n",
       " '/mnt/d/Lab/16S-Taxa-Phlyo/result/merge-test/unmerge/fasta/B87_R2.fasta',\n",
       " '/mnt/d/Lab/16S-Taxa-Phlyo/result/merge-test/unmerge/fasta/C37_R1.fasta',\n",
       " '/mnt/d/Lab/16S-Taxa-Phlyo/result/merge-test/unmerge/fasta/C37_R2.fasta',\n",
       " '/mnt/d/Lab/16S-Taxa-Phlyo/result/merge-test/unmerge/fasta/C41_R1.fasta',\n",
       " '/mnt/d/Lab/16S-Taxa-Phlyo/result/merge-test/unmerge/fasta/C41_R2.fasta',\n",
       " '/mnt/d/Lab/16S-Taxa-Phlyo/result/merge-test/unmerge/fasta/D13_R1.fasta',\n",
       " '/mnt/d/Lab/16S-Taxa-Phlyo/result/merge-test/unmerge/fasta/D13_R2.fasta']"
      ]
     },
     "execution_count": 90,
     "metadata": {},
     "output_type": "execute_result"
    }
   ],
   "source": [
    "fastaFileList"
   ]
  },
  {
   "cell_type": "markdown",
   "metadata": {},
   "source": [
    "## Fastq to fasta"
   ]
  },
  {
   "cell_type": "code",
   "execution_count": 5,
   "metadata": {
    "execution": {
     "iopub.execute_input": "2021-01-11T09:42:24.662004Z",
     "iopub.status.busy": "2021-01-11T09:42:24.661506Z",
     "iopub.status.idle": "2021-01-11T09:42:24.666786Z",
     "shell.execute_reply": "2021-01-11T09:42:24.665517Z",
     "shell.execute_reply.started": "2021-01-11T09:42:24.661964Z"
    }
   },
   "outputs": [],
   "source": [
    "import os"
   ]
  },
  {
   "cell_type": "code",
   "execution_count": 3,
   "metadata": {
    "execution": {
     "iopub.execute_input": "2021-01-11T09:39:18.656471Z",
     "iopub.status.busy": "2021-01-11T09:39:18.656102Z",
     "iopub.status.idle": "2021-01-11T09:39:18.661823Z",
     "shell.execute_reply": "2021-01-11T09:39:18.660452Z",
     "shell.execute_reply.started": "2021-01-11T09:39:18.656442Z"
    }
   },
   "outputs": [],
   "source": [
    "from Bio import SeqIO"
   ]
  },
  {
   "cell_type": "code",
   "execution_count": 144,
   "metadata": {
    "execution": {
     "iopub.execute_input": "2021-01-12T12:35:07.103046Z",
     "iopub.status.busy": "2021-01-12T12:35:07.102801Z",
     "iopub.status.idle": "2021-01-12T12:35:07.107776Z",
     "shell.execute_reply": "2021-01-12T12:35:07.106337Z",
     "shell.execute_reply.started": "2021-01-12T12:35:07.103022Z"
    }
   },
   "outputs": [],
   "source": [
    "InDir = \"/mnt/d/Lab/16S-Taxa-Phlyo/result/M15/merge\""
   ]
  },
  {
   "cell_type": "code",
   "execution_count": 147,
   "metadata": {
    "execution": {
     "iopub.execute_input": "2021-01-12T12:35:45.136718Z",
     "iopub.status.busy": "2021-01-12T12:35:45.136396Z",
     "iopub.status.idle": "2021-01-12T12:35:45.146088Z",
     "shell.execute_reply": "2021-01-12T12:35:45.144337Z",
     "shell.execute_reply.started": "2021-01-12T12:35:45.136685Z"
    }
   },
   "outputs": [],
   "source": [
    "def parseFastqPairs(InDir, OutDir):\n",
    "    allSeq = []\n",
    "    fastaFileList = []\n",
    "    fastaDir = os.path.join(OutDir, \"fasta\")\n",
    "    if os.path.exists(fastaDir) == 0:\n",
    "        os.makedirs(fastaDir, 0o777, True)\n",
    "    for file in os.listdir(InDir):\n",
    "        if file.endswith(\".fastq\") and os.path.getsize(os.path.join(InDir, file)) > 0:\n",
    "            for seq in SeqIO.parse(os.path.join(InDir, file), \"fastq\"):\n",
    "                seq.id = file.replace(\".fastq\", \"\")\n",
    "                seq.name = \"\"\n",
    "                seq.description = seq.description.split(\" \")[1]\n",
    "                fastaFile = os.path.join(fastaDir, file.replace(\".fastq\", \".fasta\"))\n",
    "                fastaFileList.append(fastaFile)\n",
    "                SeqIO.write(seq, fastaFile, \"fasta\")\n",
    "                allSeq.append(seq)\n",
    "    SeqIO.write(allSeq, os.path.join(OutDir, \"pairsMerge.fasta\"), \"fasta\")\n",
    "    return fastaFileList"
   ]
  },
  {
   "cell_type": "code",
   "execution_count": 148,
   "metadata": {
    "execution": {
     "iopub.execute_input": "2021-01-12T12:35:45.811343Z",
     "iopub.status.busy": "2021-01-12T12:35:45.811081Z",
     "iopub.status.idle": "2021-01-12T12:35:46.110194Z",
     "shell.execute_reply": "2021-01-12T12:35:46.109384Z",
     "shell.execute_reply.started": "2021-01-12T12:35:45.811317Z"
    }
   },
   "outputs": [],
   "source": [
    "allSeq = parseFastqPairs(InDir, OutDir)"
   ]
  },
  {
   "cell_type": "code",
   "execution_count": 149,
   "metadata": {
    "collapsed": true,
    "execution": {
     "iopub.execute_input": "2021-01-12T12:46:17.963535Z",
     "iopub.status.busy": "2021-01-12T12:46:17.963133Z",
     "iopub.status.idle": "2021-01-12T12:46:17.972090Z",
     "shell.execute_reply": "2021-01-12T12:46:17.970590Z",
     "shell.execute_reply.started": "2021-01-12T12:46:17.963494Z"
    },
    "jupyter": {
     "outputs_hidden": true
    }
   },
   "outputs": [
    {
     "data": {
      "text/plain": [
       "['/mnt/d/Lab/16S-Taxa-Phlyo/result/M15/fasta/DA_134.fasta',\n",
       " '/mnt/d/Lab/16S-Taxa-Phlyo/result/M15/fasta/DA_136.fasta',\n",
       " '/mnt/d/Lab/16S-Taxa-Phlyo/result/M15/fasta/DA_138.fasta',\n",
       " '/mnt/d/Lab/16S-Taxa-Phlyo/result/M15/fasta/DA_139.fasta',\n",
       " '/mnt/d/Lab/16S-Taxa-Phlyo/result/M15/fasta/DA_141.fasta',\n",
       " '/mnt/d/Lab/16S-Taxa-Phlyo/result/M15/fasta/DA_151.fasta',\n",
       " '/mnt/d/Lab/16S-Taxa-Phlyo/result/M15/fasta/DA_152.fasta',\n",
       " '/mnt/d/Lab/16S-Taxa-Phlyo/result/M15/fasta/DA_154.fasta',\n",
       " '/mnt/d/Lab/16S-Taxa-Phlyo/result/M15/fasta/DA_156.fasta',\n",
       " '/mnt/d/Lab/16S-Taxa-Phlyo/result/M15/fasta/DA_158.fasta',\n",
       " '/mnt/d/Lab/16S-Taxa-Phlyo/result/M15/fasta/DA_161.fasta',\n",
       " '/mnt/d/Lab/16S-Taxa-Phlyo/result/M15/fasta/DA_163.fasta',\n",
       " '/mnt/d/Lab/16S-Taxa-Phlyo/result/M15/fasta/DA_164.fasta',\n",
       " '/mnt/d/Lab/16S-Taxa-Phlyo/result/M15/fasta/DA_166.fasta',\n",
       " '/mnt/d/Lab/16S-Taxa-Phlyo/result/M15/fasta/DA_168.fasta',\n",
       " '/mnt/d/Lab/16S-Taxa-Phlyo/result/M15/fasta/DA_169.fasta',\n",
       " '/mnt/d/Lab/16S-Taxa-Phlyo/result/M15/fasta/DA_170.fasta',\n",
       " '/mnt/d/Lab/16S-Taxa-Phlyo/result/M15/fasta/DA_172.fasta',\n",
       " '/mnt/d/Lab/16S-Taxa-Phlyo/result/M15/fasta/DA_174.fasta',\n",
       " '/mnt/d/Lab/16S-Taxa-Phlyo/result/M15/fasta/DA_176.fasta',\n",
       " '/mnt/d/Lab/16S-Taxa-Phlyo/result/M15/fasta/DA_177.fasta',\n",
       " '/mnt/d/Lab/16S-Taxa-Phlyo/result/M15/fasta/DA_178.fasta',\n",
       " '/mnt/d/Lab/16S-Taxa-Phlyo/result/M15/fasta/DA_180.fasta',\n",
       " '/mnt/d/Lab/16S-Taxa-Phlyo/result/M15/fasta/DA_182.fasta',\n",
       " '/mnt/d/Lab/16S-Taxa-Phlyo/result/M15/fasta/DA_183.fasta',\n",
       " '/mnt/d/Lab/16S-Taxa-Phlyo/result/M15/fasta/DA_189.fasta',\n",
       " '/mnt/d/Lab/16S-Taxa-Phlyo/result/M15/fasta/DA_191.fasta',\n",
       " '/mnt/d/Lab/16S-Taxa-Phlyo/result/M15/fasta/DA_192.fasta',\n",
       " '/mnt/d/Lab/16S-Taxa-Phlyo/result/M15/fasta/DA_198.fasta',\n",
       " '/mnt/d/Lab/16S-Taxa-Phlyo/result/M15/fasta/DA_199.fasta',\n",
       " '/mnt/d/Lab/16S-Taxa-Phlyo/result/M15/fasta/DA_200.fasta',\n",
       " '/mnt/d/Lab/16S-Taxa-Phlyo/result/M15/fasta/DA_203.fasta',\n",
       " '/mnt/d/Lab/16S-Taxa-Phlyo/result/M15/fasta/DA_205.fasta',\n",
       " '/mnt/d/Lab/16S-Taxa-Phlyo/result/M15/fasta/DA_206.fasta',\n",
       " '/mnt/d/Lab/16S-Taxa-Phlyo/result/M15/fasta/DA_208.fasta',\n",
       " '/mnt/d/Lab/16S-Taxa-Phlyo/result/M15/fasta/DA_210.fasta',\n",
       " '/mnt/d/Lab/16S-Taxa-Phlyo/result/M15/fasta/DO_100.fasta',\n",
       " '/mnt/d/Lab/16S-Taxa-Phlyo/result/M15/fasta/DO_103.fasta']"
      ]
     },
     "execution_count": 149,
     "metadata": {},
     "output_type": "execute_result"
    }
   ],
   "source": [
    "allSeq"
   ]
  },
  {
   "cell_type": "code",
   "execution_count": 155,
   "metadata": {
    "execution": {
     "iopub.execute_input": "2021-01-12T13:10:12.346780Z",
     "iopub.status.busy": "2021-01-12T13:10:12.346453Z",
     "iopub.status.idle": "2021-01-12T13:10:12.352492Z",
     "shell.execute_reply": "2021-01-12T13:10:12.350762Z",
     "shell.execute_reply.started": "2021-01-12T13:10:12.346747Z"
    }
   },
   "outputs": [],
   "source": [
    "indexPath = \"/mnt/d/Lab/16S-Taxa-Phlyo/database/silva-138-99-index.tsv\""
   ]
  },
  {
   "cell_type": "code",
   "execution_count": 159,
   "metadata": {
    "execution": {
     "iopub.execute_input": "2021-01-12T13:11:34.369269Z",
     "iopub.status.busy": "2021-01-12T13:11:34.368806Z",
     "iopub.status.idle": "2021-01-12T13:11:34.383237Z",
     "shell.execute_reply": "2021-01-12T13:11:34.381386Z",
     "shell.execute_reply.started": "2021-01-12T13:11:34.369224Z"
    }
   },
   "outputs": [],
   "source": [
    "def parseIndex(blastDir, OutDir):\n",
    "    taxaList = []\n",
    "    df = pd.DataFrame()\n",
    "    out = pd.DataFrame()\n",
    "    for file in os.listdir(blastDir):\n",
    "        #print(file)\n",
    "        if file.endswith(\".tsv\") and os.path.getsize(os.path.join(blastDir, file)) > 0:\n",
    "            df1 = pd.read_table(os.path.join(blastDir, file), header = None)\n",
    "            df1.columns = [\"qseqid\", \"sseqid\", \"pident\", \"length\", \"mismatch\", \"gapopen\", \"qstart\", \"qend\", \"sstart\", \"send\", \"evalue\", \"bitscore\"]\n",
    "            df = df.append(df1)\n",
    "    df = df.reset_index()\n",
    "    df2 = pd.read_table(indexPath)\n",
    "    index = dict(zip(df2[\"ID\"], df2[\"Taxa\"]))\n",
    "    for i in range(len(df)):\n",
    "        taxa = index[df[\"sseqid\"][i]]\n",
    "        taxaList.append(taxa)\n",
    "    out[\"taxa\"] = taxaList\n",
    "    out[\"qseqid\"] = df[\"qseqid\"]\n",
    "    out[\"pident\"] = df[\"pident\"]\n",
    "    out[\"length\"] = df[\"length\"]\n",
    "    return out"
   ]
  },
  {
   "cell_type": "code",
   "execution_count": 167,
   "metadata": {
    "execution": {
     "iopub.execute_input": "2021-01-12T14:09:00.351504Z",
     "iopub.status.busy": "2021-01-12T14:09:00.351202Z",
     "iopub.status.idle": "2021-01-12T14:09:00.365428Z",
     "shell.execute_reply": "2021-01-12T14:09:00.363352Z",
     "shell.execute_reply.started": "2021-01-12T14:09:00.351475Z"
    }
   },
   "outputs": [
    {
     "data": {
      "text/html": [
       "<div>\n",
       "<style scoped>\n",
       "    .dataframe tbody tr th:only-of-type {\n",
       "        vertical-align: middle;\n",
       "    }\n",
       "\n",
       "    .dataframe tbody tr th {\n",
       "        vertical-align: top;\n",
       "    }\n",
       "\n",
       "    .dataframe thead th {\n",
       "        text-align: right;\n",
       "    }\n",
       "</style>\n",
       "<table border=\"1\" class=\"dataframe\">\n",
       "  <thead>\n",
       "    <tr style=\"text-align: right;\">\n",
       "      <th></th>\n",
       "      <th>ID</th>\n",
       "      <th>R1</th>\n",
       "      <th>R2</th>\n",
       "    </tr>\n",
       "  </thead>\n",
       "  <tbody>\n",
       "    <tr>\n",
       "      <th>0</th>\n",
       "      <td>DA_141</td>\n",
       "      <td>/mnt/d/Lab/16S-Taxa-Phlyo/result/M15/fastq/DA_...</td>\n",
       "      <td>/mnt/d/Lab/16S-Taxa-Phlyo/result/M15/fastq/DA_...</td>\n",
       "    </tr>\n",
       "  </tbody>\n",
       "</table>\n",
       "</div>"
      ],
      "text/plain": [
       "       ID                                                 R1  \\\n",
       "0  DA_141  /mnt/d/Lab/16S-Taxa-Phlyo/result/M15/fastq/DA_...   \n",
       "\n",
       "                                                  R2  \n",
       "0  /mnt/d/Lab/16S-Taxa-Phlyo/result/M15/fastq/DA_...  "
      ]
     },
     "execution_count": 167,
     "metadata": {},
     "output_type": "execute_result"
    }
   ],
   "source": [
    "df1[0:1]"
   ]
  },
  {
   "cell_type": "code",
   "execution_count": 160,
   "metadata": {
    "execution": {
     "iopub.execute_input": "2021-01-12T13:11:34.681281Z",
     "iopub.status.busy": "2021-01-12T13:11:34.680674Z",
     "iopub.status.idle": "2021-01-12T13:11:34.690617Z",
     "shell.execute_reply": "2021-01-12T13:11:34.688823Z",
     "shell.execute_reply.started": "2021-01-12T13:11:34.681231Z"
    }
   },
   "outputs": [
    {
     "data": {
      "text/plain": [
       "'/mnt/d/Lab/16S-Taxa-Phlyo/result/M15'"
      ]
     },
     "execution_count": 160,
     "metadata": {},
     "output_type": "execute_result"
    }
   ],
   "source": [
    "OutDir"
   ]
  },
  {
   "cell_type": "code",
   "execution_count": 161,
   "metadata": {
    "execution": {
     "iopub.execute_input": "2021-01-12T13:11:35.001857Z",
     "iopub.status.busy": "2021-01-12T13:11:35.001484Z",
     "iopub.status.idle": "2021-01-12T13:11:37.513433Z",
     "shell.execute_reply": "2021-01-12T13:11:37.512158Z",
     "shell.execute_reply.started": "2021-01-12T13:11:35.001822Z"
    }
   },
   "outputs": [],
   "source": [
    "pairsOut = parseIndex(os.path.join(OutDir, \"blast\"), OutDir)"
   ]
  },
  {
   "cell_type": "code",
   "execution_count": 162,
   "metadata": {
    "execution": {
     "iopub.execute_input": "2021-01-12T13:11:40.662197Z",
     "iopub.status.busy": "2021-01-12T13:11:40.661675Z",
     "iopub.status.idle": "2021-01-12T13:11:40.683475Z",
     "shell.execute_reply": "2021-01-12T13:11:40.681682Z",
     "shell.execute_reply.started": "2021-01-12T13:11:40.662149Z"
    }
   },
   "outputs": [
    {
     "data": {
      "text/html": [
       "<div>\n",
       "<style scoped>\n",
       "    .dataframe tbody tr th:only-of-type {\n",
       "        vertical-align: middle;\n",
       "    }\n",
       "\n",
       "    .dataframe tbody tr th {\n",
       "        vertical-align: top;\n",
       "    }\n",
       "\n",
       "    .dataframe thead th {\n",
       "        text-align: right;\n",
       "    }\n",
       "</style>\n",
       "<table border=\"1\" class=\"dataframe\">\n",
       "  <thead>\n",
       "    <tr style=\"text-align: right;\">\n",
       "      <th></th>\n",
       "      <th>taxa</th>\n",
       "      <th>qseqid</th>\n",
       "      <th>pident</th>\n",
       "      <th>length</th>\n",
       "    </tr>\n",
       "  </thead>\n",
       "  <tbody>\n",
       "    <tr>\n",
       "      <th>0</th>\n",
       "      <td>Bacteria;Firmicutes;Clostridia;Lachnospirales;...</td>\n",
       "      <td>DA_134</td>\n",
       "      <td>99.637</td>\n",
       "      <td>1379</td>\n",
       "    </tr>\n",
       "    <tr>\n",
       "      <th>1</th>\n",
       "      <td>Bacteria;Firmicutes;Clostridia;Lachnospirales;...</td>\n",
       "      <td>DA_136</td>\n",
       "      <td>98.908</td>\n",
       "      <td>1374</td>\n",
       "    </tr>\n",
       "    <tr>\n",
       "      <th>2</th>\n",
       "      <td>Bacteria;Firmicutes;Bacilli;Lactobacillales;La...</td>\n",
       "      <td>DA_138</td>\n",
       "      <td>100.000</td>\n",
       "      <td>1422</td>\n",
       "    </tr>\n",
       "    <tr>\n",
       "      <th>3</th>\n",
       "      <td>Bacteria;Firmicutes;Clostridia;Lachnospirales;...</td>\n",
       "      <td>DA_139</td>\n",
       "      <td>99.708</td>\n",
       "      <td>1371</td>\n",
       "    </tr>\n",
       "    <tr>\n",
       "      <th>4</th>\n",
       "      <td>Bacteria;Firmicutes;Clostridia;Lachnospirales;...</td>\n",
       "      <td>DA_141</td>\n",
       "      <td>99.855</td>\n",
       "      <td>1379</td>\n",
       "    </tr>\n",
       "    <tr>\n",
       "      <th>5</th>\n",
       "      <td>Bacteria;Firmicutes;Clostridia;Lachnospirales;...</td>\n",
       "      <td>DA_151</td>\n",
       "      <td>98.983</td>\n",
       "      <td>1376</td>\n",
       "    </tr>\n",
       "    <tr>\n",
       "      <th>6</th>\n",
       "      <td>Bacteria;Actinobacteriota;Coriobacteriia;Corio...</td>\n",
       "      <td>DA_152</td>\n",
       "      <td>99.926</td>\n",
       "      <td>1354</td>\n",
       "    </tr>\n",
       "    <tr>\n",
       "      <th>7</th>\n",
       "      <td>Bacteria;Firmicutes;Clostridia;Lachnospirales;...</td>\n",
       "      <td>DA_154</td>\n",
       "      <td>99.636</td>\n",
       "      <td>1372</td>\n",
       "    </tr>\n",
       "    <tr>\n",
       "      <th>8</th>\n",
       "      <td>Bacteria;Firmicutes;Clostridia;Lachnospirales;...</td>\n",
       "      <td>DA_156</td>\n",
       "      <td>99.637</td>\n",
       "      <td>1377</td>\n",
       "    </tr>\n",
       "    <tr>\n",
       "      <th>9</th>\n",
       "      <td>Bacteria;Bacteroidota;Bacteroidia;Bacteroidale...</td>\n",
       "      <td>DA_158</td>\n",
       "      <td>99.420</td>\n",
       "      <td>1380</td>\n",
       "    </tr>\n",
       "    <tr>\n",
       "      <th>10</th>\n",
       "      <td>Bacteria;Firmicutes;Clostridia;Eubacteriales;E...</td>\n",
       "      <td>DA_161</td>\n",
       "      <td>99.927</td>\n",
       "      <td>1370</td>\n",
       "    </tr>\n",
       "    <tr>\n",
       "      <th>11</th>\n",
       "      <td>Bacteria;Firmicutes;Clostridia;Peptostreptococ...</td>\n",
       "      <td>DA_163</td>\n",
       "      <td>99.779</td>\n",
       "      <td>1357</td>\n",
       "    </tr>\n",
       "    <tr>\n",
       "      <th>12</th>\n",
       "      <td>Bacteria;Firmicutes;Clostridia;Lachnospirales;...</td>\n",
       "      <td>DA_164</td>\n",
       "      <td>99.708</td>\n",
       "      <td>1372</td>\n",
       "    </tr>\n",
       "    <tr>\n",
       "      <th>13</th>\n",
       "      <td>Bacteria;Bacteroidota;Bacteroidia;Bacteroidale...</td>\n",
       "      <td>DA_166</td>\n",
       "      <td>93.402</td>\n",
       "      <td>1364</td>\n",
       "    </tr>\n",
       "    <tr>\n",
       "      <th>14</th>\n",
       "      <td>Bacteria;Firmicutes;Clostridia;Lachnospirales;...</td>\n",
       "      <td>DA_168</td>\n",
       "      <td>99.636</td>\n",
       "      <td>1375</td>\n",
       "    </tr>\n",
       "    <tr>\n",
       "      <th>15</th>\n",
       "      <td>Bacteria;Actinobacteriota;Coriobacteriia;Corio...</td>\n",
       "      <td>DA_169</td>\n",
       "      <td>99.852</td>\n",
       "      <td>1354</td>\n",
       "    </tr>\n",
       "    <tr>\n",
       "      <th>16</th>\n",
       "      <td>Bacteria;Firmicutes;Clostridia;Lachnospirales;...</td>\n",
       "      <td>DA_170</td>\n",
       "      <td>99.636</td>\n",
       "      <td>1375</td>\n",
       "    </tr>\n",
       "    <tr>\n",
       "      <th>17</th>\n",
       "      <td>Bacteria;Firmicutes;Clostridia;Peptostreptococ...</td>\n",
       "      <td>DA_172</td>\n",
       "      <td>99.853</td>\n",
       "      <td>1356</td>\n",
       "    </tr>\n",
       "    <tr>\n",
       "      <th>18</th>\n",
       "      <td>Bacteria;Firmicutes;Clostridia;Lachnospirales;...</td>\n",
       "      <td>DA_174</td>\n",
       "      <td>99.637</td>\n",
       "      <td>1377</td>\n",
       "    </tr>\n",
       "    <tr>\n",
       "      <th>19</th>\n",
       "      <td>Bacteria;Firmicutes;Clostridia;Lachnospirales;...</td>\n",
       "      <td>DA_176</td>\n",
       "      <td>98.908</td>\n",
       "      <td>1373</td>\n",
       "    </tr>\n",
       "    <tr>\n",
       "      <th>20</th>\n",
       "      <td>Bacteria;Firmicutes;Clostridia;Lachnospirales;...</td>\n",
       "      <td>DA_177</td>\n",
       "      <td>99.636</td>\n",
       "      <td>1375</td>\n",
       "    </tr>\n",
       "    <tr>\n",
       "      <th>21</th>\n",
       "      <td>Bacteria;Firmicutes;Clostridia;Lachnospirales;...</td>\n",
       "      <td>DA_178</td>\n",
       "      <td>99.635</td>\n",
       "      <td>1370</td>\n",
       "    </tr>\n",
       "    <tr>\n",
       "      <th>22</th>\n",
       "      <td>Bacteria;Firmicutes;Clostridia;Lachnospirales;...</td>\n",
       "      <td>DA_180</td>\n",
       "      <td>99.417</td>\n",
       "      <td>1373</td>\n",
       "    </tr>\n",
       "    <tr>\n",
       "      <th>23</th>\n",
       "      <td>Bacteria;Firmicutes;Clostridia;Lachnospirales;...</td>\n",
       "      <td>DA_182</td>\n",
       "      <td>99.636</td>\n",
       "      <td>1373</td>\n",
       "    </tr>\n",
       "    <tr>\n",
       "      <th>24</th>\n",
       "      <td>Bacteria;Bacteroidota;Bacteroidia;Bacteroidale...</td>\n",
       "      <td>DA_183</td>\n",
       "      <td>99.782</td>\n",
       "      <td>1373</td>\n",
       "    </tr>\n",
       "    <tr>\n",
       "      <th>25</th>\n",
       "      <td>Bacteria;Firmicutes;Bacilli;Lactobacillales;La...</td>\n",
       "      <td>DA_189</td>\n",
       "      <td>99.929</td>\n",
       "      <td>1403</td>\n",
       "    </tr>\n",
       "    <tr>\n",
       "      <th>26</th>\n",
       "      <td>Bacteria;Firmicutes;Clostridia;Oscillospirales...</td>\n",
       "      <td>DA_191</td>\n",
       "      <td>99.630</td>\n",
       "      <td>1353</td>\n",
       "    </tr>\n",
       "    <tr>\n",
       "      <th>27</th>\n",
       "      <td>Bacteria;Firmicutes;Clostridia;Lachnospirales;...</td>\n",
       "      <td>DA_192</td>\n",
       "      <td>99.493</td>\n",
       "      <td>1382</td>\n",
       "    </tr>\n",
       "    <tr>\n",
       "      <th>28</th>\n",
       "      <td>Bacteria;Firmicutes;Clostridia;Eubacteriales;E...</td>\n",
       "      <td>DA_198</td>\n",
       "      <td>99.927</td>\n",
       "      <td>1368</td>\n",
       "    </tr>\n",
       "    <tr>\n",
       "      <th>29</th>\n",
       "      <td>Bacteria;Firmicutes;Clostridia;Lachnospirales;...</td>\n",
       "      <td>DA_199</td>\n",
       "      <td>99.636</td>\n",
       "      <td>1375</td>\n",
       "    </tr>\n",
       "    <tr>\n",
       "      <th>30</th>\n",
       "      <td>Bacteria;Bacteroidota;Bacteroidia;Bacteroidale...</td>\n",
       "      <td>DA_200</td>\n",
       "      <td>100.000</td>\n",
       "      <td>1370</td>\n",
       "    </tr>\n",
       "    <tr>\n",
       "      <th>31</th>\n",
       "      <td>Bacteria;Firmicutes;Clostridia;Lachnospirales;...</td>\n",
       "      <td>DA_203</td>\n",
       "      <td>98.910</td>\n",
       "      <td>1376</td>\n",
       "    </tr>\n",
       "    <tr>\n",
       "      <th>32</th>\n",
       "      <td>Bacteria;Firmicutes;Clostridia;Lachnospirales;...</td>\n",
       "      <td>DA_205</td>\n",
       "      <td>96.650</td>\n",
       "      <td>1373</td>\n",
       "    </tr>\n",
       "    <tr>\n",
       "      <th>33</th>\n",
       "      <td>Bacteria;Firmicutes;Clostridia;Lachnospirales;...</td>\n",
       "      <td>DA_206</td>\n",
       "      <td>99.636</td>\n",
       "      <td>1373</td>\n",
       "    </tr>\n",
       "    <tr>\n",
       "      <th>34</th>\n",
       "      <td>Bacteria;Firmicutes;Clostridia;Eubacteriales;E...</td>\n",
       "      <td>DA_208</td>\n",
       "      <td>99.562</td>\n",
       "      <td>1369</td>\n",
       "    </tr>\n",
       "    <tr>\n",
       "      <th>35</th>\n",
       "      <td>Bacteria;Firmicutes;Clostridia;Eubacteriales;E...</td>\n",
       "      <td>DA_210</td>\n",
       "      <td>99.854</td>\n",
       "      <td>1369</td>\n",
       "    </tr>\n",
       "    <tr>\n",
       "      <th>36</th>\n",
       "      <td>Bacteria;Firmicutes;Bacilli;Lactobacillales;En...</td>\n",
       "      <td>DO_100</td>\n",
       "      <td>99.858</td>\n",
       "      <td>1407</td>\n",
       "    </tr>\n",
       "    <tr>\n",
       "      <th>37</th>\n",
       "      <td>Bacteria;Firmicutes;Bacilli;Lactobacillales;En...</td>\n",
       "      <td>DO_103</td>\n",
       "      <td>100.000</td>\n",
       "      <td>1405</td>\n",
       "    </tr>\n",
       "  </tbody>\n",
       "</table>\n",
       "</div>"
      ],
      "text/plain": [
       "                                                 taxa  qseqid   pident  length\n",
       "0   Bacteria;Firmicutes;Clostridia;Lachnospirales;...  DA_134   99.637    1379\n",
       "1   Bacteria;Firmicutes;Clostridia;Lachnospirales;...  DA_136   98.908    1374\n",
       "2   Bacteria;Firmicutes;Bacilli;Lactobacillales;La...  DA_138  100.000    1422\n",
       "3   Bacteria;Firmicutes;Clostridia;Lachnospirales;...  DA_139   99.708    1371\n",
       "4   Bacteria;Firmicutes;Clostridia;Lachnospirales;...  DA_141   99.855    1379\n",
       "5   Bacteria;Firmicutes;Clostridia;Lachnospirales;...  DA_151   98.983    1376\n",
       "6   Bacteria;Actinobacteriota;Coriobacteriia;Corio...  DA_152   99.926    1354\n",
       "7   Bacteria;Firmicutes;Clostridia;Lachnospirales;...  DA_154   99.636    1372\n",
       "8   Bacteria;Firmicutes;Clostridia;Lachnospirales;...  DA_156   99.637    1377\n",
       "9   Bacteria;Bacteroidota;Bacteroidia;Bacteroidale...  DA_158   99.420    1380\n",
       "10  Bacteria;Firmicutes;Clostridia;Eubacteriales;E...  DA_161   99.927    1370\n",
       "11  Bacteria;Firmicutes;Clostridia;Peptostreptococ...  DA_163   99.779    1357\n",
       "12  Bacteria;Firmicutes;Clostridia;Lachnospirales;...  DA_164   99.708    1372\n",
       "13  Bacteria;Bacteroidota;Bacteroidia;Bacteroidale...  DA_166   93.402    1364\n",
       "14  Bacteria;Firmicutes;Clostridia;Lachnospirales;...  DA_168   99.636    1375\n",
       "15  Bacteria;Actinobacteriota;Coriobacteriia;Corio...  DA_169   99.852    1354\n",
       "16  Bacteria;Firmicutes;Clostridia;Lachnospirales;...  DA_170   99.636    1375\n",
       "17  Bacteria;Firmicutes;Clostridia;Peptostreptococ...  DA_172   99.853    1356\n",
       "18  Bacteria;Firmicutes;Clostridia;Lachnospirales;...  DA_174   99.637    1377\n",
       "19  Bacteria;Firmicutes;Clostridia;Lachnospirales;...  DA_176   98.908    1373\n",
       "20  Bacteria;Firmicutes;Clostridia;Lachnospirales;...  DA_177   99.636    1375\n",
       "21  Bacteria;Firmicutes;Clostridia;Lachnospirales;...  DA_178   99.635    1370\n",
       "22  Bacteria;Firmicutes;Clostridia;Lachnospirales;...  DA_180   99.417    1373\n",
       "23  Bacteria;Firmicutes;Clostridia;Lachnospirales;...  DA_182   99.636    1373\n",
       "24  Bacteria;Bacteroidota;Bacteroidia;Bacteroidale...  DA_183   99.782    1373\n",
       "25  Bacteria;Firmicutes;Bacilli;Lactobacillales;La...  DA_189   99.929    1403\n",
       "26  Bacteria;Firmicutes;Clostridia;Oscillospirales...  DA_191   99.630    1353\n",
       "27  Bacteria;Firmicutes;Clostridia;Lachnospirales;...  DA_192   99.493    1382\n",
       "28  Bacteria;Firmicutes;Clostridia;Eubacteriales;E...  DA_198   99.927    1368\n",
       "29  Bacteria;Firmicutes;Clostridia;Lachnospirales;...  DA_199   99.636    1375\n",
       "30  Bacteria;Bacteroidota;Bacteroidia;Bacteroidale...  DA_200  100.000    1370\n",
       "31  Bacteria;Firmicutes;Clostridia;Lachnospirales;...  DA_203   98.910    1376\n",
       "32  Bacteria;Firmicutes;Clostridia;Lachnospirales;...  DA_205   96.650    1373\n",
       "33  Bacteria;Firmicutes;Clostridia;Lachnospirales;...  DA_206   99.636    1373\n",
       "34  Bacteria;Firmicutes;Clostridia;Eubacteriales;E...  DA_208   99.562    1369\n",
       "35  Bacteria;Firmicutes;Clostridia;Eubacteriales;E...  DA_210   99.854    1369\n",
       "36  Bacteria;Firmicutes;Bacilli;Lactobacillales;En...  DO_100   99.858    1407\n",
       "37  Bacteria;Firmicutes;Bacilli;Lactobacillales;En...  DO_103  100.000    1405"
      ]
     },
     "execution_count": 162,
     "metadata": {},
     "output_type": "execute_result"
    }
   ],
   "source": [
    "pairsOut"
   ]
  },
  {
   "cell_type": "code",
   "execution_count": null,
   "metadata": {},
   "outputs": [],
   "source": []
  }
 ],
 "metadata": {
  "kernelspec": {
   "display_name": "Python 3",
   "language": "python",
   "name": "python3"
  },
  "language_info": {
   "codemirror_mode": {
    "name": "ipython",
    "version": 3
   },
   "file_extension": ".py",
   "mimetype": "text/x-python",
   "name": "python",
   "nbconvert_exporter": "python",
   "pygments_lexer": "ipython3",
   "version": "3.8.5"
  }
 },
 "nbformat": 4,
 "nbformat_minor": 4
}
