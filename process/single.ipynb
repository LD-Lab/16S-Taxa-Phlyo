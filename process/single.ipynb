{
 "cells": [
  {
   "cell_type": "code",
   "execution_count": 3,
   "metadata": {
    "execution": {
     "iopub.execute_input": "2021-01-12T08:02:43.353002Z",
     "iopub.status.busy": "2021-01-12T08:02:43.352692Z",
     "iopub.status.idle": "2021-01-12T08:02:43.687661Z",
     "shell.execute_reply": "2021-01-12T08:02:43.686725Z",
     "shell.execute_reply.started": "2021-01-12T08:02:43.352971Z"
    }
   },
   "outputs": [],
   "source": [
    "import os\n",
    "import re\n",
    "import pandas as pd"
   ]
  },
  {
   "cell_type": "code",
   "execution_count": 4,
   "metadata": {
    "execution": {
     "iopub.execute_input": "2021-01-12T08:02:43.689103Z",
     "iopub.status.busy": "2021-01-12T08:02:43.688859Z",
     "iopub.status.idle": "2021-01-12T08:02:43.697514Z",
     "shell.execute_reply": "2021-01-12T08:02:43.695246Z",
     "shell.execute_reply.started": "2021-01-12T08:02:43.689078Z"
    }
   },
   "outputs": [],
   "source": [
    "import collections"
   ]
  },
  {
   "cell_type": "code",
   "execution_count": 5,
   "metadata": {
    "execution": {
     "iopub.execute_input": "2021-01-12T08:02:43.792517Z",
     "iopub.status.busy": "2021-01-12T08:02:43.792139Z",
     "iopub.status.idle": "2021-01-12T08:02:43.909045Z",
     "shell.execute_reply": "2021-01-12T08:02:43.907940Z",
     "shell.execute_reply.started": "2021-01-12T08:02:43.792480Z"
    }
   },
   "outputs": [],
   "source": [
    "import os\n",
    "import argparse\n",
    "import subprocess\n",
    "from Bio import SeqIO"
   ]
  },
  {
   "cell_type": "code",
   "execution_count": 6,
   "metadata": {
    "execution": {
     "iopub.execute_input": "2021-01-12T08:02:44.037371Z",
     "iopub.status.busy": "2021-01-12T08:02:44.037137Z",
     "iopub.status.idle": "2021-01-12T08:02:44.046104Z",
     "shell.execute_reply": "2021-01-12T08:02:44.044720Z",
     "shell.execute_reply.started": "2021-01-12T08:02:44.037349Z"
    }
   },
   "outputs": [],
   "source": [
    "from itertools import repeat\n",
    "from multiprocessing import Pool, freeze_support"
   ]
  },
  {
   "cell_type": "code",
   "execution_count": 69,
   "metadata": {
    "execution": {
     "iopub.execute_input": "2021-01-12T12:08:58.508209Z",
     "iopub.status.busy": "2021-01-12T12:08:58.507973Z",
     "iopub.status.idle": "2021-01-12T12:08:58.512462Z",
     "shell.execute_reply": "2021-01-12T12:08:58.511083Z",
     "shell.execute_reply.started": "2021-01-12T12:08:58.508185Z"
    }
   },
   "outputs": [],
   "source": [
    "InDir = \"/mnt/d/Lab/16S-Taxa-Phlyo/data/M15\""
   ]
  },
  {
   "cell_type": "code",
   "execution_count": 6,
   "metadata": {
    "execution": {
     "iopub.execute_input": "2021-01-12T03:07:04.516449Z",
     "iopub.status.busy": "2021-01-12T03:07:04.516120Z",
     "iopub.status.idle": "2021-01-12T03:07:04.647464Z",
     "shell.execute_reply": "2021-01-12T03:07:04.645509Z",
     "shell.execute_reply.started": "2021-01-12T03:07:04.516419Z"
    }
   },
   "outputs": [
    {
     "name": "stdout",
     "output_type": "stream",
     "text": [
      "180\n"
     ]
    }
   ],
   "source": [
    "!ls /mnt/d/Lab/16S-Taxa-Phlyo/data/M15 | wc -l"
   ]
  },
  {
   "cell_type": "code",
   "execution_count": 70,
   "metadata": {
    "execution": {
     "iopub.execute_input": "2021-01-12T12:08:59.692916Z",
     "iopub.status.busy": "2021-01-12T12:08:59.692585Z",
     "iopub.status.idle": "2021-01-12T12:09:00.088478Z",
     "shell.execute_reply": "2021-01-12T12:09:00.087655Z",
     "shell.execute_reply.started": "2021-01-12T12:08:59.692886Z"
    }
   },
   "outputs": [],
   "source": [
    "sampleID = []\n",
    "single = {}\n",
    "pair = {}\n",
    "df = pd.DataFrame()\n",
    "SampleList = collections.defaultdict(list)\n",
    "\n",
    "for file in os.listdir(InDir):\n",
    "    filePath = os.path.join(InDir, file)\n",
    "    if file.endswith(\".ab1\") and os.path.getsize(filePath) > 0:\n",
    "        info = file.split(\"__\")\n",
    "        sampleID.append(info[0])\n",
    "        SampleList[info[0]].append(filePath)\n",
    "        \n",
    "for sample in set(sampleID):\n",
    "    if len(SampleList[sample]) == 1:\n",
    "        single[sample] = SampleList[sample]\n",
    "    elif len(SampleList[sample]) == 2:\n",
    "        pair[sample] = SampleList[sample]\n",
    "        for end in pair[sample]:\n",
    "            if \"F__\" in end:\n",
    "                R1 = end\n",
    "            elif \"R__\" in end:\n",
    "                R2 = end\n",
    "        df = df.append({\"ID\": sample, \"R1\":R1, \"R2\":R2},ignore_index=True)"
   ]
  },
  {
   "cell_type": "code",
   "execution_count": 71,
   "metadata": {
    "collapsed": true,
    "execution": {
     "iopub.execute_input": "2021-01-12T12:09:00.265738Z",
     "iopub.status.busy": "2021-01-12T12:09:00.265505Z",
     "iopub.status.idle": "2021-01-12T12:09:00.271615Z",
     "shell.execute_reply": "2021-01-12T12:09:00.270478Z",
     "shell.execute_reply.started": "2021-01-12T12:09:00.265716Z"
    },
    "jupyter": {
     "outputs_hidden": true
    }
   },
   "outputs": [
    {
     "data": {
      "text/plain": [
       "{'DA_157': ['/mnt/d/Lab/16S-Taxa-Phlyo/data/M15/DA_157__M13R__F07_2004260514Q.ab1'],\n",
       " 'DA_165': ['/mnt/d/Lab/16S-Taxa-Phlyo/data/M15/DA_165__M13R__C09_2004260527Q.ab1'],\n",
       " 'DA_179': ['/mnt/d/Lab/16S-Taxa-Phlyo/data/M15/DA_179__M13F__D03_2004260520Q.ab1'],\n",
       " 'DA_149': ['/mnt/d/Lab/16S-Taxa-Phlyo/data/M15/DA_149__M13F__E01_2004260508Q.ab1'],\n",
       " 'DA_186': ['/mnt/d/Lab/16S-Taxa-Phlyo/data/M15/DA_186__M13R__E04_2004260539Q.ab1'],\n",
       " 'DA_194': ['/mnt/d/Lab/16S-Taxa-Phlyo/data/M15/DA_194__M13R__E10_2004260545Q.ab1'],\n",
       " 'DA_160': ['/mnt/d/Lab/16S-Taxa-Phlyo/data/M15/DA_160__M13R__A03_2004260557Q.ab1'],\n",
       " 'DA_187': ['/mnt/d/Lab/16S-Taxa-Phlyo/data/M15/DA_187__M13F__G01_2004260540Q.ab1'],\n",
       " 'DA_188': ['/mnt/d/Lab/16S-Taxa-Phlyo/data/M15/DA_188__M13R__A10_2004260541Q.ab1'],\n",
       " 'DA_115': ['/mnt/d/Lab/16S-Taxa-Phlyo/data/M15/DA_115__M13R__H02_2004260535Q.ab1'],\n",
       " 'DA_181': ['/mnt/d/Lab/16S-Taxa-Phlyo/data/M15/DA_181__M13R__D03_2004260560Q.ab1'],\n",
       " 'DA_150': ['/mnt/d/Lab/16S-Taxa-Phlyo/data/M15/DA_150__M13R__A07_2004260509Q.ab1'],\n",
       " 'DA_184': ['/mnt/d/Lab/16S-Taxa-Phlyo/data/M15/DA_184__M13F__H03_2004260524Q.ab1'],\n",
       " 'DA_202': ['/mnt/d/Lab/16S-Taxa-Phlyo/data/M15/DA_202__M13F__B06_2004260550Q.ab1']}"
      ]
     },
     "execution_count": 71,
     "metadata": {},
     "output_type": "execute_result"
    }
   ],
   "source": [
    "single"
   ]
  },
  {
   "cell_type": "code",
   "execution_count": 9,
   "metadata": {
    "execution": {
     "iopub.execute_input": "2021-01-12T03:07:12.596261Z",
     "iopub.status.busy": "2021-01-12T03:07:12.596019Z",
     "iopub.status.idle": "2021-01-12T03:07:12.603244Z",
     "shell.execute_reply": "2021-01-12T03:07:12.601370Z",
     "shell.execute_reply.started": "2021-01-12T03:07:12.596237Z"
    }
   },
   "outputs": [
    {
     "data": {
      "text/plain": [
       "dict_keys(['DA_184', 'DA_202', 'DA_157', 'DA_181', 'DA_194', 'DA_187', 'DA_186', 'DA_160', 'DA_165', 'DA_150', 'DA_188', 'DA_179', 'DA_115', 'DA_149'])"
      ]
     },
     "execution_count": 9,
     "metadata": {},
     "output_type": "execute_result"
    }
   ],
   "source": [
    "single.keys()"
   ]
  },
  {
   "cell_type": "code",
   "execution_count": 10,
   "metadata": {
    "execution": {
     "iopub.execute_input": "2021-01-12T03:07:13.062680Z",
     "iopub.status.busy": "2021-01-12T03:07:13.062379Z",
     "iopub.status.idle": "2021-01-12T03:07:13.069592Z",
     "shell.execute_reply": "2021-01-12T03:07:13.068208Z",
     "shell.execute_reply.started": "2021-01-12T03:07:13.062643Z"
    }
   },
   "outputs": [
    {
     "data": {
      "text/plain": [
       "dict_values([['/mnt/d/Lab/16S-Taxa-Phlyo/data/M15/DA_184__M13F__H03_2004260524Q.ab1'], ['/mnt/d/Lab/16S-Taxa-Phlyo/data/M15/DA_202__M13F__B06_2004260550Q.ab1'], ['/mnt/d/Lab/16S-Taxa-Phlyo/data/M15/DA_157__M13R__F07_2004260514Q.ab1'], ['/mnt/d/Lab/16S-Taxa-Phlyo/data/M15/DA_181__M13R__D03_2004260560Q.ab1'], ['/mnt/d/Lab/16S-Taxa-Phlyo/data/M15/DA_194__M13R__E10_2004260545Q.ab1'], ['/mnt/d/Lab/16S-Taxa-Phlyo/data/M15/DA_187__M13F__G01_2004260540Q.ab1'], ['/mnt/d/Lab/16S-Taxa-Phlyo/data/M15/DA_186__M13R__E04_2004260539Q.ab1'], ['/mnt/d/Lab/16S-Taxa-Phlyo/data/M15/DA_160__M13R__A03_2004260557Q.ab1'], ['/mnt/d/Lab/16S-Taxa-Phlyo/data/M15/DA_165__M13R__C09_2004260527Q.ab1'], ['/mnt/d/Lab/16S-Taxa-Phlyo/data/M15/DA_150__M13R__A07_2004260509Q.ab1'], ['/mnt/d/Lab/16S-Taxa-Phlyo/data/M15/DA_188__M13R__A10_2004260541Q.ab1'], ['/mnt/d/Lab/16S-Taxa-Phlyo/data/M15/DA_179__M13F__D03_2004260520Q.ab1'], ['/mnt/d/Lab/16S-Taxa-Phlyo/data/M15/DA_115__M13R__H02_2004260535Q.ab1'], ['/mnt/d/Lab/16S-Taxa-Phlyo/data/M15/DA_149__M13F__E01_2004260508Q.ab1']])"
      ]
     },
     "execution_count": 10,
     "metadata": {},
     "output_type": "execute_result"
    }
   ],
   "source": [
    "single.values()"
   ]
  },
  {
   "cell_type": "code",
   "execution_count": 16,
   "metadata": {
    "execution": {
     "iopub.execute_input": "2021-01-12T02:36:42.076877Z",
     "iopub.status.busy": "2021-01-12T02:36:42.076573Z",
     "iopub.status.idle": "2021-01-12T02:36:42.084742Z",
     "shell.execute_reply": "2021-01-12T02:36:42.082994Z",
     "shell.execute_reply.started": "2021-01-12T02:36:42.076847Z"
    }
   },
   "outputs": [
    {
     "data": {
      "text/plain": [
       "['/mnt/d/Lab/16S-Taxa-Phlyo/data/M15/DA_194__M13R__E10_2004260545Q.ab1']"
      ]
     },
     "execution_count": 16,
     "metadata": {},
     "output_type": "execute_result"
    }
   ],
   "source": [
    "single['DA_194']"
   ]
  },
  {
   "cell_type": "code",
   "execution_count": 18,
   "metadata": {
    "execution": {
     "iopub.execute_input": "2021-01-12T02:37:10.111856Z",
     "iopub.status.busy": "2021-01-12T02:37:10.111431Z",
     "iopub.status.idle": "2021-01-12T02:37:10.120420Z",
     "shell.execute_reply": "2021-01-12T02:37:10.118942Z",
     "shell.execute_reply.started": "2021-01-12T02:37:10.111812Z"
    }
   },
   "outputs": [
    {
     "data": {
      "text/plain": [
       "True"
      ]
     },
     "execution_count": 18,
     "metadata": {},
     "output_type": "execute_result"
    }
   ],
   "source": [
    "\"R__\" in single['DA_194'][0]"
   ]
  },
  {
   "cell_type": "code",
   "execution_count": 30,
   "metadata": {
    "execution": {
     "iopub.execute_input": "2021-01-12T03:11:40.322500Z",
     "iopub.status.busy": "2021-01-12T03:11:40.322247Z",
     "iopub.status.idle": "2021-01-12T03:11:40.326922Z",
     "shell.execute_reply": "2021-01-12T03:11:40.325809Z",
     "shell.execute_reply.started": "2021-01-12T03:11:40.322477Z"
    }
   },
   "outputs": [],
   "source": [
    "OutDir = \"/mnt/d/Lab/16S-Taxa-Phlyo/result/M15\""
   ]
  },
  {
   "cell_type": "code",
   "execution_count": 72,
   "metadata": {
    "execution": {
     "iopub.execute_input": "2021-01-12T12:09:06.497668Z",
     "iopub.status.busy": "2021-01-12T12:09:06.497331Z",
     "iopub.status.idle": "2021-01-12T12:09:06.505644Z",
     "shell.execute_reply": "2021-01-12T12:09:06.503791Z",
     "shell.execute_reply.started": "2021-01-12T12:09:06.497639Z"
    }
   },
   "outputs": [],
   "source": [
    "def parseSingle(singleDict, OutDir):\n",
    "    OutList = []\n",
    "    singleDir = os.path.join(OutDir, \"single\", \"fatsq\")\n",
    "    if os.path.exists(singleDir) == 0:\n",
    "        os.makedirs(singleDir, 0o777, True)\n",
    "    for ID in single.keys():\n",
    "        if \"F__\" in single[ID][0]:\n",
    "            OutList.append(os.path.join(singleDir, ID + \"_R1.fastq\"))\n",
    "        elif \"R__\" in single[ID][0]:\n",
    "            OutList.append(os.path.join(singleDir, ID + \"_R2.fastq\"))\n",
    "    return OutList"
   ]
  },
  {
   "cell_type": "code",
   "execution_count": 73,
   "metadata": {
    "execution": {
     "iopub.execute_input": "2021-01-12T12:09:06.943384Z",
     "iopub.status.busy": "2021-01-12T12:09:06.943156Z",
     "iopub.status.idle": "2021-01-12T12:09:06.953184Z",
     "shell.execute_reply": "2021-01-12T12:09:06.952308Z",
     "shell.execute_reply.started": "2021-01-12T12:09:06.943362Z"
    }
   },
   "outputs": [],
   "source": [
    "OutList = parseSingle(single, OutDir)"
   ]
  },
  {
   "cell_type": "code",
   "execution_count": 74,
   "metadata": {
    "collapsed": true,
    "execution": {
     "iopub.execute_input": "2021-01-12T12:09:14.054650Z",
     "iopub.status.busy": "2021-01-12T12:09:14.054303Z",
     "iopub.status.idle": "2021-01-12T12:09:14.060546Z",
     "shell.execute_reply": "2021-01-12T12:09:14.059562Z",
     "shell.execute_reply.started": "2021-01-12T12:09:14.054616Z"
    },
    "jupyter": {
     "outputs_hidden": true
    }
   },
   "outputs": [
    {
     "data": {
      "text/plain": [
       "['/mnt/d/Lab/16S-Taxa-Phlyo/result/M15/single/single/fatsq/DA_157_R2.fastq',\n",
       " '/mnt/d/Lab/16S-Taxa-Phlyo/result/M15/single/single/fatsq/DA_165_R2.fastq',\n",
       " '/mnt/d/Lab/16S-Taxa-Phlyo/result/M15/single/single/fatsq/DA_179_R1.fastq',\n",
       " '/mnt/d/Lab/16S-Taxa-Phlyo/result/M15/single/single/fatsq/DA_149_R1.fastq',\n",
       " '/mnt/d/Lab/16S-Taxa-Phlyo/result/M15/single/single/fatsq/DA_186_R2.fastq',\n",
       " '/mnt/d/Lab/16S-Taxa-Phlyo/result/M15/single/single/fatsq/DA_194_R2.fastq',\n",
       " '/mnt/d/Lab/16S-Taxa-Phlyo/result/M15/single/single/fatsq/DA_160_R2.fastq',\n",
       " '/mnt/d/Lab/16S-Taxa-Phlyo/result/M15/single/single/fatsq/DA_187_R1.fastq',\n",
       " '/mnt/d/Lab/16S-Taxa-Phlyo/result/M15/single/single/fatsq/DA_188_R2.fastq',\n",
       " '/mnt/d/Lab/16S-Taxa-Phlyo/result/M15/single/single/fatsq/DA_115_R2.fastq',\n",
       " '/mnt/d/Lab/16S-Taxa-Phlyo/result/M15/single/single/fatsq/DA_181_R2.fastq',\n",
       " '/mnt/d/Lab/16S-Taxa-Phlyo/result/M15/single/single/fatsq/DA_150_R2.fastq',\n",
       " '/mnt/d/Lab/16S-Taxa-Phlyo/result/M15/single/single/fatsq/DA_184_R1.fastq',\n",
       " '/mnt/d/Lab/16S-Taxa-Phlyo/result/M15/single/single/fatsq/DA_202_R1.fastq']"
      ]
     },
     "execution_count": 74,
     "metadata": {},
     "output_type": "execute_result"
    }
   ],
   "source": [
    "OutList"
   ]
  },
  {
   "cell_type": "code",
   "execution_count": 16,
   "metadata": {
    "execution": {
     "iopub.execute_input": "2021-01-12T03:07:49.524534Z",
     "iopub.status.busy": "2021-01-12T03:07:49.524291Z",
     "iopub.status.idle": "2021-01-12T03:07:49.531862Z",
     "shell.execute_reply": "2021-01-12T03:07:49.530334Z",
     "shell.execute_reply.started": "2021-01-12T03:07:49.524510Z"
    }
   },
   "outputs": [
    {
     "data": {
      "text/plain": [
       "dict_keys"
      ]
     },
     "execution_count": 16,
     "metadata": {},
     "output_type": "execute_result"
    }
   ],
   "source": [
    "type(single.keys())"
   ]
  },
  {
   "cell_type": "code",
   "execution_count": 17,
   "metadata": {
    "collapsed": true,
    "execution": {
     "iopub.execute_input": "2021-01-12T03:07:50.115034Z",
     "iopub.status.busy": "2021-01-12T03:07:50.114600Z",
     "iopub.status.idle": "2021-01-12T03:07:50.124283Z",
     "shell.execute_reply": "2021-01-12T03:07:50.122577Z",
     "shell.execute_reply.started": "2021-01-12T03:07:50.114991Z"
    },
    "jupyter": {
     "outputs_hidden": true
    }
   },
   "outputs": [
    {
     "data": {
      "text/plain": [
       "[['/mnt/d/Lab/16S-Taxa-Phlyo/data/M15/DA_184__M13F__H03_2004260524Q.ab1'],\n",
       " ['/mnt/d/Lab/16S-Taxa-Phlyo/data/M15/DA_202__M13F__B06_2004260550Q.ab1'],\n",
       " ['/mnt/d/Lab/16S-Taxa-Phlyo/data/M15/DA_157__M13R__F07_2004260514Q.ab1'],\n",
       " ['/mnt/d/Lab/16S-Taxa-Phlyo/data/M15/DA_181__M13R__D03_2004260560Q.ab1'],\n",
       " ['/mnt/d/Lab/16S-Taxa-Phlyo/data/M15/DA_194__M13R__E10_2004260545Q.ab1'],\n",
       " ['/mnt/d/Lab/16S-Taxa-Phlyo/data/M15/DA_187__M13F__G01_2004260540Q.ab1'],\n",
       " ['/mnt/d/Lab/16S-Taxa-Phlyo/data/M15/DA_186__M13R__E04_2004260539Q.ab1'],\n",
       " ['/mnt/d/Lab/16S-Taxa-Phlyo/data/M15/DA_160__M13R__A03_2004260557Q.ab1'],\n",
       " ['/mnt/d/Lab/16S-Taxa-Phlyo/data/M15/DA_165__M13R__C09_2004260527Q.ab1'],\n",
       " ['/mnt/d/Lab/16S-Taxa-Phlyo/data/M15/DA_150__M13R__A07_2004260509Q.ab1'],\n",
       " ['/mnt/d/Lab/16S-Taxa-Phlyo/data/M15/DA_188__M13R__A10_2004260541Q.ab1'],\n",
       " ['/mnt/d/Lab/16S-Taxa-Phlyo/data/M15/DA_179__M13F__D03_2004260520Q.ab1'],\n",
       " ['/mnt/d/Lab/16S-Taxa-Phlyo/data/M15/DA_115__M13R__H02_2004260535Q.ab1'],\n",
       " ['/mnt/d/Lab/16S-Taxa-Phlyo/data/M15/DA_149__M13F__E01_2004260508Q.ab1']]"
      ]
     },
     "execution_count": 17,
     "metadata": {},
     "output_type": "execute_result"
    }
   ],
   "source": [
    "list(single.values())"
   ]
  },
  {
   "cell_type": "code",
   "execution_count": 21,
   "metadata": {
    "execution": {
     "iopub.execute_input": "2021-01-12T03:08:36.564135Z",
     "iopub.status.busy": "2021-01-12T03:08:36.563809Z",
     "iopub.status.idle": "2021-01-12T03:08:36.570589Z",
     "shell.execute_reply": "2021-01-12T03:08:36.568717Z",
     "shell.execute_reply.started": "2021-01-12T03:08:36.564104Z"
    }
   },
   "outputs": [],
   "source": [
    "output = []\n",
    "def reemovNestings(l): \n",
    "    for i in l: \n",
    "        if type(i) == list: \n",
    "            print(type(i))\n",
    "            reemovNestings(i) \n",
    "        else: \n",
    "            output.append(i)\n",
    "    return output"
   ]
  },
  {
   "cell_type": "code",
   "execution_count": 22,
   "metadata": {
    "collapsed": true,
    "execution": {
     "iopub.execute_input": "2021-01-12T03:08:36.922721Z",
     "iopub.status.busy": "2021-01-12T03:08:36.922117Z",
     "iopub.status.idle": "2021-01-12T03:08:36.936481Z",
     "shell.execute_reply": "2021-01-12T03:08:36.934882Z",
     "shell.execute_reply.started": "2021-01-12T03:08:36.922670Z"
    },
    "jupyter": {
     "outputs_hidden": true
    }
   },
   "outputs": [
    {
     "name": "stdout",
     "output_type": "stream",
     "text": [
      "<class 'list'>\n",
      "<class 'list'>\n",
      "<class 'list'>\n",
      "<class 'list'>\n",
      "<class 'list'>\n",
      "<class 'list'>\n",
      "<class 'list'>\n",
      "<class 'list'>\n",
      "<class 'list'>\n",
      "<class 'list'>\n",
      "<class 'list'>\n",
      "<class 'list'>\n",
      "<class 'list'>\n",
      "<class 'list'>\n"
     ]
    }
   ],
   "source": [
    "output = reemovNestings(list(single.values()))"
   ]
  },
  {
   "cell_type": "code",
   "execution_count": 23,
   "metadata": {
    "execution": {
     "iopub.execute_input": "2021-01-12T03:08:41.806013Z",
     "iopub.status.busy": "2021-01-12T03:08:41.805705Z",
     "iopub.status.idle": "2021-01-12T03:08:41.813578Z",
     "shell.execute_reply": "2021-01-12T03:08:41.812270Z",
     "shell.execute_reply.started": "2021-01-12T03:08:41.805982Z"
    }
   },
   "outputs": [
    {
     "data": {
      "text/plain": [
       "['/mnt/d/Lab/16S-Taxa-Phlyo/data/M15/DA_184__M13F__H03_2004260524Q.ab1',\n",
       " '/mnt/d/Lab/16S-Taxa-Phlyo/data/M15/DA_202__M13F__B06_2004260550Q.ab1',\n",
       " '/mnt/d/Lab/16S-Taxa-Phlyo/data/M15/DA_157__M13R__F07_2004260514Q.ab1',\n",
       " '/mnt/d/Lab/16S-Taxa-Phlyo/data/M15/DA_181__M13R__D03_2004260560Q.ab1',\n",
       " '/mnt/d/Lab/16S-Taxa-Phlyo/data/M15/DA_194__M13R__E10_2004260545Q.ab1',\n",
       " '/mnt/d/Lab/16S-Taxa-Phlyo/data/M15/DA_187__M13F__G01_2004260540Q.ab1',\n",
       " '/mnt/d/Lab/16S-Taxa-Phlyo/data/M15/DA_186__M13R__E04_2004260539Q.ab1',\n",
       " '/mnt/d/Lab/16S-Taxa-Phlyo/data/M15/DA_160__M13R__A03_2004260557Q.ab1',\n",
       " '/mnt/d/Lab/16S-Taxa-Phlyo/data/M15/DA_165__M13R__C09_2004260527Q.ab1',\n",
       " '/mnt/d/Lab/16S-Taxa-Phlyo/data/M15/DA_150__M13R__A07_2004260509Q.ab1',\n",
       " '/mnt/d/Lab/16S-Taxa-Phlyo/data/M15/DA_188__M13R__A10_2004260541Q.ab1',\n",
       " '/mnt/d/Lab/16S-Taxa-Phlyo/data/M15/DA_179__M13F__D03_2004260520Q.ab1',\n",
       " '/mnt/d/Lab/16S-Taxa-Phlyo/data/M15/DA_115__M13R__H02_2004260535Q.ab1',\n",
       " '/mnt/d/Lab/16S-Taxa-Phlyo/data/M15/DA_149__M13F__E01_2004260508Q.ab1']"
      ]
     },
     "execution_count": 23,
     "metadata": {},
     "output_type": "execute_result"
    }
   ],
   "source": [
    "output"
   ]
  },
  {
   "cell_type": "code",
   "execution_count": 24,
   "metadata": {
    "execution": {
     "iopub.execute_input": "2021-01-12T03:09:22.057131Z",
     "iopub.status.busy": "2021-01-12T03:09:22.056750Z",
     "iopub.status.idle": "2021-01-12T03:09:22.063862Z",
     "shell.execute_reply": "2021-01-12T03:09:22.062033Z",
     "shell.execute_reply.started": "2021-01-12T03:09:22.057092Z"
    }
   },
   "outputs": [],
   "source": [
    "singleList = list(single.values())"
   ]
  },
  {
   "cell_type": "code",
   "execution_count": 25,
   "metadata": {
    "execution": {
     "iopub.execute_input": "2021-01-12T03:09:27.201720Z",
     "iopub.status.busy": "2021-01-12T03:09:27.201320Z",
     "iopub.status.idle": "2021-01-12T03:09:27.207596Z",
     "shell.execute_reply": "2021-01-12T03:09:27.206208Z",
     "shell.execute_reply.started": "2021-01-12T03:09:27.201678Z"
    }
   },
   "outputs": [],
   "source": [
    "singleList = [item for sublist in singleList for item in sublist]"
   ]
  },
  {
   "cell_type": "code",
   "execution_count": 75,
   "metadata": {
    "execution": {
     "iopub.execute_input": "2021-01-12T12:10:21.172664Z",
     "iopub.status.busy": "2021-01-12T12:10:21.172394Z",
     "iopub.status.idle": "2021-01-12T12:10:21.177914Z",
     "shell.execute_reply": "2021-01-12T12:10:21.176394Z",
     "shell.execute_reply.started": "2021-01-12T12:10:21.172637Z"
    }
   },
   "outputs": [],
   "source": [
    "singleList = [item for sublist in list(single.values()) for item in sublist]"
   ]
  },
  {
   "cell_type": "code",
   "execution_count": 76,
   "metadata": {
    "execution": {
     "iopub.execute_input": "2021-01-12T12:10:21.770682Z",
     "iopub.status.busy": "2021-01-12T12:10:21.770415Z",
     "iopub.status.idle": "2021-01-12T12:10:21.778041Z",
     "shell.execute_reply": "2021-01-12T12:10:21.776658Z",
     "shell.execute_reply.started": "2021-01-12T12:10:21.770656Z"
    }
   },
   "outputs": [
    {
     "data": {
      "text/plain": [
       "['/mnt/d/Lab/16S-Taxa-Phlyo/data/M15/DA_157__M13R__F07_2004260514Q.ab1',\n",
       " '/mnt/d/Lab/16S-Taxa-Phlyo/data/M15/DA_165__M13R__C09_2004260527Q.ab1',\n",
       " '/mnt/d/Lab/16S-Taxa-Phlyo/data/M15/DA_179__M13F__D03_2004260520Q.ab1',\n",
       " '/mnt/d/Lab/16S-Taxa-Phlyo/data/M15/DA_149__M13F__E01_2004260508Q.ab1',\n",
       " '/mnt/d/Lab/16S-Taxa-Phlyo/data/M15/DA_186__M13R__E04_2004260539Q.ab1',\n",
       " '/mnt/d/Lab/16S-Taxa-Phlyo/data/M15/DA_194__M13R__E10_2004260545Q.ab1',\n",
       " '/mnt/d/Lab/16S-Taxa-Phlyo/data/M15/DA_160__M13R__A03_2004260557Q.ab1',\n",
       " '/mnt/d/Lab/16S-Taxa-Phlyo/data/M15/DA_187__M13F__G01_2004260540Q.ab1',\n",
       " '/mnt/d/Lab/16S-Taxa-Phlyo/data/M15/DA_188__M13R__A10_2004260541Q.ab1',\n",
       " '/mnt/d/Lab/16S-Taxa-Phlyo/data/M15/DA_115__M13R__H02_2004260535Q.ab1',\n",
       " '/mnt/d/Lab/16S-Taxa-Phlyo/data/M15/DA_181__M13R__D03_2004260560Q.ab1',\n",
       " '/mnt/d/Lab/16S-Taxa-Phlyo/data/M15/DA_150__M13R__A07_2004260509Q.ab1',\n",
       " '/mnt/d/Lab/16S-Taxa-Phlyo/data/M15/DA_184__M13F__H03_2004260524Q.ab1',\n",
       " '/mnt/d/Lab/16S-Taxa-Phlyo/data/M15/DA_202__M13F__B06_2004260550Q.ab1']"
      ]
     },
     "execution_count": 76,
     "metadata": {},
     "output_type": "execute_result"
    }
   ],
   "source": [
    "singleList"
   ]
  },
  {
   "cell_type": "code",
   "execution_count": 67,
   "metadata": {
    "collapsed": true,
    "execution": {
     "iopub.execute_input": "2021-01-12T02:58:11.090209Z",
     "iopub.status.busy": "2021-01-12T02:58:11.089836Z",
     "iopub.status.idle": "2021-01-12T02:58:11.099267Z",
     "shell.execute_reply": "2021-01-12T02:58:11.097583Z",
     "shell.execute_reply.started": "2021-01-12T02:58:11.090171Z"
    },
    "jupyter": {
     "outputs_hidden": true
    }
   },
   "outputs": [
    {
     "data": {
      "text/plain": [
       "['DA_194',\n",
       " 'DA_202',\n",
       " 'DA_186',\n",
       " 'DA_157',\n",
       " 'DA_165',\n",
       " 'DA_149',\n",
       " 'DA_181',\n",
       " 'DA_160',\n",
       " 'DA_115',\n",
       " 'DA_150',\n",
       " 'DA_179',\n",
       " 'DA_184',\n",
       " 'DA_188',\n",
       " 'DA_187']"
      ]
     },
     "execution_count": 67,
     "metadata": {},
     "output_type": "execute_result"
    }
   ],
   "source": [
    "list(single.keys())"
   ]
  },
  {
   "cell_type": "code",
   "execution_count": 36,
   "metadata": {
    "execution": {
     "iopub.execute_input": "2021-01-12T03:15:41.794235Z",
     "iopub.status.busy": "2021-01-12T03:15:41.793713Z",
     "iopub.status.idle": "2021-01-12T03:15:42.086124Z",
     "shell.execute_reply": "2021-01-12T03:15:42.085320Z",
     "shell.execute_reply.started": "2021-01-12T03:15:41.794180Z"
    }
   },
   "outputs": [],
   "source": [
    "ABI2FastqParallel(singleList, OutList)"
   ]
  },
  {
   "cell_type": "code",
   "execution_count": 9,
   "metadata": {
    "execution": {
     "iopub.execute_input": "2021-01-12T08:02:57.162077Z",
     "iopub.status.busy": "2021-01-12T08:02:57.161835Z",
     "iopub.status.idle": "2021-01-12T08:02:57.166812Z",
     "shell.execute_reply": "2021-01-12T08:02:57.165635Z",
     "shell.execute_reply.started": "2021-01-12T08:02:57.162055Z"
    }
   },
   "outputs": [],
   "source": [
    "OutDir = \"/mnt/d/Lab/16S-Taxa-Phlyo/result/M15/single\""
   ]
  },
  {
   "cell_type": "code",
   "execution_count": 45,
   "metadata": {
    "execution": {
     "iopub.execute_input": "2021-01-12T03:22:48.871133Z",
     "iopub.status.busy": "2021-01-12T03:22:48.870709Z",
     "iopub.status.idle": "2021-01-12T03:22:48.879660Z",
     "shell.execute_reply": "2021-01-12T03:22:48.878172Z",
     "shell.execute_reply.started": "2021-01-12T03:22:48.871091Z"
    }
   },
   "outputs": [
    {
     "data": {
      "text/plain": [
       "['/mnt/d/Lab/16S-Taxa-Phlyo/result/M15/single/fatsq/DA_184_R1.fastq',\n",
       " '/mnt/d/Lab/16S-Taxa-Phlyo/result/M15/single/fatsq/DA_202_R1.fastq',\n",
       " '/mnt/d/Lab/16S-Taxa-Phlyo/result/M15/single/fatsq/DA_157_R2.fastq',\n",
       " '/mnt/d/Lab/16S-Taxa-Phlyo/result/M15/single/fatsq/DA_181_R2.fastq',\n",
       " '/mnt/d/Lab/16S-Taxa-Phlyo/result/M15/single/fatsq/DA_194_R2.fastq',\n",
       " '/mnt/d/Lab/16S-Taxa-Phlyo/result/M15/single/fatsq/DA_187_R1.fastq',\n",
       " '/mnt/d/Lab/16S-Taxa-Phlyo/result/M15/single/fatsq/DA_186_R2.fastq',\n",
       " '/mnt/d/Lab/16S-Taxa-Phlyo/result/M15/single/fatsq/DA_160_R2.fastq',\n",
       " '/mnt/d/Lab/16S-Taxa-Phlyo/result/M15/single/fatsq/DA_165_R2.fastq',\n",
       " '/mnt/d/Lab/16S-Taxa-Phlyo/result/M15/single/fatsq/DA_150_R2.fastq',\n",
       " '/mnt/d/Lab/16S-Taxa-Phlyo/result/M15/single/fatsq/DA_188_R2.fastq',\n",
       " '/mnt/d/Lab/16S-Taxa-Phlyo/result/M15/single/fatsq/DA_179_R1.fastq',\n",
       " '/mnt/d/Lab/16S-Taxa-Phlyo/result/M15/single/fatsq/DA_115_R2.fastq',\n",
       " '/mnt/d/Lab/16S-Taxa-Phlyo/result/M15/single/fatsq/DA_149_R1.fastq']"
      ]
     },
     "execution_count": 45,
     "metadata": {},
     "output_type": "execute_result"
    }
   ],
   "source": [
    "OutList"
   ]
  },
  {
   "cell_type": "code",
   "execution_count": 46,
   "metadata": {
    "execution": {
     "iopub.execute_input": "2021-01-12T03:23:56.217512Z",
     "iopub.status.busy": "2021-01-12T03:23:56.217207Z",
     "iopub.status.idle": "2021-01-12T03:23:56.223599Z",
     "shell.execute_reply": "2021-01-12T03:23:56.222449Z",
     "shell.execute_reply.started": "2021-01-12T03:23:56.217470Z"
    }
   },
   "outputs": [
    {
     "data": {
      "text/plain": [
       "('/mnt/d/Lab/16S-Taxa-Phlyo/result/M15/single/fatsq', 'DA_184_R1.fastq')"
      ]
     },
     "execution_count": 46,
     "metadata": {},
     "output_type": "execute_result"
    }
   ],
   "source": [
    "os.path.split(OutList[0])"
   ]
  },
  {
   "cell_type": "markdown",
   "metadata": {},
   "source": [
    "fastp -i /mnt/d/Lab/16S-Taxa-Phlyo/data/M15/DA_170__M13F__G04_2004260531Q.ab1 -o /mnt/d/Lab/16S-Taxa-Phlyo/result/M15/single/trim/DA_184_trim.fastq --trim_front 30 --max_len 750 --cut_front --cut_tail --cut_window_size 20 --cut_mean_quality 30 --html /mnt/d/Lab/16S-Taxa-Phlyo/result/M15/single/fastp/DA_184.html --report_title DA_184-fastq-merge-report"
   ]
  },
  {
   "cell_type": "code",
   "execution_count": 59,
   "metadata": {
    "execution": {
     "iopub.execute_input": "2021-01-12T07:28:37.277693Z",
     "iopub.status.busy": "2021-01-12T07:28:37.277382Z",
     "iopub.status.idle": "2021-01-12T07:28:39.379404Z",
     "shell.execute_reply": "2021-01-12T07:28:39.377402Z",
     "shell.execute_reply.started": "2021-01-12T07:28:37.277662Z"
    }
   },
   "outputs": [],
   "source": [
    "RunFastpSingleParallel(OutList, OutDir)"
   ]
  },
  {
   "cell_type": "code",
   "execution_count": 83,
   "metadata": {
    "execution": {
     "iopub.execute_input": "2021-01-12T12:20:19.629885Z",
     "iopub.status.busy": "2021-01-12T12:20:19.629636Z",
     "iopub.status.idle": "2021-01-12T12:20:19.634397Z",
     "shell.execute_reply": "2021-01-12T12:20:19.633008Z",
     "shell.execute_reply.started": "2021-01-12T12:20:19.629861Z"
    }
   },
   "outputs": [],
   "source": [
    "InDir = \"/mnt/d/Lab/16S-Taxa-Phlyo/result/M15/single/trim\""
   ]
  },
  {
   "cell_type": "code",
   "execution_count": 84,
   "metadata": {
    "execution": {
     "iopub.execute_input": "2021-01-12T12:20:20.580392Z",
     "iopub.status.busy": "2021-01-12T12:20:20.579971Z",
     "iopub.status.idle": "2021-01-12T12:20:20.591614Z",
     "shell.execute_reply": "2021-01-12T12:20:20.589331Z",
     "shell.execute_reply.started": "2021-01-12T12:20:20.580351Z"
    }
   },
   "outputs": [],
   "source": [
    "def parseFastqSingle(InDir, OutDir):\n",
    "    allSeq = []\n",
    "    fastaFileList = []\n",
    "    fastaDir = os.path.join(OutDir, \"fasta\")\n",
    "    if os.path.exists(fastaDir) == 0:\n",
    "        os.makedirs(fastaDir, 0o777, True)\n",
    "    for file in os.listdir(InDir):\n",
    "        if file.endswith(\".fastq\") and os.path.getsize(os.path.join(InDir, file)) > 0:\n",
    "            for seq in SeqIO.parse(os.path.join(InDir, file), \"fastq\"):\n",
    "                seq.id = file.replace(\".fastq\", \"\")\n",
    "                seq.name = \"\"\n",
    "                seq.description = \"\"\n",
    "                if \"_R2\" in seq.id:\n",
    "                    seq.seq = seq.seq.reverse_complement()\n",
    "                allSeq.append(seq)\n",
    "                fastaFile = os.path.join(fastaDir, file.replace(\".fastq\", \".fasta\"))\n",
    "                fastaFileList.append(fastaFile)\n",
    "                SeqIO.write(seq, fastaFile, \"fasta\")\n",
    "    SeqIO.write(allSeq, os.path.join(OutDir, \"single.fasta\"), \"fasta\")\n",
    "    return fastaFileList"
   ]
  },
  {
   "cell_type": "code",
   "execution_count": 85,
   "metadata": {
    "execution": {
     "iopub.execute_input": "2021-01-12T12:20:21.087433Z",
     "iopub.status.busy": "2021-01-12T12:20:21.086935Z",
     "iopub.status.idle": "2021-01-12T12:20:21.275059Z",
     "shell.execute_reply": "2021-01-12T12:20:21.274009Z",
     "shell.execute_reply.started": "2021-01-12T12:20:21.087385Z"
    }
   },
   "outputs": [],
   "source": [
    "fastaFileList = parseFastqSingle(InDir, OutDir)"
   ]
  },
  {
   "cell_type": "code",
   "execution_count": 86,
   "metadata": {
    "execution": {
     "iopub.execute_input": "2021-01-12T12:20:21.359443Z",
     "iopub.status.busy": "2021-01-12T12:20:21.358793Z",
     "iopub.status.idle": "2021-01-12T12:20:21.365458Z",
     "shell.execute_reply": "2021-01-12T12:20:21.363948Z",
     "shell.execute_reply.started": "2021-01-12T12:20:21.359340Z"
    }
   },
   "outputs": [
    {
     "data": {
      "text/plain": [
       "'/mnt/d/Lab/16S-Taxa-Phlyo/result/M15/single'"
      ]
     },
     "execution_count": 86,
     "metadata": {},
     "output_type": "execute_result"
    }
   ],
   "source": [
    "OutDir"
   ]
  },
  {
   "cell_type": "code",
   "execution_count": 87,
   "metadata": {
    "collapsed": true,
    "execution": {
     "iopub.execute_input": "2021-01-12T12:20:21.847010Z",
     "iopub.status.busy": "2021-01-12T12:20:21.846775Z",
     "iopub.status.idle": "2021-01-12T12:20:21.854225Z",
     "shell.execute_reply": "2021-01-12T12:20:21.852559Z",
     "shell.execute_reply.started": "2021-01-12T12:20:21.846988Z"
    },
    "jupyter": {
     "outputs_hidden": true
    }
   },
   "outputs": [
    {
     "data": {
      "text/plain": [
       "['/mnt/d/Lab/16S-Taxa-Phlyo/result/M15/single/fasta/DA_115_R2.fasta',\n",
       " '/mnt/d/Lab/16S-Taxa-Phlyo/result/M15/single/fasta/DA_149_R1.fasta',\n",
       " '/mnt/d/Lab/16S-Taxa-Phlyo/result/M15/single/fasta/DA_150_R2.fasta',\n",
       " '/mnt/d/Lab/16S-Taxa-Phlyo/result/M15/single/fasta/DA_157_R2.fasta',\n",
       " '/mnt/d/Lab/16S-Taxa-Phlyo/result/M15/single/fasta/DA_160_R2.fasta',\n",
       " '/mnt/d/Lab/16S-Taxa-Phlyo/result/M15/single/fasta/DA_165_R2.fasta',\n",
       " '/mnt/d/Lab/16S-Taxa-Phlyo/result/M15/single/fasta/DA_179_R1.fasta',\n",
       " '/mnt/d/Lab/16S-Taxa-Phlyo/result/M15/single/fasta/DA_181_R2.fasta',\n",
       " '/mnt/d/Lab/16S-Taxa-Phlyo/result/M15/single/fasta/DA_184_R1.fasta',\n",
       " '/mnt/d/Lab/16S-Taxa-Phlyo/result/M15/single/fasta/DA_186_R2.fasta',\n",
       " '/mnt/d/Lab/16S-Taxa-Phlyo/result/M15/single/fasta/DA_187_R1.fasta',\n",
       " '/mnt/d/Lab/16S-Taxa-Phlyo/result/M15/single/fasta/DA_188_R2.fasta',\n",
       " '/mnt/d/Lab/16S-Taxa-Phlyo/result/M15/single/fasta/DA_194_R2.fasta',\n",
       " '/mnt/d/Lab/16S-Taxa-Phlyo/result/M15/single/fasta/DA_202_R1.fasta']"
      ]
     },
     "execution_count": 87,
     "metadata": {},
     "output_type": "execute_result"
    }
   ],
   "source": [
    "fastaFileList"
   ]
  },
  {
   "cell_type": "code",
   "execution_count": 12,
   "metadata": {
    "execution": {
     "iopub.execute_input": "2021-01-12T08:03:06.306254Z",
     "iopub.status.busy": "2021-01-12T08:03:06.305754Z",
     "iopub.status.idle": "2021-01-12T08:03:06.313189Z",
     "shell.execute_reply": "2021-01-12T08:03:06.311152Z",
     "shell.execute_reply.started": "2021-01-12T08:03:06.306203Z"
    }
   },
   "outputs": [],
   "source": [
    "db = \"/mnt/d/Lab/16S-Taxa-Phlyo/database/SILVA_138.1_SSURef_NR99_tax_silva.fasta\""
   ]
  },
  {
   "cell_type": "code",
   "execution_count": 13,
   "metadata": {
    "execution": {
     "iopub.execute_input": "2021-01-12T08:03:06.492031Z",
     "iopub.status.busy": "2021-01-12T08:03:06.491673Z",
     "iopub.status.idle": "2021-01-12T08:03:06.503612Z",
     "shell.execute_reply": "2021-01-12T08:03:06.501319Z",
     "shell.execute_reply.started": "2021-01-12T08:03:06.491998Z"
    }
   },
   "outputs": [],
   "source": [
    "def RunBlastnParallel(fastaList, db, jobs, threads, OutDir):\n",
    "    pool = Pool(processes=jobs)\n",
    "    pool.starmap(RunBlastn, zip(fastaList, repeat(db), repeat(threads), repeat(OutDir)))\n",
    "    pool.close()\n",
    "    pool.join()\n",
    "    pool.terminate()\n",
    "\n",
    "def RunBlastn(fasta, db, threads, OutDir):\n",
    "    blastDir = os.path.join(OutDir, \"blast\")\n",
    "    if os.path.exists(blastDir) == 0:\n",
    "        os.makedirs(blastDir, 0o777, True)\n",
    "    OutFile = os.path.join(blastDir, os.path.split(fasta)[1].replace(\".fasta\", \"\") + \"_blast.tsv\")\n",
    "    cmd = \"blastn -query \" + fasta  + \" -out \" + OutFile + \" -evalue 1.0 -max_target_seqs 1 -outfmt 6 -db \" + db + \" -num_threads \" + str(threads) \n",
    "    print(cmd)\n",
    "    subprocess.call(cmd, shell=True)"
   ]
  },
  {
   "cell_type": "code",
   "execution_count": 16,
   "metadata": {
    "execution": {
     "iopub.execute_input": "2021-01-12T08:13:28.168676Z",
     "iopub.status.busy": "2021-01-12T08:13:28.168411Z",
     "iopub.status.idle": "2021-01-12T08:13:28.173664Z",
     "shell.execute_reply": "2021-01-12T08:13:28.172817Z",
     "shell.execute_reply.started": "2021-01-12T08:13:28.168650Z"
    }
   },
   "outputs": [],
   "source": [
    "blastDir = os.path.join(OutDir, \"blast\")\n",
    "if os.path.exists(blastDir) == 0:\n",
    "    os.makedirs(blastDir, 0o777, True)"
   ]
  },
  {
   "cell_type": "code",
   "execution_count": 14,
   "metadata": {
    "execution": {
     "iopub.execute_input": "2021-01-12T08:03:07.256872Z",
     "iopub.status.busy": "2021-01-12T08:03:07.256289Z",
     "iopub.status.idle": "2021-01-12T08:03:07.261491Z",
     "shell.execute_reply": "2021-01-12T08:03:07.260180Z",
     "shell.execute_reply.started": "2021-01-12T08:03:07.256835Z"
    }
   },
   "outputs": [],
   "source": [
    "OutDir = \"/mnt/d/Lab/16S-Taxa-Phlyo/result/M15/single\""
   ]
  },
  {
   "cell_type": "code",
   "execution_count": 15,
   "metadata": {
    "collapsed": true,
    "execution": {
     "iopub.execute_input": "2021-01-12T08:03:09.232830Z",
     "iopub.status.busy": "2021-01-12T08:03:09.232512Z",
     "iopub.status.idle": "2021-01-12T08:04:29.278732Z",
     "shell.execute_reply": "2021-01-12T08:04:29.277762Z",
     "shell.execute_reply.started": "2021-01-12T08:03:09.232800Z"
    },
    "jupyter": {
     "outputs_hidden": true
    }
   },
   "outputs": [
    {
     "name": "stdout",
     "output_type": "stream",
     "text": [
      "blastn -query /mnt/d/Lab/16S-Taxa-Phlyo/result/M15/single/fasta/DA_115_R2.fasta -out /mnt/d/Lab/16S-Taxa-Phlyo/result/M15/single/blast/DA_115_R2_blast.tsv -evalue 1.0 -max_target_seqs 1 -outfmt 6 -db /mnt/d/Lab/16S-Taxa-Phlyo/database/SILVA_138.1_SSURef_NR99_tax_silva.fasta -num_threads 4blastn -query /mnt/d/Lab/16S-Taxa-Phlyo/result/M15/single/fasta/DA_150_R2.fasta -out /mnt/d/Lab/16S-Taxa-Phlyo/result/M15/single/blast/DA_150_R2_blast.tsv -evalue 1.0 -max_target_seqs 1 -outfmt 6 -db /mnt/d/Lab/16S-Taxa-Phlyo/database/SILVA_138.1_SSURef_NR99_tax_silva.fasta -num_threads 4\n",
      "\n",
      "blastn -query /mnt/d/Lab/16S-Taxa-Phlyo/result/M15/single/fasta/DA_149_R1.fasta -out /mnt/d/Lab/16S-Taxa-Phlyo/result/M15/single/blast/DA_149_R1_blast.tsv -evalue 1.0 -max_target_seqs 1 -outfmt 6 -db /mnt/d/Lab/16S-Taxa-Phlyo/database/SILVA_138.1_SSURef_NR99_tax_silva.fasta -num_threads 4\n",
      "blastn -query /mnt/d/Lab/16S-Taxa-Phlyo/result/M15/single/fasta/DA_157_R2.fasta -out /mnt/d/Lab/16S-Taxa-Phlyo/result/M15/single/blast/DA_157_R2_blast.tsv -evalue 1.0 -max_target_seqs 1 -outfmt 6 -db /mnt/d/Lab/16S-Taxa-Phlyo/database/SILVA_138.1_SSURef_NR99_tax_silva.fasta -num_threads 4\n",
      "blastn -query /mnt/d/Lab/16S-Taxa-Phlyo/result/M15/single/fasta/DA_160_R2.fasta -out /mnt/d/Lab/16S-Taxa-Phlyo/result/M15/single/blast/DA_160_R2_blast.tsv -evalue 1.0 -max_target_seqs 1 -outfmt 6 -db /mnt/d/Lab/16S-Taxa-Phlyo/database/SILVA_138.1_SSURef_NR99_tax_silva.fasta -num_threads 4\n",
      "blastn -query /mnt/d/Lab/16S-Taxa-Phlyo/result/M15/single/fasta/DA_179_R1.fasta -out /mnt/d/Lab/16S-Taxa-Phlyo/result/M15/single/blast/DA_179_R1_blast.tsv -evalue 1.0 -max_target_seqs 1 -outfmt 6 -db /mnt/d/Lab/16S-Taxa-Phlyo/database/SILVA_138.1_SSURef_NR99_tax_silva.fasta -num_threads 4\n",
      "blastn -query /mnt/d/Lab/16S-Taxa-Phlyo/result/M15/single/fasta/DA_181_R2.fasta -out /mnt/d/Lab/16S-Taxa-Phlyo/result/M15/single/blast/DA_181_R2_blast.tsv -evalue 1.0 -max_target_seqs 1 -outfmt 6 -db /mnt/d/Lab/16S-Taxa-Phlyo/database/SILVA_138.1_SSURef_NR99_tax_silva.fasta -num_threads 4\n",
      "blastn -query /mnt/d/Lab/16S-Taxa-Phlyo/result/M15/single/fasta/DA_165_R2.fasta -out /mnt/d/Lab/16S-Taxa-Phlyo/result/M15/single/blast/DA_165_R2_blast.tsv -evalue 1.0 -max_target_seqs 1 -outfmt 6 -db /mnt/d/Lab/16S-Taxa-Phlyo/database/SILVA_138.1_SSURef_NR99_tax_silva.fasta -num_threads 4\n",
      "blastn -query /mnt/d/Lab/16S-Taxa-Phlyo/result/M15/single/fasta/DA_184_R1.fasta -out /mnt/d/Lab/16S-Taxa-Phlyo/result/M15/single/blast/DA_184_R1_blast.tsv -evalue 1.0 -max_target_seqs 1 -outfmt 6 -db /mnt/d/Lab/16S-Taxa-Phlyo/database/SILVA_138.1_SSURef_NR99_tax_silva.fasta -num_threads 4\n",
      "blastn -query /mnt/d/Lab/16S-Taxa-Phlyo/result/M15/single/fasta/DA_187_R1.fasta -out /mnt/d/Lab/16S-Taxa-Phlyo/result/M15/single/blast/DA_187_R1_blast.tsv -evalue 1.0 -max_target_seqs 1 -outfmt 6 -db /mnt/d/Lab/16S-Taxa-Phlyo/database/SILVA_138.1_SSURef_NR99_tax_silva.fasta -num_threads 4\n",
      "blastn -query /mnt/d/Lab/16S-Taxa-Phlyo/result/M15/single/fasta/DA_186_R2.fasta -out /mnt/d/Lab/16S-Taxa-Phlyo/result/M15/single/blast/DA_186_R2_blast.tsv -evalue 1.0 -max_target_seqs 1 -outfmt 6 -db /mnt/d/Lab/16S-Taxa-Phlyo/database/SILVA_138.1_SSURef_NR99_tax_silva.fasta -num_threads 4\n",
      "blastn -query /mnt/d/Lab/16S-Taxa-Phlyo/result/M15/single/fasta/DA_188_R2.fasta -out /mnt/d/Lab/16S-Taxa-Phlyo/result/M15/single/blast/DA_188_R2_blast.tsv -evalue 1.0 -max_target_seqs 1 -outfmt 6 -db /mnt/d/Lab/16S-Taxa-Phlyo/database/SILVA_138.1_SSURef_NR99_tax_silva.fasta -num_threads 4\n",
      "blastn -query /mnt/d/Lab/16S-Taxa-Phlyo/result/M15/single/fasta/DA_194_R2.fasta -out /mnt/d/Lab/16S-Taxa-Phlyo/result/M15/single/blast/DA_194_R2_blast.tsv -evalue 1.0 -max_target_seqs 1 -outfmt 6 -db /mnt/d/Lab/16S-Taxa-Phlyo/database/SILVA_138.1_SSURef_NR99_tax_silva.fasta -num_threads 4\n",
      "blastn -query /mnt/d/Lab/16S-Taxa-Phlyo/result/M15/single/fasta/DA_202_R1.fasta -out /mnt/d/Lab/16S-Taxa-Phlyo/result/M15/single/blast/DA_202_R1_blast.tsv -evalue 1.0 -max_target_seqs 1 -outfmt 6 -db /mnt/d/Lab/16S-Taxa-Phlyo/database/SILVA_138.1_SSURef_NR99_tax_silva.fasta -num_threads 4\n"
     ]
    }
   ],
   "source": [
    "RunBlastnParallel(fastaFileList, db, 2, 4, OutDir)"
   ]
  },
  {
   "cell_type": "code",
   "execution_count": 23,
   "metadata": {
    "execution": {
     "iopub.execute_input": "2021-01-12T08:26:53.414441Z",
     "iopub.status.busy": "2021-01-12T08:26:53.414187Z",
     "iopub.status.idle": "2021-01-12T08:26:53.418645Z",
     "shell.execute_reply": "2021-01-12T08:26:53.417723Z",
     "shell.execute_reply.started": "2021-01-12T08:26:53.414416Z"
    }
   },
   "outputs": [],
   "source": [
    "columns = [\"qseqid\", \"sseqid\", \"pident\", \"length\", \"mismatch\", \"gapopen\", \"qstart\", \"qend\", \"sstart\", \"send\", \"evalue\", \"bitscore\"]"
   ]
  },
  {
   "cell_type": "code",
   "execution_count": null,
   "metadata": {},
   "outputs": [],
   "source": []
  },
  {
   "cell_type": "code",
   "execution_count": 33,
   "metadata": {
    "execution": {
     "iopub.execute_input": "2021-01-12T08:30:19.534152Z",
     "iopub.status.busy": "2021-01-12T08:30:19.533812Z",
     "iopub.status.idle": "2021-01-12T08:30:19.651801Z",
     "shell.execute_reply": "2021-01-12T08:30:19.651057Z",
     "shell.execute_reply.started": "2021-01-12T08:30:19.534125Z"
    }
   },
   "outputs": [],
   "source": [
    "def parseIndex(blastDir, OutDir):\n",
    "    taxaList = []\n",
    "    df = pd.DataFrame()\n",
    "    out = pd.DataFrame()\n",
    "    for file in os.listdir(blastDir):\n",
    "        #print(file)\n",
    "        if file.endswith(\".tsv\") and os.path.getsize(os.path.join(blastDir, file)) > 0:\n",
    "            df1 = pd.read_table(os.path.join(blastDir, file), header = None)\n",
    "            df1.columns = [\"qseqid\", \"sseqid\", \"pident\", \"length\", \"mismatch\", \"gapopen\", \"qstart\", \"qend\", \"sstart\", \"send\", \"evalue\", \"bitscore\"]\n",
    "            df = df.append(df1)\n",
    "    df = df.reset_index()\n",
    "    df2 = pd.read_table(indexPath)\n",
    "    index = dict(zip(df2[\"ID\"], df2[\"Taxa\"]))\n",
    "    for i in range(len(df)):\n",
    "        taxa = index[df[\"sseqid\"][i]]\n",
    "        taxaList.append(taxa)\n",
    "    out[\"taxa\"] = taxaList\n",
    "    out[\"qseqid\"] = df[\"qseqid\"]\n",
    "    out[\"pident\"] = df[\"pident\"]\n",
    "    out[\"length\"] = df[\"length\"]\n",
    "    return out"
   ]
  },
  {
   "cell_type": "code",
   "execution_count": 34,
   "metadata": {
    "execution": {
     "iopub.execute_input": "2021-01-12T08:30:20.524580Z",
     "iopub.status.busy": "2021-01-12T08:30:20.524300Z",
     "iopub.status.idle": "2021-01-12T08:30:20.538548Z",
     "shell.execute_reply": "2021-01-12T08:30:20.537570Z",
     "shell.execute_reply.started": "2021-01-12T08:30:20.524555Z"
    }
   },
   "outputs": [
    {
     "data": {
      "text/html": [
       "<div>\n",
       "<style scoped>\n",
       "    .dataframe tbody tr th:only-of-type {\n",
       "        vertical-align: middle;\n",
       "    }\n",
       "\n",
       "    .dataframe tbody tr th {\n",
       "        vertical-align: top;\n",
       "    }\n",
       "\n",
       "    .dataframe thead th {\n",
       "        text-align: right;\n",
       "    }\n",
       "</style>\n",
       "<table border=\"1\" class=\"dataframe\">\n",
       "  <thead>\n",
       "    <tr style=\"text-align: right;\">\n",
       "      <th></th>\n",
       "      <th>qseqid</th>\n",
       "      <th>sseqid</th>\n",
       "      <th>pident</th>\n",
       "      <th>length</th>\n",
       "      <th>mismatch</th>\n",
       "      <th>gapopen</th>\n",
       "      <th>qstart</th>\n",
       "      <th>qend</th>\n",
       "      <th>sstart</th>\n",
       "      <th>send</th>\n",
       "      <th>evalue</th>\n",
       "      <th>bitscore</th>\n",
       "    </tr>\n",
       "  </thead>\n",
       "  <tbody>\n",
       "    <tr>\n",
       "      <th>0</th>\n",
       "      <td>DA_202_R1</td>\n",
       "      <td>AB506222.1.1514</td>\n",
       "      <td>99.867</td>\n",
       "      <td>750</td>\n",
       "      <td>1</td>\n",
       "      <td>0</td>\n",
       "      <td>1</td>\n",
       "      <td>750</td>\n",
       "      <td>58</td>\n",
       "      <td>807</td>\n",
       "      <td>0.0</td>\n",
       "      <td>1380</td>\n",
       "    </tr>\n",
       "  </tbody>\n",
       "</table>\n",
       "</div>"
      ],
      "text/plain": [
       "      qseqid           sseqid  pident  length  mismatch  gapopen  qstart  \\\n",
       "0  DA_202_R1  AB506222.1.1514  99.867     750         1        0       1   \n",
       "\n",
       "   qend  sstart  send  evalue  bitscore  \n",
       "0   750      58   807     0.0      1380  "
      ]
     },
     "execution_count": 34,
     "metadata": {},
     "output_type": "execute_result"
    }
   ],
   "source": [
    "df1"
   ]
  },
  {
   "cell_type": "code",
   "execution_count": 51,
   "metadata": {
    "execution": {
     "iopub.execute_input": "2021-01-12T09:09:10.979735Z",
     "iopub.status.busy": "2021-01-12T09:09:10.979478Z",
     "iopub.status.idle": "2021-01-12T09:09:10.985049Z",
     "shell.execute_reply": "2021-01-12T09:09:10.983974Z",
     "shell.execute_reply.started": "2021-01-12T09:09:10.979711Z"
    }
   },
   "outputs": [],
   "source": [
    "df = df.reset_index()"
   ]
  },
  {
   "cell_type": "code",
   "execution_count": 52,
   "metadata": {
    "collapsed": true,
    "execution": {
     "iopub.execute_input": "2021-01-12T09:09:11.609430Z",
     "iopub.status.busy": "2021-01-12T09:09:11.609107Z",
     "iopub.status.idle": "2021-01-12T09:09:11.629933Z",
     "shell.execute_reply": "2021-01-12T09:09:11.629047Z",
     "shell.execute_reply.started": "2021-01-12T09:09:11.609401Z"
    },
    "jupyter": {
     "outputs_hidden": true
    }
   },
   "outputs": [
    {
     "data": {
      "text/html": [
       "<div>\n",
       "<style scoped>\n",
       "    .dataframe tbody tr th:only-of-type {\n",
       "        vertical-align: middle;\n",
       "    }\n",
       "\n",
       "    .dataframe tbody tr th {\n",
       "        vertical-align: top;\n",
       "    }\n",
       "\n",
       "    .dataframe thead th {\n",
       "        text-align: right;\n",
       "    }\n",
       "</style>\n",
       "<table border=\"1\" class=\"dataframe\">\n",
       "  <thead>\n",
       "    <tr style=\"text-align: right;\">\n",
       "      <th></th>\n",
       "      <th>index</th>\n",
       "      <th>qseqid</th>\n",
       "      <th>sseqid</th>\n",
       "      <th>pident</th>\n",
       "      <th>length</th>\n",
       "      <th>mismatch</th>\n",
       "      <th>gapopen</th>\n",
       "      <th>qstart</th>\n",
       "      <th>qend</th>\n",
       "      <th>sstart</th>\n",
       "      <th>send</th>\n",
       "      <th>evalue</th>\n",
       "      <th>bitscore</th>\n",
       "    </tr>\n",
       "  </thead>\n",
       "  <tbody>\n",
       "    <tr>\n",
       "      <th>0</th>\n",
       "      <td>0</td>\n",
       "      <td>DA_115_R2</td>\n",
       "      <td>HQ779616.1.1444</td>\n",
       "      <td>100.000</td>\n",
       "      <td>750</td>\n",
       "      <td>0</td>\n",
       "      <td>0</td>\n",
       "      <td>1</td>\n",
       "      <td>750</td>\n",
       "      <td>659</td>\n",
       "      <td>1408</td>\n",
       "      <td>0.0</td>\n",
       "      <td>1386</td>\n",
       "    </tr>\n",
       "    <tr>\n",
       "      <th>1</th>\n",
       "      <td>0</td>\n",
       "      <td>DA_149_R1</td>\n",
       "      <td>FJ684727.1.1437</td>\n",
       "      <td>99.867</td>\n",
       "      <td>750</td>\n",
       "      <td>1</td>\n",
       "      <td>0</td>\n",
       "      <td>1</td>\n",
       "      <td>750</td>\n",
       "      <td>59</td>\n",
       "      <td>808</td>\n",
       "      <td>0.0</td>\n",
       "      <td>1380</td>\n",
       "    </tr>\n",
       "    <tr>\n",
       "      <th>2</th>\n",
       "      <td>0</td>\n",
       "      <td>DA_150_R2</td>\n",
       "      <td>HQ785168.1.1452</td>\n",
       "      <td>99.867</td>\n",
       "      <td>750</td>\n",
       "      <td>1</td>\n",
       "      <td>0</td>\n",
       "      <td>1</td>\n",
       "      <td>750</td>\n",
       "      <td>659</td>\n",
       "      <td>1408</td>\n",
       "      <td>0.0</td>\n",
       "      <td>1380</td>\n",
       "    </tr>\n",
       "    <tr>\n",
       "      <th>3</th>\n",
       "      <td>0</td>\n",
       "      <td>DA_157_R2</td>\n",
       "      <td>CDZP01049187.10668.12177</td>\n",
       "      <td>99.867</td>\n",
       "      <td>750</td>\n",
       "      <td>1</td>\n",
       "      <td>0</td>\n",
       "      <td>1</td>\n",
       "      <td>750</td>\n",
       "      <td>684</td>\n",
       "      <td>1433</td>\n",
       "      <td>0.0</td>\n",
       "      <td>1380</td>\n",
       "    </tr>\n",
       "    <tr>\n",
       "      <th>4</th>\n",
       "      <td>0</td>\n",
       "      <td>DA_160_R2</td>\n",
       "      <td>AGZQ01000017.129.1643</td>\n",
       "      <td>99.600</td>\n",
       "      <td>750</td>\n",
       "      <td>3</td>\n",
       "      <td>0</td>\n",
       "      <td>1</td>\n",
       "      <td>750</td>\n",
       "      <td>689</td>\n",
       "      <td>1438</td>\n",
       "      <td>0.0</td>\n",
       "      <td>1369</td>\n",
       "    </tr>\n",
       "    <tr>\n",
       "      <th>5</th>\n",
       "      <td>0</td>\n",
       "      <td>DA_165_R2</td>\n",
       "      <td>CCYG01000338.190.1701</td>\n",
       "      <td>99.067</td>\n",
       "      <td>750</td>\n",
       "      <td>7</td>\n",
       "      <td>0</td>\n",
       "      <td>1</td>\n",
       "      <td>750</td>\n",
       "      <td>690</td>\n",
       "      <td>1439</td>\n",
       "      <td>0.0</td>\n",
       "      <td>1347</td>\n",
       "    </tr>\n",
       "    <tr>\n",
       "      <th>6</th>\n",
       "      <td>0</td>\n",
       "      <td>DA_179_R1</td>\n",
       "      <td>JQ072766.1.1406</td>\n",
       "      <td>99.734</td>\n",
       "      <td>751</td>\n",
       "      <td>1</td>\n",
       "      <td>1</td>\n",
       "      <td>1</td>\n",
       "      <td>750</td>\n",
       "      <td>8</td>\n",
       "      <td>758</td>\n",
       "      <td>0.0</td>\n",
       "      <td>1375</td>\n",
       "    </tr>\n",
       "    <tr>\n",
       "      <th>7</th>\n",
       "      <td>0</td>\n",
       "      <td>DA_181_R2</td>\n",
       "      <td>CP022754.1214557.1216096</td>\n",
       "      <td>99.733</td>\n",
       "      <td>750</td>\n",
       "      <td>2</td>\n",
       "      <td>0</td>\n",
       "      <td>1</td>\n",
       "      <td>750</td>\n",
       "      <td>695</td>\n",
       "      <td>1444</td>\n",
       "      <td>0.0</td>\n",
       "      <td>1375</td>\n",
       "    </tr>\n",
       "    <tr>\n",
       "      <th>8</th>\n",
       "      <td>0</td>\n",
       "      <td>DA_184_R1</td>\n",
       "      <td>FLKM01000009.1335473.1336974</td>\n",
       "      <td>99.733</td>\n",
       "      <td>750</td>\n",
       "      <td>2</td>\n",
       "      <td>0</td>\n",
       "      <td>1</td>\n",
       "      <td>750</td>\n",
       "      <td>68</td>\n",
       "      <td>817</td>\n",
       "      <td>0.0</td>\n",
       "      <td>1375</td>\n",
       "    </tr>\n",
       "    <tr>\n",
       "      <th>9</th>\n",
       "      <td>0</td>\n",
       "      <td>DA_186_R2</td>\n",
       "      <td>GU562446.1.1426</td>\n",
       "      <td>99.867</td>\n",
       "      <td>750</td>\n",
       "      <td>1</td>\n",
       "      <td>0</td>\n",
       "      <td>1</td>\n",
       "      <td>750</td>\n",
       "      <td>624</td>\n",
       "      <td>1373</td>\n",
       "      <td>0.0</td>\n",
       "      <td>1380</td>\n",
       "    </tr>\n",
       "    <tr>\n",
       "      <th>10</th>\n",
       "      <td>0</td>\n",
       "      <td>DA_187_R1</td>\n",
       "      <td>FM874046.1.1484</td>\n",
       "      <td>99.867</td>\n",
       "      <td>750</td>\n",
       "      <td>1</td>\n",
       "      <td>0</td>\n",
       "      <td>1</td>\n",
       "      <td>750</td>\n",
       "      <td>42</td>\n",
       "      <td>791</td>\n",
       "      <td>0.0</td>\n",
       "      <td>1380</td>\n",
       "    </tr>\n",
       "    <tr>\n",
       "      <th>11</th>\n",
       "      <td>0</td>\n",
       "      <td>DA_188_R2</td>\n",
       "      <td>HQ810787.1.1437</td>\n",
       "      <td>100.000</td>\n",
       "      <td>750</td>\n",
       "      <td>0</td>\n",
       "      <td>0</td>\n",
       "      <td>1</td>\n",
       "      <td>750</td>\n",
       "      <td>652</td>\n",
       "      <td>1401</td>\n",
       "      <td>0.0</td>\n",
       "      <td>1386</td>\n",
       "    </tr>\n",
       "    <tr>\n",
       "      <th>12</th>\n",
       "      <td>0</td>\n",
       "      <td>DA_194_R2</td>\n",
       "      <td>HQ779616.1.1444</td>\n",
       "      <td>100.000</td>\n",
       "      <td>750</td>\n",
       "      <td>0</td>\n",
       "      <td>0</td>\n",
       "      <td>1</td>\n",
       "      <td>750</td>\n",
       "      <td>659</td>\n",
       "      <td>1408</td>\n",
       "      <td>0.0</td>\n",
       "      <td>1386</td>\n",
       "    </tr>\n",
       "    <tr>\n",
       "      <th>13</th>\n",
       "      <td>0</td>\n",
       "      <td>DA_202_R1</td>\n",
       "      <td>AB506222.1.1514</td>\n",
       "      <td>99.867</td>\n",
       "      <td>750</td>\n",
       "      <td>1</td>\n",
       "      <td>0</td>\n",
       "      <td>1</td>\n",
       "      <td>750</td>\n",
       "      <td>58</td>\n",
       "      <td>807</td>\n",
       "      <td>0.0</td>\n",
       "      <td>1380</td>\n",
       "    </tr>\n",
       "  </tbody>\n",
       "</table>\n",
       "</div>"
      ],
      "text/plain": [
       "    index     qseqid                        sseqid   pident  length  mismatch  \\\n",
       "0       0  DA_115_R2               HQ779616.1.1444  100.000     750         0   \n",
       "1       0  DA_149_R1               FJ684727.1.1437   99.867     750         1   \n",
       "2       0  DA_150_R2               HQ785168.1.1452   99.867     750         1   \n",
       "3       0  DA_157_R2      CDZP01049187.10668.12177   99.867     750         1   \n",
       "4       0  DA_160_R2         AGZQ01000017.129.1643   99.600     750         3   \n",
       "5       0  DA_165_R2         CCYG01000338.190.1701   99.067     750         7   \n",
       "6       0  DA_179_R1               JQ072766.1.1406   99.734     751         1   \n",
       "7       0  DA_181_R2      CP022754.1214557.1216096   99.733     750         2   \n",
       "8       0  DA_184_R1  FLKM01000009.1335473.1336974   99.733     750         2   \n",
       "9       0  DA_186_R2               GU562446.1.1426   99.867     750         1   \n",
       "10      0  DA_187_R1               FM874046.1.1484   99.867     750         1   \n",
       "11      0  DA_188_R2               HQ810787.1.1437  100.000     750         0   \n",
       "12      0  DA_194_R2               HQ779616.1.1444  100.000     750         0   \n",
       "13      0  DA_202_R1               AB506222.1.1514   99.867     750         1   \n",
       "\n",
       "    gapopen  qstart  qend  sstart  send  evalue  bitscore  \n",
       "0         0       1   750     659  1408     0.0      1386  \n",
       "1         0       1   750      59   808     0.0      1380  \n",
       "2         0       1   750     659  1408     0.0      1380  \n",
       "3         0       1   750     684  1433     0.0      1380  \n",
       "4         0       1   750     689  1438     0.0      1369  \n",
       "5         0       1   750     690  1439     0.0      1347  \n",
       "6         1       1   750       8   758     0.0      1375  \n",
       "7         0       1   750     695  1444     0.0      1375  \n",
       "8         0       1   750      68   817     0.0      1375  \n",
       "9         0       1   750     624  1373     0.0      1380  \n",
       "10        0       1   750      42   791     0.0      1380  \n",
       "11        0       1   750     652  1401     0.0      1386  \n",
       "12        0       1   750     659  1408     0.0      1386  \n",
       "13        0       1   750      58   807     0.0      1380  "
      ]
     },
     "execution_count": 52,
     "metadata": {},
     "output_type": "execute_result"
    }
   ],
   "source": [
    "df"
   ]
  },
  {
   "cell_type": "code",
   "execution_count": 37,
   "metadata": {
    "execution": {
     "iopub.execute_input": "2021-01-12T08:35:09.035185Z",
     "iopub.status.busy": "2021-01-12T08:35:09.034802Z",
     "iopub.status.idle": "2021-01-12T08:35:10.025001Z",
     "shell.execute_reply": "2021-01-12T08:35:10.024038Z",
     "shell.execute_reply.started": "2021-01-12T08:35:09.035149Z"
    }
   },
   "outputs": [],
   "source": [
    "df2 = pd.read_table(\"silva-138-99-index.tsv\")"
   ]
  },
  {
   "cell_type": "code",
   "execution_count": 38,
   "metadata": {
    "collapsed": true,
    "execution": {
     "iopub.execute_input": "2021-01-12T09:02:41.419140Z",
     "iopub.status.busy": "2021-01-12T09:02:41.418789Z",
     "iopub.status.idle": "2021-01-12T09:02:41.434640Z",
     "shell.execute_reply": "2021-01-12T09:02:41.432943Z",
     "shell.execute_reply.started": "2021-01-12T09:02:41.419107Z"
    },
    "jupyter": {
     "outputs_hidden": true
    }
   },
   "outputs": [
    {
     "data": {
      "text/html": [
       "<div>\n",
       "<style scoped>\n",
       "    .dataframe tbody tr th:only-of-type {\n",
       "        vertical-align: middle;\n",
       "    }\n",
       "\n",
       "    .dataframe tbody tr th {\n",
       "        vertical-align: top;\n",
       "    }\n",
       "\n",
       "    .dataframe thead th {\n",
       "        text-align: right;\n",
       "    }\n",
       "</style>\n",
       "<table border=\"1\" class=\"dataframe\">\n",
       "  <thead>\n",
       "    <tr style=\"text-align: right;\">\n",
       "      <th></th>\n",
       "      <th>ID</th>\n",
       "      <th>Taxa</th>\n",
       "    </tr>\n",
       "  </thead>\n",
       "  <tbody>\n",
       "    <tr>\n",
       "      <th>0</th>\n",
       "      <td>AY846379.1.1791</td>\n",
       "      <td>Eukaryota;Archaeplastida;Chloroplastida;Chloro...</td>\n",
       "    </tr>\n",
       "    <tr>\n",
       "      <th>1</th>\n",
       "      <td>AB001445.1.1538</td>\n",
       "      <td>Bacteria;Proteobacteria;Gammaproteobacteria;Ps...</td>\n",
       "    </tr>\n",
       "    <tr>\n",
       "      <th>2</th>\n",
       "      <td>AY929368.1.1768</td>\n",
       "      <td>Eukaryota;Archaeplastida;Chloroplastida;Charop...</td>\n",
       "    </tr>\n",
       "    <tr>\n",
       "      <th>3</th>\n",
       "      <td>KM209255.204.1909</td>\n",
       "      <td>Bacteria;Proteobacteria;Gammaproteobacteria;En...</td>\n",
       "    </tr>\n",
       "    <tr>\n",
       "      <th>4</th>\n",
       "      <td>AY955002.1.1727</td>\n",
       "      <td>Eukaryota;Archaeplastida;Chloroplastida;Chloro...</td>\n",
       "    </tr>\n",
       "    <tr>\n",
       "      <th>...</th>\n",
       "      <td>...</td>\n",
       "      <td>...</td>\n",
       "    </tr>\n",
       "    <tr>\n",
       "      <th>510503</th>\n",
       "      <td>MVBC01000034.3.1520</td>\n",
       "      <td>Bacteria;Bacteroidota;Bacteroidia;Cytophagales...</td>\n",
       "    </tr>\n",
       "    <tr>\n",
       "      <th>510504</th>\n",
       "      <td>JQIO01000430.1097739.1099039</td>\n",
       "      <td>Bacteria;Cyanobacteria;Cyanobacteriia;Chloropl...</td>\n",
       "    </tr>\n",
       "    <tr>\n",
       "      <th>510505</th>\n",
       "      <td>JQHZ01065714.557.1975</td>\n",
       "      <td>Bacteria;Cyanobacteria;Cyanobacteriia;Chloropl...</td>\n",
       "    </tr>\n",
       "    <tr>\n",
       "      <th>510506</th>\n",
       "      <td>JQIN01002109.43002.44826</td>\n",
       "      <td>Eukaryota;Archaeplastida;Chloroplastida;Charop...</td>\n",
       "    </tr>\n",
       "    <tr>\n",
       "      <th>510507</th>\n",
       "      <td>KY979510.1.1479</td>\n",
       "      <td>Bacteria;Actinobacteriota;Actinobacteria;Propi...</td>\n",
       "    </tr>\n",
       "  </tbody>\n",
       "</table>\n",
       "<p>510508 rows × 2 columns</p>\n",
       "</div>"
      ],
      "text/plain": [
       "                                  ID  \\\n",
       "0                    AY846379.1.1791   \n",
       "1                    AB001445.1.1538   \n",
       "2                    AY929368.1.1768   \n",
       "3                  KM209255.204.1909   \n",
       "4                    AY955002.1.1727   \n",
       "...                              ...   \n",
       "510503           MVBC01000034.3.1520   \n",
       "510504  JQIO01000430.1097739.1099039   \n",
       "510505         JQHZ01065714.557.1975   \n",
       "510506      JQIN01002109.43002.44826   \n",
       "510507               KY979510.1.1479   \n",
       "\n",
       "                                                     Taxa  \n",
       "0       Eukaryota;Archaeplastida;Chloroplastida;Chloro...  \n",
       "1       Bacteria;Proteobacteria;Gammaproteobacteria;Ps...  \n",
       "2       Eukaryota;Archaeplastida;Chloroplastida;Charop...  \n",
       "3       Bacteria;Proteobacteria;Gammaproteobacteria;En...  \n",
       "4       Eukaryota;Archaeplastida;Chloroplastida;Chloro...  \n",
       "...                                                   ...  \n",
       "510503  Bacteria;Bacteroidota;Bacteroidia;Cytophagales...  \n",
       "510504  Bacteria;Cyanobacteria;Cyanobacteriia;Chloropl...  \n",
       "510505  Bacteria;Cyanobacteria;Cyanobacteriia;Chloropl...  \n",
       "510506  Eukaryota;Archaeplastida;Chloroplastida;Charop...  \n",
       "510507  Bacteria;Actinobacteriota;Actinobacteria;Propi...  \n",
       "\n",
       "[510508 rows x 2 columns]"
      ]
     },
     "execution_count": 38,
     "metadata": {},
     "output_type": "execute_result"
    }
   ],
   "source": [
    "df2"
   ]
  },
  {
   "cell_type": "code",
   "execution_count": 39,
   "metadata": {
    "execution": {
     "iopub.execute_input": "2021-01-12T09:02:56.474022Z",
     "iopub.status.busy": "2021-01-12T09:02:56.473659Z",
     "iopub.status.idle": "2021-01-12T09:02:56.709023Z",
     "shell.execute_reply": "2021-01-12T09:02:56.707966Z",
     "shell.execute_reply.started": "2021-01-12T09:02:56.473994Z"
    }
   },
   "outputs": [],
   "source": [
    "index = dict(zip(df2[\"ID\"], df2[\"Taxa\"]))"
   ]
  },
  {
   "cell_type": "code",
   "execution_count": 41,
   "metadata": {
    "execution": {
     "iopub.execute_input": "2021-01-12T09:03:14.031763Z",
     "iopub.status.busy": "2021-01-12T09:03:14.031487Z",
     "iopub.status.idle": "2021-01-12T09:03:14.038846Z",
     "shell.execute_reply": "2021-01-12T09:03:14.037507Z",
     "shell.execute_reply.started": "2021-01-12T09:03:14.031735Z"
    }
   },
   "outputs": [
    {
     "data": {
      "text/plain": [
       "'Eukaryota;Archaeplastida;Chloroplastida;Chlorophyta;Chlorophyceae;Sphaeropleales;Monoraphidium;Monoraphidium sp. Itas 9/21 14-6w'"
      ]
     },
     "execution_count": 41,
     "metadata": {},
     "output_type": "execute_result"
    }
   ],
   "source": [
    "index[\"AY846379.1.1791\"]"
   ]
  },
  {
   "cell_type": "code",
   "execution_count": 55,
   "metadata": {
    "execution": {
     "iopub.execute_input": "2021-01-12T09:09:43.303094Z",
     "iopub.status.busy": "2021-01-12T09:09:43.302790Z",
     "iopub.status.idle": "2021-01-12T09:09:43.309230Z",
     "shell.execute_reply": "2021-01-12T09:09:43.308225Z",
     "shell.execute_reply.started": "2021-01-12T09:09:43.303063Z"
    }
   },
   "outputs": [
    {
     "data": {
      "text/plain": [
       "'HQ779616.1.1444'"
      ]
     },
     "execution_count": 55,
     "metadata": {},
     "output_type": "execute_result"
    }
   ],
   "source": [
    "df[\"sseqid\"][0]"
   ]
  },
  {
   "cell_type": "code",
   "execution_count": 44,
   "metadata": {
    "execution": {
     "iopub.execute_input": "2021-01-12T09:08:16.158718Z",
     "iopub.status.busy": "2021-01-12T09:08:16.158389Z",
     "iopub.status.idle": "2021-01-12T09:08:16.165173Z",
     "shell.execute_reply": "2021-01-12T09:08:16.163945Z",
     "shell.execute_reply.started": "2021-01-12T09:08:16.158688Z"
    }
   },
   "outputs": [
    {
     "data": {
      "text/plain": [
       "14"
      ]
     },
     "execution_count": 44,
     "metadata": {},
     "output_type": "execute_result"
    }
   ],
   "source": [
    "len(df)"
   ]
  },
  {
   "cell_type": "code",
   "execution_count": 60,
   "metadata": {
    "execution": {
     "iopub.execute_input": "2021-01-12T09:12:58.176393Z",
     "iopub.status.busy": "2021-01-12T09:12:58.176113Z",
     "iopub.status.idle": "2021-01-12T09:12:58.187320Z",
     "shell.execute_reply": "2021-01-12T09:12:58.186393Z",
     "shell.execute_reply.started": "2021-01-12T09:12:58.176367Z"
    }
   },
   "outputs": [],
   "source": [
    "out = pd.DataFrame()\n",
    "taxaList = []\n",
    "for i in range(len(df)):\n",
    "    taxa = index[df[\"sseqid\"][i]]\n",
    "    taxaList.append(taxa)\n",
    "out[\"taxa\"] = taxaList\n",
    "out[\"qseqid\"] = df[\"qseqid\"]\n",
    "out[\"pident\"] = df[\"pident\"]\n",
    "out[\"length\"] = df[\"length\"]"
   ]
  },
  {
   "cell_type": "code",
   "execution_count": 61,
   "metadata": {
    "execution": {
     "iopub.execute_input": "2021-01-12T09:12:58.761717Z",
     "iopub.status.busy": "2021-01-12T09:12:58.761478Z",
     "iopub.status.idle": "2021-01-12T09:12:58.775099Z",
     "shell.execute_reply": "2021-01-12T09:12:58.773731Z",
     "shell.execute_reply.started": "2021-01-12T09:12:58.761696Z"
    }
   },
   "outputs": [
    {
     "data": {
      "text/html": [
       "<div>\n",
       "<style scoped>\n",
       "    .dataframe tbody tr th:only-of-type {\n",
       "        vertical-align: middle;\n",
       "    }\n",
       "\n",
       "    .dataframe tbody tr th {\n",
       "        vertical-align: top;\n",
       "    }\n",
       "\n",
       "    .dataframe thead th {\n",
       "        text-align: right;\n",
       "    }\n",
       "</style>\n",
       "<table border=\"1\" class=\"dataframe\">\n",
       "  <thead>\n",
       "    <tr style=\"text-align: right;\">\n",
       "      <th></th>\n",
       "      <th>taxa</th>\n",
       "      <th>qseqid</th>\n",
       "      <th>pident</th>\n",
       "      <th>length</th>\n",
       "    </tr>\n",
       "  </thead>\n",
       "  <tbody>\n",
       "    <tr>\n",
       "      <th>0</th>\n",
       "      <td>Bacteria;Firmicutes;Clostridia;Lachnospirales;...</td>\n",
       "      <td>DA_115_R2</td>\n",
       "      <td>100.000</td>\n",
       "      <td>750</td>\n",
       "    </tr>\n",
       "    <tr>\n",
       "      <th>1</th>\n",
       "      <td>Bacteria;Firmicutes;Clostridia;Lachnospirales;...</td>\n",
       "      <td>DA_149_R1</td>\n",
       "      <td>99.867</td>\n",
       "      <td>750</td>\n",
       "    </tr>\n",
       "    <tr>\n",
       "      <th>2</th>\n",
       "      <td>Bacteria;Bacteroidota;Bacteroidia;Bacteroidale...</td>\n",
       "      <td>DA_150_R2</td>\n",
       "      <td>99.867</td>\n",
       "      <td>750</td>\n",
       "    </tr>\n",
       "    <tr>\n",
       "      <th>3</th>\n",
       "      <td>Bacteria;Firmicutes;Clostridia;Oscillospirales...</td>\n",
       "      <td>DA_157_R2</td>\n",
       "      <td>99.867</td>\n",
       "      <td>750</td>\n",
       "    </tr>\n",
       "    <tr>\n",
       "      <th>4</th>\n",
       "      <td>Bacteria;Bacteroidota;Bacteroidia;Bacteroidale...</td>\n",
       "      <td>DA_160_R2</td>\n",
       "      <td>99.600</td>\n",
       "      <td>750</td>\n",
       "    </tr>\n",
       "    <tr>\n",
       "      <th>5</th>\n",
       "      <td>Bacteria;Firmicutes;Clostridia;Lachnospirales;...</td>\n",
       "      <td>DA_165_R2</td>\n",
       "      <td>99.067</td>\n",
       "      <td>750</td>\n",
       "    </tr>\n",
       "    <tr>\n",
       "      <th>6</th>\n",
       "      <td>Bacteria;Firmicutes;Bacilli;Lactobacillales;La...</td>\n",
       "      <td>DA_179_R1</td>\n",
       "      <td>99.734</td>\n",
       "      <td>751</td>\n",
       "    </tr>\n",
       "    <tr>\n",
       "      <th>7</th>\n",
       "      <td>Bacteria;Bacteroidota;Bacteroidia;Bacteroidale...</td>\n",
       "      <td>DA_181_R2</td>\n",
       "      <td>99.733</td>\n",
       "      <td>750</td>\n",
       "    </tr>\n",
       "    <tr>\n",
       "      <th>8</th>\n",
       "      <td>Bacteria;Firmicutes;Clostridia;Peptostreptococ...</td>\n",
       "      <td>DA_184_R1</td>\n",
       "      <td>99.733</td>\n",
       "      <td>750</td>\n",
       "    </tr>\n",
       "    <tr>\n",
       "      <th>9</th>\n",
       "      <td>Bacteria;Firmicutes;Clostridia;Oscillospirales...</td>\n",
       "      <td>DA_186_R2</td>\n",
       "      <td>99.867</td>\n",
       "      <td>750</td>\n",
       "    </tr>\n",
       "    <tr>\n",
       "      <th>10</th>\n",
       "      <td>Bacteria;Firmicutes;Clostridia;Lachnospirales;...</td>\n",
       "      <td>DA_187_R1</td>\n",
       "      <td>99.867</td>\n",
       "      <td>750</td>\n",
       "    </tr>\n",
       "    <tr>\n",
       "      <th>11</th>\n",
       "      <td>Bacteria;Firmicutes;Clostridia;Lachnospirales;...</td>\n",
       "      <td>DA_188_R2</td>\n",
       "      <td>100.000</td>\n",
       "      <td>750</td>\n",
       "    </tr>\n",
       "    <tr>\n",
       "      <th>12</th>\n",
       "      <td>Bacteria;Firmicutes;Clostridia;Lachnospirales;...</td>\n",
       "      <td>DA_194_R2</td>\n",
       "      <td>100.000</td>\n",
       "      <td>750</td>\n",
       "    </tr>\n",
       "    <tr>\n",
       "      <th>13</th>\n",
       "      <td>Bacteria;Firmicutes;Clostridia;Lachnospirales;...</td>\n",
       "      <td>DA_202_R1</td>\n",
       "      <td>99.867</td>\n",
       "      <td>750</td>\n",
       "    </tr>\n",
       "  </tbody>\n",
       "</table>\n",
       "</div>"
      ],
      "text/plain": [
       "                                                 taxa     qseqid   pident  \\\n",
       "0   Bacteria;Firmicutes;Clostridia;Lachnospirales;...  DA_115_R2  100.000   \n",
       "1   Bacteria;Firmicutes;Clostridia;Lachnospirales;...  DA_149_R1   99.867   \n",
       "2   Bacteria;Bacteroidota;Bacteroidia;Bacteroidale...  DA_150_R2   99.867   \n",
       "3   Bacteria;Firmicutes;Clostridia;Oscillospirales...  DA_157_R2   99.867   \n",
       "4   Bacteria;Bacteroidota;Bacteroidia;Bacteroidale...  DA_160_R2   99.600   \n",
       "5   Bacteria;Firmicutes;Clostridia;Lachnospirales;...  DA_165_R2   99.067   \n",
       "6   Bacteria;Firmicutes;Bacilli;Lactobacillales;La...  DA_179_R1   99.734   \n",
       "7   Bacteria;Bacteroidota;Bacteroidia;Bacteroidale...  DA_181_R2   99.733   \n",
       "8   Bacteria;Firmicutes;Clostridia;Peptostreptococ...  DA_184_R1   99.733   \n",
       "9   Bacteria;Firmicutes;Clostridia;Oscillospirales...  DA_186_R2   99.867   \n",
       "10  Bacteria;Firmicutes;Clostridia;Lachnospirales;...  DA_187_R1   99.867   \n",
       "11  Bacteria;Firmicutes;Clostridia;Lachnospirales;...  DA_188_R2  100.000   \n",
       "12  Bacteria;Firmicutes;Clostridia;Lachnospirales;...  DA_194_R2  100.000   \n",
       "13  Bacteria;Firmicutes;Clostridia;Lachnospirales;...  DA_202_R1   99.867   \n",
       "\n",
       "    length  \n",
       "0      750  \n",
       "1      750  \n",
       "2      750  \n",
       "3      750  \n",
       "4      750  \n",
       "5      750  \n",
       "6      751  \n",
       "7      750  \n",
       "8      750  \n",
       "9      750  \n",
       "10     750  \n",
       "11     750  \n",
       "12     750  \n",
       "13     750  "
      ]
     },
     "execution_count": 61,
     "metadata": {},
     "output_type": "execute_result"
    }
   ],
   "source": [
    "out"
   ]
  },
  {
   "cell_type": "code",
   "execution_count": null,
   "metadata": {},
   "outputs": [],
   "source": []
  },
  {
   "cell_type": "code",
   "execution_count": 27,
   "metadata": {
    "execution": {
     "iopub.execute_input": "2021-01-12T03:10:59.216200Z",
     "iopub.status.busy": "2021-01-12T03:10:59.215961Z",
     "iopub.status.idle": "2021-01-12T03:10:59.220298Z",
     "shell.execute_reply": "2021-01-12T03:10:59.219257Z",
     "shell.execute_reply.started": "2021-01-12T03:10:59.216178Z"
    }
   },
   "outputs": [],
   "source": [
    "def ABI2Fastq(abi, fastq):\n",
    "    SeqIO.convert(abi, \"abi\", fastq, \"fastq\")"
   ]
  },
  {
   "cell_type": "code",
   "execution_count": 28,
   "metadata": {
    "execution": {
     "iopub.execute_input": "2021-01-12T03:10:59.352981Z",
     "iopub.status.busy": "2021-01-12T03:10:59.352720Z",
     "iopub.status.idle": "2021-01-12T03:10:59.359213Z",
     "shell.execute_reply": "2021-01-12T03:10:59.356807Z",
     "shell.execute_reply.started": "2021-01-12T03:10:59.352958Z"
    }
   },
   "outputs": [],
   "source": [
    "def ABI2FastqParallel(abiList, fastqList):\n",
    "    pool = Pool(processes = 4)\n",
    "    pool.starmap(ABI2Fastq, zip(abiList, fastqList))\n",
    "    pool.close()\n",
    "    pool.join()\n",
    "    pool.terminate()"
   ]
  },
  {
   "cell_type": "code",
   "execution_count": 62,
   "metadata": {
    "execution": {
     "iopub.execute_input": "2021-01-12T09:22:51.853305Z",
     "iopub.status.busy": "2021-01-12T09:22:51.853081Z",
     "iopub.status.idle": "2021-01-12T09:22:51.858844Z",
     "shell.execute_reply": "2021-01-12T09:22:51.857927Z",
     "shell.execute_reply.started": "2021-01-12T09:22:51.853283Z"
    }
   },
   "outputs": [],
   "source": [
    "def RunFastpSingle(single, OutDir):\n",
    "    prefix = os.path.split(single)[1].replace(\".fastq\", \"\")\n",
    "    trimDir = os.path.join(OutDir, \"trim\")\n",
    "    fastpDir = os.path.join(OutDir, \"fastp\")\n",
    "    if os.path.exists(OutDir) == 0:\n",
    "        os.makedirs(OutDir, 0o777, True)\n",
    "    if os.path.exists(trimDir) == 0:\n",
    "        os.makedirs(trimDir, 0o777, True)\n",
    "    if os.path.exists(fastpDir) == 0:\n",
    "        os.makedirs(fastpDir, 0o777, True)        \n",
    "    cmd = \"fastp -i \" + single + \" -o \" + os.path.join(trimDir, prefix + \".fastq\")  + \\\n",
    "    \" --trim_front1 30 --cut_front --cut_tail --cut_window_size 20 --cut_mean_quality 30\" + \\\n",
    "    \" --html \" + os.path.join(fastpDir, prefix + \".html\") + \" --report_title \" + prefix + \"-fastq-merge-report\"\n",
    "    #print(cmd)\n",
    "    subprocess.call(cmd, shell=True)"
   ]
  },
  {
   "cell_type": "code",
   "execution_count": 56,
   "metadata": {
    "execution": {
     "iopub.execute_input": "2021-01-12T07:26:16.162903Z",
     "iopub.status.busy": "2021-01-12T07:26:16.162608Z",
     "iopub.status.idle": "2021-01-12T07:26:16.167683Z",
     "shell.execute_reply": "2021-01-12T07:26:16.166693Z",
     "shell.execute_reply.started": "2021-01-12T07:26:16.162867Z"
    }
   },
   "outputs": [],
   "source": [
    "def RunFastpSingleParallel(singleList, OutDir):\n",
    "    pool = Pool(processes = 4)\n",
    "    pool.starmap(RunFastpSingle, zip(singleList, repeat(OutDir)))\n",
    "    pool.close()\n",
    "    pool.join()\n",
    "    pool.terminate()"
   ]
  },
  {
   "cell_type": "markdown",
   "metadata": {},
   "source": [
    "反向的需要reverse回来！"
   ]
  },
  {
   "cell_type": "code",
   "execution_count": null,
   "metadata": {},
   "outputs": [],
   "source": []
  },
  {
   "cell_type": "code",
   "execution_count": null,
   "metadata": {},
   "outputs": [],
   "source": []
  }
 ],
 "metadata": {
  "kernelspec": {
   "display_name": "Python 3",
   "language": "python",
   "name": "python3"
  },
  "language_info": {
   "codemirror_mode": {
    "name": "ipython",
    "version": 3
   },
   "file_extension": ".py",
   "mimetype": "text/x-python",
   "name": "python",
   "nbconvert_exporter": "python",
   "pygments_lexer": "ipython3",
   "version": "3.8.5"
  }
 },
 "nbformat": 4,
 "nbformat_minor": 4
}
