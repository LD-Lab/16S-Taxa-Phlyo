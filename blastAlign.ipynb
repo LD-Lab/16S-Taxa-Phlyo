{
 "cells": [
  {
   "cell_type": "markdown",
   "metadata": {},
   "source": [
    "# BlastN"
   ]
  },
  {
   "cell_type": "markdown",
   "metadata": {},
   "source": [
    "### makeblastdb"
   ]
  },
  {
   "cell_type": "code",
   "execution_count": null,
   "metadata": {},
   "outputs": [],
   "source": [
    "makeblastdb -in ecoli.fasta -parse_seqids -dbtype nucl"
   ]
  },
  {
   "cell_type": "code",
   "execution_count": null,
   "metadata": {},
   "outputs": [],
   "source": [
    "makeblastdb -in /mnt/d/Lab/16S-Taxa-Phlyo/database/SILVA_138.1_SSURef_NR99_tax_silva.fasta -parse_seqids -dbtype nucl"
   ]
  },
  {
   "cell_type": "markdown",
   "metadata": {},
   "source": [
    "### balstn parameters"
   ]
  },
  {
   "cell_type": "code",
   "execution_count": null,
   "metadata": {},
   "outputs": [],
   "source": [
    "blastn  -query genes.fasta  -subject genome.fasta  -outfmt 6"
   ]
  },
  {
   "cell_type": "markdown",
   "metadata": {},
   "source": [
    "```shell\n",
    "blastn  -query merged.fasta -db /mnt/d/Lab/16S-Taxa-Phlyo/database/SILVA_138.1_SSURef_NR99_tax_silva.fasta -outfmt 6 -out blstnOut.tsv -num_threads 6 -evalue 1.0 -max_target_seqs 1\n",
    "```"
   ]
  },
  {
   "cell_type": "code",
   "execution_count": 8,
   "metadata": {
    "execution": {
     "iopub.execute_input": "2021-01-12T07:38:09.487902Z",
     "iopub.status.busy": "2021-01-12T07:38:09.487575Z",
     "iopub.status.idle": "2021-01-12T07:38:09.491700Z",
     "shell.execute_reply": "2021-01-12T07:38:09.490793Z",
     "shell.execute_reply.started": "2021-01-12T07:38:09.487875Z"
    }
   },
   "outputs": [],
   "source": [
    "db = \"/mnt/d/Lab/16S-Taxa-Phlyo/database/SILVA_138.1_SSURef_NR99_tax_silva.fasta\""
   ]
  },
  {
   "cell_type": "code",
   "execution_count": 9,
   "metadata": {
    "execution": {
     "iopub.execute_input": "2021-01-12T07:46:13.431078Z",
     "iopub.status.busy": "2021-01-12T07:46:13.430828Z",
     "iopub.status.idle": "2021-01-12T07:46:13.437534Z",
     "shell.execute_reply": "2021-01-12T07:46:13.436464Z",
     "shell.execute_reply.started": "2021-01-12T07:46:13.431053Z"
    }
   },
   "outputs": [],
   "source": [
    "def RunBlastnParallel(fastaList, db, jobs, threads, OutDir):\n",
    "    pool = Pool(processes=jobs)\n",
    "    pool.starmap(RunBlastn, zip(fastaList, repeat(db), repeat(threads), repeat(OutDir)))\n",
    "    pool.close()\n",
    "    pool.join()\n",
    "    pool.terminate()\n",
    "\n",
    "def RunBlastn(fasta, db, threads, OutDir):\n",
    "    OutFile = os.path.join(OutDir, os.path.split()[1].replace(\".fasta\", \"\") + \"_blast.tsv\")\n",
    "    cmd = \"blastn -query \" + fasta  + \" -out \" + OutFile + \" -evalue 1.0 -max_target_seqs 1 -outfmt 6 -db \" + db + \" -num_threads \" + str(threads) \n",
    "    subprocess.call(cmd, shell=True)"
   ]
  },
  {
   "cell_type": "code",
   "execution_count": null,
   "metadata": {},
   "outputs": [],
   "source": []
  },
  {
   "cell_type": "markdown",
   "metadata": {},
   "source": [
    "### index gen"
   ]
  },
  {
   "cell_type": "code",
   "execution_count": 4,
   "metadata": {
    "execution": {
     "iopub.execute_input": "2021-01-12T05:25:03.523613Z",
     "iopub.status.busy": "2021-01-12T05:25:03.523277Z",
     "iopub.status.idle": "2021-01-12T05:25:03.721283Z",
     "shell.execute_reply": "2021-01-12T05:25:03.720366Z",
     "shell.execute_reply.started": "2021-01-12T05:25:03.523579Z"
    }
   },
   "outputs": [],
   "source": [
    "import pandas as pd"
   ]
  },
  {
   "cell_type": "code",
   "execution_count": 1,
   "metadata": {
    "execution": {
     "iopub.execute_input": "2021-01-12T05:23:16.438239Z",
     "iopub.status.busy": "2021-01-12T05:23:16.437922Z",
     "iopub.status.idle": "2021-01-12T05:23:16.578385Z",
     "shell.execute_reply": "2021-01-12T05:23:16.577690Z",
     "shell.execute_reply.started": "2021-01-12T05:23:16.438169Z"
    }
   },
   "outputs": [],
   "source": [
    "from Bio import SeqIO"
   ]
  },
  {
   "cell_type": "code",
   "execution_count": 2,
   "metadata": {
    "execution": {
     "iopub.execute_input": "2021-01-12T05:23:46.940492Z",
     "iopub.status.busy": "2021-01-12T05:23:46.940232Z",
     "iopub.status.idle": "2021-01-12T05:23:46.944482Z",
     "shell.execute_reply": "2021-01-12T05:23:46.943371Z",
     "shell.execute_reply.started": "2021-01-12T05:23:46.940467Z"
    }
   },
   "outputs": [],
   "source": [
    "fasta = \"/mnt/d/Lab/16S-Taxa-Phlyo/database/SILVA_138.1_SSURef_NR99_tax_silva.fasta\""
   ]
  },
  {
   "cell_type": "code",
   "execution_count": 98,
   "metadata": {
    "execution": {
     "iopub.execute_input": "2021-01-12T05:37:51.954232Z",
     "iopub.status.busy": "2021-01-12T05:37:51.953647Z",
     "iopub.status.idle": "2021-01-12T05:37:51.965485Z",
     "shell.execute_reply": "2021-01-12T05:37:51.963644Z",
     "shell.execute_reply.started": "2021-01-12T05:37:51.954174Z"
    }
   },
   "outputs": [
    {
     "name": "stdout",
     "output_type": "stream",
     "text": [
      "AY846379.1.1791\n",
      "AY846379.1.1791\n",
      "Eukaryota;Archaeplastida;Chloroplastida;Chlorophyta;Chlorophyceae;Sphaeropleales;Monoraphidium;Monoraphidium sp. Itas 9/21 14-6w\n"
     ]
    }
   ],
   "source": [
    "from Bio import SeqIO\n",
    "\n",
    "record_iterator = SeqIO.parse(fasta, \"fasta\")\n",
    "\n",
    "first_record = next(record_iterator)\n",
    "print(first_record.id)\n",
    "print(first_record.name)\n",
    "print(first_record.description.replace(first_record.id + \" \" , \"\"))"
   ]
  },
  {
   "cell_type": "code",
   "execution_count": 99,
   "metadata": {
    "execution": {
     "iopub.execute_input": "2021-01-12T05:39:51.790123Z",
     "iopub.status.busy": "2021-01-12T05:39:51.789663Z",
     "iopub.status.idle": "2021-01-12T05:40:22.181555Z",
     "shell.execute_reply": "2021-01-12T05:40:22.180496Z",
     "shell.execute_reply.started": "2021-01-12T05:39:51.790070Z"
    }
   },
   "outputs": [],
   "source": [
    "idList = []\n",
    "taxaList = []\n",
    "for seq in SeqIO.parse(fasta, \"fasta\"):\n",
    "    idList.append(seq.id)\n",
    "    taxaList.append(seq.description.replace(seq.id + \" \" , \"\"))"
   ]
  },
  {
   "cell_type": "code",
   "execution_count": 100,
   "metadata": {
    "execution": {
     "iopub.execute_input": "2021-01-12T05:41:08.672192Z",
     "iopub.status.busy": "2021-01-12T05:41:08.671923Z",
     "iopub.status.idle": "2021-01-12T05:41:08.679084Z",
     "shell.execute_reply": "2021-01-12T05:41:08.677706Z",
     "shell.execute_reply.started": "2021-01-12T05:41:08.672165Z"
    }
   },
   "outputs": [
    {
     "data": {
      "text/plain": [
       "510508"
      ]
     },
     "execution_count": 100,
     "metadata": {},
     "output_type": "execute_result"
    }
   ],
   "source": [
    "len(idList)"
   ]
  },
  {
   "cell_type": "code",
   "execution_count": 101,
   "metadata": {
    "execution": {
     "iopub.execute_input": "2021-01-12T05:41:15.304417Z",
     "iopub.status.busy": "2021-01-12T05:41:15.303902Z",
     "iopub.status.idle": "2021-01-12T05:41:15.314501Z",
     "shell.execute_reply": "2021-01-12T05:41:15.312532Z",
     "shell.execute_reply.started": "2021-01-12T05:41:15.304362Z"
    }
   },
   "outputs": [
    {
     "data": {
      "text/plain": [
       "510508"
      ]
     },
     "execution_count": 101,
     "metadata": {},
     "output_type": "execute_result"
    }
   ],
   "source": [
    "len(taxaList)"
   ]
  },
  {
   "cell_type": "code",
   "execution_count": 104,
   "metadata": {
    "execution": {
     "iopub.execute_input": "2021-01-12T05:41:37.879817Z",
     "iopub.status.busy": "2021-01-12T05:41:37.879513Z",
     "iopub.status.idle": "2021-01-12T05:41:37.886588Z",
     "shell.execute_reply": "2021-01-12T05:41:37.885065Z",
     "shell.execute_reply.started": "2021-01-12T05:41:37.879790Z"
    }
   },
   "outputs": [
    {
     "data": {
      "text/plain": [
       "'AY846379.1.1791'"
      ]
     },
     "execution_count": 104,
     "metadata": {},
     "output_type": "execute_result"
    }
   ],
   "source": [
    "idList[0]"
   ]
  },
  {
   "cell_type": "code",
   "execution_count": 103,
   "metadata": {
    "execution": {
     "iopub.execute_input": "2021-01-12T05:41:31.831107Z",
     "iopub.status.busy": "2021-01-12T05:41:31.830510Z",
     "iopub.status.idle": "2021-01-12T05:41:31.840465Z",
     "shell.execute_reply": "2021-01-12T05:41:31.838447Z",
     "shell.execute_reply.started": "2021-01-12T05:41:31.831054Z"
    }
   },
   "outputs": [
    {
     "data": {
      "text/plain": [
       "'Eukaryota;Archaeplastida;Chloroplastida;Chlorophyta;Chlorophyceae;Sphaeropleales;Monoraphidium;Monoraphidium sp. Itas 9/21 14-6w'"
      ]
     },
     "execution_count": 103,
     "metadata": {},
     "output_type": "execute_result"
    }
   ],
   "source": [
    "taxaList[0]"
   ]
  },
  {
   "cell_type": "code",
   "execution_count": 106,
   "metadata": {
    "collapsed": true,
    "execution": {
     "iopub.execute_input": "2021-01-12T05:42:00.699588Z",
     "iopub.status.busy": "2021-01-12T05:42:00.699168Z",
     "iopub.status.idle": "2021-01-12T05:42:00.827501Z",
     "shell.execute_reply": "2021-01-12T05:42:00.825773Z",
     "shell.execute_reply.started": "2021-01-12T05:42:00.699549Z"
    },
    "jupyter": {
     "outputs_hidden": true
    }
   },
   "outputs": [
    {
     "name": "stdout",
     "output_type": "stream",
     "text": [
      ">AY846379.1.1791 Eukaryota;Archaeplastida;Chloroplastida;Chlorophyta;Chlorophyceae;Sphaeropleales;Monoraphidium;Monoraphidium sp. Itas 9/21 14-6w\n",
      "AACCUGGUUGAUCCUGCCAGUAGUCAUAUGCUUGUCUCAAAGAUUAAGCCAUGCAUGUCUAAGUAUAAACUGCUUAUACU\n",
      "GUGAAACUGCGAAUGGCUCAUUAAAUCAGUUAUAGUUUAUUUGAUGGUACCUCUACACGGAUAACCGUAGUAAUUCUAGA\n",
      "GCUAAUACGUGCGUAAAUCCCGACUUCUGGAAGGGACGUAUUUAUUAGAUAAAAGGCCGACCGAGCUUUGCUCGACCCGC\n",
      "GGUGAAUCAUGAUAACUUCACGAAUCGCAUAGCCUUGUGCUGGCGAUGUUUCAUUCAAAUUUCUGCCCUAUCAACUUUCG\n",
      "AUGGUAGGAUAGAGGCCUACCAUGGUGGUAACGGGUGACGGAGGAUUAGGGUUCGAUUCCGGAGAGGGAGCCUGAGAAAC\n",
      "GGCUACCACAUCCAAGGAAGGCAGCAGGCGCGCAAAUUACCCAAUCCUGAUACGGGGAGGUAGUGACAAUAAAUAACAAU\n",
      "GCCGGGCAUUUCAUGUCUGGCAAUUGGAAUGAGUACAAUCUAAAUCCCUUAACGAGGAUCAAUUGGAGGGCAAGUCUGGU\n",
      "GCCAGCAGCCGCGGUAAUUCCAGCUCCAAUAGCGUAUAUUUAAGUUGUUGCAGUUAAAAAGCUCGUAGUUGGAUUUCGGG\n",
      "UGGGUUCCAGCGGUCCGCCUAUGGUGAGUACUGCUGUGGCCCUCCUUUUUGUCGGGGACGGGCUCCUGGGCUUCAUUGUC\n"
     ]
    }
   ],
   "source": [
    "!head /mnt/d/Lab/16S-Taxa-Phlyo/database/SILVA_138.1_SSURef_NR99_tax_silva.fasta"
   ]
  },
  {
   "cell_type": "code",
   "execution_count": 107,
   "metadata": {
    "execution": {
     "iopub.execute_input": "2021-01-12T05:42:17.725345Z",
     "iopub.status.busy": "2021-01-12T05:42:17.724964Z",
     "iopub.status.idle": "2021-01-12T05:42:17.732486Z",
     "shell.execute_reply": "2021-01-12T05:42:17.730848Z",
     "shell.execute_reply.started": "2021-01-12T05:42:17.725300Z"
    }
   },
   "outputs": [],
   "source": [
    "df = pd.DataFrame()"
   ]
  },
  {
   "cell_type": "code",
   "execution_count": 108,
   "metadata": {
    "execution": {
     "iopub.execute_input": "2021-01-12T05:42:38.861426Z",
     "iopub.status.busy": "2021-01-12T05:42:38.861006Z",
     "iopub.status.idle": "2021-01-12T05:42:39.078547Z",
     "shell.execute_reply": "2021-01-12T05:42:39.076624Z",
     "shell.execute_reply.started": "2021-01-12T05:42:38.861395Z"
    }
   },
   "outputs": [],
   "source": [
    "df[\"ID\"] = idList\n",
    "df[\"Taxa\"] = taxaList"
   ]
  },
  {
   "cell_type": "code",
   "execution_count": 109,
   "metadata": {
    "execution": {
     "iopub.execute_input": "2021-01-12T05:42:40.719001Z",
     "iopub.status.busy": "2021-01-12T05:42:40.718568Z",
     "iopub.status.idle": "2021-01-12T05:42:40.741187Z",
     "shell.execute_reply": "2021-01-12T05:42:40.739709Z",
     "shell.execute_reply.started": "2021-01-12T05:42:40.718957Z"
    }
   },
   "outputs": [
    {
     "data": {
      "text/html": [
       "<div>\n",
       "<style scoped>\n",
       "    .dataframe tbody tr th:only-of-type {\n",
       "        vertical-align: middle;\n",
       "    }\n",
       "\n",
       "    .dataframe tbody tr th {\n",
       "        vertical-align: top;\n",
       "    }\n",
       "\n",
       "    .dataframe thead th {\n",
       "        text-align: right;\n",
       "    }\n",
       "</style>\n",
       "<table border=\"1\" class=\"dataframe\">\n",
       "  <thead>\n",
       "    <tr style=\"text-align: right;\">\n",
       "      <th></th>\n",
       "      <th>ID</th>\n",
       "      <th>Taxa</th>\n",
       "    </tr>\n",
       "  </thead>\n",
       "  <tbody>\n",
       "    <tr>\n",
       "      <th>0</th>\n",
       "      <td>AY846379.1.1791</td>\n",
       "      <td>Eukaryota;Archaeplastida;Chloroplastida;Chloro...</td>\n",
       "    </tr>\n",
       "    <tr>\n",
       "      <th>1</th>\n",
       "      <td>AB001445.1.1538</td>\n",
       "      <td>Bacteria;Proteobacteria;Gammaproteobacteria;Ps...</td>\n",
       "    </tr>\n",
       "    <tr>\n",
       "      <th>2</th>\n",
       "      <td>AY929368.1.1768</td>\n",
       "      <td>Eukaryota;Archaeplastida;Chloroplastida;Charop...</td>\n",
       "    </tr>\n",
       "    <tr>\n",
       "      <th>3</th>\n",
       "      <td>KM209255.204.1909</td>\n",
       "      <td>Bacteria;Proteobacteria;Gammaproteobacteria;En...</td>\n",
       "    </tr>\n",
       "    <tr>\n",
       "      <th>4</th>\n",
       "      <td>AY955002.1.1727</td>\n",
       "      <td>Eukaryota;Archaeplastida;Chloroplastida;Chloro...</td>\n",
       "    </tr>\n",
       "    <tr>\n",
       "      <th>...</th>\n",
       "      <td>...</td>\n",
       "      <td>...</td>\n",
       "    </tr>\n",
       "    <tr>\n",
       "      <th>510503</th>\n",
       "      <td>MVBC01000034.3.1520</td>\n",
       "      <td>Bacteria;Bacteroidota;Bacteroidia;Cytophagales...</td>\n",
       "    </tr>\n",
       "    <tr>\n",
       "      <th>510504</th>\n",
       "      <td>JQIO01000430.1097739.1099039</td>\n",
       "      <td>Bacteria;Cyanobacteria;Cyanobacteriia;Chloropl...</td>\n",
       "    </tr>\n",
       "    <tr>\n",
       "      <th>510505</th>\n",
       "      <td>JQHZ01065714.557.1975</td>\n",
       "      <td>Bacteria;Cyanobacteria;Cyanobacteriia;Chloropl...</td>\n",
       "    </tr>\n",
       "    <tr>\n",
       "      <th>510506</th>\n",
       "      <td>JQIN01002109.43002.44826</td>\n",
       "      <td>Eukaryota;Archaeplastida;Chloroplastida;Charop...</td>\n",
       "    </tr>\n",
       "    <tr>\n",
       "      <th>510507</th>\n",
       "      <td>KY979510.1.1479</td>\n",
       "      <td>Bacteria;Actinobacteriota;Actinobacteria;Propi...</td>\n",
       "    </tr>\n",
       "  </tbody>\n",
       "</table>\n",
       "<p>510508 rows × 2 columns</p>\n",
       "</div>"
      ],
      "text/plain": [
       "                                  ID  \\\n",
       "0                    AY846379.1.1791   \n",
       "1                    AB001445.1.1538   \n",
       "2                    AY929368.1.1768   \n",
       "3                  KM209255.204.1909   \n",
       "4                    AY955002.1.1727   \n",
       "...                              ...   \n",
       "510503           MVBC01000034.3.1520   \n",
       "510504  JQIO01000430.1097739.1099039   \n",
       "510505         JQHZ01065714.557.1975   \n",
       "510506      JQIN01002109.43002.44826   \n",
       "510507               KY979510.1.1479   \n",
       "\n",
       "                                                     Taxa  \n",
       "0       Eukaryota;Archaeplastida;Chloroplastida;Chloro...  \n",
       "1       Bacteria;Proteobacteria;Gammaproteobacteria;Ps...  \n",
       "2       Eukaryota;Archaeplastida;Chloroplastida;Charop...  \n",
       "3       Bacteria;Proteobacteria;Gammaproteobacteria;En...  \n",
       "4       Eukaryota;Archaeplastida;Chloroplastida;Chloro...  \n",
       "...                                                   ...  \n",
       "510503  Bacteria;Bacteroidota;Bacteroidia;Cytophagales...  \n",
       "510504  Bacteria;Cyanobacteria;Cyanobacteriia;Chloropl...  \n",
       "510505  Bacteria;Cyanobacteria;Cyanobacteriia;Chloropl...  \n",
       "510506  Eukaryota;Archaeplastida;Chloroplastida;Charop...  \n",
       "510507  Bacteria;Actinobacteriota;Actinobacteria;Propi...  \n",
       "\n",
       "[510508 rows x 2 columns]"
      ]
     },
     "execution_count": 109,
     "metadata": {},
     "output_type": "execute_result"
    }
   ],
   "source": [
    "df"
   ]
  },
  {
   "cell_type": "code",
   "execution_count": 111,
   "metadata": {
    "execution": {
     "iopub.execute_input": "2021-01-12T05:43:58.941621Z",
     "iopub.status.busy": "2021-01-12T05:43:58.941179Z",
     "iopub.status.idle": "2021-01-12T05:44:02.372391Z",
     "shell.execute_reply": "2021-01-12T05:44:02.370966Z",
     "shell.execute_reply.started": "2021-01-12T05:43:58.941571Z"
    }
   },
   "outputs": [],
   "source": [
    "df.to_csv(\"silva-138-99-index.tsv\", index=None, sep=\"\\t\")"
   ]
  },
  {
   "cell_type": "code",
   "execution_count": 112,
   "metadata": {
    "execution": {
     "iopub.execute_input": "2021-01-12T05:45:56.875309Z",
     "iopub.status.busy": "2021-01-12T05:45:56.875054Z",
     "iopub.status.idle": "2021-01-12T05:45:57.886557Z",
     "shell.execute_reply": "2021-01-12T05:45:57.885120Z",
     "shell.execute_reply.started": "2021-01-12T05:45:56.875283Z"
    }
   },
   "outputs": [],
   "source": [
    "df = pd.read_table(\"silva-138-99-index.tsv\")"
   ]
  },
  {
   "cell_type": "code",
   "execution_count": 113,
   "metadata": {
    "collapsed": true,
    "execution": {
     "iopub.execute_input": "2021-01-12T05:45:58.804176Z",
     "iopub.status.busy": "2021-01-12T05:45:58.803885Z",
     "iopub.status.idle": "2021-01-12T05:45:58.815529Z",
     "shell.execute_reply": "2021-01-12T05:45:58.814611Z",
     "shell.execute_reply.started": "2021-01-12T05:45:58.804152Z"
    },
    "jupyter": {
     "outputs_hidden": true
    }
   },
   "outputs": [
    {
     "data": {
      "text/html": [
       "<div>\n",
       "<style scoped>\n",
       "    .dataframe tbody tr th:only-of-type {\n",
       "        vertical-align: middle;\n",
       "    }\n",
       "\n",
       "    .dataframe tbody tr th {\n",
       "        vertical-align: top;\n",
       "    }\n",
       "\n",
       "    .dataframe thead th {\n",
       "        text-align: right;\n",
       "    }\n",
       "</style>\n",
       "<table border=\"1\" class=\"dataframe\">\n",
       "  <thead>\n",
       "    <tr style=\"text-align: right;\">\n",
       "      <th></th>\n",
       "      <th>ID</th>\n",
       "      <th>Taxa</th>\n",
       "    </tr>\n",
       "  </thead>\n",
       "  <tbody>\n",
       "    <tr>\n",
       "      <th>0</th>\n",
       "      <td>AY846379.1.1791</td>\n",
       "      <td>Eukaryota;Archaeplastida;Chloroplastida;Chloro...</td>\n",
       "    </tr>\n",
       "    <tr>\n",
       "      <th>1</th>\n",
       "      <td>AB001445.1.1538</td>\n",
       "      <td>Bacteria;Proteobacteria;Gammaproteobacteria;Ps...</td>\n",
       "    </tr>\n",
       "    <tr>\n",
       "      <th>2</th>\n",
       "      <td>AY929368.1.1768</td>\n",
       "      <td>Eukaryota;Archaeplastida;Chloroplastida;Charop...</td>\n",
       "    </tr>\n",
       "    <tr>\n",
       "      <th>3</th>\n",
       "      <td>KM209255.204.1909</td>\n",
       "      <td>Bacteria;Proteobacteria;Gammaproteobacteria;En...</td>\n",
       "    </tr>\n",
       "    <tr>\n",
       "      <th>4</th>\n",
       "      <td>AY955002.1.1727</td>\n",
       "      <td>Eukaryota;Archaeplastida;Chloroplastida;Chloro...</td>\n",
       "    </tr>\n",
       "    <tr>\n",
       "      <th>...</th>\n",
       "      <td>...</td>\n",
       "      <td>...</td>\n",
       "    </tr>\n",
       "    <tr>\n",
       "      <th>510503</th>\n",
       "      <td>MVBC01000034.3.1520</td>\n",
       "      <td>Bacteria;Bacteroidota;Bacteroidia;Cytophagales...</td>\n",
       "    </tr>\n",
       "    <tr>\n",
       "      <th>510504</th>\n",
       "      <td>JQIO01000430.1097739.1099039</td>\n",
       "      <td>Bacteria;Cyanobacteria;Cyanobacteriia;Chloropl...</td>\n",
       "    </tr>\n",
       "    <tr>\n",
       "      <th>510505</th>\n",
       "      <td>JQHZ01065714.557.1975</td>\n",
       "      <td>Bacteria;Cyanobacteria;Cyanobacteriia;Chloropl...</td>\n",
       "    </tr>\n",
       "    <tr>\n",
       "      <th>510506</th>\n",
       "      <td>JQIN01002109.43002.44826</td>\n",
       "      <td>Eukaryota;Archaeplastida;Chloroplastida;Charop...</td>\n",
       "    </tr>\n",
       "    <tr>\n",
       "      <th>510507</th>\n",
       "      <td>KY979510.1.1479</td>\n",
       "      <td>Bacteria;Actinobacteriota;Actinobacteria;Propi...</td>\n",
       "    </tr>\n",
       "  </tbody>\n",
       "</table>\n",
       "<p>510508 rows × 2 columns</p>\n",
       "</div>"
      ],
      "text/plain": [
       "                                  ID  \\\n",
       "0                    AY846379.1.1791   \n",
       "1                    AB001445.1.1538   \n",
       "2                    AY929368.1.1768   \n",
       "3                  KM209255.204.1909   \n",
       "4                    AY955002.1.1727   \n",
       "...                              ...   \n",
       "510503           MVBC01000034.3.1520   \n",
       "510504  JQIO01000430.1097739.1099039   \n",
       "510505         JQHZ01065714.557.1975   \n",
       "510506      JQIN01002109.43002.44826   \n",
       "510507               KY979510.1.1479   \n",
       "\n",
       "                                                     Taxa  \n",
       "0       Eukaryota;Archaeplastida;Chloroplastida;Chloro...  \n",
       "1       Bacteria;Proteobacteria;Gammaproteobacteria;Ps...  \n",
       "2       Eukaryota;Archaeplastida;Chloroplastida;Charop...  \n",
       "3       Bacteria;Proteobacteria;Gammaproteobacteria;En...  \n",
       "4       Eukaryota;Archaeplastida;Chloroplastida;Chloro...  \n",
       "...                                                   ...  \n",
       "510503  Bacteria;Bacteroidota;Bacteroidia;Cytophagales...  \n",
       "510504  Bacteria;Cyanobacteria;Cyanobacteriia;Chloropl...  \n",
       "510505  Bacteria;Cyanobacteria;Cyanobacteriia;Chloropl...  \n",
       "510506  Eukaryota;Archaeplastida;Chloroplastida;Charop...  \n",
       "510507  Bacteria;Actinobacteriota;Actinobacteria;Propi...  \n",
       "\n",
       "[510508 rows x 2 columns]"
      ]
     },
     "execution_count": 113,
     "metadata": {},
     "output_type": "execute_result"
    }
   ],
   "source": [
    "df"
   ]
  },
  {
   "cell_type": "code",
   "execution_count": 114,
   "metadata": {
    "execution": {
     "iopub.execute_input": "2021-01-12T07:00:40.655565Z",
     "iopub.status.busy": "2021-01-12T07:00:40.655105Z",
     "iopub.status.idle": "2021-01-12T07:00:40.664524Z",
     "shell.execute_reply": "2021-01-12T07:00:40.662665Z",
     "shell.execute_reply.started": "2021-01-12T07:00:40.655524Z"
    }
   },
   "outputs": [
    {
     "data": {
      "text/plain": [
       "'Eukaryota;Archaeplastida;Chloroplastida;Chlorophyta;Chlorophyceae;Sphaeropleales;Monoraphidium;Monoraphidium sp. Itas 9/21 14-6w'"
      ]
     },
     "execution_count": 114,
     "metadata": {},
     "output_type": "execute_result"
    }
   ],
   "source": [
    "df[\"Taxa\"][0]"
   ]
  },
  {
   "cell_type": "code",
   "execution_count": 115,
   "metadata": {
    "execution": {
     "iopub.execute_input": "2021-01-12T07:01:13.103968Z",
     "iopub.status.busy": "2021-01-12T07:01:13.103720Z",
     "iopub.status.idle": "2021-01-12T07:01:13.107909Z",
     "shell.execute_reply": "2021-01-12T07:01:13.107007Z",
     "shell.execute_reply.started": "2021-01-12T07:01:13.103935Z"
    }
   },
   "outputs": [],
   "source": [
    "taxa = df[\"Taxa\"][0]"
   ]
  },
  {
   "cell_type": "code",
   "execution_count": 116,
   "metadata": {
    "execution": {
     "iopub.execute_input": "2021-01-12T07:01:22.608723Z",
     "iopub.status.busy": "2021-01-12T07:01:22.608495Z",
     "iopub.status.idle": "2021-01-12T07:01:22.613708Z",
     "shell.execute_reply": "2021-01-12T07:01:22.612895Z",
     "shell.execute_reply.started": "2021-01-12T07:01:22.608701Z"
    }
   },
   "outputs": [
    {
     "data": {
      "text/plain": [
       "['Eukaryota',\n",
       " 'Archaeplastida',\n",
       " 'Chloroplastida',\n",
       " 'Chlorophyta',\n",
       " 'Chlorophyceae',\n",
       " 'Sphaeropleales',\n",
       " 'Monoraphidium',\n",
       " 'Monoraphidium sp. Itas 9/21 14-6w']"
      ]
     },
     "execution_count": 116,
     "metadata": {},
     "output_type": "execute_result"
    }
   ],
   "source": [
    "taxa.split(\";\")"
   ]
  },
  {
   "cell_type": "markdown",
   "metadata": {},
   "source": [
    "需要把Euk and Arc 去掉吗？"
   ]
  }
 ],
 "metadata": {
  "kernelspec": {
   "display_name": "Python 3",
   "language": "python",
   "name": "python3"
  },
  "language_info": {
   "codemirror_mode": {
    "name": "ipython",
    "version": 3
   },
   "file_extension": ".py",
   "mimetype": "text/x-python",
   "name": "python",
   "nbconvert_exporter": "python",
   "pygments_lexer": "ipython3",
   "version": "3.8.6"
  }
 },
 "nbformat": 4,
 "nbformat_minor": 4
}
